{
 "cells": [
  {
   "cell_type": "markdown",
   "metadata": {},
   "source": [
    "This notebook illustrates:  \n",
    "(1) Various feature selection techniques and evaluation schemes on the movie review dataset;  \n",
    "(2) Model comparison using cross-validation and paired t-test."
   ]
  },
  {
   "cell_type": "markdown",
   "metadata": {},
   "source": [
    "# 1. Feature selection "
   ]
  },
  {
   "cell_type": "code",
   "execution_count": 13,
   "metadata": {
    "scrolled": true
   },
   "outputs": [
    {
     "name": "stdout",
     "output_type": "stream",
     "text": [
      "Original train set:  10000\n",
      "Original test set:  2500\n",
      "After removing empty reviews, train set size:  10000\n",
      "After removing empty reviews, test set size:  2500\n",
      "After removing instances with no labels, train set size:  10000\n",
      "After removing instances with no labels, test set size:  2500\n"
     ]
    },
    {
     "data": {
      "text/html": [
       "<div>\n",
       "<style scoped>\n",
       "    .dataframe tbody tr th:only-of-type {\n",
       "        vertical-align: middle;\n",
       "    }\n",
       "\n",
       "    .dataframe tbody tr th {\n",
       "        vertical-align: top;\n",
       "    }\n",
       "\n",
       "    .dataframe thead th {\n",
       "        text-align: right;\n",
       "    }\n",
       "</style>\n",
       "<table border=\"1\" class=\"dataframe\">\n",
       "  <thead>\n",
       "    <tr style=\"text-align: right;\">\n",
       "      <th></th>\n",
       "      <th>review</th>\n",
       "      <th>sentiment</th>\n",
       "    </tr>\n",
       "  </thead>\n",
       "  <tbody>\n",
       "    <tr>\n",
       "      <th>0</th>\n",
       "      <td>One of the other reviewers has mentioned that ...</td>\n",
       "      <td>positive</td>\n",
       "    </tr>\n",
       "    <tr>\n",
       "      <th>1</th>\n",
       "      <td>A wonderful little production. &lt;br /&gt;&lt;br /&gt;The...</td>\n",
       "      <td>positive</td>\n",
       "    </tr>\n",
       "    <tr>\n",
       "      <th>2</th>\n",
       "      <td>I thought this was a wonderful way to spend ti...</td>\n",
       "      <td>positive</td>\n",
       "    </tr>\n",
       "    <tr>\n",
       "      <th>3</th>\n",
       "      <td>Basically there's a family where a little boy ...</td>\n",
       "      <td>negative</td>\n",
       "    </tr>\n",
       "    <tr>\n",
       "      <th>4</th>\n",
       "      <td>Petter Mattei's \"Love in the Time of Money\" is...</td>\n",
       "      <td>positive</td>\n",
       "    </tr>\n",
       "  </tbody>\n",
       "</table>\n",
       "</div>"
      ],
      "text/plain": [
       "                                              review sentiment\n",
       "0  One of the other reviewers has mentioned that ...  positive\n",
       "1  A wonderful little production. <br /><br />The...  positive\n",
       "2  I thought this was a wonderful way to spend ti...  positive\n",
       "3  Basically there's a family where a little boy ...  negative\n",
       "4  Petter Mattei's \"Love in the Time of Money\" is...  positive"
      ]
     },
     "metadata": {},
     "output_type": "display_data"
    }
   ],
   "source": [
    "import pandas as pd\n",
    "import numpy as np\n",
    "\n",
    "#### LOAD DATASETS ####\n",
    "\n",
    "train_data_file = \"movie_train.csv\"\n",
    "test_data_file = \"movie_test.csv\"\n",
    "\n",
    "# Import train and test dataset into data frames and print out the original lengths\n",
    "train_data_df = pd.read_csv(train_data_file)\n",
    "test_data_df = pd.read_csv(test_data_file)\n",
    "print (\"Original train set: \",len(train_data_df))\n",
    "print (\"Original test set: \",len(test_data_df))\n",
    "\n",
    "### CLEAN DATASETS ###\n",
    "# Remove empty rows from both sets and print out the new lengths\n",
    "train_data_df = train_data_df[~train_data_df[\"review\"].isnull()]\n",
    "test_data_df = test_data_df[~test_data_df[\"review\"].isnull()]\n",
    "print (\"After removing empty reviews, train set size: \",len(train_data_df))\n",
    "print (\"After removing empty reviews, test set size: \",len(test_data_df))\n",
    "\n",
    "# Remove rows with null labels\n",
    "train_data_df = train_data_df[~train_data_df[\"sentiment\"].isnull()]\n",
    "test_data_df = test_data_df[~test_data_df[\"sentiment\"].isnull()]\n",
    "print (\"After removing instances with no labels, train set size: \", len(train_data_df))\n",
    "print (\"After removing instances with no labels, test set size: \", len(test_data_df))\n",
    "\n",
    "# print out top 5 rows of the train set\n",
    "display(train_data_df.head(5))"
   ]
  },
  {
   "cell_type": "code",
   "execution_count": 14,
   "metadata": {},
   "outputs": [],
   "source": [
    "# use original reviews for model building\n",
    "y_train = train_data_df[\"sentiment\"]\n",
    "y_test = test_data_df[\"sentiment\"]\n",
    "\n",
    "train_text = train_data_df[\"review\"]\n",
    "test_text = test_data_df[\"review\"]"
   ]
  },
  {
   "cell_type": "code",
   "execution_count": null,
   "id": "52fe89b1",
   "metadata": {},
   "outputs": [],
   "source": []
  },
  {
   "cell_type": "markdown",
   "metadata": {},
   "source": [
    "### Count-based feature extraction"
   ]
  },
  {
   "cell_type": "code",
   "execution_count": 15,
   "metadata": {},
   "outputs": [
    {
     "name": "stdout",
     "output_type": "stream",
     "text": [
      "52522  ...  [('one', 32799), ('of', 32624), ('the', 46654), ('other', 33143), ('reviewers', 38996), ('has', 21177), ('mentioned', 29519), ('that', 46645), ('after', 1404), ('watching', 50735), ('just', 25230), ('oz', 33501), ('episode', 15679), ('you', 52219), ('ll', 27402), ('be', 4335), ('hooked', 22227), ('they', 46753), ('are', 2793), ('right', 39215), ('as', 3012), ('this', 46806), ('is', 24390), ('exactly', 16108), ('what', 51062), ('happened', 21019), ('with', 51540), ('me', 29232), ('br', 6007), ('first', 17476), ('thing', 46779), ('struck', 44844), ('about', 788), ('was', 50689), ('its', 24476), ('brutality', 6474), ('and', 2204), ('unflinching', 48907), ('scenes', 40654), ('violence', 50167), ('which', 51117), ('set', 41482), ('in', 23209), ('from', 18505), ('word', 51720), ('go', 19676), ('trust', 48109), ('not', 32203), ('show', 42050), ('for', 17988), ('faint', 16652), ('hearted', 21401), ('or', 32960), ('timid', 47073), ('pulls', 36772), ('no', 32020), ('punches', 36802), ('regards', 38127), ('to', 47195), ('drugs', 14271), ('sex', 41540), ('hardcore', 21056), ('classic', 8821), ('use', 49495), ('it', 24455), ('called', 7063), ('nickname', 31858), ('given', 19491), ('oswald', 33134), ('maximum', 29027), ('security', 41160), ('state', 44253), ('penitentary', 34375), ('focuses', 17873), ('mainly', 28240), ('on', 32789), ('emerald', 15199), ('city', 8739), ('an', 2145), ('experimental', 16344), ('section', 41149), ('prison', 36224), ('where', 51101), ('all', 1774), ('cells', 7828), ('have', 21256), ('glass', 19538), ('fronts', 18515), ('face', 16584), ('inwards', 24281), ('so', 43155), ('privacy', 36233), ('high', 21801), ('agenda', 1432), ('em', 15128), ('home', 22124), ('many', 28552), ('aryans', 3009), ('muslims', 31144), ('gangstas', 18893)] \n",
      "\n",
      "(10000, 52522) \n",
      "\n",
      "(2500, 52522) \n",
      "\n",
      "  (0, 22)\t1\n",
      "  (0, 57)\t1\n",
      "  (0, 72)\t1\n",
      "  (0, 788)\t2\n",
      "  (0, 1040)\t1\n",
      "  (0, 1774)\t1\n",
      "  (0, 2145)\t1\n",
      "  (0, 2204)\t4\n",
      "  (0, 2378)\t1\n",
      "  (0, 2483)\t1\n",
      "  (0, 2889)\t2\n",
      "  (0, 3012)\t3\n",
      "  (0, 3227)\t3\n",
      "  (0, 4335)\t1\n",
      "  (0, 4428)\t1\n",
      "  (0, 4491)\t1\n",
      "  (0, 4536)\t1\n",
      "  (0, 4867)\t1\n",
      "  (0, 6007)\t10\n",
      "  (0, 6832)\t2\n",
      "  (0, 6891)\t1\n",
      "  (0, 7477)\t1\n",
      "  (0, 8006)\t1\n",
      "  (0, 8169)\t1\n",
      "  (0, 8598)\t1\n",
      "  :\t:\n",
      "  (2499, 46806)\t5\n",
      "  (2499, 46847)\t1\n",
      "  (2499, 46851)\t2\n",
      "  (2499, 47054)\t1\n",
      "  (2499, 47069)\t1\n",
      "  (2499, 47195)\t4\n",
      "  (2499, 48121)\t1\n",
      "  (2499, 48318)\t1\n",
      "  (2499, 48928)\t1\n",
      "  (2499, 49380)\t1\n",
      "  (2499, 49461)\t1\n",
      "  (2499, 49554)\t1\n",
      "  (2499, 49942)\t1\n",
      "  (2499, 50689)\t1\n",
      "  (2499, 50794)\t1\n",
      "  (2499, 51096)\t2\n",
      "  (2499, 51101)\t1\n",
      "  (2499, 51117)\t1\n",
      "  (2499, 51125)\t1\n",
      "  (2499, 51540)\t1\n",
      "  (2499, 51741)\t1\n",
      "  (2499, 51793)\t1\n",
      "  (2499, 52151)\t1\n",
      "  (2499, 52219)\t1\n",
      "  (2499, 52476)\t1\n"
     ]
    }
   ],
   "source": [
    "from sklearn.feature_extraction.text import CountVectorizer\n",
    "\n",
    "# set the n-gram range\n",
    "vectorizer = CountVectorizer(ngram_range = (1,1))\n",
    "\n",
    "# create training data representation\n",
    "train_data_cv = vectorizer.fit_transform(train_text)\n",
    "\n",
    "# observe the words in the created dictionary across the document\n",
    "print(len(vectorizer.vocabulary_), \" ... \", list(vectorizer.vocabulary_.items())[0:100],\"\\n\")\n",
    "\n",
    "print(train_data_cv.shape,\"\\n\") \n",
    "\n",
    "# create test data representation\n",
    "test_data_cv = vectorizer.transform(test_text)\n",
    "print(test_data_cv.shape,\"\\n\") \n",
    "\n",
    "print(test_data_cv)"
   ]
  },
  {
   "cell_type": "code",
   "execution_count": null,
   "id": "dd0828aa",
   "metadata": {},
   "outputs": [],
   "source": []
  },
  {
   "cell_type": "markdown",
   "metadata": {},
   "source": [
    "What is the number of features? Note that it is quite large."
   ]
  },
  {
   "cell_type": "code",
   "execution_count": 16,
   "metadata": {},
   "outputs": [],
   "source": [
    "# import relevant libraries\n",
    "from sklearn.naive_bayes import MultinomialNB\n",
    "from sklearn.metrics import accuracy_score, precision_score, recall_score, f1_score, roc_auc_score, auc\n",
    "from sklearn.feature_extraction.text import TfidfVectorizer\n",
    "from sklearn import preprocessing"
   ]
  },
  {
   "cell_type": "markdown",
   "metadata": {},
   "source": [
    "### Train and evaluate the Naive Bayes model"
   ]
  },
  {
   "cell_type": "code",
   "execution_count": 17,
   "metadata": {},
   "outputs": [
    {
     "name": "stdout",
     "output_type": "stream",
     "text": [
      "Accuracy score:  0.84\n",
      "Precision score:  0.8414115204180682\n",
      "Recall score:  0.84\n",
      "F1 score:  0.8397981792031259\n"
     ]
    }
   ],
   "source": [
    "naive_bayes = MultinomialNB()\n",
    "naive_bayes.fit(train_data_cv, y_train)\n",
    "predictions = naive_bayes.predict(test_data_cv)\n",
    "\n",
    "# average could be of 3 kinds = weighted, macro, micro\n",
    "print(\"Accuracy score: \", accuracy_score(y_test, predictions))\n",
    "print(\"Precision score: \", precision_score(y_test, predictions, average=\"weighted\"))\n",
    "print(\"Recall score: \", recall_score(y_test, predictions, average = \"weighted\"))\n",
    "print(\"F1 score: \", f1_score(y_test, predictions, average = \"weighted\"))"
   ]
  },
  {
   "cell_type": "markdown",
   "metadata": {},
   "source": [
    "### Low-variance feature removal"
   ]
  },
  {
   "cell_type": "code",
   "execution_count": 18,
   "metadata": {
    "scrolled": true
   },
   "outputs": [
    {
     "name": "stdout",
     "output_type": "stream",
     "text": [
      "Train feature space before filtering:  (10000, 52522)\n",
      "Train feature space after filtering:  (10000, 13136)\n",
      "Test feature space before filtering:  (2500, 52522)\n",
      "Test feature space after filtering:  (2500, 13136)\n"
     ]
    }
   ],
   "source": [
    "from sklearn.feature_selection import VarianceThreshold\n",
    "\n",
    "selector = VarianceThreshold(threshold = 0.001)\n",
    "\n",
    "X_train_features_filtered_var_thr = selector.fit(train_data_cv).transform(train_data_cv)\n",
    "print (\"Train feature space before filtering: \", train_data_cv.shape)\n",
    "print (\"Train feature space after filtering: \", X_train_features_filtered_var_thr.shape)\n",
    "\n",
    "X_test_features_filtered_var_thr = selector.transform(test_data_cv)\n",
    "print (\"Test feature space before filtering: \", test_data_cv.shape)\n",
    "print (\"Test feature space after filtering: \", X_test_features_filtered_var_thr.shape)"
   ]
  },
  {
   "cell_type": "markdown",
   "metadata": {},
   "source": [
    "What happened with low-variance feature removal? What does the results tell you?"
   ]
  },
  {
   "cell_type": "markdown",
   "metadata": {},
   "source": [
    "Experiment with different variance threshold values and observe how the number of features changes."
   ]
  },
  {
   "cell_type": "markdown",
   "metadata": {},
   "source": [
    "### Feature selection using chi-squared statistic and k-best features"
   ]
  },
  {
   "cell_type": "code",
   "execution_count": 19,
   "metadata": {
    "scrolled": true
   },
   "outputs": [
    {
     "name": "stdout",
     "output_type": "stream",
     "text": [
      "Train feature space before filtering:  (10000, 52522)\n",
      "Train feature space after filtering:  (10000, 200)\n",
      "Test feature space before filtering:  (2500, 52522)\n",
      "Test feature space after filtering:  (2500, 200)\n"
     ]
    }
   ],
   "source": [
    "from sklearn.feature_selection import SelectKBest, chi2\n",
    "\n",
    "selector = SelectKBest(chi2, k=200)\n",
    "X_train_features_filtered_kbest = selector.fit_transform(train_data_cv, y_train)\n",
    "print (\"Train feature space before filtering: \", train_data_cv.shape)\n",
    "print (\"Train feature space after filtering: \", X_train_features_filtered_kbest.shape)\n",
    "\n",
    "X_test_features_filtered_kbest = selector.transform(test_data_cv)\n",
    "print (\"Test feature space before filtering: \", test_data_cv.shape)\n",
    "print (\"Test feature space after filtering: \", X_test_features_filtered_kbest.shape)"
   ]
  },
  {
   "cell_type": "markdown",
   "metadata": {},
   "source": [
    "### Training and evaluating a model with selected features"
   ]
  },
  {
   "cell_type": "markdown",
   "metadata": {},
   "source": [
    "Use the code from above to train and evaluate a model. Only this time with the `X_train_features_filtered_var_thr` and  `X_test_features_filtered_var_thr` (features selected after low-variance feature removal). Compare the results with the earlier model performance."
   ]
  },
  {
   "cell_type": "code",
   "execution_count": 20,
   "metadata": {},
   "outputs": [
    {
     "name": "stdout",
     "output_type": "stream",
     "text": [
      "Train feature space before filtering:  (10000, 52522)\n",
      "Train feature space after filtering:  (10000, 4901)\n",
      "Test feature space before filtering:  (2500, 52522)\n",
      "Test feature space after filtering:  (2500, 4901)\n"
     ]
    }
   ],
   "source": [
    "# your training/evaluation code here\n",
    "from sklearn.feature_selection import VarianceThreshold\n",
    "\n",
    "selector = VarianceThreshold(threshold = 0.005)\n",
    "\n",
    "X_train_features_filtered_var_thr = selector.fit(train_data_cv).transform(train_data_cv)\n",
    "print (\"Train feature space before filtering: \", train_data_cv.shape)\n",
    "print (\"Train feature space after filtering: \", X_train_features_filtered_var_thr.shape)\n",
    "\n",
    "X_test_features_filtered_var_thr = selector.transform(test_data_cv)\n",
    "print (\"Test feature space before filtering: \", test_data_cv.shape)\n",
    "print (\"Test feature space after filtering: \", X_test_features_filtered_var_thr.shape)"
   ]
  },
  {
   "cell_type": "markdown",
   "metadata": {},
   "source": [
    "You can train/evaluate the model with features selected using chi-squared statistic, as well."
   ]
  },
  {
   "cell_type": "code",
   "execution_count": 22,
   "metadata": {},
   "outputs": [
    {
     "name": "stdout",
     "output_type": "stream",
     "text": [
      "Train feature space before filtering:  (10000, 52522)\n",
      "Train feature space after filtering:  (10000, 100)\n",
      "Test feature space before filtering:  (2500, 52522)\n",
      "Test feature space after filtering:  (2500, 100)\n",
      "  (0, 0)\t1\n",
      "  (0, 3)\t4\n",
      "  (0, 4)\t1\n",
      "  (0, 7)\t3\n",
      "  (0, 18)\t1\n",
      "  (0, 20)\t1\n",
      "  (0, 25)\t1\n",
      "  (0, 27)\t1\n",
      "  (0, 38)\t3\n",
      "  (0, 40)\t1\n",
      "  (0, 42)\t5\n",
      "  (0, 43)\t2\n",
      "  (0, 50)\t1\n",
      "  (0, 52)\t1\n",
      "  (0, 58)\t3\n",
      "  (0, 61)\t2\n",
      "  (0, 85)\t1\n",
      "  (1, 3)\t7\n",
      "  (1, 7)\t5\n",
      "  (1, 13)\t1\n",
      "  (1, 20)\t1\n",
      "  (1, 25)\t1\n",
      "  (1, 36)\t3\n",
      "  (1, 40)\t1\n",
      "  (1, 42)\t4\n",
      "  :\t:\n",
      "  (2498, 51)\t2\n",
      "  (2498, 58)\t7\n",
      "  (2498, 61)\t2\n",
      "  (2498, 68)\t1\n",
      "  (2498, 70)\t1\n",
      "  (2498, 83)\t2\n",
      "  (2498, 85)\t5\n",
      "  (2499, 3)\t5\n",
      "  (2499, 7)\t4\n",
      "  (2499, 14)\t2\n",
      "  (2499, 27)\t1\n",
      "  (2499, 40)\t1\n",
      "  (2499, 42)\t7\n",
      "  (2499, 48)\t1\n",
      "  (2499, 52)\t1\n",
      "  (2499, 55)\t1\n",
      "  (2499, 58)\t3\n",
      "  (2499, 59)\t1\n",
      "  (2499, 61)\t3\n",
      "  (2499, 62)\t1\n",
      "  (2499, 65)\t2\n",
      "  (2499, 83)\t2\n",
      "  (2499, 84)\t1\n",
      "  (2499, 85)\t5\n",
      "  (2499, 88)\t1\n"
     ]
    }
   ],
   "source": [
    "# your training/evaluation code here\n",
    "\n",
    "from sklearn.feature_selection import SelectKBest, chi2\n",
    "\n",
    "selector = SelectKBest(chi2, k=100)\n",
    "X_train_features_filtered_kbest = selector.fit_transform(train_data_cv, y_train)\n",
    "print (\"Train feature space before filtering: \", train_data_cv.shape)\n",
    "print (\"Train feature space after filtering: \", X_train_features_filtered_kbest.shape)\n",
    "\n",
    "X_test_features_filtered_kbest = selector.transform(test_data_cv)\n",
    "print (\"Test feature space before filtering: \", test_data_cv.shape)\n",
    "print (\"Test feature space after filtering: \", X_test_features_filtered_kbest.shape)\n",
    "\n",
    "print(X_test_features_filtered_kbest)"
   ]
  },
  {
   "cell_type": "markdown",
   "metadata": {},
   "source": [
    "### Model-based feature selection"
   ]
  },
  {
   "cell_type": "markdown",
   "metadata": {},
   "source": [
    "Here we select features for a logistic regression model with L1 (LASSO) regularization, which implicitly performs feature selection by setting feature weights to zero. See the below code and interpret the printed outputs in the cell. The selector is using an estimator to keep the best."
   ]
  },
  {
   "cell_type": "code",
   "execution_count": 23,
   "metadata": {},
   "outputs": [
    {
     "name": "stdout",
     "output_type": "stream",
     "text": [
      "Coefficients of the features fed to the  LogisticRegression(penalty='l1', solver='liblinear')  estimator\n",
      "[[ 0.         -0.05667497  0.         ...  0.          0.\n",
      "   0.        ]]\n",
      "\n",
      "selector.threshold_  1e-05\n",
      "\n",
      "Selector support:  [False  True False ... False False False]\n"
     ]
    }
   ],
   "source": [
    "from sklearn.feature_selection import SelectFromModel\n",
    "from sklearn.linear_model import LogisticRegression\n",
    "\n",
    "selector = SelectFromModel(estimator=LogisticRegression(solver=\"liblinear\", penalty=\"l1\")).fit(train_data_cv, y_train)\n",
    "\n",
    "# estimator_: The base estimator from which the transformer is built. This attribute exists only when fit has been called.\n",
    "# In this case, the estimator is Logistic Regression.\n",
    "# coef_ : an attribute of the Logistic Regression estimator. Tha value represents the weight of each of the features fed to the model.\n",
    "print(\"Coefficients of the features fed to the \",selector.estimator_ , \" estimator\")\n",
    "print(selector.estimator_.coef_)\n",
    "\n",
    "print()\n",
    "# threshold_: Threshold value used for feature selection.\n",
    "print(\"selector.threshold_ \",selector.threshold_)\n",
    "\n",
    "print()\n",
    "# gives the features which were kept or dropped according to the model.\n",
    "print(\"Selector support: \", selector.get_support())"
   ]
  },
  {
   "cell_type": "code",
   "execution_count": 26,
   "metadata": {},
   "outputs": [
    {
     "name": "stdout",
     "output_type": "stream",
     "text": [
      "Train feature space before filtering:  (10000, 52522)\n",
      "Train feature space after filtering:  (10000, 2257)\n",
      "Test feature space before filtering:  (2500, 52522)\n",
      "Test feature space after filtering:  (2500, 2257)\n",
      "  (0, 1)\t1\n",
      "  (0, 3)\t1\n",
      "  (0, 25)\t2\n",
      "  (0, 36)\t1\n",
      "  (0, 77)\t1\n",
      "  (0, 103)\t4\n",
      "  (0, 116)\t1\n",
      "  (0, 138)\t3\n",
      "  (0, 187)\t1\n",
      "  (0, 198)\t1\n",
      "  (0, 215)\t1\n",
      "  (0, 261)\t10\n",
      "  (0, 288)\t2\n",
      "  (0, 290)\t1\n",
      "  (0, 335)\t1\n",
      "  (0, 348)\t1\n",
      "  (0, 397)\t4\n",
      "  (0, 437)\t1\n",
      "  (0, 452)\t1\n",
      "  (0, 511)\t1\n",
      "  (0, 551)\t1\n",
      "  (0, 583)\t2\n",
      "  (0, 584)\t1\n",
      "  (0, 589)\t1\n",
      "  (0, 620)\t1\n",
      "  :\t:\n",
      "  (2499, 1943)\t1\n",
      "  (2499, 1977)\t2\n",
      "  (2499, 1979)\t1\n",
      "  (2499, 1987)\t5\n",
      "  (2499, 1989)\t1\n",
      "  (2499, 1991)\t2\n",
      "  (2499, 2004)\t1\n",
      "  (2499, 2005)\t1\n",
      "  (2499, 2009)\t4\n",
      "  (2499, 2047)\t1\n",
      "  (2499, 2075)\t1\n",
      "  (2499, 2089)\t1\n",
      "  (2499, 2098)\t1\n",
      "  (2499, 2110)\t1\n",
      "  (2499, 2153)\t1\n",
      "  (2499, 2164)\t1\n",
      "  (2499, 2185)\t2\n",
      "  (2499, 2186)\t1\n",
      "  (2499, 2188)\t1\n",
      "  (2499, 2189)\t1\n",
      "  (2499, 2209)\t1\n",
      "  (2499, 2221)\t1\n",
      "  (2499, 2227)\t1\n",
      "  (2499, 2247)\t1\n",
      "  (2499, 2248)\t1\n"
     ]
    }
   ],
   "source": [
    "train_data_cv_selectedfrommodel = selector.transform(train_data_cv)\n",
    "test_data_cv_selectedfrommodel = selector.transform(test_data_cv)\n",
    "\n",
    "print (\"Train feature space before filtering: \", train_data_cv.shape)\n",
    "print (\"Train feature space after filtering: \", train_data_cv_selectedfrommodel.shape)\n",
    "print (\"Test feature space before filtering: \", test_data_cv.shape)\n",
    "print (\"Test feature space after filtering: \", test_data_cv_selectedfrommodel.shape)\n",
    "\n",
    "print(test_data_cv_selectedfrommodel)"
   ]
  },
  {
   "cell_type": "markdown",
   "metadata": {},
   "source": [
    "### Creating pipelines in scikit-learn"
   ]
  },
  {
   "cell_type": "markdown",
   "metadata": {},
   "source": [
    "scikit-learn pipelines can be used to specify multiple steps in a data modeling process and execute them in sequence. The pipeline below does feature selection, then builds a multinomial NB model using the selected features. \n",
    "\n",
    "It is possible to add more steps to the pipeline such as StandardScaler. You can read more about the scikit-learn Pipeline here- https://scikit-learn.org/stable/modules/generated/sklearn.pipeline.Pipeline.html"
   ]
  },
  {
   "cell_type": "code",
   "execution_count": null,
   "metadata": {},
   "outputs": [],
   "source": [
    "from sklearn.model_selection import train_test_split\n",
    "from sklearn.pipeline import Pipeline\n",
    "\n",
    "# define x_all and y_all to complete this code and run to see to results\n",
    "x_all = # your code here\n",
    "y_all = # your code here\n",
    "\n",
    "x_train, x_test, y_train, y_test = train_test_split(x_all, y_all, test_size = 0.25)\n",
    " \n",
    "\n",
    "pipeline = Pipeline([('var_th', VarianceThreshold(threshold = 0.001)),('mnb', MultinomialNB())], verbose = True)\n",
    " \n",
    "pipeline.fit(x_train, y_train)\n",
    "\n",
    "# to see all the hyper parameters\n",
    "print()\n",
    "print(pipeline.get_params())\n",
    "\n",
    "print()\n",
    "print(\"Evaluation accuracy: \",pipeline.score(x_test, y_test))"
   ]
  },
  {
   "cell_type": "markdown",
   "metadata": {},
   "source": [
    "### Stratified k-fold cross-validation"
   ]
  },
  {
   "cell_type": "markdown",
   "metadata": {},
   "source": [
    "Below is an example of how the stratified k-fold cross-validation divides the data into training and test sets based on the value of number of splits. You can update this code further to incorporate the model training and evaluation for each split and compare the results."
   ]
  },
  {
   "cell_type": "code",
   "execution_count": null,
   "metadata": {},
   "outputs": [],
   "source": [
    "import numpy as np\n",
    "## combined dataset\n",
    "frames = [train_data_df, test_data_df]\n",
    "\n",
    "all_dataset = pd.concat(frames)\n",
    "\n",
    "x_all_text = all_dataset[\"review\"]\n",
    "y_all = all_dataset[\"sentiment\"]\n",
    "y_all = np.array(y_all)\n",
    "\n",
    "vectorizer = CountVectorizer(ngram_range = (1,1))\n",
    "x_all = vectorizer.fit_transform(x_all_text)\n",
    "\n",
    "print(len(vectorizer.vocabulary_), \" ... \", list(vectorizer.vocabulary_.items())[0:100],\"\\n\")\n",
    "print(x_all.shape,\"\\n\") \n",
    "print(y_all.shape,\"\\n\") \n",
    "\n",
    "# create test data representation\n",
    "# test_data_cv = vectorizer.transform(test_text)\n",
    "# print(test_data_cv.shape,\"\\n\") "
   ]
  },
  {
   "cell_type": "code",
   "execution_count": null,
   "metadata": {},
   "outputs": [],
   "source": [
    "from sklearn.model_selection import StratifiedKFold, cross_val_score\n",
    "import numpy as np\n",
    "from sklearn.pipeline import Pipeline\n",
    "\n",
    "skf = StratifiedKFold(n_splits=5)\n",
    "\n",
    "print(skf)\n",
    "\n",
    "\n",
    "for train_index, test_index in skf.split(x_all, y_all):\n",
    "    print(\"TRAIN:\", type(train_index))\n",
    "    print(\"TEST:\", test_index)\n",
    "    print()\n",
    "    X_train = x_all[train_index]\n",
    "    X_test = x_all[test_index]\n",
    "    Y_train = y_all[train_index]\n",
    "    Y_test = y_all[test_index]\n",
    "\n",
    "    pipeline = Pipeline([('chi2', SelectKBest(chi2, k=200)),('mnb', MultinomialNB())], verbose = True)\n",
    "\n",
    "    pipeline.fit(X_train, Y_train)\n",
    "\n",
    "    # to see all the hyper parameters\n",
    "    print()\n",
    "    print(pipeline.get_params())\n",
    "\n",
    "    print()\n",
    "    print(\"Evaluation accuracy: \",pipeline.score(X_test, Y_test))\n",
    "    print(\"\\n\\n.........................\\n\\n\")"
   ]
  },
  {
   "cell_type": "markdown",
   "metadata": {},
   "source": [
    "Below is a one liner code to implement an ML pipeline with Sklearn Pipeline and cross validation"
   ]
  },
  {
   "cell_type": "code",
   "execution_count": null,
   "metadata": {},
   "outputs": [],
   "source": [
    "pipeline = Pipeline([('chi2', SelectKBest(chi2, k=200)),('mnb', MultinomialNB())], verbose = True)\n",
    "scores = cross_val_score(pipeline, x_all, y_all, cv=5)\n",
    "print(\"Scores of the K fold stratified cross validations= \", scores)\n",
    "print(\"Average score of the K fold stratified cross validation= \", scores.mean())"
   ]
  },
  {
   "cell_type": "markdown",
   "metadata": {},
   "source": [
    "# 2. Model comparison"
   ]
  },
  {
   "cell_type": "markdown",
   "metadata": {},
   "source": [
    "### Count-based feature extraction"
   ]
  },
  {
   "cell_type": "code",
   "execution_count": null,
   "metadata": {},
   "outputs": [],
   "source": [
    "from sklearn.feature_extraction.text import CountVectorizer\n",
    "\n",
    "# Combine the training and test data because we'd like to do cross-validation\n",
    "frames = [train_data_df, test_data_df]\n",
    "\n",
    "all_dataset = pd.concat(frames)\n",
    "\n",
    "x_all_text = all_dataset[\"review\"]\n",
    "y_all = all_dataset[\"sentiment\"]\n",
    "y_all = np.array(y_all)\n",
    "\n",
    "# set the n-gram range\n",
    "vectorizer = CountVectorizer(ngram_range = (1,1))\n",
    "\n",
    "# create training data representation\n",
    "x_all = vectorizer.fit_transform(x_all_text)\n",
    "\n",
    "# observe the words in the created dictionary across the document\n",
    "print(len(vectorizer.vocabulary_), \" ... \", list(vectorizer.vocabulary_.items())[0:100],\"\\n\")\n",
    "\n",
    "print(x_all.shape,\"\\n\") "
   ]
  },
  {
   "cell_type": "markdown",
   "metadata": {},
   "source": [
    "### Model comparison across k-fold cross-validation"
   ]
  },
  {
   "cell_type": "markdown",
   "metadata": {},
   "source": [
    "We train 2 different models (Multinomial Naive Bayes and Logistic Regression) on the complete dataset. We use stratified K-fold to split data into train and test sets with roughly similar proportions of each label. In each fold, we compare the performance of the two models on the same test split."
   ]
  },
  {
   "cell_type": "code",
   "execution_count": null,
   "metadata": {},
   "outputs": [],
   "source": [
    "from sklearn.naive_bayes import MultinomialNB\n",
    "from sklearn.linear_model import LogisticRegression\n",
    "from sklearn.metrics import accuracy_score, precision_score, recall_score,f1_score\n",
    "#from sklearn.model_selection import cross_validate\n",
    "import math\n",
    "from scipy import stats\n",
    "\n",
    "from sklearn.model_selection import StratifiedKFold, cross_val_score\n",
    "import numpy as np\n",
    "\n",
    "skf = StratifiedKFold(n_splits=5)\n",
    "\n",
    "print(skf)\n",
    "\n",
    "\n",
    "i=0\n",
    "f1s_nb = []\n",
    "f1s_lr = []\n",
    "\n",
    "for train_index, test_index in skf.split(x_all, y_all):\n",
    "    print(\"Training instance indexes:\", train_index)\n",
    "    print(\"Test instance indexes:\", test_index)\n",
    "    X_train = x_all[train_index]\n",
    "    X_test = x_all[test_index]\n",
    "    Y_train = y_all[train_index]\n",
    "    Y_test = y_all[test_index]\n",
    "\n",
    "    naive_bayes = MultinomialNB()\n",
    "    naive_bayes.fit(X_train, Y_train)\n",
    "    predictions_nb = naive_bayes.predict(X_test)\n",
    "\n",
    "    f1_nb = f1_score(Y_test, predictions_nb, average = \"weighted\")\n",
    "    f1s_nb.append(f1_nb)\n",
    "    \n",
    "    LR = LogisticRegression(solver=\"liblinear\", penalty=\"l1\")\n",
    "    LR.fit(X_train, Y_train)\n",
    "    predictions_lr = LR.predict(X_test)\n",
    "\n",
    "    f1_lr = f1_score(Y_test, predictions_lr, average = \"weighted\")\n",
    "    f1s_lr.append(f1_lr)\n",
    "    \n",
    "    print(\"F1 scores at fold \", i+1  ,\" for NB and LR are : \", f1_nb , f1_lr)\n",
    "    print()\n",
    "    i+=1"
   ]
  },
  {
   "cell_type": "markdown",
   "metadata": {},
   "source": [
    "### Measuring statistical significance of the model performance using Student's t-test\n",
    "\n",
    "Because we have results from 5-fold cross validation, we can measure if there's a statistically significant difference between the mean F1 scores of the two classifiers."
   ]
  },
  {
   "cell_type": "code",
   "execution_count": null,
   "metadata": {},
   "outputs": [],
   "source": [
    "from scipy import stats\n",
    "\n",
    "# Student's t-test \n",
    "nb_lr_ttest = stats.ttest_ind(f1s_nb,f1s_lr)\n",
    "print(\"t-test result: \", nb_lr_ttest) "
   ]
  },
  {
   "cell_type": "markdown",
   "metadata": {},
   "source": [
    "What does the result above indicate, if the significance level is 95%? How about 99.9%? "
   ]
  },
  {
   "cell_type": "markdown",
   "metadata": {},
   "source": [
    "We can calculate confidence intervals for accuracy (since we can treat the classification outcome as \"accurate\" or \"not accurate\") of Naive Bayes and logistic regression classifiers. You can learn more about how to calculate confidence intervals for accuracy here: https://machinelearningmastery.com/confidence-intervals-for-machine-learning/."
   ]
  },
  {
   "cell_type": "markdown",
   "metadata": {},
   "source": [
    "### Ablation test"
   ]
  },
  {
   "cell_type": "markdown",
   "metadata": {},
   "source": [
    "To test how important individual features (or components of a model) are, we can conduct an ablation test.\n",
    "- Train the full model with all features included and conduct evaluation\n",
    "- Remove feature (or group of features) and conduct evaluation"
   ]
  },
  {
   "cell_type": "code",
   "execution_count": null,
   "metadata": {},
   "outputs": [],
   "source": [
    "from sklearn.feature_extraction.text import CountVectorizer\n",
    "\n",
    "# use the original training/test split\n",
    "x_train = train_data_df[\"review\"]\n",
    "x_test = test_data_df[\"review\"]\n",
    "y_train = train_data_df[\"sentiment\"]\n",
    "y_test = test_data_df[\"sentiment\"]\n",
    "\n",
    "# we will test different n-gram features for their contribution to logistic regression classifier\n",
    "def ablation_test(x_train, y_train, x_test, y_test, ngram_range):\n",
    "# set the n-gram range\n",
    "\n",
    "    vectorizer = CountVectorizer(ngram_range = ngram_range)\n",
    "\n",
    "    # create training data representation\n",
    "    grams = vectorizer.fit(x_train)\n",
    "    \n",
    "    x_train = vectorizer.transform(x_train)\n",
    "    x_test = vectorizer.transform(x_test)\n",
    "    \n",
    "    # observe the words in the created dictionary across the document\n",
    "    print(\"number of features for ngram_range \", ngram_range, \" : \",len(vectorizer.vocabulary_))\n",
    "\n",
    "    LR = LogisticRegression(solver=\"liblinear\", penalty=\"l1\")\n",
    "    LR.fit(x_train, y_train)\n",
    "    predictions_lr = LR.predict(x_test)\n",
    "\n",
    "    f1_lr = f1_score(y_test, predictions_lr, average = \"weighted\")\n",
    "    print(\"F1 score for \", ngram_range, \" : \",f1_lr, \"\\n\")"
   ]
  },
  {
   "cell_type": "code",
   "execution_count": null,
   "metadata": {},
   "outputs": [],
   "source": [
    "# run ablation test for unigrams, unigrams+bigrams, unigrams+bigrams+trigrams, etc.\n",
    "for i in range(1,4):\n",
    "    for j in range(3,0,-1): \n",
    "        if(i<=j):\n",
    "            ablation_test(x_train, y_train, x_test, y_test, (i,j))"
   ]
  },
  {
   "cell_type": "markdown",
   "metadata": {},
   "source": [
    "What do the results indicate? Which n-gram feature is most useful? least useful? Do the results align with your expectations?"
   ]
  }
 ],
 "metadata": {
  "kernelspec": {
   "display_name": "Python 3",
   "language": "python",
   "name": "python3"
  },
  "language_info": {
   "codemirror_mode": {
    "name": "ipython",
    "version": 3
   },
   "file_extension": ".py",
   "mimetype": "text/x-python",
   "name": "python",
   "nbconvert_exporter": "python",
   "pygments_lexer": "ipython3",
   "version": "3.8.17"
  }
 },
 "nbformat": 4,
 "nbformat_minor": 5
}
