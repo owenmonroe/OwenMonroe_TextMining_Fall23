{
 "cells": [
  {
   "cell_type": "markdown",
   "metadata": {},
   "source": [
    "This notebook explores word embedding through `gensim` package.\n",
    "\n",
    "We will train embeddings from scratch as well as use pre-trained word vectors.\n",
    "We will then attempt to use embeddings as features in text classification on the COVID tweet dataset. \n",
    "\n",
    "Before running, install gensim with:\n",
    "\n",
    "`pip install gensim`\n",
    "\n",
    "Some materials on word embeddings are adapted from: https://github.com/dbamman/anlp21/blob/main/4.embeddings/WordEmbeddings.ipynb"
   ]
  },
  {
   "cell_type": "code",
   "execution_count": 3,
   "metadata": {},
   "outputs": [
    {
     "name": "stdout",
     "output_type": "stream",
     "text": [
      "Requirement already satisfied: gensim in /Users/owenmonroe/anaconda3/envs/textmining/lib/python3.8/site-packages (4.3.2)\n",
      "Requirement already satisfied: numpy>=1.18.5 in /Users/owenmonroe/anaconda3/envs/textmining/lib/python3.8/site-packages (from gensim) (1.21.3)\n",
      "Requirement already satisfied: scipy>=1.7.0 in /Users/owenmonroe/anaconda3/envs/textmining/lib/python3.8/site-packages (from gensim) (1.10.1)\n",
      "Requirement already satisfied: smart-open>=1.8.1 in /Users/owenmonroe/anaconda3/envs/textmining/lib/python3.8/site-packages (from gensim) (5.2.1)\n",
      "Note: you may need to restart the kernel to use updated packages.\n"
     ]
    }
   ],
   "source": [
    "pip install gensim"
   ]
  },
  {
   "cell_type": "code",
   "execution_count": 4,
   "metadata": {},
   "outputs": [],
   "source": [
    "# import gensim and related libraries\n",
    "import re\n",
    "from gensim.models import Word2Vec, KeyedVectors\n",
    "from gensim.scripts.glove2word2vec import glove2word2vec\n",
    "from gensim.test.utils import datapath"
   ]
  },
  {
   "cell_type": "markdown",
   "metadata": {},
   "source": [
    "### Training a word2vec model on a small Wikipedia dataset"
   ]
  },
  {
   "cell_type": "markdown",
   "metadata": {},
   "source": [
    "First, let's train a new word2vec model on Wikipedia text data."
   ]
  },
  {
   "cell_type": "code",
   "execution_count": 6,
   "metadata": {},
   "outputs": [],
   "source": [
    "sentences=[]\n",
    "# file from which to generate word embeddings\n",
    "filename=\"/Users/owenmonroe/Desktop/GitHub/TextMiningFall23/Lab7_Oct16_WordNet_WordEmbedding/Datasets/wordembeddings/wiki.10K.txt\"\n",
    "with open(filename, 'rb') as file:\n",
    "    for line in file:\n",
    "        words=line.rstrip().lower().decode('utf-8')\n",
    "        # this file is already tokenized, so we can split on whitespace\n",
    "        # but first let's replace any sequence of whitespace (space, tab, newline, etc.) with single space\n",
    "        words=re.sub(\"\\s+\", \" \", words)\n",
    "        sentences.append(words.split(\" \"))\n",
    "\n",
    "model_wiki = Word2Vec(\n",
    "        sentences,\n",
    "        vector_size=100,\n",
    "        window=5,\n",
    "        min_count=2,\n",
    "        workers=10)\n",
    "\n",
    "my_trained_vectors = model_wiki.wv\n",
    "\n",
    "# save vectors to file if you want to use them later\n",
    "my_trained_vectors.save_word2vec_format('/Users/owenmonroe/Desktop/GitHub/TextMiningFall23/Lab7_Oct16_WordNet_WordEmbedding/Datasets/wordembeddings/embeddings.txt', binary=False)"
   ]
  },
  {
   "cell_type": "code",
   "execution_count": 7,
   "metadata": {
    "scrolled": true
   },
   "outputs": [
    {
     "data": {
      "text/plain": [
       "[('actress', 0.9433861970901489),\n",
       " ('musician', 0.9145520925521851),\n",
       " ('composer', 0.9099785685539246),\n",
       " ('writer', 0.9010313153266907),\n",
       " ('artist', 0.8904495239257812),\n",
       " ('comedian', 0.8801247477531433),\n",
       " ('producer', 0.8684588670730591),\n",
       " ('singer', 0.8677772879600525),\n",
       " ('pianist', 0.8594045042991638),\n",
       " ('dancer', 0.853753387928009)]"
      ]
     },
     "execution_count": 7,
     "metadata": {},
     "output_type": "execute_result"
    }
   ],
   "source": [
    "my_trained_vectors.most_similar(\"actor\", topn=10)"
   ]
  },
  {
   "cell_type": "markdown",
   "metadata": {},
   "source": [
    "### Loading pre-trained Glove vectors"
   ]
  },
  {
   "cell_type": "markdown",
   "metadata": {},
   "source": [
    "Let's load in vectors that have already been trained on a much bigger dataset. [Glove vectors](https://nlp.stanford.edu/projects/glove/) are trained using a different method than word2vec, but its vectors can also be loaded by `gensim`.  Here we'll use a 100-dimensional model trained on 6B words (from Wikipedia and news), but even bigger models are also available."
   ]
  },
  {
   "cell_type": "code",
   "execution_count": 9,
   "metadata": {},
   "outputs": [
    {
     "name": "stderr",
     "output_type": "stream",
     "text": [
      "/var/folders/8c/38d5fhqx2_jf385d_b3cq3j00000gn/T/ipykernel_11289/3527827282.py:4: DeprecationWarning: Call to deprecated `glove2word2vec` (KeyedVectors.load_word2vec_format(.., binary=False, no_header=True) loads GLoVE text vectors.).\n",
      "  _ = glove2word2vec(glove_file, glove_in_w2v_format)\n"
     ]
    }
   ],
   "source": [
    "# First we have to convert the Glove format into w2v format; this creates a new file\n",
    "glove_file=\"/Users/owenmonroe/Desktop/GitHub/TextMiningFall23/Lab7_Oct16_WordNet_WordEmbedding/Datasets/wordembeddings/glove.6B.100d.100K.txt\"\n",
    "glove_in_w2v_format=\"/Users/owenmonroe/Desktop/GitHub/TextMiningFall23/Lab7_Oct16_WordNet_WordEmbedding/Datasets/wordembeddings/glove.6B.100d.100K.w2v.txt\"\n",
    "_ = glove2word2vec(glove_file, glove_in_w2v_format)"
   ]
  },
  {
   "cell_type": "code",
   "execution_count": 11,
   "metadata": {},
   "outputs": [],
   "source": [
    "glove = KeyedVectors.load_word2vec_format(\"/Users/owenmonroe/Desktop/GitHub/TextMiningFall23/Lab7_Oct16_WordNet_WordEmbedding/Datasets/wordembeddings/glove.6B.100d.100K.w2v.txt\", binary=False)"
   ]
  },
  {
   "cell_type": "code",
   "execution_count": 12,
   "metadata": {},
   "outputs": [
    {
     "data": {
      "text/plain": [
       "[('actress', 0.8580666184425354),\n",
       " ('comedian', 0.795758843421936),\n",
       " ('starring', 0.7920297384262085),\n",
       " ('starred', 0.7582032680511475),\n",
       " ('actors', 0.7394535541534424),\n",
       " ('filmmaker', 0.7349801063537598),\n",
       " ('screenwriter', 0.7342271208763123),\n",
       " ('film', 0.6941469311714172),\n",
       " ('movie', 0.6924505829811096),\n",
       " ('comedy', 0.6884662508964539)]"
      ]
     },
     "execution_count": 12,
     "metadata": {},
     "output_type": "execute_result"
    }
   ],
   "source": [
    "glove.most_similar(\"actor\", topn=10)"
   ]
  },
  {
   "cell_type": "markdown",
   "metadata": {},
   "source": [
    "`most_similar` computes cosine similarity between the given word and the vectors for each vocabulary word in the model and returns the top N words. You can play around with this function to discover other analogies that have been learned in this representation."
   ]
  },
  {
   "cell_type": "code",
   "execution_count": 14,
   "metadata": {},
   "outputs": [
    {
     "data": {
      "text/plain": [
       "[('queen', 0.7698541283607483),\n",
       " ('monarch', 0.6843380331993103),\n",
       " ('throne', 0.6755736470222473),\n",
       " ('daughter', 0.6594556570053101),\n",
       " ('princess', 0.6520534157752991)]"
      ]
     },
     "execution_count": 14,
     "metadata": {},
     "output_type": "execute_result"
    }
   ],
   "source": [
    "# one + two = three + ?\n",
    "one=\"man\"\n",
    "two=\"king\"\n",
    "three=\"woman\"\n",
    "\n",
    "glove.most_similar(positive=[two, three], negative=[one], topn=5)"
   ]
  },
  {
   "cell_type": "code",
   "execution_count": null,
   "metadata": {},
   "outputs": [
    {
     "data": {
      "text/plain": [
       "[('germany', 0.892362117767334),\n",
       " ('austria', 0.7597678303718567),\n",
       " ('poland', 0.7425415515899658),\n",
       " ('denmark', 0.7360999584197998),\n",
       " ('german', 0.6986513137817383)]"
      ]
     },
     "execution_count": 17,
     "metadata": {},
     "output_type": "execute_result"
    }
   ],
   "source": [
    "one=\"paris\"\n",
    "two=\"france\"\n",
    "three=\"berlin\"\n",
    "\n",
    "glove.most_similar(positive=[two, three], negative=[one], topn=5)"
   ]
  },
  {
   "cell_type": "markdown",
   "metadata": {},
   "source": [
    "## Comparing classification results for count based vectors to word embedding vectors\n",
    "\n",
    "We will now try to use embeddings as features for text classification."
   ]
  },
  {
   "cell_type": "code",
   "execution_count": null,
   "metadata": {},
   "outputs": [
    {
     "name": "stdout",
     "output_type": "stream",
     "text": [
      "Original train set:  40000\n",
      "Original test set:  4957\n",
      "After removing empty tweets, train set size:  39998\n",
      "After removing empty tweets, test set size:  4957\n",
      "After removing instances with no labels, train set size:  39996\n",
      "After removing instances with no labels, test set size:  4957\n"
     ]
    },
    {
     "data": {
      "text/html": [
       "<div>\n",
       "<style scoped>\n",
       "    .dataframe tbody tr th:only-of-type {\n",
       "        vertical-align: middle;\n",
       "    }\n",
       "\n",
       "    .dataframe tbody tr th {\n",
       "        vertical-align: top;\n",
       "    }\n",
       "\n",
       "    .dataframe thead th {\n",
       "        text-align: right;\n",
       "    }\n",
       "</style>\n",
       "<table border=\"1\" class=\"dataframe\">\n",
       "  <thead>\n",
       "    <tr style=\"text-align: right;\">\n",
       "      <th></th>\n",
       "      <th>UserName</th>\n",
       "      <th>ScreenName</th>\n",
       "      <th>Location</th>\n",
       "      <th>TweetAt</th>\n",
       "      <th>OriginalTweet</th>\n",
       "      <th>Sentiment</th>\n",
       "      <th>Hashtags</th>\n",
       "      <th>CleanedTweet</th>\n",
       "      <th>Accounts</th>\n",
       "      <th>TokenizedTweet</th>\n",
       "      <th>StopwordRemovedTweet</th>\n",
       "      <th>StemmedTweet</th>\n",
       "    </tr>\n",
       "  </thead>\n",
       "  <tbody>\n",
       "    <tr>\n",
       "      <th>0</th>\n",
       "      <td>3799</td>\n",
       "      <td>48751</td>\n",
       "      <td>London</td>\n",
       "      <td>16-03-2020</td>\n",
       "      <td>@menyrbie @phil_gahan @chrisitv https://t.co/i...</td>\n",
       "      <td>Neutral</td>\n",
       "      <td>NaN</td>\n",
       "      <td>https t co ifz9fan2pa and https t co xx6ghgfz...</td>\n",
       "      <td>['menyrbie', 'phil_gahan', 'chrisitv']</td>\n",
       "      <td>['https', 't', 'co', 'ifz9fan2pa', 'and', 'htt...</td>\n",
       "      <td>['https', 'co', 'ifz9fan2pa', 'https', 'co', '...</td>\n",
       "      <td>['http', 't', 'co', 'ifz9fan2pa', 'and', 'http...</td>\n",
       "    </tr>\n",
       "    <tr>\n",
       "      <th>1</th>\n",
       "      <td>3800</td>\n",
       "      <td>48752</td>\n",
       "      <td>UK</td>\n",
       "      <td>16-03-2020</td>\n",
       "      <td>advice talk to your neighbours family to excha...</td>\n",
       "      <td>Positive</td>\n",
       "      <td>NaN</td>\n",
       "      <td>advice talk to your neighbours family to excha...</td>\n",
       "      <td>NaN</td>\n",
       "      <td>['advice', 'talk', 'to', 'your', 'neighbours',...</td>\n",
       "      <td>['advice', 'talk', 'neighbours', 'family', 'ex...</td>\n",
       "      <td>['advic', 'talk', 'to', 'your', 'neighbour', '...</td>\n",
       "    </tr>\n",
       "    <tr>\n",
       "      <th>2</th>\n",
       "      <td>3801</td>\n",
       "      <td>48753</td>\n",
       "      <td>Vagabonds</td>\n",
       "      <td>16-03-2020</td>\n",
       "      <td>coronavirus australia: woolworths to give elde...</td>\n",
       "      <td>Positive</td>\n",
       "      <td>NaN</td>\n",
       "      <td>coronavirus australia woolworths to give elder...</td>\n",
       "      <td>NaN</td>\n",
       "      <td>['coronavirus', 'australia', 'woolworths', 'to...</td>\n",
       "      <td>['coronavirus', 'australia', 'woolworths', 'gi...</td>\n",
       "      <td>['coronaviru', 'australia', 'woolworth', 'to',...</td>\n",
       "    </tr>\n",
       "    <tr>\n",
       "      <th>3</th>\n",
       "      <td>3802</td>\n",
       "      <td>48754</td>\n",
       "      <td>NaN</td>\n",
       "      <td>16-03-2020</td>\n",
       "      <td>my food stock is not the only one which is emp...</td>\n",
       "      <td>Positive</td>\n",
       "      <td>['covid19france', 'covid_19', 'covid19', 'coro...</td>\n",
       "      <td>my food stock is not the only one which is emp...</td>\n",
       "      <td>NaN</td>\n",
       "      <td>['my', 'food', 'stock', 'is', 'not', 'the', 'o...</td>\n",
       "      <td>['food', 'stock', 'one', 'empty', 'please', 'p...</td>\n",
       "      <td>['my', 'food', 'stock', 'is', 'not', 'the', 'o...</td>\n",
       "    </tr>\n",
       "    <tr>\n",
       "      <th>4</th>\n",
       "      <td>3803</td>\n",
       "      <td>48755</td>\n",
       "      <td>NaN</td>\n",
       "      <td>16-03-2020</td>\n",
       "      <td>me, ready to go at supermarket during the #cov...</td>\n",
       "      <td>Negative</td>\n",
       "      <td>['covid19', 'coronavirus', 'coronavirusfrance'...</td>\n",
       "      <td>me ready to go at supermarket during the outbr...</td>\n",
       "      <td>NaN</td>\n",
       "      <td>['me', 'ready', 'to', 'go', 'at', 'supermarket...</td>\n",
       "      <td>['ready', 'go', 'supermarket', 'outbreak', 'pa...</td>\n",
       "      <td>['me', 'readi', 'to', 'go', 'at', 'supermarket...</td>\n",
       "    </tr>\n",
       "  </tbody>\n",
       "</table>\n",
       "</div>"
      ],
      "text/plain": [
       "  UserName ScreenName   Location     TweetAt  \\\n",
       "0     3799      48751     London  16-03-2020   \n",
       "1     3800      48752         UK  16-03-2020   \n",
       "2     3801      48753  Vagabonds  16-03-2020   \n",
       "3     3802      48754        NaN  16-03-2020   \n",
       "4     3803      48755        NaN  16-03-2020   \n",
       "\n",
       "                                       OriginalTweet Sentiment  \\\n",
       "0  @menyrbie @phil_gahan @chrisitv https://t.co/i...   Neutral   \n",
       "1  advice talk to your neighbours family to excha...  Positive   \n",
       "2  coronavirus australia: woolworths to give elde...  Positive   \n",
       "3  my food stock is not the only one which is emp...  Positive   \n",
       "4  me, ready to go at supermarket during the #cov...  Negative   \n",
       "\n",
       "                                            Hashtags  \\\n",
       "0                                                NaN   \n",
       "1                                                NaN   \n",
       "2                                                NaN   \n",
       "3  ['covid19france', 'covid_19', 'covid19', 'coro...   \n",
       "4  ['covid19', 'coronavirus', 'coronavirusfrance'...   \n",
       "\n",
       "                                        CleanedTweet  \\\n",
       "0   https t co ifz9fan2pa and https t co xx6ghgfz...   \n",
       "1  advice talk to your neighbours family to excha...   \n",
       "2  coronavirus australia woolworths to give elder...   \n",
       "3  my food stock is not the only one which is emp...   \n",
       "4  me ready to go at supermarket during the outbr...   \n",
       "\n",
       "                                 Accounts  \\\n",
       "0  ['menyrbie', 'phil_gahan', 'chrisitv']   \n",
       "1                                     NaN   \n",
       "2                                     NaN   \n",
       "3                                     NaN   \n",
       "4                                     NaN   \n",
       "\n",
       "                                      TokenizedTweet  \\\n",
       "0  ['https', 't', 'co', 'ifz9fan2pa', 'and', 'htt...   \n",
       "1  ['advice', 'talk', 'to', 'your', 'neighbours',...   \n",
       "2  ['coronavirus', 'australia', 'woolworths', 'to...   \n",
       "3  ['my', 'food', 'stock', 'is', 'not', 'the', 'o...   \n",
       "4  ['me', 'ready', 'to', 'go', 'at', 'supermarket...   \n",
       "\n",
       "                                StopwordRemovedTweet  \\\n",
       "0  ['https', 'co', 'ifz9fan2pa', 'https', 'co', '...   \n",
       "1  ['advice', 'talk', 'neighbours', 'family', 'ex...   \n",
       "2  ['coronavirus', 'australia', 'woolworths', 'gi...   \n",
       "3  ['food', 'stock', 'one', 'empty', 'please', 'p...   \n",
       "4  ['ready', 'go', 'supermarket', 'outbreak', 'pa...   \n",
       "\n",
       "                                        StemmedTweet  \n",
       "0  ['http', 't', 'co', 'ifz9fan2pa', 'and', 'http...  \n",
       "1  ['advic', 'talk', 'to', 'your', 'neighbour', '...  \n",
       "2  ['coronaviru', 'australia', 'woolworth', 'to',...  \n",
       "3  ['my', 'food', 'stock', 'is', 'not', 'the', 'o...  \n",
       "4  ['me', 'readi', 'to', 'go', 'at', 'supermarket...  "
      ]
     },
     "metadata": {},
     "output_type": "display_data"
    }
   ],
   "source": [
    "import pandas as pd\n",
    "\n",
    "#### LOAD DATASETS ####\n",
    "\n",
    "train_data_file = \"Datasets/Corona_NLP/Tweets_preprocessed_train_data.csv\"\n",
    "test_data_file = \"Datasets/Corona_NLP/Tweets_preprocessed_test_data.csv\"\n",
    "\n",
    "# Import train and test dataset into data frames and print out the original lengths\n",
    "train_data_df = pd.read_csv(train_data_file)\n",
    "test_data_df = pd.read_csv(test_data_file)\n",
    "print (\"Original train set: \",len(train_data_df))\n",
    "print (\"Original test set: \",len(test_data_df))\n",
    "\n",
    "### CLEAN DATASETS ###\n",
    "# Remove empty rows from both sets and print out the new lengths\n",
    "train_data_df = train_data_df[~train_data_df[\"OriginalTweet\"].isnull()]\n",
    "test_data_df = test_data_df[~test_data_df[\"OriginalTweet\"].isnull()]\n",
    "print (\"After removing empty tweets, train set size: \",len(train_data_df))\n",
    "print (\"After removing empty tweets, test set size: \",len(test_data_df))\n",
    "\n",
    "# Remove rows with null labels\n",
    "train_data_df = train_data_df[~train_data_df[\"Sentiment\"].isnull()]\n",
    "test_data_df = test_data_df[~test_data_df[\"Sentiment\"].isnull()]\n",
    "print (\"After removing instances with no labels, train set size: \", len(train_data_df))\n",
    "print (\"After removing instances with no labels, test set size: \", len(test_data_df))\n",
    "\n",
    "# print out top 5 rows of the train set\n",
    "display(train_data_df.head(5))"
   ]
  },
  {
   "cell_type": "code",
   "execution_count": null,
   "metadata": {},
   "outputs": [],
   "source": [
    "# use original tweets for model building\n",
    "y_train = train_data_df[\"Sentiment\"]\n",
    "y_test = test_data_df[\"Sentiment\"]\n",
    "\n",
    "train_text = train_data_df[\"CleanedTweet\"]\n",
    "test_text = test_data_df[\"CleanedTweet\"]"
   ]
  },
  {
   "cell_type": "markdown",
   "metadata": {},
   "source": [
    "### Count-based feature extraction and modeling"
   ]
  },
  {
   "cell_type": "markdown",
   "metadata": {},
   "source": [
    "This is something you have done many times and should be able to interpret well."
   ]
  },
  {
   "cell_type": "code",
   "execution_count": null,
   "metadata": {},
   "outputs": [],
   "source": [
    "from sklearn.feature_extraction.text import CountVectorizer\n",
    "\n",
    "# set the n-gram range\n",
    "vectorizer = CountVectorizer(ngram_range = (1,1))\n",
    "\n",
    "# create training data representation\n",
    "train_data_cv = vectorizer.fit_transform(train_text)\n",
    "test_data_cv = vectorizer.transform(test_text)"
   ]
  },
  {
   "cell_type": "code",
   "execution_count": null,
   "metadata": {},
   "outputs": [
    {
     "name": "stdout",
     "output_type": "stream",
     "text": [
      "Accuracy score:  0.8426467621545289\n",
      "Precision score:  0.842738983628627\n",
      "Recall score:  0.8426467621545289\n",
      "F1 score:  0.8425229333822474\n"
     ]
    }
   ],
   "source": [
    "from sklearn.linear_model import LogisticRegression\n",
    "from sklearn.metrics import accuracy_score, precision_score, recall_score, f1_score, roc_auc_score, auc\n",
    "\n",
    "\n",
    "lg = LogisticRegression(random_state=0, solver='liblinear')\n",
    "lg.fit(train_data_cv, y_train)\n",
    "predictions = lg.predict(test_data_cv)\n",
    "\n",
    "print(\"Accuracy score: \", accuracy_score(y_test, predictions))\n",
    "print(\"Precision score: \", precision_score(y_test, predictions, average=\"weighted\"))\n",
    "print(\"Recall score: \", recall_score(y_test, predictions, average = \"weighted\"))\n",
    "print(\"F1 score: \", f1_score(y_test, predictions, average = \"weighted\"))"
   ]
  },
  {
   "cell_type": "markdown",
   "metadata": {},
   "source": [
    "### Word embeddings-based feature extraction"
   ]
  },
  {
   "cell_type": "markdown",
   "metadata": {},
   "source": [
    "We can also create features directly from word embeddings. We can use different word embedding vectors: \n",
    "- word-embedding model trained on Wikipedia \n",
    "- pre-trained Glove vectors\n",
    "- word-embedding model trained on the COVID19 tweets"
   ]
  },
  {
   "cell_type": "markdown",
   "metadata": {},
   "source": [
    "###  Calculate the vector representation for input data given Wikipedia word embeddings\n",
    "\n",
    "We already trained a model on Wikipedia data above. We will use that model to extract vector representation of training and testing data. Examine carefully how these vectors for the basis of the features below.\n",
    "\n",
    "Essentially, we can find the vector for each word in the sentence and calculate the mean of all vectors as the representation of the sentence. This is a very simple method, but generally may not be the most effective.\n",
    "\n",
    "Also note that some words from the dataset may not appear at all in the trained vectors. We refer to these as OOV (out-of-vocabulary) words."
   ]
  },
  {
   "cell_type": "code",
   "execution_count": null,
   "metadata": {
    "scrolled": true
   },
   "outputs": [],
   "source": [
    "import numpy as np\n",
    "\n",
    "def transform_data_for_word_model(model, data_df):\n",
    "    v = model.wv.get_vector('king')\n",
    "    X = np.zeros((len(data_df), v.shape[0]))\n",
    "    n = 0\n",
    "    for index, row in data_df.iterrows():\n",
    "        tokens = row[\"CleanedTweet\"].split()\n",
    "        vecs = []\n",
    "        m = 0\n",
    "        emptycount = 0\n",
    "        for word in tokens:\n",
    "            try:\n",
    "                # throws KeyError if word not found\n",
    "                vec = model.wv.get_vector(word)\n",
    "                vecs.append(vec)\n",
    "                m += 1\n",
    "            except KeyError:\n",
    "                pass\n",
    "        if len(vecs) > 0:\n",
    "            vecs = np.array(vecs)\n",
    "            X[n] = vecs.mean(axis=0)\n",
    "        else:\n",
    "            emptycount += 1\n",
    "        n+=1\n",
    "    return X\n",
    "\n",
    "\n",
    "xtrain = transform_data_for_word_model(model_wiki,train_data_df )\n",
    "xtest = transform_data_for_word_model(model_wiki,test_data_df )"
   ]
  },
  {
   "cell_type": "markdown",
   "metadata": {},
   "source": [
    "### Building and evaluating the model using Wikipedia word2vec embeddings"
   ]
  },
  {
   "cell_type": "code",
   "execution_count": null,
   "metadata": {
    "scrolled": true
   },
   "outputs": [
    {
     "name": "stdout",
     "output_type": "stream",
     "text": [
      "Accuracy score:  0.5497276578575752\n",
      "Precision score:  0.5511847651334429\n",
      "Recall score:  0.5497276578575752\n",
      "F1 score:  0.5366641153146762\n"
     ]
    }
   ],
   "source": [
    "lg = LogisticRegression(random_state=0, solver='liblinear')\n",
    "lg.fit(xtrain, y_train)\n",
    "predictions = lg.predict(xtest)\n",
    "\n",
    "print(\"Accuracy score: \", accuracy_score(y_test, predictions))\n",
    "print(\"Precision score: \", precision_score(y_test, predictions, average=\"weighted\"))\n",
    "print(\"Recall score: \", recall_score(y_test, predictions, average = \"weighted\"))\n",
    "print(\"F1 score: \", f1_score(y_test, predictions, average = \"weighted\"))"
   ]
  },
  {
   "cell_type": "markdown",
   "metadata": {},
   "source": [
    "### Building and evaluating the model using Glove vectors\n",
    "\n",
    "The difference between this function and the function above is that the pretrained Glove vectors are accessed slightly differently. In the former model that we trained, we accessed the model using `model.wv.get_vector` or `model.wv.most_similar`. For this pretrained Glove model, we have read/loaded it slightly differently and hence we do `model.get_vector` and `model.most_similar`. (wv specifically refers to `word2vec`). "
   ]
  },
  {
   "cell_type": "code",
   "execution_count": null,
   "metadata": {},
   "outputs": [],
   "source": [
    "def transform_data_for_glove(model, data_df):\n",
    "    v = model.get_vector('king')\n",
    "    X = np.zeros((len(data_df), v.shape[0]))\n",
    "    n = 0\n",
    "    for index, row in data_df.iterrows():\n",
    "        tokens = row[\"CleanedTweet\"].split()\n",
    "        vecs = []\n",
    "        m = 0\n",
    "        emptycount = 0\n",
    "        for word in tokens:\n",
    "            try:\n",
    "                # throws KeyError if word not found\n",
    "                vec = model.get_vector(word)\n",
    "                vecs.append(vec)\n",
    "                m += 1\n",
    "            except KeyError:\n",
    "                pass\n",
    "        if len(vecs) > 0:\n",
    "            vecs = np.array(vecs)\n",
    "            X[n] = vecs.mean(axis=0)\n",
    "        else:\n",
    "            emptycount += 1\n",
    "        n+=1\n",
    "    return X\n",
    "\n",
    "xtrain_glove = transform_data_for_glove(glove,train_data_df )\n",
    "xtest_glove = transform_data_for_glove(glove,test_data_df )"
   ]
  },
  {
   "cell_type": "code",
   "execution_count": null,
   "metadata": {
    "scrolled": false
   },
   "outputs": [
    {
     "name": "stdout",
     "output_type": "stream",
     "text": [
      "Accuracy score:  0.6451482751664314\n",
      "Precision score:  0.6414159733107198\n",
      "Recall score:  0.6451482751664314\n",
      "F1 score:  0.6359574122857006\n"
     ]
    }
   ],
   "source": [
    "lg = LogisticRegression(random_state=0, solver='liblinear')\n",
    "lg.fit(xtrain_glove, y_train)\n",
    "predictions = lg.predict(xtest_glove)\n",
    "\n",
    "print(\"Accuracy score: \", accuracy_score(y_test, predictions))\n",
    "print(\"Precision score: \", precision_score(y_test, predictions, average=\"weighted\"))\n",
    "print(\"Recall score: \", recall_score(y_test, predictions, average = \"weighted\"))\n",
    "print(\"F1 score: \", f1_score(y_test, predictions, average = \"weighted\"))"
   ]
  },
  {
   "cell_type": "markdown",
   "metadata": {},
   "source": [
    "Which of the Wikipedia word2vec and the pretrained Glove model perform better on the tweet dataset? Why?"
   ]
  },
  {
   "cell_type": "markdown",
   "metadata": {},
   "source": [
    "### Using COVID19 tweets to create word embeddings"
   ]
  },
  {
   "cell_type": "markdown",
   "metadata": {},
   "source": [
    "We will create a word2vec model from the COVID tweets. Then we will transform our training and testing data into the vectors using this word model."
   ]
  },
  {
   "cell_type": "code",
   "execution_count": null,
   "metadata": {},
   "outputs": [],
   "source": [
    "frames = [train_data_df, test_data_df]\n",
    "all_dataset = pd.concat(frames)\n",
    "sentences_from_data = [x.split() for x in all_dataset[\"CleanedTweet\"]]\n",
    "\n",
    "model_covid = Word2Vec(\n",
    "        sentences_from_data,\n",
    "        vector_size=100,\n",
    "        window=5,\n",
    "        min_count=2,\n",
    "        workers=10)"
   ]
  },
  {
   "cell_type": "markdown",
   "metadata": {},
   "source": [
    "### Building and evaluating the model using COVID19 embeddings\n",
    "\n",
    "We will use the same transformation function from above to transform the tweet data into features using COVID19 embeddings."
   ]
  },
  {
   "cell_type": "code",
   "execution_count": null,
   "metadata": {},
   "outputs": [],
   "source": [
    "xtrain_covid = transform_data_for_word_model(model_covid,train_data_df )\n",
    "xtest_covid = transform_data_for_word_model(model_covid,test_data_df )"
   ]
  },
  {
   "cell_type": "code",
   "execution_count": null,
   "metadata": {
    "scrolled": true
   },
   "outputs": [
    {
     "name": "stdout",
     "output_type": "stream",
     "text": [
      "Accuracy score:  0.5935041355658665\n",
      "Precision score:  0.5913480888677216\n",
      "Recall score:  0.5935041355658665\n",
      "F1 score:  0.5856872979984648\n"
     ]
    }
   ],
   "source": [
    "lg = LogisticRegression(random_state=0, solver='liblinear')\n",
    "lg.fit(xtrain_covid, y_train)\n",
    "predictions = lg.predict(xtest_covid)\n",
    "\n",
    "print(\"Accuracy score: \", accuracy_score(y_test, predictions))\n",
    "print(\"Precision score: \", precision_score(y_test, predictions, average=\"weighted\"))\n",
    "print(\"Recall score: \", recall_score(y_test, predictions, average = \"weighted\"))\n",
    "print(\"F1 score: \", f1_score(y_test, predictions, average = \"weighted\"))"
   ]
  },
  {
   "cell_type": "markdown",
   "metadata": {},
   "source": [
    "How do the embedding-based classification models perform in comparison to the count-based models? How can we interpret the results?\n",
    "\n",
    "You can also explore how the predictions from different models compare. What are some of the test examples that count-based model classify accurately, while the embedding-based model do not (and vice versa)? Checking the model predictions is a good way to gain more insight into model behavior."
   ]
  }
 ],
 "metadata": {
  "kernelspec": {
   "display_name": "Python 3 (ipykernel)",
   "language": "python",
   "name": "python3"
  },
  "language_info": {
   "codemirror_mode": {
    "name": "ipython",
    "version": 3
   },
   "file_extension": ".py",
   "mimetype": "text/x-python",
   "name": "python",
   "nbconvert_exporter": "python",
   "pygments_lexer": "ipython3",
   "version": "3.8.17"
  }
 },
 "nbformat": 4,
 "nbformat_minor": 2
}
