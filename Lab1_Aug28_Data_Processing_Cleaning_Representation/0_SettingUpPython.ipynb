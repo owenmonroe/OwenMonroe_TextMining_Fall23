{
 "cells": [
  {
   "cell_type": "markdown",
   "metadata": {},
   "source": [
    "## Here is a guide to help you set up Python in your sysytem. If you don't already have Python set up, please use these steps to setup Python. Any Python version would work, so you can follow any links from google that helps you setup.\n",
    "## Just make sure that the following runs-\n",
    "### - Python\n",
    "### - Jupyter notebook\n",
    "### - a few common libraries and some ML libraries"
   ]
  },
  {
   "cell_type": "markdown",
   "metadata": {},
   "source": [
    "## 1. Download and install Anaconda environment for Python 3.8\n",
    "\n",
    "https://www.anaconda.com/download/\n"
   ]
  },
  {
   "cell_type": "markdown",
   "metadata": {},
   "source": [
    "## 2. Create new anaconda environment for this class\n",
    "\n",
    "```conda create --name textmining python=3.8.8```\n"
   ]
  },
  {
   "cell_type": "markdown",
   "metadata": {},
   "source": [
    "## 3. Activate environment\n",
    "\n",
    "```source activate textmining```"
   ]
  },
  {
   "cell_type": "markdown",
   "metadata": {},
   "source": [
    "## 4. Check version (should be 3.8.8)\n",
    "\n",
    "```python --version```"
   ]
  },
  {
   "cell_type": "markdown",
   "metadata": {},
   "source": [
    "https://docs.conda.io/projects/conda/en/latest/user-guide/getting-started.html"
   ]
  },
  {
   "cell_type": "markdown",
   "metadata": {},
   "source": [
    "## 5. Install packages\n",
    "Be sure to install these specific versions to make debugging easier for everyone in class.\n",
    "```\n",
    "conda install nb_conda=2.2.1\n",
    "conda install nltk=3.6.2\n",
    "conda install -c conda-forge spacy=3.0\n",
    "conda install scikit-learn=0.24.2\n",
    "conda install pandas=1.3.1\n",
    "conda install matplotlib=3.4.2\n",
    "conda install pytorch=1.9.0 torchvision=0.10.0 torchaudio=0.9.0 -c pytorch\n",
    "```"
   ]
  },
  {
   "cell_type": "markdown",
   "metadata": {},
   "source": [
    "## 6. Install spaCy English model\n",
    "\n",
    "```python -m spacy download en_core_web_sm```"
   ]
  },
  {
   "cell_type": "markdown",
   "metadata": {},
   "source": [
    "## 7. Use Jupyter notebooks\n",
    "That's it! Whenever you're ready to use a Jupyter notebook in this setup, open up the terminal and navigate to the folder containing the notebook; then activate the anlp environment to access these libraries and start up the notebook:\n",
    "\n",
    "```source activate textmining```\n",
    "\n",
    "### jupyter notebook\n",
    "We'll be using Jupyter notebooks extensively in this class; if you're new to them, check out the tutorial here:\n",
    "\n",
    "https://www.dataquest.io/blog/jupyter-notebook-tutorial/"
   ]
  }
 ],
 "metadata": {
  "kernelspec": {
   "display_name": "Python 3",
   "language": "python",
   "name": "python3"
  },
  "language_info": {
   "codemirror_mode": {
    "name": "ipython",
    "version": 3
   },
   "file_extension": ".py",
   "mimetype": "text/x-python",
   "name": "python",
   "nbconvert_exporter": "python",
   "pygments_lexer": "ipython3",
   "version": "3.8.3"
  }
 },
 "nbformat": 4,
 "nbformat_minor": 5
}
