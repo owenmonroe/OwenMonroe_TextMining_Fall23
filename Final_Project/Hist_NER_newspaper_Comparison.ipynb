{
 "cells": [
  {
   "cell_type": "markdown",
   "metadata": {},
   "source": [
    "## This is Owen Monroe's Notebook for the IS 567 Text Mining Final Project - Newspaper and Hand Annotation Comparison\n",
    "This notebook evaluates NER models and tagging, comparing the newspaper historical NER model to my own hand-annotated data. The \"newspaper\" model was found on huggingface and is trained on historical english language newspapers. The text data comes from downloaded files from the Hathi-Trust Digital Library. These texts are 19th Century Magazines from the publishers, The Society for the Diffusion of Useful Knowledge, the William and Robert Chambers, and the Society for the Diffusion of Christian and General Knowledge among the Chinese. "
   ]
  },
  {
   "cell_type": "code",
   "execution_count": 2,
   "metadata": {},
   "outputs": [
    {
     "name": "stderr",
     "output_type": "stream",
     "text": [
      "/Users/owenmonroe/anaconda3/envs/textmining/lib/python3.8/site-packages/tqdm/auto.py:21: TqdmWarning: IProgress not found. Please update jupyter and ipywidgets. See https://ipywidgets.readthedocs.io/en/stable/user_install.html\n",
      "  from .autonotebook import tqdm as notebook_tqdm\n"
     ]
    }
   ],
   "source": [
    "# Load model directly\n",
    "from transformers import AutoTokenizer, AutoModelForTokenClassification\n",
    "\n",
    "tokenizer = AutoTokenizer.from_pretrained(\"dell-research-harvard/historical_newspaper_ner\")\n",
    "model = AutoModelForTokenClassification.from_pretrained(\"dell-research-harvard/historical_newspaper_ner\")"
   ]
  },
  {
   "cell_type": "code",
   "execution_count": 3,
   "metadata": {},
   "outputs": [
    {
     "name": "stdout",
     "output_type": "stream",
     "text": [
      "{0: 'B-LOC', 1: 'B-MISC', 2: 'B-ORG', 3: 'B-PER', 4: 'I-LOC', 5: 'I-MISC', 6: 'I-ORG', 7: 'I-PER', 8: 'O'}\n"
     ]
    }
   ],
   "source": [
    "config = model.config\n",
    "labels = config.id2label\n",
    "print(labels)"
   ]
  },
  {
   "cell_type": "code",
   "execution_count": 4,
   "metadata": {},
   "outputs": [],
   "source": [
    "# Building Model\n",
    "\n",
    "import torch\n",
    "\n",
    "tokenizer = AutoTokenizer.from_pretrained(\"dell-research-harvard/historical_newspaper_ner\")\n",
    "model = AutoModelForTokenClassification.from_pretrained(\"dell-research-harvard/historical_newspaper_ner\")\n",
    "\n",
    "inputs = tokenizer(\n",
    "    \"HuggingFace is a company based in Paris and New York\", add_special_tokens=False, return_tensors=\"pt\"\n",
    ")\n",
    "\n",
    "with torch.no_grad():\n",
    "    logits = model(**inputs).logits\n",
    "\n",
    "predicted_token_class_ids = logits.argmax(-1)\n",
    "\n",
    "# Note that tokens are classified rather then input words which means that\n",
    "# there might be more predicted token classes than words.\n",
    "# Multiple token classes might account for the same word\n",
    "predicted_tokens_classes = [model.config.id2label[t.item()] for t in predicted_token_class_ids[0]]\n",
    "predicted_tokens_classes\n",
    "# ['O', 'ORG', 'ORG', 'O', 'O', 'O', 'O', 'O', 'LOC', 'O', 'LOC', 'LOC']\n",
    "\n",
    "labels = predicted_token_class_ids\n",
    "# loss = model(**inputs, labels=labels).loss\n",
    "# round(loss.item(), 2)\n",
    "# 0.01"
   ]
  },
  {
   "cell_type": "code",
   "execution_count": 5,
   "metadata": {},
   "outputs": [],
   "source": [
    "# Creating a Function to merge BIO tokens into a single span token\n",
    "\n",
    "def merge_iob_tokens(annotations):\n",
    "    merged_annotations = []\n",
    "    current_entity = None\n",
    "    current_tokens = []\n",
    "\n",
    "    for token, label in annotations:\n",
    "        iob_prefix, entity = label.split('-')\n",
    "        \n",
    "        if iob_prefix == 'B':\n",
    "            # Start a new entity\n",
    "            if current_entity:\n",
    "                merged_annotations.append((' '.join(current_tokens), current_entity))\n",
    "            current_entity = entity\n",
    "            current_tokens = [token]\n",
    "        elif iob_prefix == 'I':\n",
    "            # Continue the current entity\n",
    "            if current_entity == entity:\n",
    "                current_tokens.append(token)\n",
    "            else:\n",
    "                # Start a new entity if the entity type changes\n",
    "                if current_entity:\n",
    "                    merged_annotations.append((' '.join(current_tokens), current_entity))\n",
    "                current_entity = entity\n",
    "                current_tokens = [token]\n",
    "\n",
    "    # Append the last entity if any\n",
    "    if current_entity:\n",
    "        merged_annotations.append((' '.join(current_tokens), current_entity))\n",
    "\n",
    "    return merged_annotations"
   ]
  },
  {
   "cell_type": "code",
   "execution_count": 6,
   "metadata": {},
   "outputs": [],
   "source": [
    "# Creating a function to keep GPE, LOC, ORG, PERSON tags while mapping GPE to LOC and PERSON to PER to match across annotations\n",
    "\n",
    "def filter_map_tags(hand_annotations):\n",
    "\n",
    "    tags_to_preserve = ['GPE', 'LOC', 'ORG', 'PERSON']\n",
    "    filtered_hand = [(token, tag) for token, tag in hand_annotations if tag in tags_to_preserve]\n",
    "   \n",
    "    tag_mapping_1 = {'GPE': 'LOC'} \n",
    "    first_filtered = [(token, tag_mapping_1.get(tag, tag)) for token, tag in filtered_hand]\n",
    "\n",
    "    tag_mapping_2 = {'PERSON': 'PER'}\n",
    "    second_filtered = [(token, tag_mapping_2.get(tag, tag)) for token, tag in first_filtered]\n",
    "    hand_annotations_cleaned = second_filtered\n",
    "    \n",
    "    return hand_annotations_cleaned"
   ]
  },
  {
   "cell_type": "code",
   "execution_count": 7,
   "metadata": {},
   "outputs": [],
   "source": [
    "# Creating a function to get filtered hand annotations from file\n",
    "\n",
    "def get_hand_subset_annotations(hand_file_path):\n",
    "\n",
    "    hand_annotated_data = []\n",
    "    with open(hand_file_path, \"r\", encoding=\"utf-8\") as iob_file:\n",
    "        for line in iob_file:\n",
    "            line = line.strip()\n",
    "            if line:\n",
    "                token, label = line.split(\"\\t\")\n",
    "           \n",
    "                hand_annotated_data.append((token, label))\n",
    "\n",
    "                hand_subset = hand_annotated_data[:512]\n",
    "\n",
    "\n",
    "    hand_annotated_tagged = [(token, label) for token, label in hand_subset if label != 'O']\n",
    "\n",
    "    merged_hand_annotations = merge_iob_tokens(hand_annotated_tagged)\n",
    "\n",
    "    filtered_hand_annotations = filter_map_tags(merged_hand_annotations)\n",
    "    \n",
    "    return filtered_hand_annotations\n"
   ]
  },
  {
   "cell_type": "code",
   "execution_count": 8,
   "metadata": {},
   "outputs": [],
   "source": [
    "# Creating a function to get newspaper ner annotations from file\n",
    "\n",
    "def get_newspaper_annotations(text_file_path):\n",
    "\n",
    "    with open(text_file_path, \"r\", encoding=\"utf-8\") as text_file:\n",
    "        text = text_file.read()\n",
    "\n",
    "    subset_text = text[:512]\n",
    "\n",
    "    tokenizer = AutoTokenizer.from_pretrained(\"dell-research-harvard/historical_newspaper_ner\")\n",
    "    model = AutoModelForTokenClassification.from_pretrained(\"dell-research-harvard/historical_newspaper_ner\")\n",
    "\n",
    "    inputs = tokenizer(\n",
    "        subset_text, add_special_tokens=False, return_tensors=\"pt\"\n",
    "    )\n",
    "\n",
    "    with torch.no_grad():\n",
    "        logits = model(**inputs).logits\n",
    "\n",
    "    predicted_token_class_ids = logits.argmax(-1)\n",
    "\n",
    "    predicted_tokens_classes = [model.config.id2label[t.item()] for t in predicted_token_class_ids[0]]\n",
    "\n",
    "\n",
    "    labels = predicted_token_class_ids\n",
    "\n",
    "    text_list = subset_text.split()\n",
    "\n",
    "    newspaper_annotations = list(zip(text_list, predicted_tokens_classes))\n",
    "\n",
    "    filled_newspaper_annotations = [item for item in newspaper_annotations if item[1] not in ('O', 'B-MISC', 'I-MISC')]\n",
    "\n",
    "    newspaper_annotations_filtered = merge_iob_tokens(filled_newspaper_annotations)\n",
    "\n",
    "    return newspaper_annotations_filtered\n",
    "\n"
   ]
  },
  {
   "cell_type": "code",
   "execution_count": 9,
   "metadata": {},
   "outputs": [],
   "source": [
    "# Creating a Function to Produce Reports by Label\n",
    "\n",
    "def get_reports_by_label(pos_neg):\n",
    "    tag_lists = {}\n",
    "\n",
    "    # Organize tuples into separate lists based on tags\n",
    "    for token, tag in pos_neg:\n",
    "        if tag not in tag_lists:\n",
    "            tag_lists[tag] = [(token, tag)]\n",
    "        else:\n",
    "            tag_lists[tag].append((token, tag))\n",
    "\n",
    "    # Convert the dictionaries to lists\n",
    "    lists_by_tag = list(tag_lists.values())\n",
    "\n",
    "# Print the lists organized by tag\n",
    "    for tag_list in lists_by_tag:\n",
    "        print(f\"{tag_list[0][1]}, {len(tag_list)} Total : \", tag_list)"
   ]
  },
  {
   "cell_type": "markdown",
   "metadata": {},
   "source": [
    "## Document 1 Comparison: Clipping from Chambers's Journal 1835 (on France)"
   ]
  },
  {
   "cell_type": "code",
   "execution_count": 10,
   "metadata": {},
   "outputs": [
    {
     "data": {
      "text/plain": [
       "[('France', 'LOC'),\n",
       " ('Jura mountains', 'LOC'),\n",
       " ('Daaphlny', 'LOC'),\n",
       " ('Provence', 'LOC'),\n",
       " ('mountains of Auvergne', 'LOC'),\n",
       " ('Puy de Dome', 'LOC'),\n",
       " (\"Moots d'Or\", 'LOC'),\n",
       " ('Mont Lozcre', 'LOC'),\n",
       " ('Pyrenees', 'LOC'),\n",
       " ('France', 'LOC'),\n",
       " ('Spain', 'LOC'),\n",
       " ('Rhine', 'LOC'),\n",
       " ('Seine', 'LOC'),\n",
       " ('Loire', 'LOC'),\n",
       " ('Garonne', 'LOC'),\n",
       " ('Adour', 'LOC'),\n",
       " ('Pyrenees', 'LOC'),\n",
       " ('Bayonne', 'LOC'),\n",
       " ('Marne', 'LOC'),\n",
       " ('Oise', 'LOC'),\n",
       " ('Seine', 'LOC'),\n",
       " ('Loire', 'LOC'),\n",
       " ('Sarthe', 'LOC'),\n",
       " ('Maycnne', 'LOC'),\n",
       " ('Loire', 'LOC'),\n",
       " ('Rhone', 'LOC'),\n",
       " ('Saoue', 'LOC'),\n",
       " ('Isire', 'LOC'),\n",
       " ('Durance', 'LOC'),\n",
       " ('Ain', 'LOC'),\n",
       " ('Sorgue', 'LOC'),\n",
       " ('Tarn', 'LOC'),\n",
       " ('Dordi', 'LOC'),\n",
       " ('Garonne', 'LOC'),\n",
       " ('France', 'LOC'),\n",
       " ('Flanders', 'LOC'),\n",
       " ('Artuis', 'LOC'),\n",
       " ('Picardy', 'LOC'),\n",
       " ('Normandy', 'LOC'),\n",
       " ('Isle of France', 'LOC'),\n",
       " ('Ga - ronne', 'LOC'),\n",
       " ('Languedoc', 'LOC'),\n",
       " ('Limarne', 'LOC'),\n",
       " ('Auvergne', 'LOC'),\n",
       " ('provinces', 'LOC')]"
      ]
     },
     "execution_count": 10,
     "metadata": {},
     "output_type": "execute_result"
    }
   ],
   "source": [
    "hand_annotations_filtered_1 = get_hand_subset_annotations('Useful_Knowledge_Annotations_iob_3/DOCUMENT-omonroe2_illinois_edu/Chambers_InfoForPeople_France_1835.txt.tsv')\n",
    "hand_annotations_filtered_1"
   ]
  },
  {
   "cell_type": "code",
   "execution_count": 11,
   "metadata": {},
   "outputs": [
    {
     "data": {
      "text/plain": [
       "[('France', 'LOC'), ('the', 'LOC'), ('north-east. They are of the', 'LOC')]"
      ]
     },
     "execution_count": 11,
     "metadata": {},
     "output_type": "execute_result"
    }
   ],
   "source": [
    "newspaper_annotations_filtered_1 = get_newspaper_annotations('Useful_Knowledge_Texts/Clipped_Texts/Chambers_InfoForPeople_France_1835.txt')\n",
    "newspaper_annotations_filtered_1"
   ]
  },
  {
   "cell_type": "code",
   "execution_count": 12,
   "metadata": {},
   "outputs": [
    {
     "name": "stdout",
     "output_type": "stream",
     "text": [
      "Doc 1 (Chambers's Information for the People 1835) EVALUATION REPORTS : HAND AND NEWSPAPER NER ANNOTATION SUBSETS\n",
      "\n",
      "Micro PRECISION score for subsets = 1.0\n",
      "Weighted PRECISION score for subsets = 1.0\n",
      "\n",
      "Micro RECALL score for subsets = 1.0\n",
      "Weighted RECALL score for subsets = 1.0\n",
      "\n",
      "Micro F1 score for subsets = 1.0\n",
      "Weighted F1 score for subsets = 1.0\n",
      "\n",
      "Individual label performance: \n",
      "Accuracy score:  1.0\n",
      "              precision    recall  f1-score   support\n",
      "\n",
      "         LOC       1.00      1.00      1.00         3\n",
      "\n",
      "    accuracy                           1.00         3\n",
      "   macro avg       1.00      1.00      1.00         3\n",
      "weighted avg       1.00      1.00      1.00         3\n",
      "\n"
     ]
    },
    {
     "data": {
      "image/png": "[encoded data removed]",
      "text/plain": [
       "<Figure size 1000x800 with 2 Axes>"
      ]
     },
     "metadata": {},
     "output_type": "display_data"
    }
   ],
   "source": [
    "from sklearn.metrics import precision_score, recall_score, f1_score, accuracy_score, classification_report, confusion_matrix\n",
    "\n",
    "\n",
    "y_true = [label for token, label in hand_annotations_filtered_1[:3]]\n",
    "y_pred = [label for token, label in newspaper_annotations_filtered_1]\n",
    "\n",
    "prec_score_micro = precision_score(y_true, y_pred, average='micro')\n",
    "prec_score_weighted = precision_score(y_true, y_pred, average='weighted')\n",
    "\n",
    "rec_score_micro = recall_score(y_true, y_pred, average='micro')\n",
    "rec_score_weighted = recall_score(y_true, y_pred, average='weighted')\n",
    "\n",
    "f1_score_micro = f1_score(y_true, y_pred, average='micro')\n",
    "f1_score_weighted = f1_score(y_true, y_pred, average='weighted')\n",
    "\n",
    "\n",
    "print(\"Doc 1 (Chambers's Information for the People 1835) EVALUATION REPORTS : HAND AND NEWSPAPER NER ANNOTATION SUBSETS\")\n",
    "print()\n",
    "print(f'Micro PRECISION score for subsets = {prec_score_micro}')\n",
    "print(f'Weighted PRECISION score for subsets = {prec_score_weighted}')\n",
    "print()\n",
    "print(f'Micro RECALL score for subsets = {rec_score_micro}')\n",
    "print(f'Weighted RECALL score for subsets = {rec_score_weighted}')\n",
    "print()\n",
    "print(f'Micro F1 score for subsets = {f1_score_micro}')\n",
    "print(f'Weighted F1 score for subsets = {f1_score_weighted}')\n",
    "print()\n",
    "print (\"Individual label performance: \")\n",
    "print (\"Accuracy score: \", accuracy_score(y_true, y_pred))\n",
    "print (classification_report(y_true, y_pred))\n",
    "\n",
    "\n",
    "import numpy as np\n",
    "import matplotlib.pyplot as plt\n",
    "import seaborn as sns\n",
    "\n",
    "\n",
    "labels = sorted(list(set(y_true + y_pred)))\n",
    "\n",
    "conf_matrix = confusion_matrix(y_true, y_pred, labels=labels)\n",
    "\n",
    "plt.figure(figsize=(10, 8))\n",
    "sns.heatmap(conf_matrix, annot=True, fmt='d', cmap='Blues', xticklabels=labels, yticklabels=labels)\n",
    "plt.xlabel('Predicted')\n",
    "plt.ylabel('True')\n",
    "plt.title('Confusion Matrix')\n",
    "plt.show()"
   ]
  },
  {
   "cell_type": "code",
   "execution_count": 13,
   "metadata": {},
   "outputs": [
    {
     "name": "stdout",
     "output_type": "stream",
     "text": [
      "True Positives are present in both hand truth and newspaper predictions\n",
      "Number of True Positives: 1 in Document 1 - Chambers's Information for the People 1835\n",
      "\n",
      "True Positives By Label:\n",
      "LOC, 1 Total :  [('France', 'LOC')]\n",
      "\n",
      "Total True Positives:\n",
      "True Positive: ('France', 'LOC')\n"
     ]
    }
   ],
   "source": [
    "ground_truth_set = set(hand_annotations_filtered_1)\n",
    "ner_predictions_set = set(newspaper_annotations_filtered_1)\n",
    "\n",
    "true_positives = ground_truth_set.intersection(ner_predictions_set)\n",
    "\n",
    "num_true_positives = len(true_positives)\n",
    "print('True Positives are present in both hand truth and newspaper predictions')\n",
    "print(f\"Number of True Positives: {num_true_positives} in Document 1 - Chambers's Information for the People 1835\")\n",
    "print()\n",
    "\n",
    "print('True Positives By Label:')\n",
    "get_reports_by_label(true_positives)\n",
    "print()\n",
    "print('Total True Positives:')\n",
    "\n",
    "for entity in true_positives:\n",
    "    print(f\"True Positive: {entity}\")"
   ]
  },
  {
   "cell_type": "code",
   "execution_count": 14,
   "metadata": {},
   "outputs": [
    {
     "name": "stdout",
     "output_type": "stream",
     "text": [
      "False Negatvies are present in hand truth but not ner predictions\n",
      "Number of False Negatives: 37 in Document 1 - Chambers's Information for the People 1835\n",
      "\n",
      "False Negatives By Label:\n",
      "LOC, 37 Total :  [('Isle of France', 'LOC'), ('Daaphlny', 'LOC'), ('Languedoc', 'LOC'), ('Jura mountains', 'LOC'), ('Bayonne', 'LOC'), ('Ain', 'LOC'), ('Maycnne', 'LOC'), ('Flanders', 'LOC'), (\"Moots d'Or\", 'LOC'), ('Loire', 'LOC'), ('Dordi', 'LOC'), ('Mont Lozcre', 'LOC'), ('Sarthe', 'LOC'), ('Isire', 'LOC'), ('Saoue', 'LOC'), ('Sorgue', 'LOC'), ('Ga - ronne', 'LOC'), ('Rhine', 'LOC'), ('Puy de Dome', 'LOC'), ('Marne', 'LOC'), ('Oise', 'LOC'), ('Durance', 'LOC'), ('Artuis', 'LOC'), ('Provence', 'LOC'), ('Seine', 'LOC'), ('Rhone', 'LOC'), ('Tarn', 'LOC'), ('mountains of Auvergne', 'LOC'), ('Picardy', 'LOC'), ('Normandy', 'LOC'), ('Garonne', 'LOC'), ('Limarne', 'LOC'), ('Adour', 'LOC'), ('Spain', 'LOC'), ('Auvergne', 'LOC'), ('provinces', 'LOC'), ('Pyrenees', 'LOC')]\n",
      "\n",
      "Total False Negatives:\n",
      "False Negative : ('Isle of France', 'LOC')\n",
      "False Negative : ('Daaphlny', 'LOC')\n",
      "False Negative : ('Languedoc', 'LOC')\n",
      "False Negative : ('Jura mountains', 'LOC')\n",
      "False Negative : ('Bayonne', 'LOC')\n",
      "False Negative : ('Ain', 'LOC')\n",
      "False Negative : ('Maycnne', 'LOC')\n",
      "False Negative : ('Flanders', 'LOC')\n",
      "False Negative : (\"Moots d'Or\", 'LOC')\n",
      "False Negative : ('Loire', 'LOC')\n",
      "False Negative : ('Dordi', 'LOC')\n",
      "False Negative : ('Mont Lozcre', 'LOC')\n",
      "False Negative : ('Sarthe', 'LOC')\n",
      "False Negative : ('Isire', 'LOC')\n",
      "False Negative : ('Saoue', 'LOC')\n",
      "False Negative : ('Sorgue', 'LOC')\n",
      "False Negative : ('Ga - ronne', 'LOC')\n",
      "False Negative : ('Rhine', 'LOC')\n",
      "False Negative : ('Puy de Dome', 'LOC')\n",
      "False Negative : ('Marne', 'LOC')\n",
      "False Negative : ('Oise', 'LOC')\n",
      "False Negative : ('Durance', 'LOC')\n",
      "False Negative : ('Artuis', 'LOC')\n",
      "False Negative : ('Provence', 'LOC')\n",
      "False Negative : ('Seine', 'LOC')\n",
      "False Negative : ('Rhone', 'LOC')\n",
      "False Negative : ('Tarn', 'LOC')\n",
      "False Negative : ('mountains of Auvergne', 'LOC')\n",
      "False Negative : ('Picardy', 'LOC')\n",
      "False Negative : ('Normandy', 'LOC')\n",
      "False Negative : ('Garonne', 'LOC')\n",
      "False Negative : ('Limarne', 'LOC')\n",
      "False Negative : ('Adour', 'LOC')\n",
      "False Negative : ('Spain', 'LOC')\n",
      "False Negative : ('Auvergne', 'LOC')\n",
      "False Negative : ('provinces', 'LOC')\n",
      "False Negative : ('Pyrenees', 'LOC')\n"
     ]
    }
   ],
   "source": [
    "false_negatives = ground_truth_set.difference(ner_predictions_set)\n",
    "\n",
    "num_false_negatives = len(false_negatives)\n",
    "print('False Negatvies are present in hand truth but not ner predictions')\n",
    "print(f\"Number of False Negatives: {num_false_negatives} in Document 1 - Chambers's Information for the People 1835\")\n",
    "print()\n",
    "\n",
    "print('False Negatives By Label:')\n",
    "get_reports_by_label(false_negatives)\n",
    "print()\n",
    "print('Total False Negatives:')\n",
    "\n",
    "for entity in false_negatives:\n",
    "    print(f\"False Negative : {entity}\")"
   ]
  },
  {
   "cell_type": "code",
   "execution_count": 15,
   "metadata": {},
   "outputs": [
    {
     "name": "stdout",
     "output_type": "stream",
     "text": [
      "False Positives are predicted by ner but are not in hand truth\n",
      "Number of False Positives: 2 in Document 1 - Chambers's Information for the People 1835\n",
      "\n",
      "False Positives By Label:\n",
      "LOC, 2 Total :  [('the', 'LOC'), ('north-east. They are of the', 'LOC')]\n",
      "\n",
      "Total False Positives:\n",
      "False Positive : ('the', 'LOC')\n",
      "False Positive : ('north-east. They are of the', 'LOC')\n"
     ]
    }
   ],
   "source": [
    "false_positives = ner_predictions_set.difference(ground_truth_set)\n",
    "\n",
    "\n",
    "num_false_positives = len(false_positives)\n",
    "print('False Positives are predicted by ner but are not in hand truth')\n",
    "print(f\"Number of False Positives: {num_false_positives} in Document 1 - Chambers's Information for the People 1835\")\n",
    "print()\n",
    "\n",
    "print('False Positives By Label:')\n",
    "get_reports_by_label(false_positives)\n",
    "print()\n",
    "print('Total False Positives:')\n",
    "\n",
    "for entity in false_positives:\n",
    "    print(f\"False Positive : {entity}\")"
   ]
  },
  {
   "cell_type": "code",
   "execution_count": 16,
   "metadata": {},
   "outputs": [
    {
     "name": "stdout",
     "output_type": "stream",
     "text": [
      "Evaluation Calculation Reports for Document 1 - Chambers's Information for the People 1835\n",
      "\n",
      "Recall Score = 0.02631578947368421\n",
      "Precision Score = 0.3333333333333333\n",
      "F1 Score = 0.048780487804878044\n"
     ]
    }
   ],
   "source": [
    "rec_calc = num_true_positives / (num_true_positives + num_false_negatives)\n",
    "prec_calc = num_true_positives / (num_true_positives + num_false_positives)\n",
    "f1_calc = (2 * prec_calc * rec_calc) / (prec_calc + rec_calc)\n",
    "\n",
    "print(\"Evaluation Calculation Reports for Document 1 - Chambers's Information for the People 1835\")\n",
    "print()\n",
    "print(f'Recall Score = {rec_calc}')\n",
    "print(f'Precision Score = {prec_calc}')\n",
    "print(f'F1 Score = {f1_calc}')\n"
   ]
  },
  {
   "cell_type": "markdown",
   "metadata": {},
   "source": [
    "## Document 2 Comparison: Clipping from Chambers's Journal 1839 (on Literature)\n"
   ]
  },
  {
   "cell_type": "code",
   "execution_count": 17,
   "metadata": {},
   "outputs": [
    {
     "data": {
      "text/plain": [
       "[('EDINBURGIT', 'LOC'),\n",
       " ('CHAMBERS', 'PER'),\n",
       " ('WILLIAM', 'PER'),\n",
       " ('ROBERT CHAMBERS', 'PER'),\n",
       " ('CHAMBERS', 'PER'),\n",
       " ('BRADBURY', 'PER'),\n",
       " ('EVANS', 'PER'),\n",
       " ('WHITEFRIARS', 'LOC'),\n",
       " ('Fielding', 'PER'),\n",
       " ('Smollett', 'PER'),\n",
       " ('Parson Adams', 'PER'),\n",
       " ('Lilliputians', 'ORG'),\n",
       " ('Lilliput', 'LOC')]"
      ]
     },
     "execution_count": 17,
     "metadata": {},
     "output_type": "execute_result"
    }
   ],
   "source": [
    "hand_annotations_filtered_2 = get_hand_subset_annotations('Useful_Knowledge_Annotations_iob_3/DOCUMENT-omonroe2_illinois_edu/Chambers_Journal_literature_Jan26_1839.txt.tsv')\n",
    "hand_annotations_filtered_2"
   ]
  },
  {
   "cell_type": "code",
   "execution_count": 18,
   "metadata": {},
   "outputs": [
    {
     "data": {
      "text/plain": [
       "[('ROBERT', 'LOC'),\n",
       " ('CHAMBERS,', 'LOC'),\n",
       " ('FOR', 'PER'),\n",
       " ('THE PEOPLE,\" “', 'PER'),\n",
       " ('LONDON. NUMBER 365.', 'PER'),\n",
       " ('JANUARY 26, 1839. PRICE THREE HALFPENSE.', 'PER'),\n",
       " ('loads of meat, for', 'PER'),\n",
       " ('suppose that it must', 'PER')]"
      ]
     },
     "execution_count": 18,
     "metadata": {},
     "output_type": "execute_result"
    }
   ],
   "source": [
    "newspaper_annotations_filtered_2 = get_newspaper_annotations('Useful_Knowledge_Texts/Clipped_Texts/Chambers_Journal_literature_Jan26_1839.txt')\n",
    "newspaper_annotations_filtered_2"
   ]
  },
  {
   "cell_type": "code",
   "execution_count": 19,
   "metadata": {},
   "outputs": [
    {
     "name": "stdout",
     "output_type": "stream",
     "text": [
      "Doc 2 (Chambers's Journal 1839) EVALUATION REPORTS : HAND AND SPACY NER ANNOTATION SUBSETS\n",
      "\n",
      "Micro PRECISION score for subsets = 0.75\n",
      "Weighted PRECISION score for subsets = 0.75\n",
      "\n",
      "Micro RECALL score for subsets = 0.75\n",
      "Weighted RECALL score for subsets = 0.75\n",
      "\n",
      "Micro F1 score for subsets = 0.75\n",
      "Weighted F1 score for subsets = 0.75\n",
      "\n",
      "Individual label performance: \n",
      "Accuracy score:  0.75\n",
      "              precision    recall  f1-score   support\n",
      "\n",
      "         LOC       0.50      0.50      0.50         2\n",
      "         PER       0.83      0.83      0.83         6\n",
      "\n",
      "    accuracy                           0.75         8\n",
      "   macro avg       0.67      0.67      0.67         8\n",
      "weighted avg       0.75      0.75      0.75         8\n",
      "\n"
     ]
    },
    {
     "data": {
      "image/png": "[encoded data removed]",
      "text/plain": [
       "<Figure size 1000x800 with 2 Axes>"
      ]
     },
     "metadata": {},
     "output_type": "display_data"
    }
   ],
   "source": [
    "\n",
    "second_hand_subset_2 = hand_annotations_filtered_2[:8]\n",
    "second_newpapers_subset_2 = newspaper_annotations_filtered_2\n",
    "\n",
    "y_true_2 = [label for token, label in second_hand_subset_2]\n",
    "y_pred_2 = [label for token, label in second_newpapers_subset_2]\n",
    "\n",
    "prec_score_micro_2 = precision_score(y_true_2, y_pred_2, average='micro')\n",
    "prec_score_weighted_2 = precision_score(y_true_2, y_pred_2, average='weighted')\n",
    "\n",
    "rec_score_micro_2 = recall_score(y_true_2, y_pred_2, average='micro')\n",
    "rec_score_weighted_2 = recall_score(y_true_2, y_pred_2, average='weighted')\n",
    "\n",
    "f1_score_micro_2 = f1_score(y_true_2, y_pred_2, average='micro')\n",
    "f1_score_weighted_2 = f1_score(y_true_2, y_pred_2, average='weighted')\n",
    "\n",
    "print(\"Doc 2 (Chambers's Journal 1839) EVALUATION REPORTS : HAND AND SPACY NER ANNOTATION SUBSETS\")\n",
    "print()\n",
    "print(f'Micro PRECISION score for subsets = {prec_score_micro_2}')\n",
    "print(f'Weighted PRECISION score for subsets = {prec_score_weighted_2}')\n",
    "print()\n",
    "print(f'Micro RECALL score for subsets = {rec_score_micro_2}')\n",
    "print(f'Weighted RECALL score for subsets = {rec_score_weighted_2}')\n",
    "print()\n",
    "print(f'Micro F1 score for subsets = {f1_score_micro_2}')\n",
    "print(f'Weighted F1 score for subsets = {f1_score_weighted_2}')\n",
    "print()\n",
    "print (\"Individual label performance: \")\n",
    "print (\"Accuracy score: \", accuracy_score(y_true_2, y_pred_2))\n",
    "print (classification_report(y_true_2, y_pred_2))\n",
    "\n",
    "\n",
    "\n",
    "labels_2 = sorted(list(set(y_true_2 + y_pred_2)))\n",
    "\n",
    "conf_matrix_2 = confusion_matrix(y_true_2, y_pred_2, labels=labels_2)\n",
    "\n",
    "plt.figure(figsize=(10, 8))\n",
    "sns.heatmap(conf_matrix_2, annot=True, fmt='d', cmap='Blues', xticklabels=labels, yticklabels=labels)\n",
    "plt.xlabel('Predicted')\n",
    "plt.ylabel('True')\n",
    "plt.title('Confusion Matrix')\n",
    "plt.show()"
   ]
  },
  {
   "cell_type": "code",
   "execution_count": 20,
   "metadata": {},
   "outputs": [
    {
     "name": "stdout",
     "output_type": "stream",
     "text": [
      "True Positives are present in both hand truth and newspaper predictions\n",
      "Number of True Positives: 0 in Document 2 - Chambers's Journal 1839\n",
      "\n",
      "True Positives By Label:\n",
      "\n",
      "Total True Positives:\n"
     ]
    }
   ],
   "source": [
    "ground_truth_set_2 = set(hand_annotations_filtered_2)\n",
    "newspaper_predictions_set_2 = set(newspaper_annotations_filtered_2)\n",
    "\n",
    "true_positives_2 = ground_truth_set_2.intersection(newspaper_predictions_set_2)\n",
    "\n",
    "num_true_positives_2 = len(true_positives_2)\n",
    "print('True Positives are present in both hand truth and newspaper predictions')\n",
    "print(f\"Number of True Positives: {num_true_positives_2} in Document 2 - Chambers's Journal 1839\")\n",
    "print()\n",
    "\n",
    "print('True Positives By Label:')\n",
    "get_reports_by_label(true_positives_2)\n",
    "print()\n",
    "print('Total True Positives:')\n",
    "\n",
    "for entity in true_positives_2:\n",
    "    print(f\"True Positive: {entity}\")"
   ]
  },
  {
   "cell_type": "code",
   "execution_count": 21,
   "metadata": {},
   "outputs": [
    {
     "name": "stdout",
     "output_type": "stream",
     "text": [
      "False Negatives are present in hand truth but not newspaper model predictions\n",
      "Number of False Negatives: 12 in Document 2 - Chambers's Journal 1839\n",
      "\n",
      "False Negatives By Label:\n",
      "PER, 8 Total :  [('EVANS', 'PER'), ('Smollett', 'PER'), ('Fielding', 'PER'), ('CHAMBERS', 'PER'), ('BRADBURY', 'PER'), ('Parson Adams', 'PER'), ('ROBERT CHAMBERS', 'PER'), ('WILLIAM', 'PER')]\n",
      "ORG, 1 Total :  [('Lilliputians', 'ORG')]\n",
      "LOC, 3 Total :  [('Lilliput', 'LOC'), ('EDINBURGIT', 'LOC'), ('WHITEFRIARS', 'LOC')]\n",
      "\n",
      "Total False Negatives:\n",
      "False Negative : ('EVANS', 'PER')\n",
      "False Negative : ('Lilliputians', 'ORG')\n",
      "False Negative : ('Lilliput', 'LOC')\n",
      "False Negative : ('Smollett', 'PER')\n",
      "False Negative : ('Fielding', 'PER')\n",
      "False Negative : ('EDINBURGIT', 'LOC')\n",
      "False Negative : ('CHAMBERS', 'PER')\n",
      "False Negative : ('WHITEFRIARS', 'LOC')\n",
      "False Negative : ('BRADBURY', 'PER')\n",
      "False Negative : ('Parson Adams', 'PER')\n",
      "False Negative : ('ROBERT CHAMBERS', 'PER')\n",
      "False Negative : ('WILLIAM', 'PER')\n"
     ]
    }
   ],
   "source": [
    "false_negatives_2 = ground_truth_set_2.difference(newspaper_predictions_set_2)\n",
    "\n",
    "num_false_negatives_2 = len(false_negatives_2)\n",
    "print('False Negatives are present in hand truth but not newspaper model predictions')\n",
    "print(f\"Number of False Negatives: {num_false_negatives_2} in Document 2 - Chambers's Journal 1839\")\n",
    "print()\n",
    "\n",
    "print('False Negatives By Label:')\n",
    "get_reports_by_label(false_negatives_2)\n",
    "print()\n",
    "print('Total False Negatives:')\n",
    "\n",
    "for entity in false_negatives_2:\n",
    "    print(f\"False Negative : {entity}\")"
   ]
  },
  {
   "cell_type": "code",
   "execution_count": 22,
   "metadata": {},
   "outputs": [
    {
     "name": "stdout",
     "output_type": "stream",
     "text": [
      "False Positives are predicted by newspaper model but are not in hand truth\n",
      "Number of False Positives: 8 in Document 2 - Chambers's Journal 1839\n",
      "\n",
      "False Positives By Label:\n",
      "PER, 6 Total :  [('suppose that it must', 'PER'), ('loads of meat, for', 'PER'), ('THE PEOPLE,\" “', 'PER'), ('FOR', 'PER'), ('JANUARY 26, 1839. PRICE THREE HALFPENSE.', 'PER'), ('LONDON. NUMBER 365.', 'PER')]\n",
      "LOC, 2 Total :  [('CHAMBERS,', 'LOC'), ('ROBERT', 'LOC')]\n",
      "\n",
      "Total False Positives:\n",
      "False Positive : ('suppose that it must', 'PER')\n",
      "False Positive : ('loads of meat, for', 'PER')\n",
      "False Positive : ('THE PEOPLE,\" “', 'PER')\n",
      "False Positive : ('FOR', 'PER')\n",
      "False Positive : ('JANUARY 26, 1839. PRICE THREE HALFPENSE.', 'PER')\n",
      "False Positive : ('CHAMBERS,', 'LOC')\n",
      "False Positive : ('ROBERT', 'LOC')\n",
      "False Positive : ('LONDON. NUMBER 365.', 'PER')\n"
     ]
    }
   ],
   "source": [
    "false_positives_2 = newspaper_predictions_set_2.difference(ground_truth_set)\n",
    "\n",
    "num_false_positives_2 = len(false_positives_2)\n",
    "print('False Positives are predicted by newspaper model but are not in hand truth')\n",
    "print(f\"Number of False Positives: {num_false_positives_2} in Document 2 - Chambers's Journal 1839\")\n",
    "print()\n",
    "\n",
    "print('False Positives By Label:')\n",
    "get_reports_by_label(false_positives_2)\n",
    "print()\n",
    "print('Total False Positives:')\n",
    "\n",
    "for entity in false_positives_2:\n",
    "    print(f\"False Positive : {entity}\")"
   ]
  },
  {
   "cell_type": "code",
   "execution_count": 23,
   "metadata": {},
   "outputs": [
    {
     "name": "stdout",
     "output_type": "stream",
     "text": [
      "Evaluation Calculation Reports for Document 2 - Chambers's Journal 1839\n",
      "\n",
      "Recall Score = 0.0\n",
      "Precision Score = 0.0\n",
      "F1 Score = Divide by Zero Issue\n"
     ]
    }
   ],
   "source": [
    "rec_calc_2 = num_true_positives_2 / (num_true_positives_2 + num_false_negatives_2)\n",
    "prec_calc_2 = num_true_positives_2 / (num_true_positives_2 + num_false_positives_2)\n",
    "# f1_calc_2 = (2 * prec_calc_2 * rec_calc_2) / (prec_calc_2 + rec_calc_2)\n",
    "\n",
    "print(\"Evaluation Calculation Reports for Document 2 - Chambers's Journal 1839\")\n",
    "print()\n",
    "print(f'Recall Score = {rec_calc_2}')\n",
    "print(f'Precision Score = {prec_calc_2}')\n",
    "print(f'F1 Score = Divide by Zero Issue')"
   ]
  },
  {
   "cell_type": "markdown",
   "metadata": {},
   "source": [
    "## Document 3 Comparison: Clipping from Chambers's Journal 1851 (on Monasteries)"
   ]
  },
  {
   "cell_type": "code",
   "execution_count": 24,
   "metadata": {},
   "outputs": [
    {
     "data": {
      "text/plain": [
       "[('England', 'LOC'),\n",
       " ('Gate - house', 'LOC'),\n",
       " ('Guest - Hall', 'LOC'),\n",
       " ('Benedictine convent', 'LOC'),\n",
       " ('Ham', 'LOC'),\n",
       " ('Leicestershire', 'LOC'),\n",
       " ('county', 'LOC'),\n",
       " ('place of abode', 'LOC')]"
      ]
     },
     "execution_count": 24,
     "metadata": {},
     "output_type": "execute_result"
    }
   ],
   "source": [
    "hand_annotations_filtered_3 = get_hand_subset_annotations('Useful_Knowledge_Annotations_iob_3/DOCUMENT-omonroe2_illinois_edu/Chambers_Journal_monastery_1851.txt.tsv')\n",
    "hand_annotations_filtered_3"
   ]
  },
  {
   "cell_type": "code",
   "execution_count": 25,
   "metadata": {},
   "outputs": [
    {
     "data": {
      "text/plain": [
       "[('much', 'LOC')]"
      ]
     },
     "execution_count": 25,
     "metadata": {},
     "output_type": "execute_result"
    }
   ],
   "source": [
    "newspaper_annotations_filtered_3 = get_newspaper_annotations('Useful_Knowledge_Texts/Clipped_Texts/Chambers_Journal_monastery_1851.txt')\n",
    "newspaper_annotations_filtered_3"
   ]
  },
  {
   "cell_type": "code",
   "execution_count": 26,
   "metadata": {},
   "outputs": [
    {
     "name": "stdout",
     "output_type": "stream",
     "text": [
      "True Positives are present in both hand truth and newspaper predictions\n",
      "Number of True Positives: 0 in Document 3 - Chambers's Journal 1851\n",
      "\n",
      "True Positives By Label:\n",
      "\n",
      "Total True Positives:\n"
     ]
    }
   ],
   "source": [
    "ground_truth_set_3 = set(hand_annotations_filtered_3)\n",
    "newspaper_predictions_set_3 = set(newspaper_annotations_filtered_3)\n",
    "\n",
    "true_positives_3 = ground_truth_set_3.intersection(newspaper_predictions_set_3)\n",
    "\n",
    "num_true_positives_3 = len(true_positives_3)\n",
    "print('True Positives are present in both hand truth and newspaper predictions')\n",
    "print(f\"Number of True Positives: {num_true_positives_3} in Document 3 - Chambers's Journal 1851\")\n",
    "print()\n",
    "\n",
    "print('True Positives By Label:')\n",
    "get_reports_by_label(true_positives_3)\n",
    "print()\n",
    "print('Total True Positives:')\n",
    "\n",
    "for entity in true_positives_3:\n",
    "    print(f\"True Positive: {entity}\")"
   ]
  },
  {
   "cell_type": "code",
   "execution_count": 27,
   "metadata": {},
   "outputs": [
    {
     "name": "stdout",
     "output_type": "stream",
     "text": [
      "False Negatives are present in hand truth but not newspaper model predictions\n",
      "Number of False Negatives: 8 in Document 3 - Chambers's Journal 1851\n",
      "\n",
      "False Negatives By Label:\n",
      "LOC, 8 Total :  [('Gate - house', 'LOC'), ('Benedictine convent', 'LOC'), ('place of abode', 'LOC'), ('Leicestershire', 'LOC'), ('Ham', 'LOC'), ('county', 'LOC'), ('Guest - Hall', 'LOC'), ('England', 'LOC')]\n",
      "\n",
      "Total False Negatives:\n",
      "False Negative : ('Gate - house', 'LOC')\n",
      "False Negative : ('Benedictine convent', 'LOC')\n",
      "False Negative : ('place of abode', 'LOC')\n",
      "False Negative : ('Leicestershire', 'LOC')\n",
      "False Negative : ('Ham', 'LOC')\n",
      "False Negative : ('county', 'LOC')\n",
      "False Negative : ('Guest - Hall', 'LOC')\n",
      "False Negative : ('England', 'LOC')\n"
     ]
    }
   ],
   "source": [
    "false_negatives_3 = ground_truth_set_3.difference(newspaper_predictions_set_3)\n",
    "\n",
    "num_false_negatives_3 = len(false_negatives_3)\n",
    "print('False Negatives are present in hand truth but not newspaper model predictions')\n",
    "print(f\"Number of False Negatives: {num_false_negatives_3} in Document 3 - Chambers's Journal 1851\")\n",
    "print()\n",
    "\n",
    "print('False Negatives By Label:')\n",
    "get_reports_by_label(false_negatives_3)\n",
    "print()\n",
    "print('Total False Negatives:')\n",
    "\n",
    "for entity in false_negatives_3:\n",
    "    print(f\"False Negative : {entity}\")"
   ]
  },
  {
   "cell_type": "code",
   "execution_count": 28,
   "metadata": {},
   "outputs": [
    {
     "name": "stdout",
     "output_type": "stream",
     "text": [
      "False Positives are predicted by newspaper model but are not in hand truth\n",
      "Number of False Positives: 1 in Document 3 - Chambers's Journal 1851\n",
      "\n",
      "False Positives By Label:\n",
      "LOC, 1 Total :  [('much', 'LOC')]\n",
      "\n",
      "Total False Positives:\n",
      "False Positive : ('much', 'LOC')\n"
     ]
    }
   ],
   "source": [
    "false_positives_3 = newspaper_predictions_set_3.difference(ground_truth_set_3)\n",
    "\n",
    "num_false_positives_3 = len(false_positives_3)\n",
    "print('False Positives are predicted by newspaper model but are not in hand truth')\n",
    "print(f\"Number of False Positives: {num_false_positives_3} in Document 3 - Chambers's Journal 1851\")\n",
    "print()\n",
    "\n",
    "print('False Positives By Label:')\n",
    "get_reports_by_label(false_positives_3)\n",
    "print()\n",
    "print('Total False Positives:')\n",
    "\n",
    "for entity in false_positives_3:\n",
    "    print(f\"False Positive : {entity}\")"
   ]
  },
  {
   "cell_type": "code",
   "execution_count": 29,
   "metadata": {},
   "outputs": [
    {
     "name": "stdout",
     "output_type": "stream",
     "text": [
      "Evaluation Calculation Reports for Document 3 -  Chambers's Journal 1851\n",
      "\n",
      "Recall Score = 0.0\n",
      "Precision Score = 0.0\n",
      "F1 Score = Divide by Zero Issue\n"
     ]
    }
   ],
   "source": [
    "rec_calc_3 = num_true_positives_3 / (num_true_positives_3 + num_false_negatives_3)\n",
    "prec_calc_3 = num_true_positives_3 / (num_true_positives_3 + num_false_positives_3)\n",
    "# f1_calc_3 = (2 * prec_calc_3 * rec_calc_3) / (prec_calc_3 + rec_calc_3)\n",
    "\n",
    "print(\"Evaluation Calculation Reports for Document 3 -  Chambers's Journal 1851\")\n",
    "print()\n",
    "print(f'Recall Score = {rec_calc_3}')\n",
    "print(f'Precision Score = {prec_calc_3}')\n",
    "print(f'F1 Score = Divide by Zero Issue')"
   ]
  },
  {
   "cell_type": "markdown",
   "metadata": {},
   "source": [
    "## Document 4 Comparison: Clipping from Chambers's Journal 1872 (on Sorrow)"
   ]
  },
  {
   "cell_type": "code",
   "execution_count": 30,
   "metadata": {},
   "outputs": [
    {
     "data": {
      "text/plain": [
       "[('CHAMBERS', 'PER'),\n",
       " ('WILLIAM', 'PER'),\n",
       " ('ROBERT', 'PER'),\n",
       " ('CHAMBERS', 'PER'),\n",
       " ('MIRIAM CLINT', 'PER'),\n",
       " ('Miriam Clint', 'PER'),\n",
       " ('Miriam', 'PER'),\n",
       " ('Miriam', 'PER'),\n",
       " ('Cres - cent House', 'LOC'),\n",
       " ('Hampstead', 'LOC'),\n",
       " ('Mr Clint', 'PER'),\n",
       " ('Miriam', 'PER'),\n",
       " ('Miriam', 'PER'),\n",
       " ('Mr Clint', 'PER'),\n",
       " ('Shakspeare', 'PER'),\n",
       " ('Mr Clint', 'PER')]"
      ]
     },
     "execution_count": 30,
     "metadata": {},
     "output_type": "execute_result"
    }
   ],
   "source": [
    "hand_annotations_filtered_4 = get_hand_subset_annotations('Useful_Knowledge_Annotations_iob_3/DOCUMENT-omonroe2_illinois_edu/Chambers_Journal_sorrow_Jan6_1872.txt.tsv')\n",
    "hand_annotations_filtered_4"
   ]
  },
  {
   "cell_type": "code",
   "execution_count": 31,
   "metadata": {},
   "outputs": [
    {
     "data": {
      "text/plain": [
       "[('CONDUCTED BY WILLIAM AND ROBERT OF SATURDAY, JANUARY A GOLDEN CHAMBERS.',\n",
       "  'ORG'),\n",
       " ('eighteen years old, and', 'PER'),\n",
       " ('had her', 'PER'),\n",
       " (\"'coming out,' like other girls of\", 'ORG')]"
      ]
     },
     "execution_count": 31,
     "metadata": {},
     "output_type": "execute_result"
    }
   ],
   "source": [
    "newspaper_annotations_filtered_4 = get_newspaper_annotations('Useful_Knowledge_Texts/Clipped_Texts/Chambers_Journal_sorrow_Jan6_1872.txt')\n",
    "newspaper_annotations_filtered_4"
   ]
  },
  {
   "cell_type": "code",
   "execution_count": 32,
   "metadata": {},
   "outputs": [
    {
     "name": "stdout",
     "output_type": "stream",
     "text": [
      "True Positives are present in both hand truth and newspaper predictions\n",
      "Number of True Positives: 0 in Document 4 - Chambers's Journal 1872\n",
      "\n",
      "True Positives By Label:\n",
      "\n",
      "Total True Positives:\n"
     ]
    }
   ],
   "source": [
    "ground_truth_set_4 = set(hand_annotations_filtered_4)\n",
    "newspaper_predictions_set_4 = set(newspaper_annotations_filtered_4)\n",
    "\n",
    "true_positives_4 = ground_truth_set_4.intersection(newspaper_predictions_set_4)\n",
    "\n",
    "num_true_positives_4 = len(true_positives_4)\n",
    "print('True Positives are present in both hand truth and newspaper predictions')\n",
    "print(f\"Number of True Positives: {num_true_positives_4} in Document 4 - Chambers's Journal 1872\")\n",
    "print()\n",
    "\n",
    "print('True Positives By Label:')\n",
    "get_reports_by_label(true_positives_4)\n",
    "print()\n",
    "print('Total True Positives:')\n",
    "\n",
    "for entity in true_positives_4:\n",
    "    print(f\"True Positive: {entity}\")"
   ]
  },
  {
   "cell_type": "code",
   "execution_count": 33,
   "metadata": {},
   "outputs": [
    {
     "name": "stdout",
     "output_type": "stream",
     "text": [
      "False Negatives are present in hand truth but not newspaper model predictions\n",
      "Number of False Negatives: 10 in Document 4 - Chambers's Journal 1872\n",
      "\n",
      "False Negatives By Label:\n",
      "LOC, 2 Total :  [('Cres - cent House', 'LOC'), ('Hampstead', 'LOC')]\n",
      "PER, 8 Total :  [('Shakspeare', 'PER'), ('Mr Clint', 'PER'), ('CHAMBERS', 'PER'), ('ROBERT', 'PER'), ('Miriam', 'PER'), ('Miriam Clint', 'PER'), ('WILLIAM', 'PER'), ('MIRIAM CLINT', 'PER')]\n",
      "\n",
      "Total False Negatives:\n",
      "False Negative : ('Cres - cent House', 'LOC')\n",
      "False Negative : ('Shakspeare', 'PER')\n",
      "False Negative : ('Mr Clint', 'PER')\n",
      "False Negative : ('CHAMBERS', 'PER')\n",
      "False Negative : ('ROBERT', 'PER')\n",
      "False Negative : ('Miriam', 'PER')\n",
      "False Negative : ('Hampstead', 'LOC')\n",
      "False Negative : ('Miriam Clint', 'PER')\n",
      "False Negative : ('WILLIAM', 'PER')\n",
      "False Negative : ('MIRIAM CLINT', 'PER')\n"
     ]
    }
   ],
   "source": [
    "false_negatives_4 = ground_truth_set_4.difference(newspaper_predictions_set_4)\n",
    "\n",
    "num_false_negatives_4 = len(false_negatives_4)\n",
    "print('False Negatives are present in hand truth but not newspaper model predictions')\n",
    "print(f\"Number of False Negatives: {num_false_negatives_4} in Document 4 - Chambers's Journal 1872\")\n",
    "print()\n",
    "\n",
    "print('False Negatives By Label:')\n",
    "get_reports_by_label(false_negatives_4)\n",
    "print()\n",
    "print('Total False Negatives:')\n",
    "\n",
    "for entity in false_negatives_4:\n",
    "    print(f\"False Negative : {entity}\")"
   ]
  },
  {
   "cell_type": "code",
   "execution_count": 34,
   "metadata": {},
   "outputs": [
    {
     "name": "stdout",
     "output_type": "stream",
     "text": [
      "False Positives are predicted by newspaper model but are not in hand truth\n",
      "Number of False Positives: 4 in Document 4 - Chambers's Journal 1872\n",
      "\n",
      "False Positives By Label:\n",
      "PER, 2 Total :  [('had her', 'PER'), ('eighteen years old, and', 'PER')]\n",
      "ORG, 2 Total :  [('CONDUCTED BY WILLIAM AND ROBERT OF SATURDAY, JANUARY A GOLDEN CHAMBERS.', 'ORG'), (\"'coming out,' like other girls of\", 'ORG')]\n",
      "\n",
      "Total False Positives:\n",
      "False Positive : ('had her', 'PER')\n",
      "False Positive : ('CONDUCTED BY WILLIAM AND ROBERT OF SATURDAY, JANUARY A GOLDEN CHAMBERS.', 'ORG')\n",
      "False Positive : ('eighteen years old, and', 'PER')\n",
      "False Positive : (\"'coming out,' like other girls of\", 'ORG')\n"
     ]
    }
   ],
   "source": [
    "false_positives_4 = newspaper_predictions_set_4.difference(ground_truth_set_4)\n",
    "\n",
    "num_false_positives_4 = len(false_positives_4)\n",
    "print('False Positives are predicted by newspaper model but are not in hand truth')\n",
    "print(f\"Number of False Positives: {num_false_positives_4} in Document 4 - Chambers's Journal 1872\")\n",
    "print()\n",
    "\n",
    "print('False Positives By Label:')\n",
    "get_reports_by_label(false_positives_4)\n",
    "print()\n",
    "print('Total False Positives:')\n",
    "\n",
    "for entity in false_positives_4:\n",
    "    print(f\"False Positive : {entity}\")"
   ]
  },
  {
   "cell_type": "code",
   "execution_count": 35,
   "metadata": {},
   "outputs": [
    {
     "name": "stdout",
     "output_type": "stream",
     "text": [
      "Evaluation Calculation Reports for Document 4 - Chambers Journal 1872\n",
      "\n",
      "Recall Score = 0.0\n",
      "Precision Score = 0.0\n",
      "F1 Score = Divide by Zero Issue\n"
     ]
    }
   ],
   "source": [
    "rec_calc_4 = num_true_positives_4 / (num_true_positives_4 + num_false_negatives_4)\n",
    "prec_calc_4 = num_true_positives_4 / (num_true_positives_4 + num_false_positives_4)\n",
    "# f1_calc_4 = (2 * prec_calc_4 * rec_calc_4) / (prec_calc_4 + rec_calc_4)\n",
    "\n",
    "print(\"Evaluation Calculation Reports for Document 4 - Chambers Journal 1872\")\n",
    "print()\n",
    "print(f'Recall Score = {rec_calc_4}')\n",
    "print(f'Precision Score = {prec_calc_4}')\n",
    "print(f'F1 Score = Divide by Zero Issue')"
   ]
  },
  {
   "cell_type": "markdown",
   "metadata": {},
   "source": [
    "## Document 5 Comparison: Clipping from SDCGK Annual Report 1888 (on their Constitution)"
   ]
  },
  {
   "cell_type": "code",
   "execution_count": 36,
   "metadata": {},
   "outputs": [
    {
     "data": {
      "text/plain": [
       "[('Society for tbe Diffusion of Christian anO General IRnowlehae among the Chinese',\n",
       "  'ORG'),\n",
       " ('Society', 'ORG'),\n",
       " ('Society for the Diffusion of Christian and General Knowledge among the Chinese',\n",
       "  'ORG'),\n",
       " ('the Society', 'ORG'),\n",
       " ('the Book and Tract Society of China', 'ORG'),\n",
       " ('China', 'LOC'),\n",
       " ('Colonies', 'LOC'),\n",
       " ('Dependencies', 'LOC'),\n",
       " ('Society', 'ORG'),\n",
       " ('intelligent classes in China', 'ORG'),\n",
       " ('Society', 'ORG'),\n",
       " ('Chinese Book and Tract Society', 'ORG'),\n",
       " ('Glasgow', 'LOC'),\n",
       " ('Society for the Diffusion of Christian and General Knowledge among the Chinese',\n",
       "  'ORG'),\n",
       " ('Christian Literature Society', 'LOC'),\n",
       " ('Board', 'ORG'),\n",
       " ('Shanghai', 'LOC'),\n",
       " ('Capital', 'LOC'),\n",
       " ('cities', 'LOC'),\n",
       " ('18 Provinces', 'LOC'),\n",
       " ('emporiums of commerce', 'LOC'),\n",
       " ('East', 'LOC')]"
      ]
     },
     "execution_count": 36,
     "metadata": {},
     "output_type": "execute_result"
    }
   ],
   "source": [
    "hand_annotations_filtered_5 = get_hand_subset_annotations('Useful_Knowledge_Annotations_iob_3/DOCUMENT-omonroe2_illinois_edu/SDCGK_AnnualReport_constitution_1888.txt.tsv')\n",
    "hand_annotations_filtered_5"
   ]
  },
  {
   "cell_type": "code",
   "execution_count": 37,
   "metadata": {},
   "outputs": [
    {
     "data": {
      "text/plain": [
       "[('&', 'ORG'), ('YGMST §®©0ITY a * — Article I. Society', 'ORG')]"
      ]
     },
     "execution_count": 37,
     "metadata": {},
     "output_type": "execute_result"
    }
   ],
   "source": [
    "newspaper_annotations_filtered_5 = get_newspaper_annotations('Useful_Knowledge_Texts/Clipped_Texts/SDCGK_AnnualReport_constitution_1888.txt')\n",
    "newspaper_annotations_filtered_5"
   ]
  },
  {
   "cell_type": "code",
   "execution_count": 38,
   "metadata": {},
   "outputs": [
    {
     "name": "stdout",
     "output_type": "stream",
     "text": [
      "True Positives are present in both hand truth and newspaper predictions\n",
      "Number of True Positives: 0 in Document 5 - SDCGK Annual Report 1888\n",
      "\n",
      "True Positives By Label:\n",
      "\n",
      "Total True Positives:\n"
     ]
    }
   ],
   "source": [
    "ground_truth_set_5 = set(hand_annotations_filtered_5)\n",
    "newspaper_predictions_set_5 = set(newspaper_annotations_filtered_5)\n",
    "\n",
    "true_positives_5 = ground_truth_set_5.intersection(newspaper_predictions_set_5)\n",
    "\n",
    "num_true_positives_5 = len(true_positives_5)\n",
    "print('True Positives are present in both hand truth and newspaper predictions')\n",
    "print(f\"Number of True Positives: {num_true_positives_5} in Document 5 - SDCGK Annual Report 1888\")\n",
    "print()\n",
    "\n",
    "print('True Positives By Label:')\n",
    "get_reports_by_label(true_positives_5)\n",
    "print()\n",
    "print('Total True Positives:')\n",
    "\n",
    "for entity in true_positives_5:\n",
    "    print(f\"True Positive: {entity}\")"
   ]
  },
  {
   "cell_type": "code",
   "execution_count": 39,
   "metadata": {},
   "outputs": [
    {
     "name": "stdout",
     "output_type": "stream",
     "text": [
      "False Negatives are present in hand truth but not newspaper model predictions\n",
      "Number of False Negatives: 19 in Document 5 - SDCGK Annual Report 1888\n",
      "\n",
      "False Negatives By Label:\n",
      "LOC, 11 Total :  [('China', 'LOC'), ('Colonies', 'LOC'), ('Capital', 'LOC'), ('Shanghai', 'LOC'), ('18 Provinces', 'LOC'), ('emporiums of commerce', 'LOC'), ('Glasgow', 'LOC'), ('East', 'LOC'), ('Christian Literature Society', 'LOC'), ('Dependencies', 'LOC'), ('cities', 'LOC')]\n",
      "ORG, 8 Total :  [('the Society', 'ORG'), ('Chinese Book and Tract Society', 'ORG'), ('Board', 'ORG'), ('Society for tbe Diffusion of Christian anO General IRnowlehae among the Chinese', 'ORG'), ('the Book and Tract Society of China', 'ORG'), ('intelligent classes in China', 'ORG'), ('Society', 'ORG'), ('Society for the Diffusion of Christian and General Knowledge among the Chinese', 'ORG')]\n",
      "\n",
      "Total False Negatives:\n",
      "False Negative : ('China', 'LOC')\n",
      "False Negative : ('the Society', 'ORG')\n",
      "False Negative : ('Chinese Book and Tract Society', 'ORG')\n",
      "False Negative : ('Colonies', 'LOC')\n",
      "False Negative : ('Capital', 'LOC')\n",
      "False Negative : ('Board', 'ORG')\n",
      "False Negative : ('Shanghai', 'LOC')\n",
      "False Negative : ('Society for tbe Diffusion of Christian anO General IRnowlehae among the Chinese', 'ORG')\n",
      "False Negative : ('18 Provinces', 'LOC')\n",
      "False Negative : ('emporiums of commerce', 'LOC')\n",
      "False Negative : ('the Book and Tract Society of China', 'ORG')\n",
      "False Negative : ('intelligent classes in China', 'ORG')\n",
      "False Negative : ('Glasgow', 'LOC')\n",
      "False Negative : ('Society', 'ORG')\n",
      "False Negative : ('East', 'LOC')\n",
      "False Negative : ('Christian Literature Society', 'LOC')\n",
      "False Negative : ('Dependencies', 'LOC')\n",
      "False Negative : ('cities', 'LOC')\n",
      "False Negative : ('Society for the Diffusion of Christian and General Knowledge among the Chinese', 'ORG')\n"
     ]
    }
   ],
   "source": [
    "false_negatives_5 = ground_truth_set_5.difference(newspaper_predictions_set_5)\n",
    "\n",
    "num_false_negatives_5 = len(false_negatives_5)\n",
    "print('False Negatives are present in hand truth but not newspaper model predictions')\n",
    "print(f\"Number of False Negatives: {num_false_negatives_5} in Document 5 - SDCGK Annual Report 1888\")\n",
    "print()\n",
    "\n",
    "print('False Negatives By Label:')\n",
    "get_reports_by_label(false_negatives_5)\n",
    "print()\n",
    "print('Total False Negatives:')\n",
    "\n",
    "for entity in false_negatives_5:\n",
    "    print(f\"False Negative : {entity}\")"
   ]
  },
  {
   "cell_type": "code",
   "execution_count": 40,
   "metadata": {},
   "outputs": [
    {
     "name": "stdout",
     "output_type": "stream",
     "text": [
      "False Positives are predicted by newspaper model but are not in hand truth\n",
      "Number of False Positives: 2 in Document 5 - SDCGK Annual Report 1888\n",
      "\n",
      "False Positives By Label:\n",
      "ORG, 2 Total :  [('&', 'ORG'), ('YGMST §®©0ITY a * — Article I. Society', 'ORG')]\n",
      "\n",
      "Total False Positives:\n",
      "False Positive : ('&', 'ORG')\n",
      "False Positive : ('YGMST §®©0ITY a * — Article I. Society', 'ORG')\n"
     ]
    }
   ],
   "source": [
    "false_positives_5 = newspaper_predictions_set_5.difference(ground_truth_set_5)\n",
    "\n",
    "num_false_positives_5 = len(false_positives_5)\n",
    "print('False Positives are predicted by newspaper model but are not in hand truth')\n",
    "print(f\"Number of False Positives: {num_false_positives_5} in Document 5 - SDCGK Annual Report 1888\")\n",
    "print()\n",
    "\n",
    "print('False Positives By Label:')\n",
    "get_reports_by_label(false_positives_5)\n",
    "print()\n",
    "print('Total False Positives:')\n",
    "\n",
    "for entity in false_positives_5:\n",
    "    print(f\"False Positive : {entity}\")"
   ]
  },
  {
   "cell_type": "code",
   "execution_count": 41,
   "metadata": {},
   "outputs": [
    {
     "name": "stdout",
     "output_type": "stream",
     "text": [
      "Evaluation Calculation Reports for Document 5 - SDCGK Annual Report 1888\n",
      "\n",
      "Recall Score = 0.0\n",
      "Precision Score = 0.0\n",
      "F1 Score = Divide by Zero Issue\n"
     ]
    }
   ],
   "source": [
    "rec_calc_5 = num_true_positives_5 / (num_true_positives_5 + num_false_negatives_5)\n",
    "prec_calc_5 = num_true_positives_5 / (num_true_positives_5 + num_false_positives_5)\n",
    "# f1_calc_5 = (2 * prec_calc_5 * rec_calc_5) / (prec_calc_5 + rec_calc_5)\n",
    "\n",
    "print('Evaluation Calculation Reports for Document 5 - SDCGK Annual Report 1888')\n",
    "print()\n",
    "print(f'Recall Score = {rec_calc_5}')\n",
    "print(f'Precision Score = {prec_calc_5}')\n",
    "print(f'F1 Score = Divide by Zero Issue')"
   ]
  },
  {
   "cell_type": "markdown",
   "metadata": {},
   "source": [
    "## Document 6 Comparison: Clipping from SDCGK Annual Report 1893 (on their Committee Publications)"
   ]
  },
  {
   "cell_type": "code",
   "execution_count": 42,
   "metadata": {},
   "outputs": [
    {
     "data": {
      "text/plain": [
       "[('Society', 'ORG'),\n",
       " ('Empress Dowager', 'PER'),\n",
       " ('provinces', 'LOC'),\n",
       " ('Society', 'ORG'),\n",
       " ('Branch Depdts', 'ORG'),\n",
       " ('provinces', 'LOC'),\n",
       " ('Peking', 'LOC'),\n",
       " ('Moukden', 'LOC'),\n",
       " ('Tientsin', 'LOC'),\n",
       " ('Shensi', 'LOC'),\n",
       " ('Nanking', 'LOC'),\n",
       " ('Chefoo', 'LOC'),\n",
       " ('Dr . Faber', 'PER'),\n",
       " ('Western Civilization', 'LOC'),\n",
       " ('Rev . P . Kranz', 'PER'),\n",
       " ('Empire', 'LOC'),\n",
       " ('Dr . Williamson', 'PER'),\n",
       " ('George Jamieson', 'PER'),\n",
       " ('China', 'LOC'),\n",
       " ('United Society of Christian', 'ORG')]"
      ]
     },
     "execution_count": 42,
     "metadata": {},
     "output_type": "execute_result"
    }
   ],
   "source": [
    "hand_annotations_filtered_6 = get_hand_subset_annotations('Useful_Knowledge_Annotations_iob_3/DOCUMENT-omonroe2_illinois_edu/SDCGKC_AnnualReport_committee_publications_1893.txt.tsv')\n",
    "hand_annotations_filtered_6"
   ]
  },
  {
   "cell_type": "code",
   "execution_count": 43,
   "metadata": {},
   "outputs": [
    {
     "data": {
      "text/plain": [
       "[]"
      ]
     },
     "execution_count": 43,
     "metadata": {},
     "output_type": "execute_result"
    }
   ],
   "source": [
    "newspaper_annotations_filtered_6 = get_newspaper_annotations('Useful_Knowledge_Texts/Clipped_Texts/SDCGKC_AnnualReport_committee_publications_1893.txt')\n",
    "newspaper_annotations_filtered_6"
   ]
  },
  {
   "cell_type": "code",
   "execution_count": 44,
   "metadata": {},
   "outputs": [
    {
     "name": "stdout",
     "output_type": "stream",
     "text": [
      "True Positives are present in both hand truth and newspaper predictions\n",
      "Number of True Positives: 0 in Document 6 - SDCGK Annual Report 1893\n",
      "\n",
      "True Positives By Label:\n",
      "\n",
      "Total True Positives:\n"
     ]
    }
   ],
   "source": [
    "ground_truth_set_6 = set(hand_annotations_filtered_6)\n",
    "newspaper_predictions_set_6 = set(newspaper_annotations_filtered_6)\n",
    "\n",
    "true_positives_6 = ground_truth_set_6.intersection(newspaper_predictions_set_6)\n",
    "\n",
    "num_true_positives_6 = len(true_positives_6)\n",
    "print('True Positives are present in both hand truth and newspaper predictions')\n",
    "print(f\"Number of True Positives: {num_true_positives_6} in Document 6 - SDCGK Annual Report 1893\")\n",
    "print()\n",
    "\n",
    "print('True Positives By Label:')\n",
    "get_reports_by_label(true_positives_6)\n",
    "print()\n",
    "print('Total True Positives:')\n",
    "\n",
    "for entity in true_positives_6:\n",
    "    print(f\"True Positive: {entity}\")"
   ]
  },
  {
   "cell_type": "code",
   "execution_count": 45,
   "metadata": {},
   "outputs": [
    {
     "name": "stdout",
     "output_type": "stream",
     "text": [
      "False Negatives are present in hand truth but not newspaper model predictions\n",
      "Number of False Negatives: 18 in Document 6 - SDCGK Annual Report 1893\n",
      "\n",
      "False Negatives By Label:\n",
      "LOC, 10 Total :  [('China', 'LOC'), ('Tientsin', 'LOC'), ('Western Civilization', 'LOC'), ('Chefoo', 'LOC'), ('Shensi', 'LOC'), ('Moukden', 'LOC'), ('Peking', 'LOC'), ('provinces', 'LOC'), ('Nanking', 'LOC'), ('Empire', 'LOC')]\n",
      "PER, 5 Total :  [('George Jamieson', 'PER'), ('Rev . P . Kranz', 'PER'), ('Dr . Williamson', 'PER'), ('Empress Dowager', 'PER'), ('Dr . Faber', 'PER')]\n",
      "ORG, 3 Total :  [('United Society of Christian', 'ORG'), ('Society', 'ORG'), ('Branch Depdts', 'ORG')]\n",
      "\n",
      "Total False Negatives:\n",
      "False Negative : ('China', 'LOC')\n",
      "False Negative : ('Tientsin', 'LOC')\n",
      "False Negative : ('Western Civilization', 'LOC')\n",
      "False Negative : ('George Jamieson', 'PER')\n",
      "False Negative : ('Chefoo', 'LOC')\n",
      "False Negative : ('Shensi', 'LOC')\n",
      "False Negative : ('United Society of Christian', 'ORG')\n",
      "False Negative : ('Rev . P . Kranz', 'PER')\n",
      "False Negative : ('Moukden', 'LOC')\n",
      "False Negative : ('Society', 'ORG')\n",
      "False Negative : ('Dr . Williamson', 'PER')\n",
      "False Negative : ('Peking', 'LOC')\n",
      "False Negative : ('provinces', 'LOC')\n",
      "False Negative : ('Nanking', 'LOC')\n",
      "False Negative : ('Empress Dowager', 'PER')\n",
      "False Negative : ('Dr . Faber', 'PER')\n",
      "False Negative : ('Empire', 'LOC')\n",
      "False Negative : ('Branch Depdts', 'ORG')\n"
     ]
    }
   ],
   "source": [
    "false_negatives_6 = ground_truth_set_6.difference(newspaper_predictions_set_6)\n",
    "\n",
    "num_false_negatives_6 = len(false_negatives_6)\n",
    "print('False Negatives are present in hand truth but not newspaper model predictions')\n",
    "print(f\"Number of False Negatives: {num_false_negatives_6} in Document 6 - SDCGK Annual Report 1893\")\n",
    "print()\n",
    "\n",
    "print('False Negatives By Label:')\n",
    "get_reports_by_label(false_negatives_6)\n",
    "print()\n",
    "print('Total False Negatives:')\n",
    "\n",
    "for entity in false_negatives_6:\n",
    "    print(f\"False Negative : {entity}\")"
   ]
  },
  {
   "cell_type": "code",
   "execution_count": 46,
   "metadata": {},
   "outputs": [
    {
     "name": "stdout",
     "output_type": "stream",
     "text": [
      "False Positives are predicted by newspaper model but are not in hand truth\n",
      "Number of False Positives: 0 in Document 6 - SDCGK Annual Report 1893\n",
      "\n",
      "False Positives By Label:\n",
      "\n",
      "Total False Positives:\n"
     ]
    }
   ],
   "source": [
    "false_positives_6 = newspaper_predictions_set_6.difference(ground_truth_set_6)\n",
    "\n",
    "num_false_positives_6 = len(false_positives_6)\n",
    "print('False Positives are predicted by newspaper model but are not in hand truth')\n",
    "print(f\"Number of False Positives: {num_false_positives_6} in Document 6 - SDCGK Annual Report 1893\")\n",
    "print()\n",
    "\n",
    "print('False Positives By Label:')\n",
    "get_reports_by_label(false_positives_6)\n",
    "print()\n",
    "print('Total False Positives:')\n",
    "\n",
    "for entity in false_positives_6:\n",
    "    print(f\"False Positive : {entity}\")"
   ]
  },
  {
   "cell_type": "code",
   "execution_count": 47,
   "metadata": {},
   "outputs": [
    {
     "name": "stdout",
     "output_type": "stream",
     "text": [
      "Evaluation Calculation Reports for Document 6 - SDCGK Annual Report 1893\n",
      "\n",
      "Recall Score = 0.0\n",
      "Precision Score = Divide by Zero Issue\n",
      "F1 Score = Divide by Zero Issue\n"
     ]
    }
   ],
   "source": [
    "rec_calc_6 = num_true_positives_6 / (num_true_positives_6 + num_false_negatives_6)\n",
    "# prec_calc_6 = num_true_positives_6 / (num_true_positives_6 + num_false_positives_6)\n",
    "# f1_calc_4 = (2 * prec_calc_4 * rec_calc_4) / (prec_calc_4 + rec_calc_4)\n",
    "\n",
    "print('Evaluation Calculation Reports for Document 6 - SDCGK Annual Report 1893')\n",
    "print()\n",
    "print(f'Recall Score = {rec_calc_6}')\n",
    "print(f'Precision Score = Divide by Zero Issue')\n",
    "print(f'F1 Score = Divide by Zero Issue')"
   ]
  },
  {
   "cell_type": "markdown",
   "metadata": {},
   "source": [
    "## Document 7 Comparison: Clipping from British Almanac 1855 (on Thermo-Copernicans)\n"
   ]
  },
  {
   "cell_type": "code",
   "execution_count": 48,
   "metadata": {},
   "outputs": [
    {
     "data": {
      "text/plain": [
       "[('Greenwich', 'LOC')]"
      ]
     },
     "execution_count": 48,
     "metadata": {},
     "output_type": "execute_result"
    }
   ],
   "source": [
    "hand_annotations_filtered_7 = get_hand_subset_annotations('Useful_Knowledge_Annotations_iob_3/DOCUMENT-omonroe2_illinois_edu/SDUK_Almanac_thermo_copernicans_1855.txt.tsv')\n",
    "hand_annotations_filtered_7"
   ]
  },
  {
   "cell_type": "code",
   "execution_count": 49,
   "metadata": {},
   "outputs": [
    {
     "data": {
      "text/plain": [
       "[]"
      ]
     },
     "execution_count": 49,
     "metadata": {},
     "output_type": "execute_result"
    }
   ],
   "source": [
    "newspaper_annotations_filtered_7 = get_newspaper_annotations('Useful_Knowledge_Texts/Clipped_Texts/SDUK_Almanac_thermo_copernicans_1855.txt')\n",
    "newspaper_annotations_filtered_7\n",
    "# Null Set "
   ]
  },
  {
   "cell_type": "code",
   "execution_count": 50,
   "metadata": {},
   "outputs": [
    {
     "name": "stdout",
     "output_type": "stream",
     "text": [
      "True Positives are present in both hand truth and newspaper predictions\n",
      "Number of True Positives: 0 in Document 7 - British Almanac 1855\n",
      "\n",
      "True Positives By Label:\n",
      "\n",
      "Total True Positives:\n"
     ]
    }
   ],
   "source": [
    "ground_truth_set_7 = set(hand_annotations_filtered_7)\n",
    "newspaper_predictions_set_7 = set(newspaper_annotations_filtered_7)\n",
    "\n",
    "true_positives_7 = ground_truth_set_7.intersection(newspaper_predictions_set_7)\n",
    "\n",
    "num_true_positives_7 = len(true_positives_7)\n",
    "print('True Positives are present in both hand truth and newspaper predictions')\n",
    "print(f\"Number of True Positives: {num_true_positives_7} in Document 7 - British Almanac 1855\")\n",
    "print()\n",
    "\n",
    "print('True Positives By Label:')\n",
    "get_reports_by_label(true_positives_7)\n",
    "print()\n",
    "print('Total True Positives:')\n",
    "\n",
    "for entity in true_positives_7:\n",
    "    print(f\"True Positive: {entity}\")"
   ]
  },
  {
   "cell_type": "code",
   "execution_count": 51,
   "metadata": {},
   "outputs": [
    {
     "name": "stdout",
     "output_type": "stream",
     "text": [
      "False Negatives are present in hand truth but not newspaper model predictions\n",
      "Number of False Negatives: 1 in Document 7 - British Almanac 1855\n",
      "\n",
      "False Negatives By Label:\n",
      "LOC, 1 Total :  [('Greenwich', 'LOC')]\n",
      "\n",
      "Total False Negatives:\n",
      "False Negative : ('Greenwich', 'LOC')\n"
     ]
    }
   ],
   "source": [
    "false_negatives_7 = ground_truth_set_7.difference(newspaper_predictions_set_7)\n",
    "\n",
    "num_false_negatives_7 = len(false_negatives_7)\n",
    "print('False Negatives are present in hand truth but not newspaper model predictions')\n",
    "print(f\"Number of False Negatives: {num_false_negatives_7} in Document 7 - British Almanac 1855\")\n",
    "print()\n",
    "\n",
    "print('False Negatives By Label:')\n",
    "get_reports_by_label(false_negatives_7)\n",
    "print()\n",
    "print('Total False Negatives:')\n",
    "\n",
    "for entity in false_negatives_7:\n",
    "    print(f\"False Negative : {entity}\")"
   ]
  },
  {
   "cell_type": "code",
   "execution_count": 52,
   "metadata": {},
   "outputs": [
    {
     "name": "stdout",
     "output_type": "stream",
     "text": [
      "False Positives are predicted by newspaper model but are not in hand truth\n",
      "Number of False Positives: 0 in Document 7 - British Almanac 1855\n",
      "\n",
      "False Positives By Label:\n",
      "\n",
      "Total False Positives:\n"
     ]
    }
   ],
   "source": [
    "false_positives_7 = newspaper_predictions_set_7.difference(ground_truth_set_7)\n",
    "\n",
    "num_false_positives_7 = len(false_positives_7)\n",
    "print('False Positives are predicted by newspaper model but are not in hand truth')\n",
    "print(f\"Number of False Positives: {num_false_positives_7} in Document 7 - British Almanac 1855\")\n",
    "print()\n",
    "\n",
    "print('False Positives By Label:')\n",
    "get_reports_by_label(false_positives_7)\n",
    "print()\n",
    "print('Total False Positives:')\n",
    "\n",
    "for entity in false_positives_7:\n",
    "    print(f\"False Positive : {entity}\")"
   ]
  },
  {
   "cell_type": "code",
   "execution_count": 53,
   "metadata": {},
   "outputs": [
    {
     "name": "stdout",
     "output_type": "stream",
     "text": [
      "Evaluation Calculation Reports for Document 7 - British Almanac 1855\n",
      "\n",
      "Recall Score = 0.0\n",
      "Precision Score = Divide by Zero Issue\n",
      "F1 Score = Divide By Zero Issue\n"
     ]
    }
   ],
   "source": [
    "rec_calc_7 = num_true_positives_7 / (num_true_positives_7 + num_false_negatives_7)\n",
    "# prec_calc_7 = num_true_positives_7 / (num_true_positives_7 + num_false_positives_7)\n",
    "# f1_calc_7 = (2 * prec_calc_7 * rec_calc_7) / (prec_calc_7 + rec_calc_7)\n",
    "\n",
    "print('Evaluation Calculation Reports for Document 7 - British Almanac 1855')\n",
    "print()\n",
    "print(f'Recall Score = {rec_calc_7}')\n",
    "print(f'Precision Score = Divide by Zero Issue')\n",
    "print(f'F1 Score = Divide By Zero Issue')"
   ]
  },
  {
   "cell_type": "markdown",
   "metadata": {},
   "source": [
    "## Document 8 Comparison: Clipping from SDUK British Almanac 1872 (on Music and Photography)\n",
    "\n"
   ]
  },
  {
   "cell_type": "code",
   "execution_count": 54,
   "metadata": {},
   "outputs": [
    {
     "data": {
      "text/plain": [
       "[('Greenwich', 'LOC'),\n",
       " ('United Kingdom', 'LOC'),\n",
       " ('United Kingdom', 'LOC'),\n",
       " ('Scilly Islands', 'LOC'),\n",
       " ('Falmouth', 'LOC'),\n",
       " ('Plymouth', 'LOC'),\n",
       " ('Portland', 'LOC'),\n",
       " ('Portsmouth', 'LOC'),\n",
       " ('Brighton', 'LOC'),\n",
       " ('Dover', 'LOC'),\n",
       " ('London', 'LOC')]"
      ]
     },
     "execution_count": 54,
     "metadata": {},
     "output_type": "execute_result"
    }
   ],
   "source": [
    "hand_annotations_filtered_8 = get_hand_subset_annotations('Useful_Knowledge_Annotations_iob_3/DOCUMENT-omonroe2_illinois_edu/SDUK_Almanac_thermo_music_photo_1872.txt.tsv')\n",
    "hand_annotations_filtered_8"
   ]
  },
  {
   "cell_type": "code",
   "execution_count": 55,
   "metadata": {},
   "outputs": [
    {
     "data": {
      "text/plain": [
       "[('within each twenty-four', 'ORG')]"
      ]
     },
     "execution_count": 55,
     "metadata": {},
     "output_type": "execute_result"
    }
   ],
   "source": [
    "newspaper_annotations_filtered_8 = get_newspaper_annotations('Useful_Knowledge_Texts/Clipped_Texts/SDUK_Almanac_thermo_music_photo_1872.txt')\n",
    "newspaper_annotations_filtered_8"
   ]
  },
  {
   "cell_type": "code",
   "execution_count": 56,
   "metadata": {},
   "outputs": [
    {
     "name": "stdout",
     "output_type": "stream",
     "text": [
      "True Positives are present in both hand truth and newspaper predictions\n",
      "Number of True Positives: 0 in Document 8 - British Almanac 1872\n",
      "\n",
      "True Positives By Label:\n",
      "\n",
      "Total True Positives:\n"
     ]
    }
   ],
   "source": [
    "ground_truth_set_8 = set(hand_annotations_filtered_8)\n",
    "newspaper_predictions_set_8 = set(newspaper_annotations_filtered_8)\n",
    "\n",
    "true_positives_8 = ground_truth_set_8.intersection(newspaper_predictions_set_8)\n",
    "\n",
    "num_true_positives_8 = len(true_positives_8)\n",
    "print('True Positives are present in both hand truth and newspaper predictions')\n",
    "print(f\"Number of True Positives: {num_true_positives_8} in Document 8 - British Almanac 1872\")\n",
    "print()\n",
    "\n",
    "print('True Positives By Label:')\n",
    "get_reports_by_label(true_positives_8)\n",
    "print()\n",
    "print('Total True Positives:')\n",
    "\n",
    "for entity in true_positives_8:\n",
    "    print(f\"True Positive: {entity}\")"
   ]
  },
  {
   "cell_type": "code",
   "execution_count": 57,
   "metadata": {},
   "outputs": [
    {
     "name": "stdout",
     "output_type": "stream",
     "text": [
      "False Negatives are present in hand truth but not newspaper model predictions\n",
      "Number of False Negatives: 10 in Document 8 - British Almanac 1872\n",
      "\n",
      "False Negatives By Label:\n",
      "LOC, 10 Total :  [('Plymouth', 'LOC'), ('Brighton', 'LOC'), ('Portsmouth', 'LOC'), ('Greenwich', 'LOC'), ('London', 'LOC'), ('Falmouth', 'LOC'), ('United Kingdom', 'LOC'), ('Dover', 'LOC'), ('Portland', 'LOC'), ('Scilly Islands', 'LOC')]\n",
      "\n",
      "Total False Negatives:\n",
      "False Negative : ('Plymouth', 'LOC')\n",
      "False Negative : ('Brighton', 'LOC')\n",
      "False Negative : ('Portsmouth', 'LOC')\n",
      "False Negative : ('Greenwich', 'LOC')\n",
      "False Negative : ('London', 'LOC')\n",
      "False Negative : ('Falmouth', 'LOC')\n",
      "False Negative : ('United Kingdom', 'LOC')\n",
      "False Negative : ('Dover', 'LOC')\n",
      "False Negative : ('Portland', 'LOC')\n",
      "False Negative : ('Scilly Islands', 'LOC')\n"
     ]
    }
   ],
   "source": [
    "false_negatives_8 = ground_truth_set_8.difference(newspaper_predictions_set_8)\n",
    "\n",
    "num_false_negatives_8 = len(false_negatives_8)\n",
    "print('False Negatives are present in hand truth but not newspaper model predictions')\n",
    "print(f\"Number of False Negatives: {num_false_negatives_8} in Document 8 - British Almanac 1872\")\n",
    "print()\n",
    "\n",
    "print('False Negatives By Label:')\n",
    "get_reports_by_label(false_negatives_8)\n",
    "print()\n",
    "print('Total False Negatives:')\n",
    "\n",
    "for entity in false_negatives_8:\n",
    "    print(f\"False Negative : {entity}\")"
   ]
  },
  {
   "cell_type": "code",
   "execution_count": 58,
   "metadata": {},
   "outputs": [
    {
     "name": "stdout",
     "output_type": "stream",
     "text": [
      "False Positives are predicted by newspaper model but are not in hand truth\n",
      "Number of False Positives: 1 in Document 8 - British Almanac 1872\n",
      "\n",
      "False Positives By Label:\n",
      "ORG, 1 Total :  [('within each twenty-four', 'ORG')]\n",
      "\n",
      "Total False Positives:\n",
      "False Positive : ('within each twenty-four', 'ORG')\n"
     ]
    }
   ],
   "source": [
    "false_positives_8 = newspaper_predictions_set_8.difference(ground_truth_set_8)\n",
    "\n",
    "num_false_positives_8 = len(false_positives_8)\n",
    "print('False Positives are predicted by newspaper model but are not in hand truth')\n",
    "print(f\"Number of False Positives: {num_false_positives_8} in Document 8 - British Almanac 1872\")\n",
    "print()\n",
    "\n",
    "print('False Positives By Label:')\n",
    "get_reports_by_label(false_positives_8)\n",
    "print()\n",
    "print('Total False Positives:')\n",
    "\n",
    "for entity in false_positives_8:\n",
    "    print(f\"False Positive : {entity}\")"
   ]
  },
  {
   "cell_type": "code",
   "execution_count": 59,
   "metadata": {},
   "outputs": [
    {
     "name": "stdout",
     "output_type": "stream",
     "text": [
      "Evaluation Calculation Reports for Document 8 - British Almanac 1872\n",
      "\n",
      "Recall Score = 0.0\n",
      "Precision Score = 0.0\n",
      "F1 Score = Divide by Zero Issue\n"
     ]
    }
   ],
   "source": [
    "rec_calc_8 = num_true_positives_8 / (num_true_positives_8 + num_false_negatives_8)\n",
    "prec_calc_8 = num_true_positives_8 / (num_true_positives_8 + num_false_positives_8)\n",
    "# f1_calc_8 = (2 * prec_calc_8 * rec_calc_8) / (prec_calc_8 + rec_calc_8)\n",
    "\n",
    "print('Evaluation Calculation Reports for Document 8 - British Almanac 1872')\n",
    "print()\n",
    "print(f'Recall Score = {rec_calc_8}')\n",
    "print(f'Precision Score = {prec_calc_8}')\n",
    "print(f'F1 Score = Divide by Zero Issue')"
   ]
  },
  {
   "cell_type": "markdown",
   "metadata": {},
   "source": [
    "## Document 9 Comparison: Clipping from SDUK Penny Magazine 1833"
   ]
  },
  {
   "cell_type": "code",
   "execution_count": 60,
   "metadata": {},
   "outputs": [
    {
     "data": {
      "text/plain": [
       "[('Society for the Diffusion of Useful Knowledge', 'ORG'),\n",
       " ('Southern Africa', 'LOC'),\n",
       " ('Cape Colony', 'LOC'),\n",
       " ('Northern Africa', 'LOC'),\n",
       " ('South Africa', 'LOC'),\n",
       " ('Europe', 'LOC'),\n",
       " ('South Africa', 'LOC')]"
      ]
     },
     "execution_count": 60,
     "metadata": {},
     "output_type": "execute_result"
    }
   ],
   "source": [
    "hand_annotations_filtered_9 = get_hand_subset_annotations('Useful_Knowledge_Annotations_iob_3/DOCUMENT-omonroe2_illinois_edu/SDUK_PennyMag_Jan5_1833.txt.tsv')\n",
    "hand_annotations_filtered_9"
   ]
  },
  {
   "cell_type": "code",
   "execution_count": 61,
   "metadata": {},
   "outputs": [
    {
     "data": {
      "text/plain": [
       "[('of Useful Knowledge. 49.] PUBLISHED EVERY SATURDAY. [JANUARY 5, 1833. LEOPARD HUNTING. m',\n",
       "  'ORG'),\n",
       " ('him.', 'ORG'),\n",
       " ('of naturalists.', 'LOC')]"
      ]
     },
     "execution_count": 61,
     "metadata": {},
     "output_type": "execute_result"
    }
   ],
   "source": [
    "newspaper_annotations_filtered_9 = get_newspaper_annotations('Useful_Knowledge_Texts/Clipped_Texts/SDUK_PennyMag_Jan5_1833.txt')\n",
    "newspaper_annotations_filtered_9"
   ]
  },
  {
   "cell_type": "code",
   "execution_count": 62,
   "metadata": {},
   "outputs": [
    {
     "name": "stdout",
     "output_type": "stream",
     "text": [
      "True Positives are present in both hand truth and newspaper predictions\n",
      "Number of True Positives: 0 in Document 9 - Penny Magazine 1833\n",
      "\n",
      "True Positives By Label:\n",
      "\n",
      "Total True Positives:\n"
     ]
    }
   ],
   "source": [
    "ground_truth_set_9 = set(hand_annotations_filtered_9)\n",
    "newspaper_predictions_set_9 = set(newspaper_annotations_filtered_9)\n",
    "\n",
    "true_positives_9 = ground_truth_set_9.intersection(newspaper_predictions_set_9)\n",
    "\n",
    "num_true_positives_9 = len(true_positives_9)\n",
    "print('True Positives are present in both hand truth and newspaper predictions')\n",
    "print(f\"Number of True Positives: {num_true_positives_9} in Document 9 - Penny Magazine 1833\")\n",
    "print()\n",
    "\n",
    "print('True Positives By Label:')\n",
    "get_reports_by_label(true_positives_9)\n",
    "print()\n",
    "print('Total True Positives:')\n",
    "\n",
    "for entity in true_positives_9:\n",
    "    print(f\"True Positive: {entity}\")"
   ]
  },
  {
   "cell_type": "code",
   "execution_count": 63,
   "metadata": {},
   "outputs": [
    {
     "name": "stdout",
     "output_type": "stream",
     "text": [
      "False Negatives are present in hand truth but not historical ner model predictions\n",
      "Number of False Negatives: 6 in Document 9 - Penny Magazine 1833\n",
      "\n",
      "False Negatives By Label:\n",
      "LOC, 5 Total :  [('South Africa', 'LOC'), ('Europe', 'LOC'), ('Northern Africa', 'LOC'), ('Cape Colony', 'LOC'), ('Southern Africa', 'LOC')]\n",
      "ORG, 1 Total :  [('Society for the Diffusion of Useful Knowledge', 'ORG')]\n",
      "\n",
      "Total False Negatives:\n",
      "False Negative : ('South Africa', 'LOC')\n",
      "False Negative : ('Europe', 'LOC')\n",
      "False Negative : ('Northern Africa', 'LOC')\n",
      "False Negative : ('Cape Colony', 'LOC')\n",
      "False Negative : ('Society for the Diffusion of Useful Knowledge', 'ORG')\n",
      "False Negative : ('Southern Africa', 'LOC')\n"
     ]
    }
   ],
   "source": [
    "false_negatives_9 = ground_truth_set_9.difference(newspaper_predictions_set_9)\n",
    "\n",
    "num_false_negatives_9 = len(false_negatives_9)\n",
    "print('False Negatives are present in hand truth but not historical ner model predictions')\n",
    "print(f\"Number of False Negatives: {num_false_negatives_9} in Document 9 - Penny Magazine 1833\")\n",
    "print()\n",
    "\n",
    "print('False Negatives By Label:')\n",
    "get_reports_by_label(false_negatives_9)\n",
    "print()\n",
    "print('Total False Negatives:')\n",
    "\n",
    "for entity in false_negatives_9:\n",
    "    print(f\"False Negative : {entity}\")"
   ]
  },
  {
   "cell_type": "code",
   "execution_count": 64,
   "metadata": {},
   "outputs": [
    {
     "name": "stdout",
     "output_type": "stream",
     "text": [
      "False Positives are predicted by newspaper model but are not in hand truth\n",
      "Number of False Positives: 3 in Docuemnt 9 - Penny magazine 1833\n",
      "\n",
      "False Positives By Label:\n",
      "LOC, 1 Total :  [('of naturalists.', 'LOC')]\n",
      "ORG, 2 Total :  [('of Useful Knowledge. 49.] PUBLISHED EVERY SATURDAY. [JANUARY 5, 1833. LEOPARD HUNTING. m', 'ORG'), ('him.', 'ORG')]\n",
      "\n",
      "Total False Positives:\n",
      "False Positive : ('of naturalists.', 'LOC')\n",
      "False Positive : ('of Useful Knowledge. 49.] PUBLISHED EVERY SATURDAY. [JANUARY 5, 1833. LEOPARD HUNTING. m', 'ORG')\n",
      "False Positive : ('him.', 'ORG')\n"
     ]
    }
   ],
   "source": [
    "false_positives_9 = newspaper_predictions_set_9.difference(ground_truth_set_9)\n",
    "\n",
    "num_false_positives_9 = len(false_positives_9)\n",
    "print('False Positives are predicted by newspaper model but are not in hand truth')\n",
    "print(f\"Number of False Positives: {num_false_positives_9} in Docuemnt 9 - Penny magazine 1833\")\n",
    "print()\n",
    "\n",
    "print('False Positives By Label:')\n",
    "get_reports_by_label(false_positives_9)\n",
    "print()\n",
    "print('Total False Positives:')\n",
    "\n",
    "for entity in false_positives_9:\n",
    "    print(f\"False Positive : {entity}\")"
   ]
  },
  {
   "cell_type": "code",
   "execution_count": 65,
   "metadata": {},
   "outputs": [
    {
     "name": "stdout",
     "output_type": "stream",
     "text": [
      "Evaluation Calculation Reports for Document 9 - Penny Magazine 1833\n",
      "\n",
      "Recall Score = 0.0\n",
      "Precision Score = 0.0\n",
      "F1 Score = Divide by Zero Issue\n"
     ]
    }
   ],
   "source": [
    "rec_calc_9 = num_true_positives_9 / (num_true_positives_9 + num_false_negatives_9)\n",
    "prec_calc_9 = num_true_positives_9 / (num_true_positives_9 + num_false_positives_9)\n",
    "# f1_calc_9 = (2 * prec_calc_9 * rec_calc_9) / (prec_calc_9 + rec_calc_9)\n",
    "\n",
    "print('Evaluation Calculation Reports for Document 9 - Penny Magazine 1833')\n",
    "print()\n",
    "print(f'Recall Score = {rec_calc_9}')\n",
    "print(f'Precision Score = {prec_calc_9}')\n",
    "print(f'F1 Score = Divide by Zero Issue')"
   ]
  },
  {
   "cell_type": "markdown",
   "metadata": {},
   "source": [
    "## Document 10 Comparison: Clipping from SDUK Penny Magazine 1832\n"
   ]
  },
  {
   "cell_type": "code",
   "execution_count": 66,
   "metadata": {},
   "outputs": [
    {
     "data": {
      "text/plain": [
       "[('Society for the Diffusion of Useful Knowledge', 'ORG'),\n",
       " ('London', 'LOC'),\n",
       " ('London', 'LOC'),\n",
       " ('CHARING CROSS', 'LOC'),\n",
       " ('England', 'LOC'),\n",
       " ('Paddington', 'LOC'),\n",
       " ('Bank', 'LOC'),\n",
       " ('General Post - Office', 'LOC'),\n",
       " ('Edinburgh', 'LOC')]"
      ]
     },
     "execution_count": 66,
     "metadata": {},
     "output_type": "execute_result"
    }
   ],
   "source": [
    "hand_annotations_filtered_10 = get_hand_subset_annotations('Useful_Knowledge_Annotations_iob_3/DOCUMENT-omonroe2_illinois_edu/SDUK_PennyMag_Mar31_1832.txt.tsv')\n",
    "hand_annotations_filtered_10"
   ]
  },
  {
   "cell_type": "code",
   "execution_count": 67,
   "metadata": {},
   "outputs": [
    {
     "data": {
      "text/plain": [
       "[('Knowledge. 6 1.] PUBLISHED EVERY', 'ORG'),\n",
       " ('1832.', 'ORG'),\n",
       " ('READING FOR ALL. events, can only be corrected by', 'ORG'),\n",
       " ('range', 'ORG')]"
      ]
     },
     "execution_count": 67,
     "metadata": {},
     "output_type": "execute_result"
    }
   ],
   "source": [
    "newspaper_annotations_filtered_10 = get_newspaper_annotations('Useful_Knowledge_Texts/Clipped_Texts/SDUK_PennyMag_Mar31_1832.txt')\n",
    "newspaper_annotations_filtered_10"
   ]
  },
  {
   "cell_type": "code",
   "execution_count": 68,
   "metadata": {},
   "outputs": [
    {
     "name": "stdout",
     "output_type": "stream",
     "text": [
      "True Positives are present in both hand truth and newspaper predictions\n",
      "Number of True Positives: 0 in Document 10 - Penny Magazine 1832\n",
      "\n",
      "True Positives By Label:\n",
      "\n",
      "Total True Positives:\n"
     ]
    }
   ],
   "source": [
    "ground_truth_set_10 = set(hand_annotations_filtered_10)\n",
    "newspaper_predictions_set_10 = set(newspaper_annotations_filtered_10)\n",
    "\n",
    "true_positives_10 = ground_truth_set_10.intersection(newspaper_predictions_set_10)\n",
    "\n",
    "num_true_positives_10 = len(true_positives_10)\n",
    "print('True Positives are present in both hand truth and newspaper predictions')\n",
    "print(f\"Number of True Positives: {num_true_positives_10} in Document 10 - Penny Magazine 1832\")\n",
    "print()\n",
    "\n",
    "print('True Positives By Label:')\n",
    "get_reports_by_label(true_positives_10)\n",
    "print()\n",
    "print('Total True Positives:')\n",
    "\n",
    "for entity in true_positives_10:\n",
    "    print(f\"True Positive: {entity}\")"
   ]
  },
  {
   "cell_type": "code",
   "execution_count": 69,
   "metadata": {},
   "outputs": [
    {
     "name": "stdout",
     "output_type": "stream",
     "text": [
      "False Negatives are present in hand truth but not newspaper model predictions\n",
      "Number of False Negatives: 8 in Document 10 - Penny Magazine 1832\n",
      "\n",
      "False Negatives By Label:\n",
      "LOC, 7 Total :  [('Paddington', 'LOC'), ('CHARING CROSS', 'LOC'), ('General Post - Office', 'LOC'), ('London', 'LOC'), ('Edinburgh', 'LOC'), ('Bank', 'LOC'), ('England', 'LOC')]\n",
      "ORG, 1 Total :  [('Society for the Diffusion of Useful Knowledge', 'ORG')]\n",
      "\n",
      "Total False Negatives:\n",
      "False Negative : ('Paddington', 'LOC')\n",
      "False Negative : ('CHARING CROSS', 'LOC')\n",
      "False Negative : ('General Post - Office', 'LOC')\n",
      "False Negative : ('London', 'LOC')\n",
      "False Negative : ('Edinburgh', 'LOC')\n",
      "False Negative : ('Bank', 'LOC')\n",
      "False Negative : ('Society for the Diffusion of Useful Knowledge', 'ORG')\n",
      "False Negative : ('England', 'LOC')\n"
     ]
    }
   ],
   "source": [
    "false_negatives_10 = ground_truth_set_10.difference(newspaper_predictions_set_10)\n",
    "\n",
    "num_false_negatives_10 = len(false_negatives_10)\n",
    "print('False Negatives are present in hand truth but not newspaper model predictions')\n",
    "print(f\"Number of False Negatives: {num_false_negatives_10} in Document 10 - Penny Magazine 1832\")\n",
    "print()\n",
    "\n",
    "print('False Negatives By Label:')\n",
    "get_reports_by_label(false_negatives_10)\n",
    "print()\n",
    "print('Total False Negatives:')\n",
    "\n",
    "for entity in false_negatives_10:\n",
    "    print(f\"False Negative : {entity}\")"
   ]
  },
  {
   "cell_type": "code",
   "execution_count": 70,
   "metadata": {},
   "outputs": [
    {
     "name": "stdout",
     "output_type": "stream",
     "text": [
      "False Positives are predicted by newspaper model but are not in hand truth\n",
      "Number of False Positives: 4 in Document 10 - Penny Magazine 1832\n",
      "\n",
      "False Positives By Label:\n",
      "ORG, 4 Total :  [('READING FOR ALL. events, can only be corrected by', 'ORG'), ('1832.', 'ORG'), ('Knowledge. 6 1.] PUBLISHED EVERY', 'ORG'), ('range', 'ORG')]\n",
      "\n",
      "Total False Positives:\n",
      "False Positive : ('READING FOR ALL. events, can only be corrected by', 'ORG')\n",
      "False Positive : ('1832.', 'ORG')\n",
      "False Positive : ('Knowledge. 6 1.] PUBLISHED EVERY', 'ORG')\n",
      "False Positive : ('range', 'ORG')\n"
     ]
    }
   ],
   "source": [
    "false_positives_10 = newspaper_predictions_set_10.difference(ground_truth_set_10)\n",
    "\n",
    "num_false_positives_10 = len(false_positives_10)\n",
    "print('False Positives are predicted by newspaper model but are not in hand truth')\n",
    "print(f\"Number of False Positives: {num_false_positives_10} in Document 10 - Penny Magazine 1832\")\n",
    "print()\n",
    "\n",
    "print('False Positives By Label:')\n",
    "get_reports_by_label(false_positives_10)\n",
    "print()\n",
    "print('Total False Positives:')\n",
    "\n",
    "for entity in false_positives_10:\n",
    "    print(f\"False Positive : {entity}\")"
   ]
  },
  {
   "cell_type": "code",
   "execution_count": 71,
   "metadata": {},
   "outputs": [
    {
     "name": "stdout",
     "output_type": "stream",
     "text": [
      "Evaluation Calculation Reports for Document 10 - Penny Magazine 1832\n",
      "\n",
      "Recall Score = 0.0\n",
      "Precision Score = 0.0\n",
      "F1 Score = Divide by Zero Issue\n"
     ]
    }
   ],
   "source": [
    "rec_calc_10 = num_true_positives_10 / (num_true_positives_10 + num_false_negatives_10)\n",
    "prec_calc_10 = num_true_positives_10 / (num_true_positives_10 + num_false_positives_10)\n",
    "# f1_calc_10 = (2 * prec_calc_10 * rec_calc_10) / (prec_calc_10 + rec_calc_10)\n",
    "\n",
    "print('Evaluation Calculation Reports for Document 10 - Penny Magazine 1832')\n",
    "print()\n",
    "print(f'Recall Score = {rec_calc_10}')\n",
    "print(f'Precision Score = {prec_calc_10}')\n",
    "print(f'F1 Score = Divide by Zero Issue')"
   ]
  },
  {
   "cell_type": "markdown",
   "metadata": {},
   "source": [
    "## Final Evaluations and Calculations Across Documents\n",
    "Precision, Recall, F1, and Tags"
   ]
  },
  {
   "cell_type": "code",
   "execution_count": 78,
   "metadata": {},
   "outputs": [
    {
     "name": "stdout",
     "output_type": "stream",
     "text": [
      "Average Evaluation Reports Across All 10 Documents using the Newspaper Model\n",
      "\n",
      "Average Recall Score Across the 10 Documents = 0.002631578947368421\n",
      "Average Precision Score Across 8 Documents = 0.041666666666666664 , Document 6 and 7 had NO Predictions within the Subset\n",
      "\n",
      "After feature selection, there were 152 Total Hand Annotations and 26 Total Newspaper Model Annotations across all subsets for all 10 Document.\n",
      "Only the annotation {('France', 'LOC')} for Document 1 Matched, as a result F1 scores could not be meaningfully calculated.\n"
     ]
    }
   ],
   "source": [
    "\n",
    "total_avg_rec_score = (rec_calc + rec_calc_2 + rec_calc_3 + rec_calc_4 + rec_calc_5 + rec_calc_6 + rec_calc_7 + rec_calc_8 + rec_calc_9 + rec_calc_10) / 10\n",
    "total_avg_prec_score = (prec_calc + prec_calc_2 + prec_calc_3 + prec_calc_4 + prec_calc_5 + prec_calc_8 + prec_calc_9 + prec_calc_10) / 8\n",
    "\n",
    "\n",
    "Total_Hand_Tags = len(hand_annotations_filtered_1) + len(hand_annotations_filtered_2) + len(hand_annotations_filtered_3) + len(hand_annotations_filtered_4) + len(hand_annotations_filtered_5) + len(hand_annotations_filtered_6) + len(hand_annotations_filtered_7) + len(hand_annotations_filtered_8) + len(hand_annotations_filtered_9) +  len(hand_annotations_filtered_10)\n",
    "\n",
    "Total_Newspaper_Tags = len(newspaper_annotations_filtered_1) + len(newspaper_annotations_filtered_2) + len(newspaper_annotations_filtered_3) + len(newspaper_annotations_filtered_4) + len(newspaper_annotations_filtered_5) + len(newspaper_annotations_filtered_6) + len(newspaper_annotations_filtered_7) + len(newspaper_annotations_filtered_8) + len(newspaper_annotations_filtered_9) + len(newspaper_annotations_filtered_10)\n",
    "\n",
    "print\n",
    "\n",
    "print('Average Evaluation Reports Across All 10 Documents using the Newspaper Model')\n",
    "print()\n",
    "print(f'Average Recall Score Across the 10 Documents = {total_avg_rec_score}')\n",
    "print(f'Average Precision Score Across 8 Documents = {total_avg_prec_score} , Document 6 and 7 had NO Predictions within the Subset')\n",
    "print()\n",
    "print(f'After feature selection, there were {Total_Hand_Tags} Total Hand Annotations and {Total_Newspaper_Tags} Total Newspaper Model Annotations across all subsets for all 10 Document.')\n",
    "print(f'Only the annotation {true_positives} for Document 1 Matched, as a result F1 scores could not be meaningfully calculated.')"
   ]
  },
  {
   "cell_type": "code",
   "execution_count": 73,
   "metadata": {},
   "outputs": [
    {
     "name": "stdout",
     "output_type": "stream",
     "text": [
      "Total True Positives by Tag Across all 10 Documents\n",
      "True Positive are in both hand and newspaper annotations \n",
      "Number of Total True Positives = 1\n",
      "\n",
      "LOC, 1 Total :  [('France', 'LOC')]\n"
     ]
    }
   ],
   "source": [
    "combined_tp= true_positives.union(true_positives_2).union(true_positives_3).union(true_positives_4).union(true_positives_5).union(true_positives_6).union(true_positives_7).union(true_positives_8).union(true_positives_9).union(true_positives_10)\n",
    "num_true_positives_total = len(combined_tp)\n",
    "\n",
    "tag_lists = {}\n",
    "\n",
    "# Organize tuples into separate lists based on tags\n",
    "for token, tag in combined_tp:\n",
    "    if tag not in tag_lists:\n",
    "        tag_lists[tag] = [(token, tag)]\n",
    "    else:\n",
    "        tag_lists[tag].append((token, tag))\n",
    "\n",
    "# Convert the dictionaries to lists\n",
    "lists_by_tag = list(tag_lists.values())\n",
    "\n",
    "print('Total True Positives by Tag Across all 10 Documents')\n",
    "print('True Positive are in both hand and newspaper annotations ')\n",
    "print(f'Number of Total True Positives = {num_true_positives_total}')\n",
    "print()\n",
    "# Print the lists organized by tag\n",
    "for tag_list in lists_by_tag:\n",
    "    print(f\"{tag_list[0][1]}, {len(tag_list)} Total : \", tag_list)"
   ]
  },
  {
   "cell_type": "code",
   "execution_count": 74,
   "metadata": {},
   "outputs": [
    {
     "name": "stdout",
     "output_type": "stream",
     "text": [
      "Total False Negatives by Tag Across all 10 Documents\n",
      "False Negatives are present in hand truth but not newspaper predictions\n",
      "Number of Total False Negatives = 120\n",
      "\n",
      "LOC, 89 Total :  [('Isle of France', 'LOC'), ('Plymouth', 'LOC'), ('Daaphlny', 'LOC'), ('Languedoc', 'LOC'), ('Gate - house', 'LOC'), ('Capital', 'LOC'), ('Jura mountains', 'LOC'), ('Bayonne', 'LOC'), ('Portsmouth', 'LOC'), ('General Post - Office', 'LOC'), ('Edinburgh', 'LOC'), ('Ain', 'LOC'), ('Maycnne', 'LOC'), ('Southern Africa', 'LOC'), ('Flanders', 'LOC'), (\"Moots d'Or\", 'LOC'), ('Dordi', 'LOC'), ('Mont Lozcre', 'LOC'), ('Cape Colony', 'LOC'), ('Sarthe', 'LOC'), ('Glasgow', 'LOC'), ('Moukden', 'LOC'), ('Nanking', 'LOC'), ('Bank', 'LOC'), ('Isire', 'LOC'), ('Sorgue', 'LOC'), ('Ga - ronne', 'LOC'), ('Rhine', 'LOC'), ('China', 'LOC'), ('Paddington', 'LOC'), ('Marne', 'LOC'), ('Durance', 'LOC'), ('Colonies', 'LOC'), ('Artuis', 'LOC'), ('Tientsin', 'LOC'), ('Provence', 'LOC'), ('Shanghai', 'LOC'), ('Western Civilization', 'LOC'), ('mountains of Auvergne', 'LOC'), ('Guest - Hall', 'LOC'), ('Normandy', 'LOC'), ('Chefoo', 'LOC'), ('Cres - cent House', 'LOC'), ('emporiums of commerce', 'LOC'), ('Brighton', 'LOC'), ('Europe', 'LOC'), ('Limarne', 'LOC'), ('Auvergne', 'LOC'), ('Spain', 'LOC'), ('Ham', 'LOC'), ('East', 'LOC'), ('Peking', 'LOC'), ('Pyrenees', 'LOC'), ('England', 'LOC'), ('South Africa', 'LOC'), ('EDINBURGIT', 'LOC'), ('county', 'LOC'), ('18 Provinces', 'LOC'), ('United Kingdom', 'LOC'), ('Dover', 'LOC'), ('Loire', 'LOC'), ('Northern Africa', 'LOC'), ('Leicestershire', 'LOC'), ('Greenwich', 'LOC'), ('Christian Literature Society', 'LOC'), ('Hampstead', 'LOC'), ('Saoue', 'LOC'), ('cities', 'LOC'), ('Puy de Dome', 'LOC'), ('Empire', 'LOC'), ('Scilly Islands', 'LOC'), ('Oise', 'LOC'), ('CHARING CROSS', 'LOC'), ('Benedictine convent', 'LOC'), ('Seine', 'LOC'), ('Rhone', 'LOC'), ('Tarn', 'LOC'), ('Picardy', 'LOC'), ('Garonne', 'LOC'), ('Falmouth', 'LOC'), ('Portland', 'LOC'), ('Shensi', 'LOC'), ('Lilliput', 'LOC'), ('place of abode', 'LOC'), ('Adour', 'LOC'), ('London', 'LOC'), ('provinces', 'LOC'), ('WHITEFRIARS', 'LOC'), ('Dependencies', 'LOC')]\n",
      "ORG, 12 Total :  [('Chinese Book and Tract Society', 'ORG'), ('United Society of Christian', 'ORG'), ('intelligent classes in China', 'ORG'), ('Society for tbe Diffusion of Christian anO General IRnowlehae among the Chinese', 'ORG'), ('Society for the Diffusion of Christian and General Knowledge among the Chinese', 'ORG'), ('Branch Depdts', 'ORG'), ('Society for the Diffusion of Useful Knowledge', 'ORG'), ('the Society', 'ORG'), ('Board', 'ORG'), ('Lilliputians', 'ORG'), ('the Book and Tract Society of China', 'ORG'), ('Society', 'ORG')]\n",
      "PER, 19 Total :  [('Smollett', 'PER'), ('Empress Dowager', 'PER'), ('Miriam Clint', 'PER'), ('Mr Clint', 'PER'), ('Dr . Williamson', 'PER'), ('Parson Adams', 'PER'), ('Shakspeare', 'PER'), ('CHAMBERS', 'PER'), ('Rev . P . Kranz', 'PER'), ('Fielding', 'PER'), ('Dr . Faber', 'PER'), ('ROBERT CHAMBERS', 'PER'), ('WILLIAM', 'PER'), ('George Jamieson', 'PER'), ('MIRIAM CLINT', 'PER'), ('EVANS', 'PER'), ('ROBERT', 'PER'), ('BRADBURY', 'PER'), ('Miriam', 'PER')]\n"
     ]
    }
   ],
   "source": [
    "combined_fn= false_negatives.union(false_negatives_2).union(false_negatives_3).union(false_negatives_4).union(false_negatives_5).union(false_negatives_6).union(false_negatives_7).union(false_negatives_8).union(false_negatives_9).union(false_negatives_10)\n",
    "num_false_negatives_total = len(combined_fn)\n",
    "\n",
    "tag_lists = {}\n",
    "\n",
    "# Organize tuples into separate lists based on tags\n",
    "for token, tag in combined_fn:\n",
    "    if tag not in tag_lists:\n",
    "        tag_lists[tag] = [(token, tag)]\n",
    "    else:\n",
    "        tag_lists[tag].append((token, tag))\n",
    "\n",
    "# Convert the dictionaries to lists\n",
    "lists_by_tag = list(tag_lists.values())\n",
    "\n",
    "print('Total False Negatives by Tag Across all 10 Documents')\n",
    "print('False Negatives are present in hand truth but not newspaper predictions')\n",
    "print(f'Number of Total False Negatives = {num_false_negatives_total}')\n",
    "print()\n",
    "# Print the lists organized by tag\n",
    "for tag_list in lists_by_tag:\n",
    "    print(f\"{tag_list[0][1]}, {len(tag_list)} Total : \", tag_list)"
   ]
  },
  {
   "cell_type": "code",
   "execution_count": 75,
   "metadata": {},
   "outputs": [
    {
     "name": "stdout",
     "output_type": "stream",
     "text": [
      "Total False Positives by Tag Across all 10 Documents\n",
      "False Positives are predicted by newspaper but are not in hand truth\n",
      "Number of Total False Positives = 25\n",
      "\n",
      "ORG, 11 Total :  [('1832.', 'ORG'), ('within each twenty-four', 'ORG'), ('&', 'ORG'), ('range', 'ORG'), ('CONDUCTED BY WILLIAM AND ROBERT OF SATURDAY, JANUARY A GOLDEN CHAMBERS.', 'ORG'), ('YGMST §®©0ITY a * — Article I. Society', 'ORG'), ('READING FOR ALL. events, can only be corrected by', 'ORG'), ('Knowledge. 6 1.] PUBLISHED EVERY', 'ORG'), ('of Useful Knowledge. 49.] PUBLISHED EVERY SATURDAY. [JANUARY 5, 1833. LEOPARD HUNTING. m', 'ORG'), ('him.', 'ORG'), (\"'coming out,' like other girls of\", 'ORG')]\n",
      "PER, 8 Total :  [('suppose that it must', 'PER'), ('JANUARY 26, 1839. PRICE THREE HALFPENSE.', 'PER'), ('eighteen years old, and', 'PER'), ('loads of meat, for', 'PER'), ('had her', 'PER'), ('THE PEOPLE,\" “', 'PER'), ('FOR', 'PER'), ('LONDON. NUMBER 365.', 'PER')]\n",
      "LOC, 6 Total :  [('north-east. They are of the', 'LOC'), ('the', 'LOC'), ('of naturalists.', 'LOC'), ('much', 'LOC'), ('CHAMBERS,', 'LOC'), ('ROBERT', 'LOC')]\n"
     ]
    }
   ],
   "source": [
    "combined_fp= false_positives.union(false_positives_2).union(false_positives_3).union(false_positives_4).union(false_positives_5).union(false_positives_6).union(false_positives_7).union(false_positives_8).union(false_positives_9).union(false_positives_10)\n",
    "num_false_positives_total = len(combined_fp)\n",
    "\n",
    "tag_lists = {}\n",
    "\n",
    "# Organize tuples into separate lists based on tags\n",
    "for token, tag in combined_fp:\n",
    "    if tag not in tag_lists:\n",
    "        tag_lists[tag] = [(token, tag)]\n",
    "    else:\n",
    "        tag_lists[tag].append((token, tag))\n",
    "\n",
    "# Convert the dictionaries to lists\n",
    "lists_by_tag = list(tag_lists.values())\n",
    "\n",
    "print('Total False Positives by Tag Across all 10 Documents')\n",
    "print('False Positives are predicted by newspaper but are not in hand truth')\n",
    "print(f'Number of Total False Positives = {num_false_positives_total}')\n",
    "print()\n",
    "# Print the lists organized by tag\n",
    "for tag_list in lists_by_tag:\n",
    "    print(f\"{tag_list[0][1]}, {len(tag_list)} Total : \", tag_list)"
   ]
  },
  {
   "cell_type": "code",
   "execution_count": 76,
   "metadata": {},
   "outputs": [
    {
     "name": "stdout",
     "output_type": "stream",
     "text": [
      "Evaluation Calculation Reports for All 10 Documents\n",
      "\n",
      "Total True Positives = 1\n",
      "Total False Negatives = 120\n",
      "Total False Positives = 25\n",
      "\n",
      "Total Recall Score = 0.008264462809917356\n",
      "Total Precision Score = 0.038461538461538464\n",
      "Total F1 Score = 0.013605442176870748\n"
     ]
    }
   ],
   "source": [
    "\n",
    "rec_calc_total = num_true_positives_total / (num_true_positives_total + num_false_negatives_total)\n",
    "prec_calc_total = num_true_positives_total / (num_true_positives_total + num_false_positives_total)\n",
    "f1_calc_total = (2 * prec_calc_total * rec_calc_total) / (prec_calc_total + rec_calc_total)\n",
    "\n",
    "print(f'Evaluation Calculation Reports for All 10 Documents')\n",
    "print()\n",
    "print(f'Total True Positives = {num_true_positives_total}')\n",
    "print(f'Total False Negatives = {num_false_negatives_total}')\n",
    "print(f'Total False Positives = {num_false_positives_total}')\n",
    "print()\n",
    "print(f'Total Recall Score = {rec_calc_total}')\n",
    "print(f'Total Precision Score = {prec_calc_total}')\n",
    "print(f'Total F1 Score = {f1_calc_total}')"
   ]
  },
  {
   "cell_type": "code",
   "execution_count": null,
   "metadata": {},
   "outputs": [],
   "source": []
  }
 ],
 "metadata": {
  "kernelspec": {
   "display_name": "textminingvis",
   "language": "python",
   "name": "python3"
  },
  "language_info": {
   "codemirror_mode": {
    "name": "ipython",
    "version": 3
   },
   "file_extension": ".py",
   "mimetype": "text/x-python",
   "name": "python",
   "nbconvert_exporter": "python",
   "pygments_lexer": "ipython3",
   "version": "3.8.17"
  }
 },
 "nbformat": 4,
 "nbformat_minor": 2
}
