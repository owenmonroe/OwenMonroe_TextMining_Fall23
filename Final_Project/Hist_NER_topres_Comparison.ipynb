{
 "cells": [
  {
   "cell_type": "markdown",
   "metadata": {},
   "source": [
    "## This is Owen Monroe's Notebook for the IS 567 Text Mining Final Project - Topres and Hand Annotation Comparison\n",
    "This notebook evaluates NER models and tagging, comparing the topres historical NER model to my own hand-annotated data. The \"topres\" model was found on huggingface and is trained on historical english language newspapers. The text data comes from downloaded files from the Hathi-Trust Digital Library. These texts are 19th Century Magazines from the publishers, The Society for the Diffusion of Useful Knowledge, the William and Robert Chambers, and the Society for the Diffusion of Christian and General Knowledge among the Chinese. "
   ]
  },
  {
   "cell_type": "code",
   "execution_count": 1,
   "metadata": {},
   "outputs": [
    {
     "name": "stdout",
     "output_type": "stream",
     "text": [
      "Requirement already satisfied: flair in /Users/owenmonroe/anaconda3/envs/textmining/lib/python3.8/site-packages (0.13.0)\n",
      "Requirement already satisfied: boto3>=1.20.27 in /Users/owenmonroe/anaconda3/envs/textmining/lib/python3.8/site-packages (from flair) (1.33.6)\n",
      "Requirement already satisfied: bpemb>=0.3.2 in /Users/owenmonroe/anaconda3/envs/textmining/lib/python3.8/site-packages (from flair) (0.3.4)\n",
      "Requirement already satisfied: conllu>=4.0 in /Users/owenmonroe/anaconda3/envs/textmining/lib/python3.8/site-packages (from flair) (4.5.3)\n",
      "Requirement already satisfied: deprecated>=1.2.13 in /Users/owenmonroe/anaconda3/envs/textmining/lib/python3.8/site-packages (from flair) (1.2.14)\n",
      "Requirement already satisfied: ftfy>=6.1.0 in /Users/owenmonroe/anaconda3/envs/textmining/lib/python3.8/site-packages (from flair) (6.1.3)\n",
      "Requirement already satisfied: gdown>=4.4.0 in /Users/owenmonroe/anaconda3/envs/textmining/lib/python3.8/site-packages (from flair) (4.7.1)\n",
      "Requirement already satisfied: gensim>=4.2.0 in /Users/owenmonroe/anaconda3/envs/textmining/lib/python3.8/site-packages (from flair) (4.3.2)\n",
      "Requirement already satisfied: huggingface-hub>=0.10.0 in /Users/owenmonroe/anaconda3/envs/textmining/lib/python3.8/site-packages (from flair) (0.17.3)\n",
      "Requirement already satisfied: janome>=0.4.2 in /Users/owenmonroe/anaconda3/envs/textmining/lib/python3.8/site-packages (from flair) (0.5.0)\n",
      "Requirement already satisfied: langdetect>=1.0.9 in /Users/owenmonroe/anaconda3/envs/textmining/lib/python3.8/site-packages (from flair) (1.0.9)\n",
      "Requirement already satisfied: lxml>=4.8.0 in /Users/owenmonroe/anaconda3/envs/textmining/lib/python3.8/site-packages (from flair) (4.9.2)\n",
      "Requirement already satisfied: matplotlib>=2.2.3 in /Users/owenmonroe/anaconda3/envs/textmining/lib/python3.8/site-packages (from flair) (3.4.2)\n",
      "Requirement already satisfied: more-itertools>=8.13.0 in /Users/owenmonroe/anaconda3/envs/textmining/lib/python3.8/site-packages (from flair) (10.1.0)\n",
      "Requirement already satisfied: mpld3>=0.3 in /Users/owenmonroe/anaconda3/envs/textmining/lib/python3.8/site-packages (from flair) (0.5.9)\n",
      "Requirement already satisfied: pptree>=3.1 in /Users/owenmonroe/anaconda3/envs/textmining/lib/python3.8/site-packages (from flair) (3.1)\n",
      "Requirement already satisfied: python-dateutil>=2.8.2 in /Users/owenmonroe/anaconda3/envs/textmining/lib/python3.8/site-packages (from flair) (2.8.2)\n",
      "Requirement already satisfied: pytorch-revgrad>=0.2.0 in /Users/owenmonroe/anaconda3/envs/textmining/lib/python3.8/site-packages (from flair) (0.2.0)\n",
      "Requirement already satisfied: regex>=2022.1.18 in /Users/owenmonroe/anaconda3/envs/textmining/lib/python3.8/site-packages (from flair) (2022.7.9)\n",
      "Requirement already satisfied: scikit-learn>=1.0.2 in /Users/owenmonroe/anaconda3/envs/textmining/lib/python3.8/site-packages (from flair) (1.3.2)\n",
      "Requirement already satisfied: segtok>=1.5.11 in /Users/owenmonroe/anaconda3/envs/textmining/lib/python3.8/site-packages (from flair) (1.5.11)\n",
      "Requirement already satisfied: sqlitedict>=2.0.0 in /Users/owenmonroe/anaconda3/envs/textmining/lib/python3.8/site-packages (from flair) (2.1.0)\n",
      "Requirement already satisfied: tabulate>=0.8.10 in /Users/owenmonroe/anaconda3/envs/textmining/lib/python3.8/site-packages (from flair) (0.9.0)\n",
      "Requirement already satisfied: torch!=1.8,>=1.5.0 in /Users/owenmonroe/anaconda3/envs/textmining/lib/python3.8/site-packages (from flair) (2.1.0)\n",
      "Requirement already satisfied: tqdm>=4.63.0 in /Users/owenmonroe/anaconda3/envs/textmining/lib/python3.8/site-packages (from flair) (4.66.1)\n",
      "Requirement already satisfied: transformer-smaller-training-vocab>=0.2.3 in /Users/owenmonroe/anaconda3/envs/textmining/lib/python3.8/site-packages (from flair) (0.3.2)\n",
      "Requirement already satisfied: transformers[sentencepiece]<5.0.0,>=4.18.0 in /Users/owenmonroe/anaconda3/envs/textmining/lib/python3.8/site-packages (from flair) (4.35.0)\n",
      "Requirement already satisfied: urllib3<2.0.0,>=1.0.0 in /Users/owenmonroe/anaconda3/envs/textmining/lib/python3.8/site-packages (from flair) (1.26.18)\n",
      "Requirement already satisfied: wikipedia-api>=0.5.7 in /Users/owenmonroe/anaconda3/envs/textmining/lib/python3.8/site-packages (from flair) (0.6.0)\n",
      "Requirement already satisfied: semver<4.0.0,>=3.0.0 in /Users/owenmonroe/anaconda3/envs/textmining/lib/python3.8/site-packages (from flair) (3.0.2)\n",
      "Requirement already satisfied: botocore<1.34.0,>=1.33.6 in /Users/owenmonroe/anaconda3/envs/textmining/lib/python3.8/site-packages (from boto3>=1.20.27->flair) (1.33.6)\n",
      "Requirement already satisfied: jmespath<2.0.0,>=0.7.1 in /Users/owenmonroe/anaconda3/envs/textmining/lib/python3.8/site-packages (from boto3>=1.20.27->flair) (1.0.1)\n",
      "Requirement already satisfied: s3transfer<0.9.0,>=0.8.2 in /Users/owenmonroe/anaconda3/envs/textmining/lib/python3.8/site-packages (from boto3>=1.20.27->flair) (0.8.2)\n",
      "Requirement already satisfied: numpy in /Users/owenmonroe/anaconda3/envs/textmining/lib/python3.8/site-packages (from bpemb>=0.3.2->flair) (1.24.3)\n",
      "Requirement already satisfied: requests in /Users/owenmonroe/anaconda3/envs/textmining/lib/python3.8/site-packages (from bpemb>=0.3.2->flair) (2.31.0)\n",
      "Requirement already satisfied: sentencepiece in /Users/owenmonroe/anaconda3/envs/textmining/lib/python3.8/site-packages (from bpemb>=0.3.2->flair) (0.1.99)\n",
      "Requirement already satisfied: wrapt<2,>=1.10 in /Users/owenmonroe/anaconda3/envs/textmining/lib/python3.8/site-packages (from deprecated>=1.2.13->flair) (1.15.0)\n",
      "Requirement already satisfied: wcwidth<0.3.0,>=0.2.12 in /Users/owenmonroe/anaconda3/envs/textmining/lib/python3.8/site-packages (from ftfy>=6.1.0->flair) (0.2.12)\n",
      "Requirement already satisfied: filelock in /Users/owenmonroe/anaconda3/envs/textmining/lib/python3.8/site-packages (from gdown>=4.4.0->flair) (3.12.4)\n",
      "Requirement already satisfied: six in /Users/owenmonroe/anaconda3/envs/textmining/lib/python3.8/site-packages (from gdown>=4.4.0->flair) (1.16.0)\n",
      "Requirement already satisfied: beautifulsoup4 in /Users/owenmonroe/anaconda3/envs/textmining/lib/python3.8/site-packages (from gdown>=4.4.0->flair) (4.12.2)\n",
      "Requirement already satisfied: scipy>=1.7.0 in /Users/owenmonroe/anaconda3/envs/textmining/lib/python3.8/site-packages (from gensim>=4.2.0->flair) (1.10.1)\n",
      "Requirement already satisfied: smart-open>=1.8.1 in /Users/owenmonroe/anaconda3/envs/textmining/lib/python3.8/site-packages (from gensim>=4.2.0->flair) (5.2.1)\n",
      "Requirement already satisfied: fsspec in /Users/owenmonroe/anaconda3/envs/textmining/lib/python3.8/site-packages (from huggingface-hub>=0.10.0->flair) (2023.10.0)\n",
      "Requirement already satisfied: pyyaml>=5.1 in /Users/owenmonroe/anaconda3/envs/textmining/lib/python3.8/site-packages (from huggingface-hub>=0.10.0->flair) (6.0.1)\n",
      "Requirement already satisfied: typing-extensions>=3.7.4.3 in /Users/owenmonroe/anaconda3/envs/textmining/lib/python3.8/site-packages (from huggingface-hub>=0.10.0->flair) (4.5.0)\n",
      "Requirement already satisfied: packaging>=20.9 in /Users/owenmonroe/anaconda3/envs/textmining/lib/python3.8/site-packages (from huggingface-hub>=0.10.0->flair) (23.1)\n",
      "Requirement already satisfied: cycler>=0.10 in /Users/owenmonroe/anaconda3/envs/textmining/lib/python3.8/site-packages (from matplotlib>=2.2.3->flair) (0.11.0)\n",
      "Requirement already satisfied: kiwisolver>=1.0.1 in /Users/owenmonroe/anaconda3/envs/textmining/lib/python3.8/site-packages (from matplotlib>=2.2.3->flair) (1.4.4)\n",
      "Requirement already satisfied: pillow>=6.2.0 in /Users/owenmonroe/anaconda3/envs/textmining/lib/python3.8/site-packages (from matplotlib>=2.2.3->flair) (9.4.0)\n",
      "Requirement already satisfied: pyparsing>=2.2.1 in /Users/owenmonroe/anaconda3/envs/textmining/lib/python3.8/site-packages (from matplotlib>=2.2.3->flair) (3.0.9)\n",
      "Requirement already satisfied: jinja2 in /Users/owenmonroe/anaconda3/envs/textmining/lib/python3.8/site-packages (from mpld3>=0.3->flair) (3.1.2)\n",
      "Requirement already satisfied: joblib>=1.1.1 in /Users/owenmonroe/anaconda3/envs/textmining/lib/python3.8/site-packages (from scikit-learn>=1.0.2->flair) (1.2.0)\n",
      "Requirement already satisfied: threadpoolctl>=2.0.0 in /Users/owenmonroe/anaconda3/envs/textmining/lib/python3.8/site-packages (from scikit-learn>=1.0.2->flair) (2.2.0)\n",
      "Requirement already satisfied: sympy in /Users/owenmonroe/anaconda3/envs/textmining/lib/python3.8/site-packages (from torch!=1.8,>=1.5.0->flair) (1.12)\n",
      "Requirement already satisfied: networkx in /Users/owenmonroe/anaconda3/envs/textmining/lib/python3.8/site-packages (from torch!=1.8,>=1.5.0->flair) (3.1)\n",
      "Requirement already satisfied: tokenizers<0.15,>=0.14 in /Users/owenmonroe/anaconda3/envs/textmining/lib/python3.8/site-packages (from transformers[sentencepiece]<5.0.0,>=4.18.0->flair) (0.14.1)\n",
      "Requirement already satisfied: safetensors>=0.3.1 in /Users/owenmonroe/anaconda3/envs/textmining/lib/python3.8/site-packages (from transformers[sentencepiece]<5.0.0,>=4.18.0->flair) (0.4.0)\n",
      "Requirement already satisfied: protobuf in /Users/owenmonroe/anaconda3/envs/textmining/lib/python3.8/site-packages (from transformers[sentencepiece]<5.0.0,>=4.18.0->flair) (4.24.4)\n",
      "Requirement already satisfied: accelerate>=0.20.3 in /Users/owenmonroe/anaconda3/envs/textmining/lib/python3.8/site-packages (from transformers[sentencepiece]<5.0.0,>=4.18.0->flair) (0.24.1)\n",
      "Requirement already satisfied: soupsieve>1.2 in /Users/owenmonroe/anaconda3/envs/textmining/lib/python3.8/site-packages (from beautifulsoup4->gdown>=4.4.0->flair) (2.4)\n",
      "Requirement already satisfied: MarkupSafe>=2.0 in /Users/owenmonroe/anaconda3/envs/textmining/lib/python3.8/site-packages (from jinja2->mpld3>=0.3->flair) (2.1.3)\n",
      "Requirement already satisfied: charset-normalizer<4,>=2 in /Users/owenmonroe/anaconda3/envs/textmining/lib/python3.8/site-packages (from requests->bpemb>=0.3.2->flair) (3.2.0)\n",
      "Requirement already satisfied: idna<4,>=2.5 in /Users/owenmonroe/anaconda3/envs/textmining/lib/python3.8/site-packages (from requests->bpemb>=0.3.2->flair) (3.4)\n",
      "Requirement already satisfied: certifi>=2017.4.17 in /Users/owenmonroe/anaconda3/envs/textmining/lib/python3.8/site-packages (from requests->bpemb>=0.3.2->flair) (2023.7.22)\n",
      "Requirement already satisfied: PySocks!=1.5.7,>=1.5.6 in /Users/owenmonroe/anaconda3/envs/textmining/lib/python3.8/site-packages (from requests->bpemb>=0.3.2->flair) (1.7.1)\n",
      "Requirement already satisfied: mpmath>=0.19 in /Users/owenmonroe/anaconda3/envs/textmining/lib/python3.8/site-packages (from sympy->torch!=1.8,>=1.5.0->flair) (1.3.0)\n",
      "Requirement already satisfied: psutil in /Users/owenmonroe/anaconda3/envs/textmining/lib/python3.8/site-packages (from accelerate>=0.20.3->transformers[sentencepiece]<5.0.0,>=4.18.0->flair) (5.9.0)\n",
      "Note: you may need to restart the kernel to use updated packages.\n"
     ]
    }
   ],
   "source": [
    "pip install -U flair"
   ]
  },
  {
   "cell_type": "code",
   "execution_count": 2,
   "metadata": {},
   "outputs": [
    {
     "name": "stderr",
     "output_type": "stream",
     "text": [
      "/Users/owenmonroe/anaconda3/envs/textmining/lib/python3.8/site-packages/tqdm/auto.py:21: TqdmWarning: IProgress not found. Please update jupyter and ipywidgets. See https://ipywidgets.readthedocs.io/en/stable/user_install.html\n",
      "  from .autonotebook import tqdm as notebook_tqdm\n"
     ]
    }
   ],
   "source": [
    "from flair.models import SequenceTagger\n",
    "from flair.data import Sentence\n"
   ]
  },
  {
   "cell_type": "code",
   "execution_count": 3,
   "metadata": {},
   "outputs": [
    {
     "name": "stdout",
     "output_type": "stream",
     "text": [
      "2023-12-05 17:34:47,096 SequenceTagger predicts: Dictionary with 13 tags: O, S-LOC, B-LOC, E-LOC, I-LOC, S-BUILDING, B-BUILDING, E-BUILDING, I-BUILDING, S-STREET, B-STREET, E-STREET, I-STREET\n"
     ]
    }
   ],
   "source": [
    "# Loading the Tagger Model \n",
    "\n",
    "tagger = SequenceTagger.load(\"hmbert/flair-hipe-2022-topres19th-en\")"
   ]
  },
  {
   "cell_type": "code",
   "execution_count": 4,
   "metadata": {},
   "outputs": [
    {
     "name": "stdout",
     "output_type": "stream",
     "text": [
      "['O', 'S-LOC', 'B-LOC', 'E-LOC', 'I-LOC', 'S-BUILDING', 'B-BUILDING', 'E-BUILDING', 'I-BUILDING', 'S-STREET', 'B-STREET', 'E-STREET', 'I-STREET']\n"
     ]
    }
   ],
   "source": [
    "tag_dictionary = tagger.label_dictionary\n",
    "\n",
    "# Get the list of all available tags\n",
    "all_tags = tag_dictionary.get_items()\n",
    "\n",
    "# Print the list of tags\n",
    "print(all_tags)"
   ]
  },
  {
   "cell_type": "code",
   "execution_count": 5,
   "metadata": {},
   "outputs": [],
   "source": [
    "# Creating a Function to Merge IOB tokens into a token span  \n",
    "\n",
    "def merge_iob_tokens(annotations):\n",
    "    merged_annotations = []\n",
    "    current_entity = None\n",
    "    current_tokens = []\n",
    "\n",
    "    for token, label in annotations:\n",
    "        iob_prefix, entity = label.split('-')\n",
    "        \n",
    "        if iob_prefix == 'B':\n",
    "            # Start a new entity\n",
    "            if current_entity:\n",
    "                merged_annotations.append((' '.join(current_tokens), current_entity))\n",
    "            current_entity = entity\n",
    "            current_tokens = [token]\n",
    "        elif iob_prefix == 'I':\n",
    "            # Continue the current entity\n",
    "            if current_entity == entity:\n",
    "                current_tokens.append(token)\n",
    "            else:\n",
    "                # Start a new entity if the entity type changes\n",
    "                if current_entity:\n",
    "                    merged_annotations.append((' '.join(current_tokens), current_entity))\n",
    "                current_entity = entity\n",
    "                current_tokens = [token]\n",
    "\n",
    "    # Append the last entity if any\n",
    "    if current_entity:\n",
    "        merged_annotations.append((' '.join(current_tokens), current_entity))\n",
    "\n",
    "    return merged_annotations"
   ]
  },
  {
   "cell_type": "code",
   "execution_count": 6,
   "metadata": {},
   "outputs": [],
   "source": [
    "# Creating a function to map GPE tags to LOC tags to match tags across annotation\n",
    "\n",
    "def filter_map_tags(hand_annotations):\n",
    "\n",
    "    tags_to_preserve = ['GPE', 'LOC']\n",
    "    filtered_hand = [(token, tag) for token, tag in hand_annotations if tag in tags_to_preserve]\n",
    "   \n",
    "    tag_mapping = {'GPE': 'LOC'}\n",
    "    hand_annotations_cleaned = [(token, tag_mapping.get(tag, tag)) for token, tag in filtered_hand]\n",
    "    \n",
    "    return hand_annotations_cleaned\n",
    "    "
   ]
  },
  {
   "cell_type": "code",
   "execution_count": 7,
   "metadata": {},
   "outputs": [],
   "source": [
    "# Cleaning the Output of the Topres Function and Creating a List of Token, Tag, Tuples\n",
    "\n",
    "def get_token_tag_tuples(text):\n",
    "    text_str = str(text)\n",
    "    # Split the sentence based on the arrow (→)\n",
    "    parts = text_str.split('→')\n",
    "    if len(parts) == 2:\n",
    "    # Extract the second part of the sentence and remove leading/trailing whitespace\n",
    "        tags_part = parts[1].strip()\n",
    "    # Split the tags_part into a list of tokens and tags\n",
    "        token_tag_list = [pair.strip() for pair in tags_part.split(',')]\n",
    "    # Now you have a list of token-tag pairs\n",
    "    new_tuples = []\n",
    "    \n",
    "    for item in token_tag_list:\n",
    "    # Remove the leading '[\"' and trailing '/LOC'\n",
    "        cleaned_item = item.strip('[\"').strip(' \\' ').strip(' \\\" ').strip('\"]')\n",
    "    \n",
    "    # Split the cleaned_item by '/'\n",
    "        tokens_and_label = cleaned_item.split('/')\n",
    "    \n",
    "        tag = tokens_and_label[1] if tokens_and_label[1] not in ('BUILDING', 'STREET') else 'LOC'\n",
    "        new_tuples.append((tokens_and_label[0], tag))\n",
    "        clean_tuples = [(token[:-1], tag) for token, tag in new_tuples]\n",
    "        \n",
    "    return clean_tuples"
   ]
  },
  {
   "cell_type": "code",
   "execution_count": 8,
   "metadata": {},
   "outputs": [],
   "source": [
    "# Creating a Function to Give Reports by Label\n",
    "\n",
    "def get_reports_by_label(pos_neg):\n",
    "    tag_lists = {}\n",
    "\n",
    "    # Organize tuples into separate lists based on tags\n",
    "    for token, tag in pos_neg:\n",
    "        if tag not in tag_lists:\n",
    "            tag_lists[tag] = [(token, tag)]\n",
    "        else:\n",
    "            tag_lists[tag].append((token, tag))\n",
    "\n",
    "    # Convert the dictionaries to lists\n",
    "    lists_by_tag = list(tag_lists.values())\n",
    "\n",
    "# Print the lists organized by tag\n",
    "    for tag_list in lists_by_tag:\n",
    "        print(f\"{tag_list[0][1]}, {len(tag_list)} Total : \", tag_list)"
   ]
  },
  {
   "cell_type": "markdown",
   "metadata": {},
   "source": [
    "## Document 1 Comparison: Clipping from Chambers's Journal 1835 (on France)"
   ]
  },
  {
   "cell_type": "code",
   "execution_count": 9,
   "metadata": {},
   "outputs": [
    {
     "name": "stdout",
     "output_type": "stream",
     "text": [
      "Hand Annotations List number = 361\n"
     ]
    },
    {
     "data": {
      "text/plain": [
       "[('France', 'GPE'),\n",
       " ('1', 'CARDINAL'),\n",
       " ('4500', 'QUANTITY'),\n",
       " ('Jura mountains', 'LOC'),\n",
       " ('0000', 'QUANTITY'),\n",
       " ('Daaphlny', 'GPE'),\n",
       " ('Provence', 'GPE'),\n",
       " ('mountains of Auvergne', 'LOC'),\n",
       " ('Puy de Dome', 'LOC'),\n",
       " (\"Moots d'Or\", 'LOC'),\n",
       " ('Mont Lozcre', 'LOC'),\n",
       " ('510', 'QUANTITY'),\n",
       " ('Pyrenees', 'LOC'),\n",
       " ('France', 'GPE'),\n",
       " ('Spain', 'GPE'),\n",
       " ('Rhine', 'LOC'),\n",
       " ('Seine', 'LOC'),\n",
       " ('Loire', 'LOC'),\n",
       " ('Garonne', 'LOC'),\n",
       " ('Adour', 'LOC'),\n",
       " ('Pyrenees', 'LOC'),\n",
       " ('Bayonne', 'LOC'),\n",
       " ('Marne', 'LOC'),\n",
       " ('Oise', 'LOC'),\n",
       " ('Seine', 'LOC'),\n",
       " ('Loire', 'LOC'),\n",
       " ('Sarthe', 'LOC'),\n",
       " ('Maycnne', 'LOC'),\n",
       " ('Loire', 'LOC'),\n",
       " ('Rhone', 'LOC'),\n",
       " ('Saoue', 'LOC'),\n",
       " ('Isire', 'LOC'),\n",
       " ('Durance', 'LOC'),\n",
       " ('Ain', 'LOC'),\n",
       " ('Sorgue', 'LOC'),\n",
       " ('Tarn', 'LOC'),\n",
       " ('Dordi', 'LOC'),\n",
       " ('Garonne', 'LOC'),\n",
       " ('canals', 'FAC'),\n",
       " ('France', 'GPE'),\n",
       " ('Flanders', 'GPE'),\n",
       " ('Artuis', 'GPE'),\n",
       " ('Picardy', 'GPE'),\n",
       " ('Normandy', 'GPE'),\n",
       " ('Isle of France', 'GPE'),\n",
       " ('18 , I 70,51 > 0', 'QUANTITY'),\n",
       " ('Ga - ronne', 'LOC'),\n",
       " ('7 ) 054,501', 'QUANTITY'),\n",
       " ('Languedoc', 'LOC'),\n",
       " ('Limarne', 'LOC'),\n",
       " ('Auvergne', 'GPE'),\n",
       " ('twenty', 'QUANTITY'),\n",
       " ('provinces', 'LOC'),\n",
       " ('Bretagne', 'LOC'),\n",
       " ('Anjou', 'LOC'),\n",
       " ('Maine', 'LOC'),\n",
       " ('Bordeaux', 'LOC'),\n",
       " ('provinces', 'LOC'),\n",
       " ('Ardennes', 'GPE'),\n",
       " ('Orleans', 'GPE'),\n",
       " (\"For . taincl'leau\", 'GPE'),\n",
       " ('Mediterranean', 'LOC'),\n",
       " ('Languedoc', 'GPE'),\n",
       " ('Provence', 'GPE'),\n",
       " ('barley', 'PRODUCT'),\n",
       " ('oats', 'PRODUCT'),\n",
       " ('poutoes', 'PRODUCT'),\n",
       " ('Coal', 'PRODUCT'),\n",
       " ('iron', 'PRODUCT'),\n",
       " ('France', 'GPE'),\n",
       " ('Baron Dupin', 'PERSON'),\n",
       " ('53,533,430', 'QUANTITY'),\n",
       " ('139,094,000', 'NORP'),\n",
       " ('37.532,061,470 francs', 'MONEY'),\n",
       " ('4 , ( > 78,70 R , 805 francs', 'MONEY'),\n",
       " (\"3,334,005 , . ' > 15\", 'MONEY'),\n",
       " ('31 per cent', 'PERCENT'),\n",
       " ('wheat', 'PRODUCT'),\n",
       " ('eighteen bushels', 'QUANTITY'),\n",
       " ('1813', 'DATE'),\n",
       " ('horstk', 'PRODUCT'),\n",
       " ('9,170,000', 'CARDINAL'),\n",
       " ('1810', 'DATE'),\n",
       " ('horsMs', 'PRODUCT'),\n",
       " ('mules', 'PRODUCT'),\n",
       " ('2,500,000', 'CARDINAL'),\n",
       " ('6,073,000 1', 'CARDINAL'),\n",
       " ('sheep', 'PRODUCT'),\n",
       " ('poultry', 'PRODUCT'),\n",
       " ('51,600,000', 'CARDINAL'),\n",
       " ('French', 'NORP'),\n",
       " ('wine', 'PRODUCT'),\n",
       " ('church', 'NORP'),\n",
       " ('revolution', 'EVENT'),\n",
       " ('vineyards', 'FAC'),\n",
       " ('brandies', 'PRODUCT'),\n",
       " ('France', 'GPE'),\n",
       " ('V ine', 'PRODUCT'),\n",
       " ('brandy', 'PRODUCT'),\n",
       " ('800,000,000 of fianos', 'MONEY'),\n",
       " ('revolntion', 'EVENT'),\n",
       " ('vine - yard', 'FAC'),\n",
       " ('M . Dupin', 'PERSON'),\n",
       " ('3 * 01', 'QUANTITY'),\n",
       " ('cat - tle', 'PRODUCT'),\n",
       " ('food', 'PRODUCT'),\n",
       " ('oats', 'PRODUCT'),\n",
       " ('buckwheat', 'PRODUCT'),\n",
       " ('rye', 'PRODUCT'),\n",
       " ('chestnuts', 'PRODUCT'),\n",
       " ('potatoe', 'PRODUCT'),\n",
       " ('France', 'GPE'),\n",
       " ('France', 'GPE'),\n",
       " ('cotton', 'PRODUCT'),\n",
       " ('cloths', 'PRODUCT'),\n",
       " ('Sedan', 'LOC'),\n",
       " ('Colbert', 'PERSON'),\n",
       " ('M . Chaptal', 'PERSON'),\n",
       " ('English machinist', 'NORP'),\n",
       " ('French aruxans', 'NORP'),\n",
       " ('spinning mills', 'FAC'),\n",
       " ('wool', 'PRODUCT'),\n",
       " ('1819', 'DATE'),\n",
       " ('38,000,000 kilogrammes', 'QUANTITY'),\n",
       " ('3 | lbs', 'QUANTITY'),\n",
       " ('1836', 'DATE'),\n",
       " ('4 ^ , 000,000', 'QUANTITY'),\n",
       " ('000,000', 'QUANTITY'),\n",
       " ('wool', 'PRODUCT'),\n",
       " ('305,000,000 francs', 'MONEY'),\n",
       " ('raw wool', 'PRODUCT'),\n",
       " ('105,000,000', 'QUANTITY'),\n",
       " ('Henry IV', 'PERSON'),\n",
       " ('mulberry . tree', 'PRODUCT'),\n",
       " ('southern provinces', 'LOC'),\n",
       " ('Tours', 'GPE'),\n",
       " ('silk', 'PRODUCT'),\n",
       " ('furniture', 'PRODUCT'),\n",
       " ('Ganges', 'GPE'),\n",
       " ('Cevennes', 'LOC'),\n",
       " ('silk stockings', 'PRODUCT'),\n",
       " ('Lyons', 'GPE'),\n",
       " ('silk', 'PRODUCT'),\n",
       " ('Paris', 'GPE'),\n",
       " ('Lyons', 'GPE'),\n",
       " ('181', 'DATE'),\n",
       " ('45,500 , ( HIO francs', 'MONEY'),\n",
       " ('33,000,000', 'QUANTITY'),\n",
       " ('silk', 'PRODUCT'),\n",
       " ('manufactured goods', 'PRODUCT'),\n",
       " ('cotton', 'PRODUCT'),\n",
       " ('France', 'GPE'),\n",
       " ('Cotton', 'PRODUCT'),\n",
       " ('Alsace', 'GPE'),\n",
       " ('England', 'GPE'),\n",
       " ('11113', 'DATE'),\n",
       " ('3,000 kilogrammes', 'QUANTITY'),\n",
       " ('oitton', 'PRODUCT'),\n",
       " ('cambrics', 'PRODUCT'),\n",
       " ('gaiue', 'PRODUCT'),\n",
       " ('aiul lawn', 'PRODUCT'),\n",
       " ('St Quentin', 'GPE'),\n",
       " ('Valen - ciennes', 'GPE'),\n",
       " ('Cambray', 'GPE'),\n",
       " ('Lace', 'PRODUCT'),\n",
       " ('linen', 'PRODUCT'),\n",
       " ('hemp', 'PRODUCT'),\n",
       " ('300,00 ( » , 000 francs', 'MONEY'),\n",
       " ('1814', 'DATE'),\n",
       " ('100,000,000 kilogrammes', 'QUANTITY'),\n",
       " ('1825', 'DATE'),\n",
       " ('180,000,000', 'QUANTITY'),\n",
       " ('Paris', 'GPE'),\n",
       " ('38,000,000 francs', 'MONEY'),\n",
       " ('Paris', 'GPE'),\n",
       " ('45,075,030', 'CARDINAL'),\n",
       " ('1820', 'DATE'),\n",
       " ('80,031,303', 'CARDINAL'),\n",
       " ('1830', 'DATE'),\n",
       " ('France', 'GPE'),\n",
       " ('England', 'GPE'),\n",
       " ('roads', 'FAC'),\n",
       " ('canals', 'FAC'),\n",
       " ('roads', 'FAC'),\n",
       " ('England', 'GPE'),\n",
       " ('cross - roeds', 'FAC'),\n",
       " ('roads', 'FAC'),\n",
       " ('canals', 'FAC'),\n",
       " ('France', 'GPE'),\n",
       " ('England', 'GPE'),\n",
       " ('France', 'GPE'),\n",
       " ('steam . engines', 'FAC'),\n",
       " ('steam - engines', 'FAC'),\n",
       " ('France', 'GPE'),\n",
       " ('Dupin', 'PERSON'),\n",
       " ('England', 'GPE'),\n",
       " ('France', 'GPE'),\n",
       " ('England', 'GPE'),\n",
       " ('colonies', 'LOC'),\n",
       " ('1788', 'DATE'),\n",
       " (\"337,0 tW , ' i 00 francs\", 'MONEY'),\n",
       " ('1834', 'DATE'),\n",
       " ('50,000,000', 'MONEY'),\n",
       " ('France', 'GPE'),\n",
       " ('1834', 'DATE'),\n",
       " ('440,543,000 francs', 'MONEY'),\n",
       " ('103,050,000', 'MONEY'),\n",
       " ('277,486,000', 'MONEY'),\n",
       " ('manufactured', 'PRODUCT'),\n",
       " ('United States', 'GPE'),\n",
       " ('55,000,000', 'MONEY'),\n",
       " ('454,801,000 francs', 'MONEY'),\n",
       " ('373,873,000', 'MONEY'),\n",
       " ('materials for manufacture', 'PRODUCT'),\n",
       " ('natural productions for consumption', 'PRODUCT'),\n",
       " ('manufactured articles', 'PRODUCT'),\n",
       " ('1824', 'DATE'),\n",
       " ('ships', 'FAC'),\n",
       " ('328,480', 'CARDINAL'),\n",
       " ('28,040', 'CARDINAL'),\n",
       " ('47,383', 'CARDINAL'),\n",
       " ('fisheries', 'FAC'),\n",
       " ('navy', 'NORP'),\n",
       " ('1838', 'DATE'),\n",
       " ('38', 'CARDINAL'),\n",
       " ('ships', 'FAC'),\n",
       " ('35', 'CARDINAL'),\n",
       " ('frigates', 'FAC'),\n",
       " ('8', 'CARDINAL'),\n",
       " ('steam', 'FAC'),\n",
       " ('186', 'CARDINAL'),\n",
       " ('veasels', 'FAC'),\n",
       " ('14,003', 'CARDINAL'),\n",
       " ('officera', 'NORP'),\n",
       " ('sailors', 'NORP'),\n",
       " ('army', 'NORP'),\n",
       " ('1828 am', 'DATE'),\n",
       " ('233,770', 'CARDINAL'),\n",
       " ('French - man', 'NORP'),\n",
       " ('1828', 'DATE'),\n",
       " ('l , 037 , iO 4,4 » l francs', 'MONEY'),\n",
       " ('1,035,415,552 franos', 'MONEY'),\n",
       " ('French Revo - lution', 'EVENT'),\n",
       " ('1780', 'DATE'),\n",
       " ('military', 'NORP'),\n",
       " ('nation', 'NORP'),\n",
       " ('manufac - tures', 'FAC'),\n",
       " ('constitution', 'LAW'),\n",
       " ('1830', 'DATE'),\n",
       " ('Louis Philip', 'PERSON'),\n",
       " ('throne', 'NORP'),\n",
       " ('three days', 'EVENT'),\n",
       " ('revolu - tion', 'EVENT'),\n",
       " ('Bourbons', 'NORP'),\n",
       " ('house of Orleans', 'NORP'),\n",
       " ('Louis XIV', 'PERSON'),\n",
       " ('Philip Duke of Orleans', 'PERSON'),\n",
       " ('France', 'GPE'),\n",
       " ('Capet Dyruuty', 'PERSON'),\n",
       " ('Hugh Capet', 'PERSON'),\n",
       " ('987', 'DATE'),\n",
       " ('900', 'DATE'),\n",
       " ('Robert', 'PERSON'),\n",
       " ('031', 'DATE'),\n",
       " ('Henry L', 'PERSON'),\n",
       " ('1080', 'DATE'),\n",
       " ('Philip L', 'PERSON'),\n",
       " ('1108', 'DATE'),\n",
       " ('L uis IV', 'PERSON'),\n",
       " ('113 ?', 'DATE'),\n",
       " ('liouis Vn', 'PERSON'),\n",
       " ('Philip il .', 'PERSON'),\n",
       " ('Augustus', 'PERSON'),\n",
       " ('1233', 'DATE'),\n",
       " ('Louis VIII', 'PERSON'),\n",
       " ('1336', 'DATE'),\n",
       " ('Louis IX . ( the Saint )', 'PERSON'),\n",
       " ('1370', 'DATE'),\n",
       " ('Philip III . ( the Bold )', 'PERSON'),\n",
       " ('1285', 'DATE'),\n",
       " ('Philip IV . ( the Fair )', 'PERSON'),\n",
       " ('1314', 'DATE'),\n",
       " ('Louts X . ( Hutin )', 'PERSON'),\n",
       " ('1310', 'DATE'),\n",
       " ('Philip V . ( the liong )', 'PERSON'),\n",
       " ('1331', 'DATE'),\n",
       " ('Charles IV . ( the Fair )', 'PERSON'),\n",
       " ('133 a — 3', 'DATE'),\n",
       " ('Branch 0 / Vahitt Philip VL', 'PERSON'),\n",
       " ('1350', 'DATE'),\n",
       " ('John', 'PERSON'),\n",
       " ('ChaHee V . ( the Wise )', 'PERSON'),\n",
       " ('1380', 'DATE'),\n",
       " ('Charles VI', 'PERSON'),\n",
       " ('1433', 'DATE'),\n",
       " ('Charles VIL', 'PERSON'),\n",
       " ('1401', 'DATE'),\n",
       " ('Louis XI', 'PERSON'),\n",
       " ('1463', 'DATE'),\n",
       " ('Charles VIIL', 'PERSON'),\n",
       " ('1407', 'DATE'),\n",
       " ('Louis XIL', 'PERSON'),\n",
       " ('1515', 'DATE'),\n",
       " ('Francis I', 'PERSON'),\n",
       " ('1547', 'DATE'),\n",
       " ('Henry IL', 'PERSON'),\n",
       " ('1550', 'DATE'),\n",
       " ('1560', 'DATE'),\n",
       " ('Charles IX', 'PERSON'),\n",
       " ('1574', 'DATE'),\n",
       " ('Henry IIL', 'PERSON'),\n",
       " ('1580', 'DATE'),\n",
       " ('Henry IV', 'PERSON'),\n",
       " ('1610', 'DATE'),\n",
       " ('Louis XIIL', 'PERSON'),\n",
       " ('1643', 'DATE'),\n",
       " ('LoiHs XIV', 'PERSON'),\n",
       " ('1715', 'DATE'),\n",
       " ('Louis XV', 'PERSON'),\n",
       " ('Louis XVI', 'PERSON'),\n",
       " ('1793', 'DATE'),\n",
       " ('Louis XVU', 'PERSON'),\n",
       " ('French republic', 'NORP'),\n",
       " ('1703', 'DATE'),\n",
       " ('1804', 'DATE'),\n",
       " ('Napoleon', 'PERSON'),\n",
       " ('Emperor of the French', 'NORP'),\n",
       " ('1804', 'DATE'),\n",
       " ('1814', 'DATE'),\n",
       " ('Louis XVIIL', 'PERSON'),\n",
       " ('1814', 'DATE'),\n",
       " ('1024', 'DATE'),\n",
       " ('Charles', 'PERSON'),\n",
       " ('1830', 'DATE'),\n",
       " ('House of Orleans', 'NORP'),\n",
       " ('Louis Philip', 'PERSON'),\n",
       " ('King of the French', 'NORP'),\n",
       " ('Bourbon family', 'NORP'),\n",
       " ('Charles X', 'PERSON'),\n",
       " ('Louis Antoine , Duke of Angouldme ( late dauphin )', 'PERSON'),\n",
       " ('August 6 , 1775', 'DATE'),\n",
       " ('Marie Therese', 'PERSON'),\n",
       " ('Louie XVI', 'PERSON'),\n",
       " ('Charles X . , Duke of Berry', 'PERSON'),\n",
       " ('Jan . 24 , 1778', 'DATE'),\n",
       " ('Caroline , Princess of Naples', 'PERSON'),\n",
       " ('Nov . 5 , 1708', 'DATE'),\n",
       " ('Louvain', 'PERSON'),\n",
       " ('Feb , 14 , 1820', 'DATE'),\n",
       " ('Maria Louise ( Mile . d * Artois ,', 'PERSON'),\n",
       " ('Sept . 21 , 1819', 'DATE'),\n",
       " (\"Henry ( Charles Ferdinrnd Marie DieudonnL' )\", 'PERSON'),\n",
       " ('Duke', 'PERSON'),\n",
       " ('1820', 'DATE'),\n",
       " ('Charles', 'PERSON'),\n",
       " ('Kiag Henry V', 'PERSON'),\n",
       " ('I < ouis Philip', 'PERSON'),\n",
       " ('Ferdinand PhtUp', 'PERSON'),\n",
       " ('Louis Charles Henry', 'PERSON'),\n",
       " ('Duke of Orleans', 'PERSON'),\n",
       " ('1810', 'DATE')]"
      ]
     },
     "execution_count": 9,
     "metadata": {},
     "output_type": "execute_result"
    }
   ],
   "source": [
    "hand_annotated_data_1 = []\n",
    "with open(\"Useful_Knowledge_Annotations_iob_3/DOCUMENT-omonroe2_illinois_edu/Chambers_InfoForPeople_France_1835.txt.tsv\", \"r\", encoding=\"utf-8\") as iob_file_1:\n",
    "    for line in iob_file_1:\n",
    "        line = line.strip()\n",
    "        if line:\n",
    "            token, label = line.split(\"\\t\")\n",
    "           \n",
    "            hand_annotated_data_1.append((token, label))\n",
    "\n",
    "hand_annotated_tagged_1 = [(token, label) for token, label in hand_annotated_data_1 if label != 'O']\n",
    "\n",
    "merged_hand_annotations_1 = merge_iob_tokens(hand_annotated_tagged_1)\n",
    "\n",
    "print(f'Hand Annotations List number = {len(merged_hand_annotations_1)}')\n",
    "merged_hand_annotations_1"
   ]
  },
  {
   "cell_type": "code",
   "execution_count": 10,
   "metadata": {},
   "outputs": [
    {
     "name": "stdout",
     "output_type": "stream",
     "text": [
      "Hand Annotations List Number = 90\n"
     ]
    },
    {
     "data": {
      "text/plain": [
       "[('France', 'LOC'),\n",
       " ('Jura mountains', 'LOC'),\n",
       " ('Daaphlny', 'LOC'),\n",
       " ('Provence', 'LOC'),\n",
       " ('mountains of Auvergne', 'LOC'),\n",
       " ('Puy de Dome', 'LOC'),\n",
       " (\"Moots d'Or\", 'LOC'),\n",
       " ('Mont Lozcre', 'LOC'),\n",
       " ('Pyrenees', 'LOC'),\n",
       " ('France', 'LOC'),\n",
       " ('Spain', 'LOC'),\n",
       " ('Rhine', 'LOC'),\n",
       " ('Seine', 'LOC'),\n",
       " ('Loire', 'LOC'),\n",
       " ('Garonne', 'LOC'),\n",
       " ('Adour', 'LOC'),\n",
       " ('Pyrenees', 'LOC'),\n",
       " ('Bayonne', 'LOC'),\n",
       " ('Marne', 'LOC'),\n",
       " ('Oise', 'LOC'),\n",
       " ('Seine', 'LOC'),\n",
       " ('Loire', 'LOC'),\n",
       " ('Sarthe', 'LOC'),\n",
       " ('Maycnne', 'LOC'),\n",
       " ('Loire', 'LOC'),\n",
       " ('Rhone', 'LOC'),\n",
       " ('Saoue', 'LOC'),\n",
       " ('Isire', 'LOC'),\n",
       " ('Durance', 'LOC'),\n",
       " ('Ain', 'LOC'),\n",
       " ('Sorgue', 'LOC'),\n",
       " ('Tarn', 'LOC'),\n",
       " ('Dordi', 'LOC'),\n",
       " ('Garonne', 'LOC'),\n",
       " ('France', 'LOC'),\n",
       " ('Flanders', 'LOC'),\n",
       " ('Artuis', 'LOC'),\n",
       " ('Picardy', 'LOC'),\n",
       " ('Normandy', 'LOC'),\n",
       " ('Isle of France', 'LOC'),\n",
       " ('Ga - ronne', 'LOC'),\n",
       " ('Languedoc', 'LOC'),\n",
       " ('Limarne', 'LOC'),\n",
       " ('Auvergne', 'LOC'),\n",
       " ('provinces', 'LOC'),\n",
       " ('Bretagne', 'LOC'),\n",
       " ('Anjou', 'LOC'),\n",
       " ('Maine', 'LOC'),\n",
       " ('Bordeaux', 'LOC'),\n",
       " ('provinces', 'LOC'),\n",
       " ('Ardennes', 'LOC'),\n",
       " ('Orleans', 'LOC'),\n",
       " (\"For . taincl'leau\", 'LOC'),\n",
       " ('Mediterranean', 'LOC'),\n",
       " ('Languedoc', 'LOC'),\n",
       " ('Provence', 'LOC'),\n",
       " ('France', 'LOC'),\n",
       " ('France', 'LOC'),\n",
       " ('France', 'LOC'),\n",
       " ('France', 'LOC'),\n",
       " ('Sedan', 'LOC'),\n",
       " ('southern provinces', 'LOC'),\n",
       " ('Tours', 'LOC'),\n",
       " ('Ganges', 'LOC'),\n",
       " ('Cevennes', 'LOC'),\n",
       " ('Lyons', 'LOC'),\n",
       " ('Paris', 'LOC'),\n",
       " ('Lyons', 'LOC'),\n",
       " ('France', 'LOC'),\n",
       " ('Alsace', 'LOC'),\n",
       " ('England', 'LOC'),\n",
       " ('St Quentin', 'LOC'),\n",
       " ('Valen - ciennes', 'LOC'),\n",
       " ('Cambray', 'LOC'),\n",
       " ('Paris', 'LOC'),\n",
       " ('Paris', 'LOC'),\n",
       " ('France', 'LOC'),\n",
       " ('England', 'LOC'),\n",
       " ('England', 'LOC'),\n",
       " ('France', 'LOC'),\n",
       " ('England', 'LOC'),\n",
       " ('France', 'LOC'),\n",
       " ('France', 'LOC'),\n",
       " ('England', 'LOC'),\n",
       " ('France', 'LOC'),\n",
       " ('England', 'LOC'),\n",
       " ('colonies', 'LOC'),\n",
       " ('France', 'LOC'),\n",
       " ('United States', 'LOC'),\n",
       " ('France', 'LOC')]"
      ]
     },
     "execution_count": 10,
     "metadata": {},
     "output_type": "execute_result"
    }
   ],
   "source": [
    "hand_annotations_filtered_1 = filter_map_tags(merged_hand_annotations_1)\n",
    "\n",
    "print(f'Hand Annotations List Number = {len(hand_annotations_filtered_1)}')\n",
    "hand_annotations_filtered_1"
   ]
  },
  {
   "cell_type": "code",
   "execution_count": 11,
   "metadata": {},
   "outputs": [
    {
     "data": {
      "text/plain": [
       "Sentence[2851]: \"he principal mountains of France are, 1. The   Toeget on the north-east. They are of a rounded oat-   Bne, with gentle slopes, and afford much open paa-   turage. The highest summit is not more than 4500   ftet nigh. 2. The Jura mountains He to the south of   these, and their summiu rise to the height of 0000   feet. 3. Many Alpine branches intersect Daaphlny   and Provence. In the ceotre of the kingdom are, 4.   The mountains of Auvergne, of volcamo origin, of   which the Puy de Dome, the Moots d'Or, and the   Cental, are the principal groups. 5. The Cerennee   Be to the south-east of the range last mentioned.   Their highest summit Is Mont Lozcre (about C510   Ihet). 0. The Pyrenees form the prlnnipai part of the   boundary between France and Spain. These moun-   tains divide the cou.utry into four great basins, the   form and exposure of which necessarily have a great   influence on their climate and productions. The nar-   row valley of the Rhine runs from nortli to <ioutIi,   while the open basins of the Seine, the Loire, and the   Garonne, stretch iu a north -weslt^rn direction. The   Adour rises in the Pyrenees, and washes the walls of   Bayonne. The other rivers are principally tributa-   jfes. The Marne and the Oise fall into tne Seine;   the Allier, the Loire, the Sarthe, and the Maycnne,   into the Loire ; the Rhone receives the Saoue, the   Isire, the Durance, the Ain, and the Sorgue ; the   Tarn and the Dordi^e join the Garonne. The nu-   merous branches of these rivers are joined by canals,   which form an extensive internal water communication.     In resprct to soil, the richest part of France is the   north-west division, comprehending the provinces of   Flanders, Artuis, Picardy, Normandy, and the Isle   of France, where there is a deep rich loam; about   18,I70,51>0 acres in extent. The valley of the Ga-   ronne ia composed of a friable sandy loam, with a   calcareous mixture, and moisture suthcient for every   purpose. This district contains 7)054,501 acres. The   greet valley of Languedoc is extremely prolific, though   the toil is not so fine as that of the preceding districts.   The Limarne, a valley of Auvergne, Is considered   to have one of the finest stjils in the world. It con-   atsts of beds of earth, said to be twenty feet deep,   formed from the deojmposition of soft basalt. The   calcareous and chalk formations are extensive. Tlie   chalk provinces are unfruitful in grain, but the genial   Influence of the sun allows them other riches. The   calcarroiis loam on the borders of the chalk formation   is more productive. In Bretagne, Anjou, and Maine,   are immense heaths. The lanite$ are J^xtensive tracts   of sandy deserts, producing nothing but broom, heath,   and Junipers. The most extensive are the landes of   Bordeaux, twenty leagues in length by twelve In   breadth. In the remaining provinces, gravel, or a   gravelly sand, is the predominating soil. The woods   and forests are estimated to oover a space of 10,795,000   acres. The principal are tlioseof Ardennes, Orleans,   and For.taincl'leau. The northern and western coasts   are formed iu a great proportion by immense downs   or sandbanks, and where the shores are formed by   cliffs, they are seidnrii bold enough to be approached   with safety. The harlwurs are therefore tew. On   the Mediterranean, the cout of Languedoc is very   dangerous, but Provence abuands in good barbourt.   The culture, throughout the northern half of the   kingdom, consists of wheat, barley, oats, pulsct *nd of   lata, much more than formerlv, of poutoes ; Iu (he   eoawem half, com (particularly malie), vintf, mtil.   t iMilMb w4 oUtm. Tba eM Um parti, baloff     hmtlmf     > puts, beiof man     elevated than the western, have more rigorous winters   and more ardent summers. Coal and iron are found   In abundance. The most common fuel is wood.     The superficial extent of France has been recently   estimated by Baron Dupin at 53,533,430 hecures,   or 139,094,000 English acres. The value of ca-   piul vested in agricultural pursuits Is estimated at   37.532,061,470 francs: the gross annual produce at   4,(>78,70R,805 francs ; the expenses of cultivation at   3,334,005,.'>15; leaving a profit of 31 per cent, on the   capital. The produce of wheat in the best cultivated   distrlcu, and on the best soil, hardly exceeds eighteen   bushels per acre : an English farmer exptcu twenty-   five or the same extent. In 1813, the number of   horstk A France was 9,170,000 ( but in 1810, the   horsMs and mules together amountad only to 1 }657,C7 1 ;   at present the number is estimated at 2,500,000. The   number of homed cattle Is 6,073,000 1 of sheep, about   45,0e^000. The total number of all kinds of poultry   is about 51,600,000. The French are tbe best wine-   makers in the world. The Champagne, Burgundy,   Claret, Hermitage, are drunk all over the world. For   a long time, the choicest growths were in the hands   of the church ; and in the frequent changes of pre   party which have taken place since the revolution,   many vineyards have deteriorated in consequ..noe of   bad management. The brandies of France are the   best in the world. The value of the whole produce of   V ine and brandy Is about 800,000,000 of fianos. The   culture of the vine Is supposed to have Increased nearly   one-fourth since the revolntion, owing principally to   the small proprietors, each of whom endeavours to   supply his own consumption by a little patch of vine-   yard. M. Dupin says that many hectarca of f ranch   territory are 3*01 uncultivated, merely for want of cat-   tle to stock und manure them ; that twcthirda of the   inhabitaattf are without aalmal food ; that more than   oue-third subsist entirely on oats, buckwheat, rye,   chestnuts, or potatoe0» and that the agricultural popu-   lation is loo great for the prosperity of France. Two-   thirds of the population is agrioulturaL     France possesses a soil and climate capable of fur-   nlahlng her with uil the raw materials of mauufactare   except cotton. The manufacture of fine woollen   cloths at Sedan wu introduced under the auspices of   Colbert. The machinery used was very defective un-   til M. Chaptal engaged an English machinist to In-   struct the French aruxans. Steam.engines are rare ;   the spinning mills being worked chiefly by water or   by horses. The quantity of native wool manufactured   in 1819.was 38,000,000 kilogrammes (of about 3|lbs.   each), and, in 1836, 4^,000,000, with H,000,000 of im-   ported wool : the value of the roanuiactured articles   was 305,000,000 francs ; of the raw wool, 105,000,000 :   the quantity exported was about one-thirteenth of the   whole quantity manufactured. By the exertions of   Henry IV., the mulberry.tree was cultivated in all the   southern provinces. At Tours, silk stuffs for furniture   are chiefly manufactured ; at Ganges, and other places   in the Cevennes, silk stockings. Lyons is the princi-   pal place for silk manufactures of all kinds. Paris   ranks next after Lyons. In 181'.!, the value of the   raw material amounted to 45,500,(HIO francs, of which   33,000,000 were the price of imported silk. The va-   lue of manufactured goods, at the same period, was   107,500,000 francs, m' which less than one-third was   exported. Forty years ago, the spinning of cotton by   machinery waa hardly practised in France. Cotton   mills have l>een established within that period, and   the manufactures of Alsace are now superior to those   of England in the brilliaucy of their colours. In 11113,   l0,:Ui3,000 kilogrammes of oitton were spun by ma-   chinery, and, iit 1H2A, 'JM,(M)0,000 of greater fineness.   The cambrics, gaiue, aiul lawn of St Quentin, Valen-   ciennes, and Cambray, are among the most valuable   products of French Industry. Lace is made in great   quantities.     The whole produce of the linen and hemp manu-   factures is estimated at 300,00(»,000 francs. L. 1814,   100,000,000 kilogrammes of cast-iron were produced ;   in 1825, 180,000,000. <IildinK tnd watch-making are   carried on, chiefly in Paris, t>> the annual value of   about 38,000,000 francs each. Printing also employs   a great number of persons at Paris. In IRU, the   number of printed sheets was 45,075,030; in 1820,   80,031,303 ; and in 1830, 144,58I,(MI4. NotwJth.   standing the low price of labour iu France, the in-   dustry of that c<iuntry cannot enter into competition   withUiatof England. One of the circumstances which   depress it is the want of internal communication by   roads and canals. The practicable roads of France   are not more than one-third of the extent of those of   England. The cross-roeds are few, and the great   roads are seldom kept in good order. The length of   the canals in France is not more than one- eleventh of   those of England. Another point in which France is   inferior is in the use of steam.engines, attributable In   part to the deficiency of coal, or the dlHiculty of trans-   porting it. The total force of steam-engines iu France,   according to Dupin, is ecpial to Jiat ol 480,(f(K> men ;   that of England is equal to a powei of li,44K),OlN) men.   All the power derived from machinery of every sort,   or from constructive ingenuity, and applied to pur-   poses of industry in France, is tinly one-fourth of the   similar power employed in England.     The commerce ot France has l>ecn vary ranch di-   minished by the loss of her colonies. The value of   the cokinial importa, in 1788, was 337,0tW,'i00 francs ;   iti 1834, it waa only 50,000,000. The exporu for   17«lMMWrtiil«U9/>00}009( in iaM,to44,00(^0«0.     The total value of exports from France, in 1834, was   440,543,000 francs t of which 103,050,000 were pro.   ductions of the country, and 277,486,000 manufactured   articles. The amount exported to the United States   waa 55,000,000, being more than that to any other   country. The imports for the same year were of the   value of 454,801,000 francs; of which 373,873,000   franoswerersw materials for manufacture, 121. 9r)7,000   natural productions for consumption, and 00,o:tO,000   manufactured articles. In 1824, the number of sailora   in French ships was 328,480 ; of whom 28,040 were   engaged in foreign commerce, 47,383 in the fisheries,   and the remainder in the coasting trade. The navy,   according to the budget of 1838, consisted of 38 ships   of the iioe, 35 frigates, 8 steam.boaU, and 186 other   veasels, and 14,003 officera and sailors. The army la   1828 amounted to 233,770 men, and was recruited by   voluntary enlistment and annual levies, every French-   man of twenty years of age being bound to serve for   a term of eight years. The reoelpu of 1828 were   l,037,iO4,4»l francs; the expenditure, 1,035,415,552   franos.     As we have glren the history of the French Revo-   lution of 1780 in another portion of the present work   (No. 9), nothing need here be said of that event. It   is suflident to state that the military character which   was engrafted upon the nation by subsequent eventa   still predominates, and may be described as one of the   main causes fur the deficiency of France in manufac-   tures, comn.eroe, wealth, and many comforts of social   life. The character of the Frei«oh, however. Is fwt   undergoing an improvement under the constitution   which the country has enjoyv.d since 1830, when   Louis Philip waa placed on the throne, by the events   of what are termed the \" three days,** or the revolu-   tion which deposed the elder line of the Bourbons.   The present reigning family, or house of Orleans, le   a collateral line of ^e former branch, being derived   from the onlv brother of Louis XIV., Philip Duke of   Orleans. The following are the eras of the reigning   princes of France: — 1. Capet Dyruuty: Hugh Capet   (987), died 900; Robert, dieh '031 ; Henry L, died   1080; Philip L, died 1108; L uis IV., died 113? t   liouis Vn., died 1180; Philip il. (Augustus), died   1233; Louis VIII., died 1336; Louis IX. (the Saint),   died 1370; Philip III. (the Bold), died 1285; Philip     IV. (the Fair), died 1314; Louts X. (Hutin), died   1310; Philip V. (the liong), died 1331 ; Charles IV.   (the Fair), died 133a— 3. Branch 0/ Vahitt Philip   VL, died 1350 ; John (the (iw>d\\ died VMA ; ChaHee     V. (the Wise), died 1380; Charles VI., died 1433;   Charles VIL, died 1401 ; Louis XI., died 1463;     Charles VIIL, died 1407 3. Branch t^f Orlearur     Louis XIL, died 1515; Francis I., died 1547; Henry   IL, died 1550; Francis IL, died 1560; Charles IX.,   died 1574; Henry IIL, died 1580.— 4. Branch qf   Bourhm: Henry IV., died 1610; Louis XIIL, died   1643; LoiHs XIV., died 1715; Louis XV., died 1774;   Louis XVI., died 1793; Louis XVU., died 17!»6.   [French republic, from 1703 to 1804 ; Napoleon (Bo-   naparte^, Emperor of the French, from 1804 to 1814.]   ^Uouroons restored by foreign arms : Louis XVIIL,   from 1814, died 1024; Charles, to 1830, when he was   dethroned.- -5. \\ew House of Orleans ; Louis Philip   I., with the title of King of the French {roi-Htoyen),   Of the dethroned Bourbon family, there are living   the ex- king, Charles X.; his son, Louis Antoine, Duke   of Angouldme (late dauphin), bom August 6, 1775;   married his cousin, Marie Therese, daughter of Louie   XVI. The second son of Charles X., Duke of Berry,   born Jan. 24, 1778; married to Caroline, Princess of   Naples (born Nov. 5, 1708) ; was assassinated by   Louvain. Feb, 14, 1820. His children are Maria   Louise (Mile. d*Artois, Imrn Sept. 21, 1819), and   Henry (Charles Ferdinrnd Marie DieudonnL'), Duke   (>f Bordeaux, born. Kept. 20, 1820, after the death of   his father, late heir.presumptive. Charles and the   dauphin abdicatetl In his favour, calling him Kiag   Henry V. I<ouis Philip has a family of five sons and   three daughters ; the eldest son, Ferdinand PhtUp   Louis Charles Henry, now Duke of Orleans, waa   born in 1810.\" → [\"France\"/LOC, \"Toeget\"/LOC, \"Jura\"/LOC, \"Daaphlny\"/LOC, \"Provence\"/LOC, \"Auvergne\"/LOC, \"Puy de Dome\"/LOC, \"Moots d'Or\"/LOC, \"Cental\"/LOC, \"Mont Lozcre\"/LOC, \"Pyrenees\"/LOC, \"France\"/LOC, \"Spain\"/LOC, \"Rhine\"/LOC, \"<\"/LOC, \"Seine\"/LOC, \"Loire\"/LOC, \"Garonne\"/LOC, \"Adour\"/LOC, \"Pyrenees\"/LOC, \"Bayonne\"/LOC, \"Marne\"/LOC, \"Oise\"/LOC, \"Seine\"/LOC, \"Allier\"/LOC, \"Loire\"/LOC, \"Sarthe\"/LOC, \"Maycnne\"/LOC, \"Loire\"/LOC, \"Rhone\"/LOC, \"Saoue\"/LOC, \"Isire\"/LOC, \"Durance\"/LOC, \"Ain\"/LOC, \"Sorgue\"/LOC, \"Tarn\"/LOC, \"Dordi^e\"/LOC, \"Garonne\"/LOC, \"France\"/LOC, \"Flanders\"/LOC, \"Artuis\"/LOC, \"Picardy\"/LOC, \"Normandy\"/LOC, \"Isle   of France\"/LOC, \"Ga\"/LOC, \"ronne\"/LOC, \"Languedoc\"/LOC, \"Limarne\"/LOC, \"Auvergne\"/LOC, \"Bretagne\"/LOC, \"Anjou\"/LOC, \"Maine\"/LOC, \"Bordeaux\"/LOC, \"Ardennes\"/LOC, \"Orleans\"/LOC, \"For.taincl'leau\"/LOC, \"Mediterranean\"/LOC, \"Languedoc\"/LOC, \"Provence\"/LOC, \"France\"/LOC, \"France\"/LOC, \"Champagne\"/LOC, \"Burgundy\"/LOC, \"Claret\"/LOC, \"Hermitage\"/LOC, \"France\"/LOC, \"France\"/LOC, \"France\"/LOC, \"Sedan\"/LOC, \"Tours\"/LOC, \"Ganges\"/LOC, \"Cevennes\"/LOC, \"Lyons\"/LOC, \"Paris\"/LOC, \"Lyons\"/LOC, \"France\"/LOC, \"Alsace\"/LOC, \"England\"/LOC, \"St Quentin\"/LOC, \"Valen\"/LOC, \"ciennes\"/LOC, \"Cambray\"/LOC, \"Paris\"/LOC, \"Paris\"/LOC, \"France\"/LOC, \"England\"/LOC, \"France\"/LOC, \"England\"/LOC, \"France\"/LOC, \"England\"/LOC, \"France\"/LOC, \"France\"/LOC, \"England\"/LOC, \"France\"/LOC, \"England\"/LOC, \"France\"/LOC, \"France\"/LOC, \"United States\"/LOC, \"France\"/LOC, \"Orleans\"/LOC, \"France\"/LOC, \"Louvain\"/LOC, \"Artois\"/LOC]"
      ]
     },
     "execution_count": 11,
     "metadata": {},
     "output_type": "execute_result"
    }
   ],
   "source": [
    "with open(\"Useful_Knowledge_Texts/Clipped_Texts/Chambers_InfoForPeople_France_1835.txt\", \"r\", encoding=\"utf-8\") as text_file_1:\n",
    "    text_1 = text_file_1.read()\n",
    "\n",
    "sentenced_1 = Sentence(text_1)\n",
    "tagger.predict(sentenced_1)\n",
    "\n",
    "sentenced_1"
   ]
  },
  {
   "cell_type": "code",
   "execution_count": 12,
   "metadata": {},
   "outputs": [
    {
     "name": "stdout",
     "output_type": "stream",
     "text": [
      "Topres Annotations List Number = 103\n"
     ]
    },
    {
     "data": {
      "text/plain": [
       "[('France', 'LOC'),\n",
       " ('Toeget', 'LOC'),\n",
       " ('Jura', 'LOC'),\n",
       " ('Daaphlny', 'LOC'),\n",
       " ('Provence', 'LOC'),\n",
       " ('Auvergne', 'LOC'),\n",
       " ('Puy de Dome', 'LOC'),\n",
       " (\"Moots d'Or\", 'LOC'),\n",
       " ('Cental', 'LOC'),\n",
       " ('Mont Lozcre', 'LOC'),\n",
       " ('Pyrenees', 'LOC'),\n",
       " ('France', 'LOC'),\n",
       " ('Spain', 'LOC'),\n",
       " ('Rhine', 'LOC'),\n",
       " ('<', 'LOC'),\n",
       " ('Seine', 'LOC'),\n",
       " ('Loire', 'LOC'),\n",
       " ('Garonne', 'LOC'),\n",
       " ('Adour', 'LOC'),\n",
       " ('Pyrenees', 'LOC'),\n",
       " ('Bayonne', 'LOC'),\n",
       " ('Marne', 'LOC'),\n",
       " ('Oise', 'LOC'),\n",
       " ('Seine', 'LOC'),\n",
       " ('Allier', 'LOC'),\n",
       " ('Loire', 'LOC'),\n",
       " ('Sarthe', 'LOC'),\n",
       " ('Maycnne', 'LOC'),\n",
       " ('Loire', 'LOC'),\n",
       " ('Rhone', 'LOC'),\n",
       " ('Saoue', 'LOC'),\n",
       " ('Isire', 'LOC'),\n",
       " ('Durance', 'LOC'),\n",
       " ('Ain', 'LOC'),\n",
       " ('Sorgue', 'LOC'),\n",
       " ('Tarn', 'LOC'),\n",
       " ('Dordi^e', 'LOC'),\n",
       " ('Garonne', 'LOC'),\n",
       " ('France', 'LOC'),\n",
       " ('Flanders', 'LOC'),\n",
       " ('Artuis', 'LOC'),\n",
       " ('Picardy', 'LOC'),\n",
       " ('Normandy', 'LOC'),\n",
       " ('Isle   of France', 'LOC'),\n",
       " ('Ga', 'LOC'),\n",
       " ('ronne', 'LOC'),\n",
       " ('Languedoc', 'LOC'),\n",
       " ('Limarne', 'LOC'),\n",
       " ('Auvergne', 'LOC'),\n",
       " ('Bretagne', 'LOC'),\n",
       " ('Anjou', 'LOC'),\n",
       " ('Maine', 'LOC'),\n",
       " ('Bordeaux', 'LOC'),\n",
       " ('Ardennes', 'LOC'),\n",
       " ('Orleans', 'LOC'),\n",
       " (\"For.taincl'leau\", 'LOC'),\n",
       " ('Mediterranean', 'LOC'),\n",
       " ('Languedoc', 'LOC'),\n",
       " ('Provence', 'LOC'),\n",
       " ('France', 'LOC'),\n",
       " ('France', 'LOC'),\n",
       " ('Champagne', 'LOC'),\n",
       " ('Burgundy', 'LOC'),\n",
       " ('Claret', 'LOC'),\n",
       " ('Hermitage', 'LOC'),\n",
       " ('France', 'LOC'),\n",
       " ('France', 'LOC'),\n",
       " ('France', 'LOC'),\n",
       " ('Sedan', 'LOC'),\n",
       " ('Tours', 'LOC'),\n",
       " ('Ganges', 'LOC'),\n",
       " ('Cevennes', 'LOC'),\n",
       " ('Lyons', 'LOC'),\n",
       " ('Paris', 'LOC'),\n",
       " ('Lyons', 'LOC'),\n",
       " ('France', 'LOC'),\n",
       " ('Alsace', 'LOC'),\n",
       " ('England', 'LOC'),\n",
       " ('St Quentin', 'LOC'),\n",
       " ('Valen', 'LOC'),\n",
       " ('ciennes', 'LOC'),\n",
       " ('Cambray', 'LOC'),\n",
       " ('Paris', 'LOC'),\n",
       " ('Paris', 'LOC'),\n",
       " ('France', 'LOC'),\n",
       " ('England', 'LOC'),\n",
       " ('France', 'LOC'),\n",
       " ('England', 'LOC'),\n",
       " ('France', 'LOC'),\n",
       " ('England', 'LOC'),\n",
       " ('France', 'LOC'),\n",
       " ('France', 'LOC'),\n",
       " ('England', 'LOC'),\n",
       " ('France', 'LOC'),\n",
       " ('England', 'LOC'),\n",
       " ('France', 'LOC'),\n",
       " ('France', 'LOC'),\n",
       " ('United States', 'LOC'),\n",
       " ('France', 'LOC'),\n",
       " ('Orleans', 'LOC'),\n",
       " ('France', 'LOC'),\n",
       " ('Louvain', 'LOC'),\n",
       " ('Artois', 'LOC')]"
      ]
     },
     "execution_count": 12,
     "metadata": {},
     "output_type": "execute_result"
    }
   ],
   "source": [
    "topres_annotations_1 = get_token_tag_tuples(sentenced_1)\n",
    "print(f'Topres Annotations List Number = {len(topres_annotations_1)}')\n",
    "topres_annotations_1"
   ]
  },
  {
   "cell_type": "code",
   "execution_count": 13,
   "metadata": {},
   "outputs": [
    {
     "name": "stdout",
     "output_type": "stream",
     "text": [
      "Doc 1 (Chambers's Information for the People 1835) EVALUATION REPORTS : HAND AND TOPRES NER ANNOTATION SUBSETS\n",
      "\n",
      "Micro PRECISION score for subsets = 1.0\n",
      "Weighted PRECISION score for subsets = 1.0\n",
      "\n",
      "Micro RECALL score for subsets = 1.0\n",
      "Weighted RECALL score for subsets = 1.0\n",
      "\n",
      "Micro F1 score for subsets = 1.0\n",
      "Weighted F1 score for subsets = 1.0\n",
      "\n",
      "Individual label performance: \n",
      "Accuracy score:  1.0\n",
      "              precision    recall  f1-score   support\n",
      "\n",
      "         LOC       1.00      1.00      1.00        90\n",
      "\n",
      "    accuracy                           1.00        90\n",
      "   macro avg       1.00      1.00      1.00        90\n",
      "weighted avg       1.00      1.00      1.00        90\n",
      "\n"
     ]
    },
    {
     "data": {
      "image/png": "[encoded data removed]",
      "text/plain": [
       "<Figure size 1000x800 with 2 Axes>"
      ]
     },
     "metadata": {},
     "output_type": "display_data"
    }
   ],
   "source": [
    "from sklearn.metrics import precision_score, recall_score, f1_score, accuracy_score, classification_report, confusion_matrix\n",
    "\n",
    "import numpy as np\n",
    "import matplotlib.pyplot as plt\n",
    "import seaborn as sns\n",
    "\n",
    "\n",
    "hand_subset_1 = hand_annotations_filtered_1[:90]\n",
    "topres_subset_1 = topres_annotations_1[:90]\n",
    "\n",
    "y_true_1 = [label for token, label in hand_subset_1]\n",
    "y_pred_1 = [label for token, label in topres_subset_1]\n",
    "\n",
    "prec_score_micro = precision_score(y_true_1, y_pred_1, average='micro')\n",
    "prec_score_weighted = precision_score(y_true_1, y_pred_1, average='weighted')\n",
    "\n",
    "rec_score_micro = recall_score(y_true_1, y_pred_1, average='micro')\n",
    "rec_score_weighted = recall_score(y_true_1, y_pred_1, average='weighted')\n",
    "\n",
    "f1_score_micro = f1_score(y_true_1, y_pred_1, average='micro')\n",
    "f1_score_weighted = f1_score(y_true_1, y_pred_1, average='weighted')\n",
    "\n",
    "print(\"Doc 1 (Chambers's Information for the People 1835) EVALUATION REPORTS : HAND AND TOPRES NER ANNOTATION SUBSETS\")\n",
    "print()\n",
    "print(f'Micro PRECISION score for subsets = {prec_score_micro}')\n",
    "print(f'Weighted PRECISION score for subsets = {prec_score_weighted}')\n",
    "print()\n",
    "print(f'Micro RECALL score for subsets = {rec_score_micro}')\n",
    "print(f'Weighted RECALL score for subsets = {rec_score_weighted}')\n",
    "print()\n",
    "print(f'Micro F1 score for subsets = {f1_score_micro}')\n",
    "print(f'Weighted F1 score for subsets = {f1_score_weighted}')\n",
    "print()\n",
    "print (\"Individual label performance: \")\n",
    "print (\"Accuracy score: \", accuracy_score(y_true_1, y_pred_1))\n",
    "print (classification_report(y_true_1, y_pred_1))\n",
    "\n",
    "\n",
    "\n",
    "labels = sorted(list(set(y_true_1 + y_pred_1)))\n",
    "\n",
    "conf_matrix = confusion_matrix(y_true_1, y_pred_1, labels=labels)\n",
    "\n",
    "plt.figure(figsize=(10, 8))\n",
    "sns.heatmap(conf_matrix, annot=True, fmt='d', cmap='Blues', xticklabels=labels, yticklabels=labels)\n",
    "plt.xlabel('Predicted')\n",
    "plt.ylabel('True')\n",
    "plt.title('Confusion Matrix')\n",
    "plt.show()"
   ]
  },
  {
   "cell_type": "code",
   "execution_count": 14,
   "metadata": {},
   "outputs": [
    {
     "name": "stdout",
     "output_type": "stream",
     "text": [
      "True Positives are when hand truth matches topres model predictions\n",
      "Number of True Positives: 50 for Document 1 - Chambers's Information for the people 1835\n",
      "\n",
      "False Positives By Label:\n",
      "LOC, 50 Total :  [('Marne', 'LOC'), ('Rhine', 'LOC'), ('Limarne', 'LOC'), ('Bordeaux', 'LOC'), ('Pyrenees', 'LOC'), ('Cambray', 'LOC'), ('Provence', 'LOC'), ('Alsace', 'LOC'), ('Ardennes', 'LOC'), ('Oise', 'LOC'), ('Lyons', 'LOC'), ('Flanders', 'LOC'), ('Seine', 'LOC'), ('Loire', 'LOC'), ('Tarn', 'LOC'), ('Languedoc', 'LOC'), ('Sorgue', 'LOC'), ('Puy de Dome', 'LOC'), ('Bayonne', 'LOC'), ('Cevennes', 'LOC'), ('Artuis', 'LOC'), ('Mediterranean', 'LOC'), ('Sedan', 'LOC'), ('France', 'LOC'), (\"Moots d'Or\", 'LOC'), ('England', 'LOC'), ('St Quentin', 'LOC'), ('Anjou', 'LOC'), ('Bretagne', 'LOC'), ('Garonne', 'LOC'), ('Mont Lozcre', 'LOC'), ('Adour', 'LOC'), ('Picardy', 'LOC'), ('Ain', 'LOC'), ('Maycnne', 'LOC'), ('Durance', 'LOC'), ('Daaphlny', 'LOC'), ('Sarthe', 'LOC'), ('Spain', 'LOC'), ('Ganges', 'LOC'), ('Paris', 'LOC'), ('United States', 'LOC'), ('Saoue', 'LOC'), ('Normandy', 'LOC'), ('Rhone', 'LOC'), ('Isire', 'LOC'), ('Maine', 'LOC'), ('Tours', 'LOC'), ('Orleans', 'LOC'), ('Auvergne', 'LOC')]\n",
      "\n",
      "Total False Positives:\n",
      "True Positive: ('Marne', 'LOC')\n",
      "True Positive: ('Rhine', 'LOC')\n",
      "True Positive: ('Limarne', 'LOC')\n",
      "True Positive: ('Bordeaux', 'LOC')\n",
      "True Positive: ('Pyrenees', 'LOC')\n",
      "True Positive: ('Cambray', 'LOC')\n",
      "True Positive: ('Provence', 'LOC')\n",
      "True Positive: ('Alsace', 'LOC')\n",
      "True Positive: ('Ardennes', 'LOC')\n",
      "True Positive: ('Oise', 'LOC')\n",
      "True Positive: ('Lyons', 'LOC')\n",
      "True Positive: ('Flanders', 'LOC')\n",
      "True Positive: ('Seine', 'LOC')\n",
      "True Positive: ('Loire', 'LOC')\n",
      "True Positive: ('Tarn', 'LOC')\n",
      "True Positive: ('Languedoc', 'LOC')\n",
      "True Positive: ('Sorgue', 'LOC')\n",
      "True Positive: ('Puy de Dome', 'LOC')\n",
      "True Positive: ('Bayonne', 'LOC')\n",
      "True Positive: ('Cevennes', 'LOC')\n",
      "True Positive: ('Artuis', 'LOC')\n",
      "True Positive: ('Mediterranean', 'LOC')\n",
      "True Positive: ('Sedan', 'LOC')\n",
      "True Positive: ('France', 'LOC')\n",
      "True Positive: (\"Moots d'Or\", 'LOC')\n",
      "True Positive: ('England', 'LOC')\n",
      "True Positive: ('St Quentin', 'LOC')\n",
      "True Positive: ('Anjou', 'LOC')\n",
      "True Positive: ('Bretagne', 'LOC')\n",
      "True Positive: ('Garonne', 'LOC')\n",
      "True Positive: ('Mont Lozcre', 'LOC')\n",
      "True Positive: ('Adour', 'LOC')\n",
      "True Positive: ('Picardy', 'LOC')\n",
      "True Positive: ('Ain', 'LOC')\n",
      "True Positive: ('Maycnne', 'LOC')\n",
      "True Positive: ('Durance', 'LOC')\n",
      "True Positive: ('Daaphlny', 'LOC')\n",
      "True Positive: ('Sarthe', 'LOC')\n",
      "True Positive: ('Spain', 'LOC')\n",
      "True Positive: ('Ganges', 'LOC')\n",
      "True Positive: ('Paris', 'LOC')\n",
      "True Positive: ('United States', 'LOC')\n",
      "True Positive: ('Saoue', 'LOC')\n",
      "True Positive: ('Normandy', 'LOC')\n",
      "True Positive: ('Rhone', 'LOC')\n",
      "True Positive: ('Isire', 'LOC')\n",
      "True Positive: ('Maine', 'LOC')\n",
      "True Positive: ('Tours', 'LOC')\n",
      "True Positive: ('Orleans', 'LOC')\n",
      "True Positive: ('Auvergne', 'LOC')\n"
     ]
    }
   ],
   "source": [
    "ground_truth_set = set(hand_annotations_filtered_1)\n",
    "hist_ner_predictions_set = set(topres_annotations_1)\n",
    "\n",
    "true_positives = ground_truth_set.intersection(hist_ner_predictions_set)\n",
    "\n",
    "num_true_positives = len(true_positives)\n",
    "print('True Positives are when hand truth matches topres model predictions')\n",
    "print(f\"Number of True Positives: {num_true_positives} for Document 1 - Chambers's Information for the people 1835\")\n",
    "print()\n",
    "\n",
    "print('False Positives By Label:')\n",
    "get_reports_by_label(true_positives)\n",
    "print()\n",
    "print('Total False Positives:')\n",
    "\n",
    "for entity in true_positives:\n",
    "    print(f\"True Positive: {entity}\")"
   ]
  },
  {
   "cell_type": "code",
   "execution_count": 15,
   "metadata": {},
   "outputs": [
    {
     "name": "stdout",
     "output_type": "stream",
     "text": [
      "False Negatives are present in hand truth but not topres model predictions\n",
      "Number of False Negatives: 10 in Document 1 - Chambers's Information for the People 1835\n",
      "\n",
      "False Negatives By Label:\n",
      "LOC, 10 Total :  [('colonies', 'LOC'), ('Ga - ronne', 'LOC'), ('southern provinces', 'LOC'), ('provinces', 'LOC'), (\"For . taincl'leau\", 'LOC'), ('Jura mountains', 'LOC'), ('Isle of France', 'LOC'), ('Valen - ciennes', 'LOC'), ('Dordi', 'LOC'), ('mountains of Auvergne', 'LOC')]\n",
      "\n",
      "Total False Negatives:\n",
      "False Negative : ('colonies', 'LOC')\n",
      "False Negative : ('Ga - ronne', 'LOC')\n",
      "False Negative : ('southern provinces', 'LOC')\n",
      "False Negative : ('provinces', 'LOC')\n",
      "False Negative : (\"For . taincl'leau\", 'LOC')\n",
      "False Negative : ('Jura mountains', 'LOC')\n",
      "False Negative : ('Isle of France', 'LOC')\n",
      "False Negative : ('Valen - ciennes', 'LOC')\n",
      "False Negative : ('Dordi', 'LOC')\n",
      "False Negative : ('mountains of Auvergne', 'LOC')\n"
     ]
    }
   ],
   "source": [
    "false_negatives = ground_truth_set.difference(hist_ner_predictions_set)\n",
    "\n",
    "num_false_negatives = len(false_negatives)\n",
    "print('False Negatives are present in hand truth but not topres model predictions')\n",
    "print(f\"Number of False Negatives: {num_false_negatives} in Document 1 - Chambers's Information for the People 1835\")\n",
    "print()\n",
    "\n",
    "print('False Negatives By Label:')\n",
    "get_reports_by_label(false_negatives)\n",
    "print()\n",
    "print('Total False Negatives:')\n",
    "\n",
    "for entity in false_negatives:\n",
    "    print(f\"False Negative : {entity}\")"
   ]
  },
  {
   "cell_type": "code",
   "execution_count": 16,
   "metadata": {},
   "outputs": [
    {
     "name": "stdout",
     "output_type": "stream",
     "text": [
      "False Positives are predicted by spacy but are not in hand truth\n",
      "Number of False Positives: 18 in Document 1 - Chambers's Information for the People 1835\n",
      "\n",
      "False Positives By Label:\n",
      "LOC, 18 Total :  [('Allier', 'LOC'), ('Burgundy', 'LOC'), ('Ga', 'LOC'), ('Louvain', 'LOC'), ('Isle   of France', 'LOC'), ('Jura', 'LOC'), ('ronne', 'LOC'), ('Champagne', 'LOC'), ('Toeget', 'LOC'), ('ciennes', 'LOC'), (\"For.taincl'leau\", 'LOC'), ('Artois', 'LOC'), ('Cental', 'LOC'), ('Dordi^e', 'LOC'), ('Claret', 'LOC'), ('<', 'LOC'), ('Valen', 'LOC'), ('Hermitage', 'LOC')]\n",
      "\n",
      "Total False Positives:\n",
      "False Positive : ('Allier', 'LOC')\n",
      "False Positive : ('Burgundy', 'LOC')\n",
      "False Positive : ('Ga', 'LOC')\n",
      "False Positive : ('Louvain', 'LOC')\n",
      "False Positive : ('Isle   of France', 'LOC')\n",
      "False Positive : ('Jura', 'LOC')\n",
      "False Positive : ('ronne', 'LOC')\n",
      "False Positive : ('Champagne', 'LOC')\n",
      "False Positive : ('Toeget', 'LOC')\n",
      "False Positive : ('ciennes', 'LOC')\n",
      "False Positive : (\"For.taincl'leau\", 'LOC')\n",
      "False Positive : ('Artois', 'LOC')\n",
      "False Positive : ('Cental', 'LOC')\n",
      "False Positive : ('Dordi^e', 'LOC')\n",
      "False Positive : ('Claret', 'LOC')\n",
      "False Positive : ('<', 'LOC')\n",
      "False Positive : ('Valen', 'LOC')\n",
      "False Positive : ('Hermitage', 'LOC')\n"
     ]
    }
   ],
   "source": [
    "false_positives = hist_ner_predictions_set.difference(ground_truth_set)\n",
    "\n",
    "num_false_positives = len(false_positives)\n",
    "print('False Positives are predicted by spacy but are not in hand truth')\n",
    "print(f\"Number of False Positives: {num_false_positives} in Document 1 - Chambers's Information for the People 1835\")\n",
    "print()\n",
    "\n",
    "print('False Positives By Label:')\n",
    "get_reports_by_label(false_positives)\n",
    "print()\n",
    "print('Total False Positives:')\n",
    "\n",
    "for entity in false_positives:\n",
    "    print(f\"False Positive : {entity}\")"
   ]
  },
  {
   "cell_type": "code",
   "execution_count": 17,
   "metadata": {},
   "outputs": [
    {
     "name": "stdout",
     "output_type": "stream",
     "text": [
      "Evaluation Calculation Reports for Document 1 - Chambers's Information for the People 1835\n",
      "\n",
      "Recall Score = 0.8333333333333334\n",
      "Precision Score = 0.7352941176470589\n",
      "F1 Score = 0.78125\n"
     ]
    }
   ],
   "source": [
    "rec_calc = num_true_positives / (num_true_positives + num_false_negatives)\n",
    "prec_calc = num_true_positives / (num_true_positives + num_false_positives)\n",
    "f1_calc = (2 * prec_calc * rec_calc) / (prec_calc + rec_calc)\n",
    "\n",
    "print(\"Evaluation Calculation Reports for Document 1 - Chambers's Information for the People 1835\")\n",
    "print()\n",
    "print(f'Recall Score = {rec_calc}')\n",
    "print(f'Precision Score = {prec_calc}')\n",
    "print(f'F1 Score = {f1_calc}')"
   ]
  },
  {
   "cell_type": "markdown",
   "metadata": {},
   "source": [
    "This Evaluation Technique does not work for when there is a very limited number of data and they all have the same  label.\n",
    "Tokens are different, but tags are the same, resulting in perfect prediction.... \n",
    "\n",
    "This technique might work for data where \"Nulls\" or untagged tokens labeled as 'O' are preserved in the data set...\n"
   ]
  },
  {
   "cell_type": "markdown",
   "metadata": {},
   "source": [
    "## Document 2 Comparison: Clipping from Chambers's Journal 1839 (on Literature)\n"
   ]
  },
  {
   "cell_type": "code",
   "execution_count": 18,
   "metadata": {},
   "outputs": [
    {
     "name": "stdout",
     "output_type": "stream",
     "text": [
      "Hand Annotations List number = 187\n"
     ]
    },
    {
     "data": {
      "text/plain": [
       "[('EDINBURGIT', 'GPE'),\n",
       " ('CHAMBERS', 'PERSON'),\n",
       " ('WILLIAM', 'PERSON'),\n",
       " ('ROBERT CHAMBERS', 'PERSON'),\n",
       " ('CHAMBERS', 'PERSON'),\n",
       " ('BRADBURY', 'PERSON'),\n",
       " ('EVANS', 'PERSON'),\n",
       " ('WHITEFRIARS', 'GPE'),\n",
       " ('SATURDAY , JANUARY 26 , 1839', 'DATE'),\n",
       " ('THREE HALFPENSE', 'MONEY'),\n",
       " ('meat', 'PRODUCT'),\n",
       " ('Crusoe', 'WORK_OF_ART'),\n",
       " ('Gulliver', 'WORK_OF_ART'),\n",
       " ('Waverley Novels', 'WORK_OF_ART'),\n",
       " ('Fielding', 'PERSON'),\n",
       " ('Smollett', 'PERSON'),\n",
       " ('Parson Adams', 'PERSON'),\n",
       " ('Lilliputians', 'ORG'),\n",
       " ('Lilliput', 'GPE'),\n",
       " ('1728', 'DATE'),\n",
       " ('Lulliputians', 'ORG'),\n",
       " ('Mr Gulliver', 'PERSON'),\n",
       " ('1728', 'DATE'),\n",
       " ('Caleb Balderstone', 'PERSON'),\n",
       " ('Dalgetty', 'PERSON'),\n",
       " ('Dominie Sampson', 'PERSON'),\n",
       " ('the novel', 'WORK_OF_ART'),\n",
       " ('Loch Katrine', 'LOC'),\n",
       " ('Fitzjames', 'PERSON'),\n",
       " ('Laputa', 'PERSON'),\n",
       " ('Rarenswood', 'LOC'),\n",
       " ('Houynhymms', 'ORG'),\n",
       " ('satires', 'WORK_OF_ART'),\n",
       " ('Partridge', 'LOC'),\n",
       " ('book', 'PRODUCT'),\n",
       " ('fiction', 'WORK_OF_ART'),\n",
       " (\"Arabian Nights ' Entertainments\", 'WORK_OF_ART'),\n",
       " ('cottages', 'LOC'),\n",
       " ('fairy scene', 'WORK_OF_ART'),\n",
       " ('French', 'NORP'),\n",
       " ('caliph', 'NORP'),\n",
       " ('Mahom -', 'NORP'),\n",
       " ('honey', 'PRODUCT'),\n",
       " ('oil', 'PRODUCT'),\n",
       " ('soup', 'PRODUCT'),\n",
       " ('book', 'PRODUCT'),\n",
       " ('liquor', 'PRODUCT'),\n",
       " ('syrup', 'PRODUCT'),\n",
       " ('Waverley fictions', 'WORK_OF_ART'),\n",
       " ('Pallet', 'PERSON'),\n",
       " ('Italian count', 'NORP'),\n",
       " ('magnetic island', 'LOC'),\n",
       " ('Cowper', 'PERSON'),\n",
       " ('Pickle', 'PERSON'),\n",
       " ('Clinker', 'PERSON'),\n",
       " ('island', 'LOC'),\n",
       " ('Molly Jones', 'PERSON'),\n",
       " ('Jones', 'PERSON'),\n",
       " ('Tabitha', 'PERSON'),\n",
       " ('Habeas Corpus Act', 'LAW'),\n",
       " ('Vicar of Wakefield', 'NORP'),\n",
       " ('Mat', 'PERSON'),\n",
       " ('island', 'LOC'),\n",
       " ('Borneo', 'LOC'),\n",
       " ('Jenkinson', 'PERSON'),\n",
       " ('Bagdad', 'GPE'),\n",
       " ('Rembrandt', 'PERSON'),\n",
       " ('hundred guineas', 'MONEY'),\n",
       " ('New Zealand', 'GPE'),\n",
       " ('Beau Tibbs', 'PERSON'),\n",
       " ('St Andrew', 'PERSON'),\n",
       " ('St Lazarus', 'PERSON'),\n",
       " ('Haroun', 'PERSON'),\n",
       " ('Barnabas', 'PERSON'),\n",
       " ('Bill Squash', 'PERSON'),\n",
       " ('Creole', 'NORP'),\n",
       " ('Beau Tibbs', 'PERSON'),\n",
       " ('Robinson Crusoe', 'WORK_OF_ART'),\n",
       " ('Gulliver', 'WORK_OF_ART'),\n",
       " ('Mr Lane', 'PERSON'),\n",
       " ('Crusoe', 'PERSON'),\n",
       " ('Pacific', 'LOC'),\n",
       " ('CHAMBERS', 'PERSON'),\n",
       " ('EDINBURGH', 'GPE'),\n",
       " ('Essayists', 'ORG'),\n",
       " ('professors', 'ORG'),\n",
       " ('literature', 'PRODUCT'),\n",
       " ('Lochryan', 'PERSON'),\n",
       " ('Miss Emily', 'PERSON'),\n",
       " ('Lord Barnard', 'PERSON'),\n",
       " ('Gil Morrice', 'PERSON'),\n",
       " ('Eudosias', 'PERSON'),\n",
       " ('Eugeniuses', 'PERSON'),\n",
       " ('Hymenæuses', 'PERSON'),\n",
       " ('Lord Barnard', 'PERSON'),\n",
       " ('Sir Roger', 'PERSON'),\n",
       " ('de Coverley', 'LOC'),\n",
       " ('the inn', 'LOC'),\n",
       " (\"Brown Adam'st\", 'PERSON'),\n",
       " ('inn', 'LOC'),\n",
       " ('Leyden', 'PERSON'),\n",
       " ('ballad literature', 'WORK_OF_ART'),\n",
       " ('Miss Emily', 'PERSON'),\n",
       " ('Johnson', 'PERSON'),\n",
       " ('Edinburgh', 'GPE'),\n",
       " ('Mackenzie', 'PERSON'),\n",
       " ('Liddel', 'GPE'),\n",
       " ('poetry', 'PRODUCT'),\n",
       " ('Pope', 'NORP'),\n",
       " ('poets', 'ORG'),\n",
       " ('English', 'NORP'),\n",
       " ('English literature', 'PRODUCT'),\n",
       " ('Fanchon', 'PERSON'),\n",
       " ('Essay on Criticism', 'WORK_OF_ART'),\n",
       " ('Rape of the Lock', 'WORK_OF_ART'),\n",
       " ('Eloisa', 'LOC'),\n",
       " ('public works', 'PRODUCT'),\n",
       " ('country', 'LOC'),\n",
       " ('Essay on Man', 'WORK_OF_ART'),\n",
       " ('English epic', 'WORK_OF_ART'),\n",
       " ('Iliad', 'WORK_OF_ART'),\n",
       " ('England', 'GPE'),\n",
       " ('Pope', 'NORP'),\n",
       " ('few guineas', 'MONEY'),\n",
       " ('some silver', 'MONEY'),\n",
       " ('Dryden', 'PERSON'),\n",
       " ('Pope', 'NORP'),\n",
       " ('THE STORY OF GERALDINE', 'WORK_OF_ART'),\n",
       " ('Dryden', 'PERSON'),\n",
       " ('Car - else', 'GPE'),\n",
       " ('England', 'GPE'),\n",
       " ('Fables', 'WORK_OF_ART'),\n",
       " ('Pope', 'NORP'),\n",
       " ('Carwell', 'GPE'),\n",
       " ('Cherry', 'PERSON'),\n",
       " ('Cherry', 'PERSON'),\n",
       " ('Milton', 'PERSON'),\n",
       " ('Cherry', 'PERSON'),\n",
       " ('grand Christian poem', 'WORK_OF_ART'),\n",
       " ('Butler', 'PERSON'),\n",
       " ('Hudibras', 'PERSON'),\n",
       " ('Waller', 'PERSON'),\n",
       " ('Cowley', 'PERSON'),\n",
       " ('Herbert', 'PERSON'),\n",
       " ('Lovelace', 'PERSON'),\n",
       " ('dramatists', 'ORG'),\n",
       " ('English dramatists', 'ORG'),\n",
       " ('Jonson', 'PERSON'),\n",
       " ('Fletcher', 'PERSON'),\n",
       " ('Webster', 'PERSON'),\n",
       " ('Spenser', 'PERSON'),\n",
       " ('Surry', 'PERSON'),\n",
       " ('Wyatt', 'PERSON'),\n",
       " ('Dunbar', 'PERSON'),\n",
       " ('Carwell', 'GPE'),\n",
       " ('Carwell', 'GPE'),\n",
       " ('London', 'GPE'),\n",
       " ('poetical painters', 'ORG'),\n",
       " ('Chaucer', 'PERSON'),\n",
       " ('Barbour', 'PERSON'),\n",
       " ('London', 'GPE'),\n",
       " ('Bruce', 'PERSON'),\n",
       " ('Orange Bower', 'LOC'),\n",
       " ('Scotland', 'GPE'),\n",
       " ('lanes', 'FAC'),\n",
       " ('Harriet', 'PERSON'),\n",
       " ('authors', 'ORG'),\n",
       " ('Carwell', 'GPE'),\n",
       " ('the ballad of Brovon Adam', 'WORK_OF_ART'),\n",
       " ('CHAMBERS', 'PERSON'),\n",
       " ('EDINBURGH', 'GPE'),\n",
       " ('Locke', 'PERSON'),\n",
       " ('Mrs Chapone', 'PERSON'),\n",
       " ('Miss Edgeworth', 'PERSON'),\n",
       " ('Hannah More', 'PERSON'),\n",
       " ('Miss Hamilton', 'PERSON'),\n",
       " ('Shrewsbury', 'GPE'),\n",
       " ('Carwell', 'GPE'),\n",
       " ('Plymouth', 'GPE'),\n",
       " ('Plymouth', 'GPE'),\n",
       " ('Mrs Baker', 'PERSON'),\n",
       " ('Lord Marsden', 'PERSON'),\n",
       " ('France', 'GPE'),\n",
       " ('Lord Marsden', 'PERSON'),\n",
       " ('native land', 'LOC'),\n",
       " ('French vessel', 'FAC'),\n",
       " ('Mrs Baker', 'PERSON')]"
      ]
     },
     "execution_count": 18,
     "metadata": {},
     "output_type": "execute_result"
    }
   ],
   "source": [
    "hand_annotated_data_2 = []\n",
    "with open(\"Useful_Knowledge_Annotations_iob_3/DOCUMENT-omonroe2_illinois_edu/Chambers_Journal_literature_Jan26_1839.txt.tsv\", \"r\", encoding=\"utf-8\") as iob_file_2:\n",
    "    for line in iob_file_2:\n",
    "        line = line.strip()\n",
    "        if line:\n",
    "            token, label = line.split(\"\\t\")\n",
    "           \n",
    "            hand_annotated_data_2.append((token, label))\n",
    "\n",
    "hand_annotated_tagged_2 = [(token, label) for token, label in hand_annotated_data_2 if label != 'O']\n",
    "\n",
    "merged_hand_annotations_2 = merge_iob_tokens(hand_annotated_tagged_2)\n",
    "\n",
    "print(f'Hand Annotations List number = {len(merged_hand_annotations_2)}')\n",
    "merged_hand_annotations_2"
   ]
  },
  {
   "cell_type": "code",
   "execution_count": 19,
   "metadata": {},
   "outputs": [
    {
     "name": "stdout",
     "output_type": "stream",
     "text": [
      "Hand Annotations List Number = 40\n"
     ]
    },
    {
     "data": {
      "text/plain": [
       "[('EDINBURGIT', 'LOC'),\n",
       " ('WHITEFRIARS', 'LOC'),\n",
       " ('Lilliput', 'LOC'),\n",
       " ('Loch Katrine', 'LOC'),\n",
       " ('Rarenswood', 'LOC'),\n",
       " ('Partridge', 'LOC'),\n",
       " ('cottages', 'LOC'),\n",
       " ('magnetic island', 'LOC'),\n",
       " ('island', 'LOC'),\n",
       " ('island', 'LOC'),\n",
       " ('Borneo', 'LOC'),\n",
       " ('Bagdad', 'LOC'),\n",
       " ('New Zealand', 'LOC'),\n",
       " ('Pacific', 'LOC'),\n",
       " ('EDINBURGH', 'LOC'),\n",
       " ('de Coverley', 'LOC'),\n",
       " ('the inn', 'LOC'),\n",
       " ('inn', 'LOC'),\n",
       " ('Edinburgh', 'LOC'),\n",
       " ('Liddel', 'LOC'),\n",
       " ('Eloisa', 'LOC'),\n",
       " ('country', 'LOC'),\n",
       " ('England', 'LOC'),\n",
       " ('Car - else', 'LOC'),\n",
       " ('England', 'LOC'),\n",
       " ('Carwell', 'LOC'),\n",
       " ('Carwell', 'LOC'),\n",
       " ('Carwell', 'LOC'),\n",
       " ('London', 'LOC'),\n",
       " ('London', 'LOC'),\n",
       " ('Orange Bower', 'LOC'),\n",
       " ('Scotland', 'LOC'),\n",
       " ('Carwell', 'LOC'),\n",
       " ('EDINBURGH', 'LOC'),\n",
       " ('Shrewsbury', 'LOC'),\n",
       " ('Carwell', 'LOC'),\n",
       " ('Plymouth', 'LOC'),\n",
       " ('Plymouth', 'LOC'),\n",
       " ('France', 'LOC'),\n",
       " ('native land', 'LOC')]"
      ]
     },
     "execution_count": 19,
     "metadata": {},
     "output_type": "execute_result"
    }
   ],
   "source": [
    "hand_annotations_filtered_2 = filter_map_tags(merged_hand_annotations_2)\n",
    "\n",
    "print(f'Hand Annotations List Number = {len(hand_annotations_filtered_2)}')\n",
    "hand_annotations_filtered_2"
   ]
  },
  {
   "cell_type": "code",
   "execution_count": 20,
   "metadata": {},
   "outputs": [
    {
     "data": {
      "text/plain": [
       "Sentence[6331]: \"## p. 1 (#17) ###############################################   EDINBURGIT CHAMBERS UE JO CONDUCTED BY WILLIAM AND ROBERT CHAMBERS, EDITORS OF \" CHAMBERS’S INFORMATION FOR THE PEOPLE,\" “ CHAMBERS'S EDUCATIONAL COURSE,” &c. PRINTED BY BRADBURY AND EVANS, WHITEFRIARS, LONDON. NUMBER 365. SATURDAY, JANUARY 26, 1839. PRICE THREE HALFPENSE. WHAT ENGLISH LITERATURE GIVES US. loads of meat, for that was “ country all over.” Surely, but we can readily suppose that it must have been ENGLISH literature gives all who can enjoy it a fund in the recollection of such things we have something essentially different. The first reading of Crusoe is of pleasure, of the great amount of which we are not still better than solid philosophy. Going back a little now a feature in every man’s biography. Gulliver is apt to be quite aware till we run over a few of farther, how does the heart leap up when we recollect not so indispensable, but yet the having him is much the items. There are the Waverley Novels—in di- the many admirable things of Fielding and Smollett. to be rejoiced in. Was ever such an air of reality rect contemplation, only the talk of an old-fashioned Parson Adams himself gilds the whole time. What given to the totally extra-natural! This is so perfect Scotch gentleman, who died a few years ago—or, in simplicity, what true goodness !—verily, the world's in its way, that, once get over the difficulty as to a still more gross consideration, but a few masses history gives us few characters equal to him—and yet the smallness of the Lilliputians and the bigness of of printed paper. Yet, in effect, what are they! To we feel that he is natural. Poor and ragged is this the Brobdignagians, and every thing else appears as how many thousands upon thousands has life been sturdy son of primitive unvarnished honesty, and he just what was to be expected. In Lilliput, the rations made less painful or more delightful by these charm- never ceases to be a subject of merriment to the reader dispensed to the colossal stranger are as much as 1728 ing tales ! The world would have gone on without -yet how wonderful the effect of genuine virtue, he ordinary men of the country could eat. Now, this is them, no doubt, but it would not have gone on so never ceases to be respectable, even when chased by mathematically what it ought to be, to be in keeping agreeably. There would have been an infinite deal the squire's dogs, Thunder, Wonder, Plunder, and with his comparative size, for, the Lulliputians mea- less happiness in it during the last twenty-five years, Blunder, or soused by the waggish doctor in the tub. suring only inches for feet with Mr Gulliver, we must, if they had not been written. How much has been in the same book, how are we taught to relent in all in order to find his size as compared to theirs, take the done for our enjoyment even by one or two of the our stern conventionalities, when the robbed, wounded, square of 12, which, being cubed, gives exactly 1728. characters-Caleb Balderstone, for instance, or Dugald and naked Andrews being refused succour by the whole This may give some idea of the care which Swift must Dalgetty, or Dominie Sampson. These are ideal beings, of the inmates of the stage-coach, we are told that “ he have taken to preserve all proper analogies between but do we not feel positively richer by knowing them must have perished, unless the postilion (a lad who has his hero and the novel beings amongst whom he so- -by having it in our power at any time to call them since been transported for robbing à hen-roost) had journed. It reminds us of Scott's riding from Stirling up before our minds, and inwardly smile at what is voluntarily stript off a great-coat, his only garment, at to Loch Katrine at a stretch, to make sure that he ludicrous about them? In like manner, is it not a the same time swearing a great oath (for which he was would be within the bounds of the probable in repre- luxurious sympathy which we feel respecting the for- rebuked by the passengers), “That he would rather senting Fitzjames as doing so. Laputa and the tunes of Rarenswood, all imaginary as he is. These ride in his shirt all his life, than suffer a fellow-crea- | Houynhymms are not boys' books ; they are satires beings take their place among our acquaintance, and ture to lie in so miserable a condition. The humours for men, or rather outlets for the spleen of the unfor- the most delightful of all acquaintance they are. We of Partridge—what more is needed than to allude to tunately constituted author. Boys do not understand have only to take up a book, and lo we mingle at once them? The same of Strap, that most original of them, and consequently do not care for them. But in their society, as if unconsciously carried into it humble dependents and faithful followers. Morgan, what a fund of entertainment there is for us in the two through the air. Such books are as show-holes in the too, who, when expelled from the presence of the other sections! The affair at the conflagration of the walls of this common world, through which to look exquisite sea captain for his redolence of tobacco, sat palace is perhaps the very drollest thingin all factor fiction. into one full of the gay, the romantic, and the beautiful. down and only whistled a Welsh ditty. This book is The Arabian Nights' Entertainments are not ours The blind may be slipped aside, and our eye applied, not perfect, certainly; but yet who would give it for by birth, but they have nevertheless taken their place in the smokiest of cottages, as in the most gorgeous many that are, or pretend to be so? Then the dinner amongst the similar things of our own which consti- of palaces, and the fairy scene will be the same in each after the manner of the ancients. The French cook tute the national literary inheritance. They bring us case. And we command the show at any time. It sinking on his knees, while his master's sword is at his into a considerably different world from any other we will lull us after the excitement and fatigues of labour, throat, and exclaiming in piteous accents, “Spare me are acquainted with. The caliph, the cadi, the Mahom- and it will beguile us of the languor of monotonous the mortification of the honey and oil !” The “inde- medan faith, genies, enchanters, are the prominent retirement and solitude. We may be sad or joyous, cent phenomenon” of Pallet sitting transfixed by the novelties they display to us. There is a fine want of eager and full of hope, or mistrustful of all the good atrocious taste of the soup into the attitude of a leaden precise outline about every thing in the book. We things of life ; but our accidental mood is of no con- river god, with the liquor flowing out of both sides of see as through some prismatically disturbing medium. sequence when we have once fixed ourselves at the his mouth. The pie of dormice liquored with syrup What a dreamy romantic grandeur, for instance, in raree-show of the Waverley fictions, for then all of of white poppies, and the sow's stomach filled with a the story of the gold fishes in the lonely lake, and the ourselves sinks, except the consciousness of great en composition of all else that is horrible, which, when prince of whose body the lower half had been trans- joyment. Pallet started up and drew the table-cloth after him, formed into black marble. The stories of the dead Thousands of other things there are in our litera- was pitched into the lap of the dainty Italian count. city and of the magnetic island, which drew out the ture, which we feel to be amongst the most precious What a flow of grotesque and laughter-compelling nails of vessels, and shipwrecked the mariners, are of of our possessions and privileges. Cowper's Task is images ! Turn we from Pickle to Clinker, and how the same kind. How wild and strange the tale of the as good as an estate to every reading man in the king- do we find the matter for mirth kept up! The mala- calender on the uninhabited island, to which a mer- dom. There are some of Burns's songs, the loss of prop Jenkins, with her “Oh Molly Jones, Molly chant comes to immure his son for a year, that he which, if it were possible, would be to me more deplor-Jones!” The tabbiest of tabbies, Tabitha. Lesma- may elude the prophecy which has doomed the youth able, as far as I am personally concerned, than the total hago, most scranky of captains—think of him descend- to destruction within that period—what a sense of repeal of the Habeas Corpus Act. The blotting out ing the ladder in his night-gown yhen the false alarm ruthless destiny falls on the reader when the accident of the Vicar of Wakefield from most minds, would of fire was given.“ Mat, cried the knight, crown takes place by, which the lad is killed !—and what a be more grievous than to know that the island of me with oak, or ivy, or laurel, or parsley, or what you distressing sense of pity for the father, who immedi- Borneo had sunk in the sea. The single whimsicality will, and acknowledge me to be a coup de maitre in the ately after comes, and finds his body. The whole idea of the gross of green spectacles, and Jenkinson's one way of waggery–ha, ha, ha! Such a camiscata scag- of the three calenders, kings' sons, each blind of an piece of learning about the cosmogony, could not be liata beffata ! –O che roba—Oh what a subject! Oh eye, who meet at the gates of Bagdad, is a fine one, fill- lost without the most serious detriment to all con- what a caricature ! Oh for a Rosa, a Rembrandt, a ing the mind with a pleasing sense of the inexplicable. cerned, namely, the whole English public. Certainly, Schalken! Zooks, I'll give a hundred guineas to have all the barber's stories are excellent, from that of it would be less distressing to lose all our territorial it painted—what a fine descent **! What lights and Alnaschar who, in his sanguine dream of prospective interest in the island of New Zealand, than to cease shadows! What a group below! What expression greatness, kicked over the basket of stoneware which to know and relish the quiet joke of the vicar respect- above! What an aspect ! Did you mind the aspect ? was to be the basis of his fortune, to that of the blind ing his wife's schemings in household economy, that --ha, ha, ha !—and the limbs, and the muscles every one who was so oddly entertained by the Barmecide. he had not perceived that they ever got any richer by toe denoted terror !ha, ha, ha !—then the blanket ! Zobiede figures throughout as a fine specimen of wo- them. Then there is Beau Tibbs in the essays of the Oh what costume! St Andrew! St Lazarus ! St manly fortitude and good sense, and Haroun is a noble same writer, with his shivering nankeens, and that Barnabas !—ha, ha, ha!”” person in all respects. Altogether, it is a glorious delightful suburban attic, the view from which was There are some books usually read in youth, and book, and one to which we cannot well show erough so much prized by Bill Squash, the Creole. What without which youth would not be what it is. Of of respect. Good as it ever was, it is said to be greatly would we not give up to retain Beau Tibbs! The these are Robinson Crusoe and Gulliver. How youth improved in Mr Lane’s new edition, which I have not poor fellow dined on all that was slight and slender; passed long ago, when there was no Crusoe to waft it seen, but which I would need to see before I could but he did not feel that he did so from poverty--it away in fancy to the Pacific, and fix it upon the lonely believe an allegation so contrary to all that could have was all a matter of taste-he hated your immense doings of the shipwrecked mariner, is inconceivable ; 1 been presupposed.    ## p. 2 (#18) ###############################################  CHAMBERS'S EDINBURGH JOURNAL. 1 The Essayists occupy a conspicuous place in the people, and may or may not have regular professors, however, before I met a woman whose cottage I had literature of the last century; but somehow I do not as the accident of culture may direct. often visited, and who, by the depth of her courtesy, feel disposed to set much store by them. Their fault, Sweet syren, breathe the powerful strain ! and a certain earnestness of gaze, seemed to say as Lochryan's damsel* sails the main ; or, let us be gentle, their misfortune, is, that they do The crystal towers enchanted see! plainly as any words could speak, “ If you were not in not relate so much to human nature, as to some of its “Now break,\" she cries, \" ye fairy charms !\" such a hurry, Miss Emily, I would tell you something temporary modes. There is a sad deal too much about As round she sails with fond alarms, that would interest you very much.” I paused, and hoops and flounces and rolled stockings, and enforce- \"Now break, and set my true love free !\" she immediately began to ask me if I had heard of the Lord Barnard is to greenwood gone, ments of little moralities which no gentleman now dreadful accident that had happened to the morning Where fair Gil Morrice sits alone, thinks of disobeying; and then the Flirtillas, and And careless combs his yellow hair; coach about an hour before. It had been overturned, Eudosias, and Eugeniuses, and Hymenæuses, are stiff Ah! mourn the youth, untimely slain! the coachman and guard killed on the spot, the outside old frumps at the best. The whole reminds one of The meanest of Lord Barnard's train passengers severely injured, and of the inside ones, who an exhibition of wax-work and old dresses. Yet The hunters' mangled head must bear. Or change these notes of deep despair, were merely a respectable-looking middle-aged woman, there are fine things amongst them too-Sir Roger For love's more soothing tender air: and a little child, the former was lying insensible at de Coverley, for instance, that admirable Old-English Sing how beneath the greenwood tree, the inn, while the latter had escaped quite unhurt. In gentleman, so humane, so little thinking of the cur- Brown Adam'st love maintained her truth, five minutes I found myself in a small room in the rent of the world, so unreflecting on every thing Nor would resign the exiled youth little inn near which the accident had happened; the For any knight the fair could see. beyond the traditionary habits and duties of his In these terms did the enthusiast Leyden express that medical man who attended us was already there, and station and locality. Here also we have the majestic devotion to ballad literature which made him once he took me by the hand and said, “ Miss Emily, this moral melancholy of Johnson, and the fine pathos of start away from Edinburgh to the distant vale of the is no place for you; this poor woman's life is nearly Mackenzie. But, after all, it must be a selection from Liddel, on the Border, forthe purpose of obtaining from ended; your presence can do her no good ; but if you that long line of essays which can give pleasure now- a certain crone but one missing stanza. Nor less are would amuse this little one, it would be a real kind- the charms of the song class of our traditionary poetry. a-days. The Cowdenknowes will be for ever vocal with the ness, for the poor sufferer seems conscious of her sobs, Come we now to Pope, that prince of sayers of acute sweetest of verse, and the Marion of the Ewe-Buchts though of nothing else.\" So saying, he pulled a little and exquisite things—that most mellifiuous of all the must shine as a star unto all time. girl reluctantly from the farther side of the bed, where rhetorical class of poets amongst whom he flourished. What is above written gives but the heads of the her little face had been buried in the counterpane, Fashion has set him a little aside, which it can never literature. The addition of the inferior and yet worthy she bounded forward, exclaiming, “Oh, mamma! wealth which we possess under the name of English and led her towards me. At the first glimpse of me, do with an author who has not written in some mea- names would swell the account, like the putting down sure according to a fashion; but he was a fine spirit of ciphers on the right hand side of a number. And mamma!\" but a second glance was sufficient to con- and a great poet, nevertheless, and English literature is not this substantial wealth, albeit it is not of the vince her of her mistake, and to make her redouble her would show a mighty blank indeed, were he taken out kind which the political economists insist so much cries for her dear nurse. I found Fanchon a powerful of it. What nicety in his Essay on Criticism—what upon, that kind which, as they say, has an exchange- auxiliary in gaining the attention of my new little brilliant polish in his Rape of the Lock-what superb only reflect what would be our condition, if no litera- friend ; and leaving word that I should take her home sorrow and passion in Eloisa, where the feeling is ture, ancient or modern, existed. The accumulation to breakfast, we hastened thither, and I really think almost made true by its vehemence, in spite of the of these stores of the thoughts and fancies of eminent joy at having met with an adventure almost made me constantly counteracting influence of the diction- minds, is just like the construction of public works in forget to feel sorry for the suffering nurse ; at least what penetration and expansiveness of view in the a country; and a country without a literature is like this I know, that when our friend the surgeon came Essay on Man—and what a splendid English epic in a country in which as yet no roads have been formed, after breakfast to say that all was over, and found me the translation of the Iliad! The verses to the me- lar assembly built. But England is in both these engaged in a regular game of romps with the child, I mory of the unfortunate lady alone would stamp Pope respects a wealthy country. It has been put by our felt a pang as though her life had fallen a sacrifice to a poet, if there were nothing else to make him out fathers into our hands, furnished with an amount of my negligence. There was nothing, he said, by which that, as well as a great ethical writer. The Dunciad physical conveniences and sources of comfort beyond it could be ascertained to whom the child belonged, and all the other satires may be given up—they are all precedent, and endowed with an intellectual inhe- ritance such as no other country ever had. Evils or whence she came; there was no luggage that could decidedly not pleasing. But the remainder of his manifold may affect it, if some will have the case to have belonged to them, and in the nurse's pocket only writings are a precious possession of the people in be so ; but, amidst all that troubles her, there still a very handsome purse, evidently belonging to a lady, whose tongue they were written ; and such, no doubt, remains, unsullied, intact, ever ready for the solace containing a few guineas and some silver; the child's they will ever be. Dryden is even better than Pope? ment of her thinking sons, the deathless productions clothes, too, were not marked. The outside passengers He has immense masculine energies. There is a of her intellectual great. had none of them come more than a few stages, and lashing strength about his verse that no other writer did not know how far the woman and child might approaches. His works are the farewell of the sound THE STORY OF GERALDINE, have travelled; the latter could give no information, old English, for which the stiffened and glistered but that she was papa’s and mamma's little girl, and language of the last century was the substitute, and which there has latterly been a disposition to revive. It is now between forty and fifty years since my that their names were papa and mamma, and nothing sister Dryden is also much out of view, but most undeser- and I were residing near the beautiful village of Car- else ; for herself , she seemed to abound in names, for vedly. Few know what a treasure of thought and well , in a romantic part of England, now little visited, nothing bright or beautiful in earth or air could be We are apt, in the large attention we pay to modern ephemeral reputation which the most newly-disco- but the name she always gave when asked, was the expression lies in his Hind and Panther and Fables. but which at that time was at the height of that mentioned, but she said, “ Mamma call me dat.” She was Diamond, and Rose, and Eyebright, and Sunbeam; literature, to set down him and Pope in our minds as vered spa is sure to obtain among our novelty-loving scarcely poets at all, or at the best good versifiers ; countrymen. The bustle and gaiety of Carwell have very undignified one of Cherry. Cherry she affirmed but when we open their works, and actually read long passed away : the faculty no longer consider its she was, and very angry she grew when we laughed at her. However, we had no doubt that before the fathers talked of these men as something only a little springs a specific for every mortal malady ; nor do day expired, her parents would arrive; at any rato, lower than the gods. the great world, wearied of the splendour of their an- the accident that had happened would soon reach their Going back only a little farther, we come to Milton, cestral halls, hasten to its hotels, and strive, by sub- ears, and our little Cherry would be taken from us; with his grand Christian poem-to Butler, with his mitting to temporary inconveniences, to acquire a new but day after day, and week after week, passed, and at Hudibras, the wit of which is so exquisite as to become zest for the enjoyment of their homes. All is now last the day came, on which we were to leave Care poetry--to Waller, and Cowley, and Herbert, and Herrick. Then to the cavalier poets Lovelace, Suck- stillness and solitude, but to my mind's eye it will well, without one inquiry having been made after the ling, and Carew, who loved their unfortunate master ever be pictured as the place that it then was, rather sweet child; for sweet, indeed, she was, and to mu, at with a zeal which was in itself more poetical than the than as it now is. least, possessed of charms I never saw partaken of by nine-tenths of even good verse. Next in retrogression, we find the dramatists--the English dramatists, for I write; we had been left orphans at too early an age thing till her parents found her: she rather wondered My sister and I were just of ago at the time of which any other. The day before we left, I told my sister that, of course, I should not part with our little play- from extremity of fame to be mentioned, the learned to know our loss; and since leaving school, we had at my encumbering myself in such a manner; but you Jonson, the sweet Fletcher, the soul-harrowing Ford, passed our time in visiting our numerous connections ; may suppose her objections were not of a very serious and the romantic Webster. A little earlier, and we but immediately on obtaining possession of the large nature, as about six months afterwards she became have Spenser, with his endless tissue of beautiful alle fortune which, by the will of our father, was to be the wife of a gentleman with eight similar encum- gory--a little earlier still, we have the fathers of their era, Surry and Wyatt. Before this time, some giants come ours on our twenty-first birth day, we determined wonder, but I do not think she ever had the slightest brances; it certainly then became my turn rather to loom through the obscurity that has invested them. to take a beautiful little residence for a few months, cause to regret the step she took, any more than I There is the admirable Scottish Dunbar, a poet of in the immediate neighbourhood of Carwell, and have to regret mine. Before leaving Carwell , I sent manners and morals little behind Pope. There is leave our permanent abode for the present undecided. my address in London, whither we were going, to all poetical painters, and only neglected because his lan- seldom have any young heiresses so thoroughly enjoyed of the accident again inserted in the newspapers. Chaucer, one of the most correct and unaffected of The summer months passed rapidly away, and I believe the hotels and lodging houses, with a particular de- guage has ceased to be understood. And, finally, there is Barbour, the writer of a most delightful epic, the adulation and flattery heaped upon heiresses all the My Chérie had evidently been most carefully brought which has all the advantage of being a true history-world over, as we did. We were expecting to leave up, and the first thing I did on arriving in London was namely, The Bruce. our lovely Orange Bower (for so was our cottage called) to purchase a blank book, in which I might carefully that have yet been adverted to remains to be noticed: ing, finding my sister not ready for breakfast quite so A class of compositions altogether apart from all in about a fortnight, when one bright autumnal morn- record every thing the little girl said that might throw any light upon her past life, for I mistrusted my memory too much to rely on it alone; the second thing I did or of Scotland. No era can be mentioned for these soon as myself, I put on my bonnet, and called my was to have her miniature taken, that, should she not compositions: they have glimpsed forth from the dark- little dog Fanchon, to take a scamper with me through meet her parents till too much changed for them to ness of past ages, as stars come by night into the sky, the adjoining lanes, intending to surprise Harriet on remember her, the miniature might be something to without any one being able to tell exactly when they my return with the information that a certain circuit appeal to for what she had been when first brought first became visible. No authors' names can be men- had been made in about one-third of the time usually under my notice. tioned for them : they have sprung forth like the From the very moment of leaving Carwell, I deter- anbidden beauty of the prairie, which no one can tell allotted to such an expedition. I had not gone far, mined to devote my whole time and attention to the how it became planted. Involuntary gushings they welfare of this beloved child, and I commenced a course would appear to have been of that \"faculty divine, * See the ballad of the Lass of Lochryan. of reading that I hoped might qualify me for carrying which has resided at all times in the bosoms of the † See the ballad of Brovon Adam in the Border Minstrelsy. on her education in a very superior manner. I studied BY HER FRIEND. 1 1    ## p. 3 (#19) ###############################################  CHAMBERS'S EDINBURGH JOURNAL. 3 all that Locke and Mrs Chapone, Miss Edgeworth, liked, at any other time, to have looked round this deso- that it might arrive before herself. When she reached Hannah More, and Miss Hamilton, had written on the late apartment, yet our candle was burning too low in Shrewsbury, however, she resolved to send the nurse subject, and amused myself with forming schemes, which its socket to admit of my noticing any thing but the and child to Carwell, as she feared the long journey I thought would combine the advantages of each system one object I was come to see. I had only time to take might be injurious to the child, and she knew some without the defects of any. As soon as she became old one wistful gaze at the lovely lady, and her sweet child intimate friends of her own sex were there who would enough to have a governess, I used great care in the who nestled in her bosom, when our candle suddenly look after her. She had not time to write to them, but selection of one whom I thought likely to co-operate went out, and left us in total darkness. I groped my they knew the nurse, and she was to tell them she would with me in my plans for conveying the highest degree way back to bed alone (Fanny's room being in an oppo- write from Plymouth. Most unfortunately, when she of polish to the manners, combined with the most solid site direction to mine), but it was not to sleep; so long reached Plymouth, the vessel was on the point of sailing. groundwork of intellectual cultivation. I could, how- a night I never passed in the whole course of my exist- She hastened on board, where she soon made the dis- ever, seldom retain any governess longer than a few ence; and when day at last dawned, still I thought the covery that it was not intended for the accommodation months, my exactions being so very arbitrary, until hour would never come when I might descend to the of lady passengers at any rate ; but the captain, a coarse, I received a Mrs Baker, who was every thing that I library with any hope of finding. Lord Marsden there. and as she soon began to fear, an ignorant man, was too could wish. This lady was homeless and friendless, At last I went down, but found it empty, and I began glad to secure the large sum which the eagerness of the and her history interested me so much, that I deter- to fear that he was that morning going to depart from lady made bim demand for her passage, to hint to her mined to take her on trial. She had just escaped from his established rule, of reading there for an hour before that it was no place for her. A violent storm came on France, where she had been a prisoner, and without breakfast. At length he came, and summoning up all the next day, which drove them completely out of their any means of communicating with her family and my courage, “ Lord Marsden,\" I said, “ I should apo course ; and after it had subsided, while the captain and friends, for ten tedious years; and when at last, a lonely logise for my intrusion into a room where I believe you crew were all in a state of brutal intoxication, they were widow, she reached her native land, it was only to find allow no one to enter but yourself; but I trust you will taken by a French vessel. Her servant, the only one herself without a friend, and with so small a pittance have to thank me for my boldness till your dying day, who offered any resistance, fell dead at her feet, de- that active employment was her only resource. I was for I think I cannot be mistaken in saying that this claring, he hoped they would rather kill his honoured soon delighted to find the change that took place upon (putting the miniature, which I always carried about lady than make a prisoner of her. Captivity, however, Chérie. Mrs Baker acted in so judicious à manner, with me, into his hands) that this is indeed your long was her fate.\" → [\"WHITEFRIARS\"/STREET, \"LONDON\"/LOC, \"Stirling\"/LOC, \"Katrine\"/LOC, \"Wakefield\"/LOC, \"Borneo\"/LOC, \"Bagdad\"/LOC, \"New Zealand\"/LOC, \"EDINBURGH\"/LOC, \"Edinburgh\"/LOC, \"Border\"/LOC, \"England\"/LOC, \"Car- else\"/LOC, \"England\"/LOC, \"Milton\"/LOC, \"Hudibras\"/LOC, \"Surry\"/LOC, \"Wyatt\"/LOC, \"Carwell\"/LOC, \"Carwell\"/LOC, \"London\"/LOC, \"London\"/LOC, \"Scotland\"/LOC, \"Carwell\"/LOC, \"Lochryan\"/LOC, \"EDINBURGH\"/LOC, \"Hannah More\"/LOC, \"Shrewsbury\"/LOC, \"Plymouth\"/LOC, \"Plymouth\"/LOC, \"France\"/LOC]"
      ]
     },
     "execution_count": 20,
     "metadata": {},
     "output_type": "execute_result"
    }
   ],
   "source": [
    "with open(\"Useful_Knowledge_Texts/Clipped_Texts/Chambers_Journal_literature_Jan26_1839.txt\", \"r\", encoding=\"utf-8\") as text_file_2:\n",
    "    text_2 = text_file_2.read()\n",
    "\n",
    "sentenced_2 = Sentence(text_2)\n",
    "tagger.predict(sentenced_2)\n",
    "\n",
    "sentenced_2\n"
   ]
  },
  {
   "cell_type": "code",
   "execution_count": 21,
   "metadata": {},
   "outputs": [
    {
     "name": "stdout",
     "output_type": "stream",
     "text": [
      "Topres Annotations List Number = 31\n"
     ]
    },
    {
     "data": {
      "text/plain": [
       "[('WHITEFRIARS', 'LOC'),\n",
       " ('LONDON', 'LOC'),\n",
       " ('Stirling', 'LOC'),\n",
       " ('Katrine', 'LOC'),\n",
       " ('Wakefield', 'LOC'),\n",
       " ('Borneo', 'LOC'),\n",
       " ('Bagdad', 'LOC'),\n",
       " ('New Zealand', 'LOC'),\n",
       " ('EDINBURGH', 'LOC'),\n",
       " ('Edinburgh', 'LOC'),\n",
       " ('Border', 'LOC'),\n",
       " ('England', 'LOC'),\n",
       " ('Car- else', 'LOC'),\n",
       " ('England', 'LOC'),\n",
       " ('Milton', 'LOC'),\n",
       " ('Hudibras', 'LOC'),\n",
       " ('Surry', 'LOC'),\n",
       " ('Wyatt', 'LOC'),\n",
       " ('Carwell', 'LOC'),\n",
       " ('Carwell', 'LOC'),\n",
       " ('London', 'LOC'),\n",
       " ('London', 'LOC'),\n",
       " ('Scotland', 'LOC'),\n",
       " ('Carwell', 'LOC'),\n",
       " ('Lochryan', 'LOC'),\n",
       " ('EDINBURGH', 'LOC'),\n",
       " ('Hannah More', 'LOC'),\n",
       " ('Shrewsbury', 'LOC'),\n",
       " ('Plymouth', 'LOC'),\n",
       " ('Plymouth', 'LOC'),\n",
       " ('France', 'LOC')]"
      ]
     },
     "execution_count": 21,
     "metadata": {},
     "output_type": "execute_result"
    }
   ],
   "source": [
    "topres_annotations_2 = get_token_tag_tuples(sentenced_2)\n",
    "print(f'Topres Annotations List Number = {len(topres_annotations_2)}')\n",
    "topres_annotations_2"
   ]
  },
  {
   "cell_type": "code",
   "execution_count": 22,
   "metadata": {},
   "outputs": [
    {
     "name": "stdout",
     "output_type": "stream",
     "text": [
      "Doc 3 (Chambers's Journal 1839) EVALUATION REPORTS : HAND AND TOPRES NER ANNOTATION SUBSETS\n",
      "\n",
      "Micro PRECISION score for subsets = 1.0\n",
      "Weighted PRECISION score for subsets = 1.0\n",
      "\n",
      "Micro RECALL score for subsets = 1.0\n",
      "Weighted RECALL score for subsets = 1.0\n",
      "\n",
      "Micro F1 score for subsets = 1.0\n",
      "Weighted F1 score for subsets = 1.0\n",
      "\n",
      "Individual label performance: \n",
      "Accuracy score:  1.0\n",
      "              precision    recall  f1-score   support\n",
      "\n",
      "         LOC       1.00      1.00      1.00        30\n",
      "\n",
      "    accuracy                           1.00        30\n",
      "   macro avg       1.00      1.00      1.00        30\n",
      "weighted avg       1.00      1.00      1.00        30\n",
      "\n"
     ]
    },
    {
     "data": {
      "image/png": "[encoded data removed]",
      "text/plain": [
       "<Figure size 1000x800 with 2 Axes>"
      ]
     },
     "metadata": {},
     "output_type": "display_data"
    }
   ],
   "source": [
    "\n",
    "hand_subset_2 = hand_annotations_filtered_2[:30]\n",
    "topres_subset_2 = topres_annotations_2[:30]\n",
    "\n",
    "\n",
    "y_true_2 = [label for token, label in hand_subset_2]\n",
    "y_pred_2 = [label for token, label in topres_subset_2]\n",
    "\n",
    "prec_score_micro_2 = precision_score(y_true_2, y_pred_2, average='micro')\n",
    "prec_score_weighted_2 = precision_score(y_true_2, y_pred_2, average='weighted')\n",
    "\n",
    "rec_score_micro_2 = recall_score(y_true_2, y_pred_2, average='micro')\n",
    "rec_score_weighted_2 = recall_score(y_true_2, y_pred_2, average='weighted')\n",
    "\n",
    "f1_score_micro_2 = f1_score(y_true_2, y_pred_2, average='micro')\n",
    "f1_score_weighted_2 = f1_score(y_true_2, y_pred_2, average='weighted')\n",
    "\n",
    "\n",
    "print(\"Doc 3 (Chambers's Journal 1839) EVALUATION REPORTS : HAND AND TOPRES NER ANNOTATION SUBSETS\")\n",
    "print()\n",
    "print(f'Micro PRECISION score for subsets = {prec_score_micro_2}')\n",
    "print(f'Weighted PRECISION score for subsets = {prec_score_weighted_2}')\n",
    "print()\n",
    "print(f'Micro RECALL score for subsets = {rec_score_micro_2}')\n",
    "print(f'Weighted RECALL score for subsets = {rec_score_weighted_2}')\n",
    "print()\n",
    "print(f'Micro F1 score for subsets = {f1_score_micro_2}')\n",
    "print(f'Weighted F1 score for subsets = {f1_score_weighted_2}')\n",
    "print()\n",
    "print (\"Individual label performance: \")\n",
    "print (\"Accuracy score: \", accuracy_score(y_true_2, y_pred_2))\n",
    "print (classification_report(y_true_2, y_pred_2))\n",
    "\n",
    "\n",
    "labels_2 = sorted(list(set(y_true_2 + y_pred_2)))\n",
    "\n",
    "conf_matrix_2 = confusion_matrix(y_true_2, y_pred_2, labels=labels_2)\n",
    "\n",
    "plt.figure(figsize=(10, 8))\n",
    "sns.heatmap(conf_matrix_2, annot=True, fmt='d', cmap='Blues', xticklabels=labels, yticklabels=labels)\n",
    "plt.xlabel('Predicted')\n",
    "plt.ylabel('True')\n",
    "plt.title('Confusion Matrix')\n",
    "plt.show()"
   ]
  },
  {
   "cell_type": "code",
   "execution_count": 23,
   "metadata": {},
   "outputs": [
    {
     "name": "stdout",
     "output_type": "stream",
     "text": [
      "True Positives are when hand truth matches topres model predictions\n",
      "Number of True Positives: 13 in Document 2 - Chambers's Journal 1839\n",
      "\n",
      "True Positives By Label:\n",
      "LOC, 13 Total :  [('Plymouth', 'LOC'), ('Bagdad', 'LOC'), ('England', 'LOC'), ('France', 'LOC'), ('EDINBURGH', 'LOC'), ('Shrewsbury', 'LOC'), ('Edinburgh', 'LOC'), ('New Zealand', 'LOC'), ('Carwell', 'LOC'), ('Scotland', 'LOC'), ('WHITEFRIARS', 'LOC'), ('Borneo', 'LOC'), ('London', 'LOC')]\n",
      "\n",
      "Total True Positives:\n",
      "True Positive: ('Plymouth', 'LOC')\n",
      "True Positive: ('Bagdad', 'LOC')\n",
      "True Positive: ('England', 'LOC')\n",
      "True Positive: ('France', 'LOC')\n",
      "True Positive: ('EDINBURGH', 'LOC')\n",
      "True Positive: ('Shrewsbury', 'LOC')\n",
      "True Positive: ('Edinburgh', 'LOC')\n",
      "True Positive: ('New Zealand', 'LOC')\n",
      "True Positive: ('Carwell', 'LOC')\n",
      "True Positive: ('Scotland', 'LOC')\n",
      "True Positive: ('WHITEFRIARS', 'LOC')\n",
      "True Positive: ('Borneo', 'LOC')\n",
      "True Positive: ('London', 'LOC')\n"
     ]
    }
   ],
   "source": [
    "ground_truth_set_2 = set(hand_annotations_filtered_2)\n",
    "topres_predictions_set_2 = set(topres_annotations_2)\n",
    "\n",
    "true_positives_2 = ground_truth_set_2.intersection(topres_predictions_set_2)\n",
    "\n",
    "num_true_positives_2 = len(true_positives_2)\n",
    "print('True Positives are when hand truth matches topres model predictions')\n",
    "print(f\"Number of True Positives: {num_true_positives_2} in Document 2 - Chambers's Journal 1839\")\n",
    "print()\n",
    "\n",
    "print('True Positives By Label:')\n",
    "get_reports_by_label(true_positives_2)\n",
    "print()\n",
    "print('Total True Positives:')\n",
    "\n",
    "for entity in true_positives_2:\n",
    "    print(f\"True Positive: {entity}\")"
   ]
  },
  {
   "cell_type": "code",
   "execution_count": 24,
   "metadata": {},
   "outputs": [
    {
     "name": "stdout",
     "output_type": "stream",
     "text": [
      "False Negatives are present in hand truth but not topres model predictions\n",
      "Number of False Negatives: 18 in Document 2 - Chambers's Journal 1839\n",
      "\n",
      "False Negatives By Label:\n",
      "LOC, 18 Total :  [('cottages', 'LOC'), ('de Coverley', 'LOC'), ('Pacific', 'LOC'), ('Rarenswood', 'LOC'), ('native land', 'LOC'), ('magnetic island', 'LOC'), ('Car - else', 'LOC'), ('Eloisa', 'LOC'), ('EDINBURGIT', 'LOC'), ('island', 'LOC'), ('Loch Katrine', 'LOC'), ('Partridge', 'LOC'), ('inn', 'LOC'), ('the inn', 'LOC'), ('Orange Bower', 'LOC'), ('Lilliput', 'LOC'), ('Liddel', 'LOC'), ('country', 'LOC')]\n",
      "\n",
      "Total False Negatives:\n",
      "False Negative : ('cottages', 'LOC')\n",
      "False Negative : ('de Coverley', 'LOC')\n",
      "False Negative : ('Pacific', 'LOC')\n",
      "False Negative : ('Rarenswood', 'LOC')\n",
      "False Negative : ('native land', 'LOC')\n",
      "False Negative : ('magnetic island', 'LOC')\n",
      "False Negative : ('Car - else', 'LOC')\n",
      "False Negative : ('Eloisa', 'LOC')\n",
      "False Negative : ('EDINBURGIT', 'LOC')\n",
      "False Negative : ('island', 'LOC')\n",
      "False Negative : ('Loch Katrine', 'LOC')\n",
      "False Negative : ('Partridge', 'LOC')\n",
      "False Negative : ('inn', 'LOC')\n",
      "False Negative : ('the inn', 'LOC')\n",
      "False Negative : ('Orange Bower', 'LOC')\n",
      "False Negative : ('Lilliput', 'LOC')\n",
      "False Negative : ('Liddel', 'LOC')\n",
      "False Negative : ('country', 'LOC')\n"
     ]
    }
   ],
   "source": [
    "false_negatives_2 = ground_truth_set_2.difference(topres_predictions_set_2)\n",
    "\n",
    "num_false_negatives_2 = len(false_negatives_2)\n",
    "print('False Negatives are present in hand truth but not topres model predictions')\n",
    "print(f\"Number of False Negatives: {num_false_negatives_2} in Document 2 - Chambers's Journal 1839\")\n",
    "print()\n",
    "\n",
    "print('False Negatives By Label:')\n",
    "get_reports_by_label(false_negatives_2)\n",
    "print()\n",
    "print('Total False Negatives:')\n",
    "\n",
    "for entity in false_negatives_2:\n",
    "    print(f\"False Negative : {entity}\")"
   ]
  },
  {
   "cell_type": "code",
   "execution_count": 25,
   "metadata": {},
   "outputs": [
    {
     "name": "stdout",
     "output_type": "stream",
     "text": [
      "False Positives are predicted by topres model but are not in hand truth\n",
      "Number of False Positives: 23 in Document 2 - Chambers's Journal 1839\n",
      "\n",
      "False Positives By Label:\n",
      "LOC, 23 Total :  [('Milton', 'LOC'), ('Bagdad', 'LOC'), ('Stirling', 'LOC'), ('Lochryan', 'LOC'), ('LONDON', 'LOC'), ('Border', 'LOC'), ('WHITEFRIARS', 'LOC'), ('Hudibras', 'LOC'), ('New Zealand', 'LOC'), ('Katrine', 'LOC'), ('Borneo', 'LOC'), ('Wakefield', 'LOC'), ('Plymouth', 'LOC'), ('Hannah More', 'LOC'), ('Edinburgh', 'LOC'), ('Wyatt', 'LOC'), ('Carwell', 'LOC'), ('Car- else', 'LOC'), ('EDINBURGH', 'LOC'), ('Shrewsbury', 'LOC'), ('Surry', 'LOC'), ('Scotland', 'LOC'), ('London', 'LOC')]\n",
      "\n",
      "Total False Positives:\n",
      "False Positive : ('Milton', 'LOC')\n",
      "False Positive : ('Bagdad', 'LOC')\n",
      "False Positive : ('Stirling', 'LOC')\n",
      "False Positive : ('Lochryan', 'LOC')\n",
      "False Positive : ('LONDON', 'LOC')\n",
      "False Positive : ('Border', 'LOC')\n",
      "False Positive : ('WHITEFRIARS', 'LOC')\n",
      "False Positive : ('Hudibras', 'LOC')\n",
      "False Positive : ('New Zealand', 'LOC')\n",
      "False Positive : ('Katrine', 'LOC')\n",
      "False Positive : ('Borneo', 'LOC')\n",
      "False Positive : ('Wakefield', 'LOC')\n",
      "False Positive : ('Plymouth', 'LOC')\n",
      "False Positive : ('Hannah More', 'LOC')\n",
      "False Positive : ('Edinburgh', 'LOC')\n",
      "False Positive : ('Wyatt', 'LOC')\n",
      "False Positive : ('Carwell', 'LOC')\n",
      "False Positive : ('Car- else', 'LOC')\n",
      "False Positive : ('EDINBURGH', 'LOC')\n",
      "False Positive : ('Shrewsbury', 'LOC')\n",
      "False Positive : ('Surry', 'LOC')\n",
      "False Positive : ('Scotland', 'LOC')\n",
      "False Positive : ('London', 'LOC')\n"
     ]
    }
   ],
   "source": [
    "false_positives_2 = topres_predictions_set_2.difference(ground_truth_set)\n",
    "\n",
    "num_false_positives_2 = len(false_positives_2)\n",
    "print('False Positives are predicted by topres model but are not in hand truth')\n",
    "print(f\"Number of False Positives: {num_false_positives_2} in Document 2 - Chambers's Journal 1839\")\n",
    "print()\n",
    "\n",
    "print('False Positives By Label:')\n",
    "get_reports_by_label(false_positives_2)\n",
    "print()\n",
    "print('Total False Positives:')\n",
    "\n",
    "for entity in false_positives_2:\n",
    "    print(f\"False Positive : {entity}\")"
   ]
  },
  {
   "cell_type": "code",
   "execution_count": 26,
   "metadata": {},
   "outputs": [
    {
     "name": "stdout",
     "output_type": "stream",
     "text": [
      "Evaluation Calculation Reports for Document 2 - Chambers's Journal 1839\n",
      "\n",
      "Recall Score = 0.41935483870967744\n",
      "Precision Score = 0.3611111111111111\n",
      "F1 Score = 0.3880597014925373\n"
     ]
    }
   ],
   "source": [
    "rec_calc_2 = num_true_positives_2 / (num_true_positives_2 + num_false_negatives_2)\n",
    "prec_calc_2 = num_true_positives_2 / (num_true_positives_2 + num_false_positives_2)\n",
    "f1_calc_2 = (2 * prec_calc_2 * rec_calc_2) / (prec_calc_2 + rec_calc_2)\n",
    "\n",
    "print(\"Evaluation Calculation Reports for Document 2 - Chambers's Journal 1839\")\n",
    "print()\n",
    "print(f'Recall Score = {rec_calc_2}')\n",
    "print(f'Precision Score = {prec_calc_2}')\n",
    "print(f'F1 Score = {f1_calc_2}')"
   ]
  },
  {
   "cell_type": "markdown",
   "metadata": {},
   "source": [
    "## Document 3 Comparison: Clipping from Chambers's Journal 1851 (on Monasteries)"
   ]
  },
  {
   "cell_type": "code",
   "execution_count": 27,
   "metadata": {},
   "outputs": [
    {
     "name": "stdout",
     "output_type": "stream",
     "text": [
      "Hand Annotations List Number = 14\n"
     ]
    },
    {
     "data": {
      "text/plain": [
       "[('England', 'LOC'),\n",
       " ('Gate - house', 'LOC'),\n",
       " ('Guest - Hall', 'LOC'),\n",
       " ('Benedictine convent', 'LOC'),\n",
       " ('Ham', 'LOC'),\n",
       " ('Leicestershire', 'LOC'),\n",
       " ('county', 'LOC'),\n",
       " ('place of abode', 'LOC'),\n",
       " ('England', 'LOC'),\n",
       " ('county', 'LOC'),\n",
       " ('EDINBURGH', 'LOC'),\n",
       " ('England', 'LOC'),\n",
       " ('land of dreams', 'LOC'),\n",
       " ('apartment', 'LOC')]"
      ]
     },
     "execution_count": 27,
     "metadata": {},
     "output_type": "execute_result"
    }
   ],
   "source": [
    "# Loading and Cleaning Data for Document 3\n",
    "hand_annotated_data_3 = []\n",
    "with open(\"Useful_Knowledge_Annotations_iob_3/DOCUMENT-omonroe2_illinois_edu/Chambers_Journal_monastery_1851.txt.tsv\", \"r\", encoding=\"utf-8\") as iob_file_3:\n",
    "    for line in iob_file_3:\n",
    "        line = line.strip()\n",
    "        if line:\n",
    "            token, label = line.split(\"\\t\")\n",
    "           \n",
    "            hand_annotated_data_3.append((token, label))\n",
    "\n",
    "hand_annotated_tagged_3 = [(token, label) for token, label in hand_annotated_data_3 if label != 'O']\n",
    "\n",
    "merged_hand_annotations_3 = merge_iob_tokens(hand_annotated_tagged_3)\n",
    "hand_annotations_filtered_3 = filter_map_tags(merged_hand_annotations_3)\n",
    "\n",
    "print(f'Hand Annotations List Number = {len(hand_annotations_filtered_3)}')\n",
    "hand_annotations_filtered_3\n"
   ]
  },
  {
   "cell_type": "code",
   "execution_count": 28,
   "metadata": {},
   "outputs": [
    {
     "data": {
      "text/plain": [
       "Sentence[2167]: \"VISIT TO AN ENGLISH MONASTERY. I HAVE always felt a deep interest in monks and monkery, and an interest that did not commence with my historical period, but may be traced far back in the fabulous Radcliffian era. I knew of course that there I was received by a venerable-looking monk, in a were monks in England, but could never believe them light drab habit reaching to his ankles, who with to be anything more than imitation monks. An Italian much kindness of manner bade me welcome. He con- or a Spanish monk I could understand, and, spite of ducted me to an inner room of the Gate-house, where I the chronic revolution now going on, I had not alto-wrote my name in the visitors' book; and we then gether withdrawn my faith from a French monk. But crossed a quadrangular court to the Guest-Hall, where an English monk seemed highly improbable. I was tea and other refreshments had been prepared. While once invited to visit the Benedictine convent at Ham-gazing round me like a man in a strange country, a mersmith; but that was quite too much. Hammersmith! swell of music rose suddenly upon my ear. As if a name like that was compatible with a genuine convent! Besides, I myself knew the sister of the abbess; and a nice, kind, frank little lady she was, who drank tea and spoke prose as like other people as possible. Such considerations set the Benedictines completely out of the question; but my curiosity, after a hard struggle with my unbelief, was at length aroused by the reports that reached me from time to time concerning another religious establishment. This was the monastery of Mount St Bernard in Leicestershire -a sufficiently probable name, it must be confessed, notwithstanding its associations with fat cattle and improved breeds. Perhaps the considerable distance of the county from my usual place of abode formed an element in the feasibility of the thing; but at anyrate I did send a missive to the Fathers, to acquaint them, in what I was told was the prescribed form, with my intention to pay them a visit; and half-interested, half- pooh-poohish, I actually set out for an English monas- tery. My letter was forwarded through the penny-post; I travelled myself by rail. On arriving at the nearest station, which is six miles from the abbey, I found that the good Fathers had provided a conveyance for me, drawn by a pony, and driven by an Irishman. The pony was sedate and slow, as became a conventual horse; and the Irishman was in a hurry neither with his words nor actions, but sat quietly on his box like a monumental figure of Resignation. The consequence was that the shades of evening fell thickly around us before our arrival, and that seen through them the adventure began to look respectable. I was on my way to a monastery-to the monastery of St Bernard. I was to eat in its refectory, to pray at its vespers, to sleep in its dormitory. In England, it is true, where the people would mob a Capuchin as they would a Bloomerite; and in a county where short horns are the chief local celebrities: but no matter. The evening was dark and preternaturally silent; and when at length we stopped at a large, 'It is the brethren in the choir,' said the guest- master, observing me start, who are finishing their evening devotions. That is the \"Salve Regina,” or hymn to the Virgin; and when I hear its last cadence, my day is at an end, and my lips must no more open except in prayer.' When the solemn chant died away, a bell rang, called the angelus, and the guest - master and his assistant, a lay-brother, immediately facing about, sank on their knees before a fine picture of the Crucifixion. Here they said their angelus; and the guest-master, who had missed the service in the choir in consequence of his attendance upon me, went through his office-apparently a long ritual before rising from his knees. During this interval-though hardly feeling that it was germane to the place and time I was busily engaged, at the pressing instance of the lay-brother, in discussing a very interesting tea and delicious omelet. - 6 When the monk had finished his devotions and I my refreshment, he laid a book before me, and pointing to a section, seemed to desire that I should read it. It proved to be a short lesson on monastic obedience; and when I had finished, he conducted me to the cloisters, and through them to the church, a large and gloomy edifice, lighted only by the dim but ever-burning lamp of the sanctuary. It was from this building I had heard the solemn swell of the Salve Regina,' given forth by the united voices of forty monks; but now our own footsteps were the only sounds that broke the awful stillness of the place. The monk, with his muffled figure, and slow, calm pace, went on before me into the choir, and knelt before the altar. This appeared to be the sole purpose for which he had entered the church, since he could hold no communication with me; and as I stood behind his motionless figure, and watched the faint play of the solitary lamp, lost in the profound darkness beyond, a feeling akin to superstitious terror took possession of me. I do not know how long the silent monk remained on his knees, but it must have    ## p. 338 (#350) ############################################  338 CHAMBERS'S EDINBURGH JOURNAL. been a considerable time; and when at length he rose and glided away as before, I followed him with a sensation of relief. I followed him out of the church, across the quadrangle, and into the bedroom where I was to pass the night; when my conductor, waving his hand in adieu, left the room, and I found myself alone. Alone, in a real monastery, inhabited by real monks -and all this in England! The idea was not easily grappled with. At first view the thing was improbable: but there I was. There was nothing unreal in the fire that blazed before me, and threw a flickering light into the room; nor in the roof, with its black rafters; nor in the small tent-bedstead, with its drab moreen curtains the livery of the monks themselves; nor in the prie-dieu, with the prayer-desk by its side, standing on the uncarpeted floor; nor in the dressing - table, looking-glass, and stone fender; nor in the pictures of the saints, that moved and nodded in the fitful light upon the walls: but somehow the real was mingled with the unreal; and as I sat staring into the fire, I saw distinctly the shadows of the Confessional of the Black Penitents; and once I turned fairly round to look for that mysterious monk who had appointed to meet with the young Montorio in a similar place. Perhaps the reader remembers that as the hour of tryst approached, Montorio became impatient, and looked eagerly round the empty room for his expected visitor; till, on raising his eyes again as the clock struck, he beheld the monk calmly seated at the table, with his eyes fixed on the dial. I sat thus for a considerable time, immersed in wild but pleasing imaginations, and at length went to bed and fell asleep. Then my waking thoughts were repeated in my dreams, and I was following through some dark corridor a tall, dim, gliding figure, when suddenly my steps were arrested, and my sleep broken by the deep tones of a bell. I found it was one o'clock; and this doubtless was the sound that summoned the monks to matins. I thought drowsily for a time of the heroism of their devotion; but sleep was once more descending on my eyes, when a slow and dolorous chant stole across the courtyard and through my little pointed window, and I could distinctly hear the voices of the monks sending on high their morning-hymn. The cadence had scarcely died away, when I was again in the land of dreams; but after a time-it might have been two or three hours-the deep solemn bell awoke me anew, sounding, as I was afterwards told, for prime; and as it continued at intervals I slept no more. At half-past six I heard a knock at my door; and on answering Come in,' a strange figure entered, enveloped in a dark habit, and looking not unlike one of the witches in 'Macbeth.' He carried a light, a long brush, and a coal-box; and after having kindled the fire and swept the hearth, was about to retire, when I asked him a question concerning the weather. His reply was merely to put his finger on his lips, and with an unintelligible growl he left the apartment. I may mention here, what I learned afterwards, that there were eight bedchambers, all uniform with the one I occupied. Shortly after, the guest-master appeared with a jug of hot water, and cheerfully wished me good-morning, hoping I had slept comfortably. He informed me that breakfast would be ready at half-past eight, but that high-mass was performed in the church every morning at half-past seven, at which all the guests were expected to be present. After breakfast the abbot himself would come and bid me welcome, and he requested me to be in my room to receive him. After the guest-master had taken his departure, I got up and made my toilet, during which process the bell struck thrice-the premo- nitory signal, as the guest-master had told me, for mass, and intended to give the priests time to put on their After this the bells rang at two intervals, vestments. as they did for all the other services, and I proceeded to the church. I was shewn into the rood - loft, the place appropriated for the guests, and found two or three before me. The monks were all in their stalls reciting a short preliminary office, and the priests were at the altar, which was prepared with six large lighted candles and other paraphernalia, for the performance of high-mass. This, it seems, was a festival-day, and the abbot was to sing high-mass himself. The office being over, the priests went into the sacristy, from which they soon returned in procession, accompanied by the abbot in his pontificals, including the mitre and crosier, and preceded by his cross-bearer and acolytes, or boys bearing lights and incense. Shortly before the conclusion of mass a monk brought us books interlined with music, which I perceived were the Processionale or ritual of processions. Accordingly, at the conclusion of mass, a procession moved round the church and cloisters, which the guests, wound up to a pitch of sentimental excitement at least I can answer for myself-did not dare to refuse joining. The chanting continued during the procession until we regained the church, when a short service was performed at the altar; and so far as we were concerned the religious service of the morning was at an end, when we hastened, cold and hungry, into the guest-hall, where a plain breakfast awaited us. The only thing worth notice in the meal was, that it included no meat, that being an article which is strictly prohibited from entering the monastery. -\" → [\"England\"/LOC, \"Gate-house\"/BUILDING, \"Guest-Hall\"/BUILDING, \"Benedictine\"/BUILDING, \"Ham-gazing\"/LOC, \"Mount St Bernard\"/LOC, \"Leicestershire\"/LOC, \"St Bernard\"/LOC, \"England\"/LOC, \"EDINBURGH\"/LOC, \"England\"/LOC]"
      ]
     },
     "execution_count": 28,
     "metadata": {},
     "output_type": "execute_result"
    }
   ],
   "source": [
    "with open(\"Useful_Knowledge_Texts/Clipped_Texts/Chambers_Journal_monastery_1851.txt\", \"r\", encoding=\"utf-8\") as text_file_3:\n",
    "    text_3 = text_file_3.read()\n",
    "\n",
    "sentenced_3 = Sentence(text_3)\n",
    "tagger.predict(sentenced_3)\n",
    "\n",
    "sentenced_3"
   ]
  },
  {
   "cell_type": "code",
   "execution_count": 29,
   "metadata": {},
   "outputs": [
    {
     "name": "stdout",
     "output_type": "stream",
     "text": [
      "Topres Annotations List Number = 11\n"
     ]
    },
    {
     "data": {
      "text/plain": [
       "[('England', 'LOC'),\n",
       " ('Gate-house', 'LOC'),\n",
       " ('Guest-Hall', 'LOC'),\n",
       " ('Benedictine', 'LOC'),\n",
       " ('Ham-gazing', 'LOC'),\n",
       " ('Mount St Bernard', 'LOC'),\n",
       " ('Leicestershire', 'LOC'),\n",
       " ('St Bernard', 'LOC'),\n",
       " ('England', 'LOC'),\n",
       " ('EDINBURGH', 'LOC'),\n",
       " ('England', 'LOC')]"
      ]
     },
     "execution_count": 29,
     "metadata": {},
     "output_type": "execute_result"
    }
   ],
   "source": [
    "topres_annotations_3 = get_token_tag_tuples(sentenced_3)\n",
    "print(f'Topres Annotations List Number = {len(topres_annotations_3)}')\n",
    "topres_annotations_3"
   ]
  },
  {
   "cell_type": "code",
   "execution_count": 30,
   "metadata": {},
   "outputs": [
    {
     "name": "stdout",
     "output_type": "stream",
     "text": [
      "True Positives are when hand truth matches topres model predictions\n",
      "Number of True Positives: 3 in Document 3 - Chambers's Journal 1851\n",
      "\n",
      "True Positives By Label:\n",
      "LOC, 3 Total :  [('Leicestershire', 'LOC'), ('England', 'LOC'), ('EDINBURGH', 'LOC')]\n",
      "\n",
      "Total True Positives:\n",
      "True Positive : ('Leicestershire', 'LOC')\n",
      "True Positive : ('England', 'LOC')\n",
      "True Positive : ('EDINBURGH', 'LOC')\n"
     ]
    }
   ],
   "source": [
    "ground_truth_set_3 = set(hand_annotations_filtered_3)\n",
    "topres_predictions_set_3 = set(topres_annotations_3)\n",
    "\n",
    "true_positives_3 = ground_truth_set_3.intersection(topres_predictions_set_3)\n",
    "\n",
    "num_true_positives_3 = len(true_positives_3)\n",
    "print('True Positives are when hand truth matches topres model predictions')\n",
    "print(f\"Number of True Positives: {num_true_positives_3} in Document 3 - Chambers's Journal 1851\")\n",
    "print()\n",
    "\n",
    "print('True Positives By Label:')\n",
    "get_reports_by_label(true_positives_3)\n",
    "print()\n",
    "print('Total True Positives:')\n",
    "\n",
    "for entity in true_positives_3:\n",
    "    print(f\"True Positive : {entity}\")"
   ]
  },
  {
   "cell_type": "code",
   "execution_count": 31,
   "metadata": {},
   "outputs": [
    {
     "name": "stdout",
     "output_type": "stream",
     "text": [
      "False Negatives are present in hand truth but not topres model predictions\n",
      "Number of False Negatives: 8 in Document 3 - Chambers's Journal 1851\n",
      "\n",
      "False Negatives By Label:\n",
      "LOC, 8 Total :  [('Gate - house', 'LOC'), ('place of abode', 'LOC'), ('county', 'LOC'), ('Guest - Hall', 'LOC'), ('apartment', 'LOC'), ('Ham', 'LOC'), ('land of dreams', 'LOC'), ('Benedictine convent', 'LOC')]\n",
      "\n",
      "Total False Negatives:\n",
      "False Negative : ('Gate - house', 'LOC')\n",
      "False Negative : ('place of abode', 'LOC')\n",
      "False Negative : ('county', 'LOC')\n",
      "False Negative : ('Guest - Hall', 'LOC')\n",
      "False Negative : ('apartment', 'LOC')\n",
      "False Negative : ('Ham', 'LOC')\n",
      "False Negative : ('land of dreams', 'LOC')\n",
      "False Negative : ('Benedictine convent', 'LOC')\n"
     ]
    }
   ],
   "source": [
    "false_negatives_3 = ground_truth_set_3.difference(topres_predictions_set_3)\n",
    "\n",
    "num_false_negatives_3 = len(false_negatives_3)\n",
    "print('False Negatives are present in hand truth but not topres model predictions')\n",
    "print(f\"Number of False Negatives: {num_false_negatives_3} in Document 3 - Chambers's Journal 1851\")\n",
    "print()\n",
    "\n",
    "print('False Negatives By Label:')\n",
    "get_reports_by_label(false_negatives_3)\n",
    "print()\n",
    "print('Total False Negatives:')\n",
    "\n",
    "for entity in false_negatives_3:\n",
    "    print(f\"False Negative : {entity}\")"
   ]
  },
  {
   "cell_type": "code",
   "execution_count": 32,
   "metadata": {},
   "outputs": [
    {
     "name": "stdout",
     "output_type": "stream",
     "text": [
      "False Positives are predicted by topres model but are not in hand truth\n",
      "Number of False Positives: 6 in Document 3 - Chambers's Journal 1851\n",
      "\n",
      "False Positives By Label:\n",
      "LOC, 6 Total :  [('Ham-gazing', 'LOC'), ('Mount St Bernard', 'LOC'), ('Gate-house', 'LOC'), ('Guest-Hall', 'LOC'), ('Benedictine', 'LOC'), ('St Bernard', 'LOC')]\n",
      "\n",
      "Total False Positives:\n",
      "False Positive : ('Ham-gazing', 'LOC')\n",
      "False Positive : ('Mount St Bernard', 'LOC')\n",
      "False Positive : ('Gate-house', 'LOC')\n",
      "False Positive : ('Guest-Hall', 'LOC')\n",
      "False Positive : ('Benedictine', 'LOC')\n",
      "False Positive : ('St Bernard', 'LOC')\n"
     ]
    }
   ],
   "source": [
    "false_positives_3 = topres_predictions_set_3.difference(ground_truth_set_3)\n",
    "\n",
    "num_false_positives_3 = len(false_positives_3)\n",
    "print('False Positives are predicted by topres model but are not in hand truth')\n",
    "print(f\"Number of False Positives: {num_false_positives_3} in Document 3 - Chambers's Journal 1851\")\n",
    "print()\n",
    "\n",
    "print('False Positives By Label:')\n",
    "get_reports_by_label(false_positives_3)\n",
    "print()\n",
    "print('Total False Positives:')\n",
    "\n",
    "for entity in false_positives_3:\n",
    "    print(f\"False Positive : {entity}\")"
   ]
  },
  {
   "cell_type": "code",
   "execution_count": 33,
   "metadata": {},
   "outputs": [
    {
     "name": "stdout",
     "output_type": "stream",
     "text": [
      "Evaluation Calculation Reports for Document 3 Chambers's Journal 1851\n",
      "\n",
      "Recall Score = 0.2727272727272727\n",
      "Precision Score = 0.3333333333333333\n",
      "F1 Score = 0.3\n"
     ]
    }
   ],
   "source": [
    "rec_calc_3 = num_true_positives_3 / (num_true_positives_3 + num_false_negatives_3)\n",
    "prec_calc_3 = num_true_positives_3 / (num_true_positives_3 + num_false_positives_3)\n",
    "f1_calc_3 = (2 * prec_calc_3 * rec_calc_3) / (prec_calc_3 + rec_calc_3)\n",
    "\n",
    "print(\"Evaluation Calculation Reports for Document 3 Chambers's Journal 1851\")\n",
    "print()\n",
    "print(f'Recall Score = {rec_calc_3}')\n",
    "print(f'Precision Score = {prec_calc_3}')\n",
    "print(f'F1 Score = {f1_calc_3}')"
   ]
  },
  {
   "cell_type": "markdown",
   "metadata": {},
   "source": [
    "## Document 4 Comparison: Clipping from Chambers's Journal 1872 (on Sorrow)"
   ]
  },
  {
   "cell_type": "code",
   "execution_count": 34,
   "metadata": {},
   "outputs": [
    {
     "name": "stdout",
     "output_type": "stream",
     "text": [
      "Hand Annotations List Number = 11\n"
     ]
    },
    {
     "data": {
      "text/plain": [
       "[('Cres - cent House', 'LOC'),\n",
       " ('Hampstead', 'LOC'),\n",
       " ('Crescent House', 'LOC'),\n",
       " ('Crest House', 'LOC'),\n",
       " ('Miriam', 'LOC'),\n",
       " ('Walter', 'LOC'),\n",
       " ('Miriam', 'LOC'),\n",
       " ('Miss Monitor', 'LOC'),\n",
       " ('Crescent House', 'LOC'),\n",
       " ('country', 'LOC'),\n",
       " ('country', 'LOC')]"
      ]
     },
     "execution_count": 34,
     "metadata": {},
     "output_type": "execute_result"
    }
   ],
   "source": [
    "# Loading and Cleaning Data for Document 4\n",
    "hand_annotated_data_4 = []\n",
    "with open(\"Useful_Knowledge_Annotations_iob_3/DOCUMENT-omonroe2_illinois_edu/Chambers_Journal_sorrow_Jan6_1872.txt.tsv\", \"r\", encoding=\"utf-8\") as iob_file_4:\n",
    "    for line in iob_file_4:\n",
    "        line = line.strip()\n",
    "        if line:\n",
    "            token, label = line.split(\"\\t\")\n",
    "           \n",
    "            hand_annotated_data_4.append((token, label))\n",
    "\n",
    "hand_annotated_tagged_4 = [(token, label) for token, label in hand_annotated_data_4 if label != 'O']\n",
    "\n",
    "merged_hand_annotations_4 = merge_iob_tokens(hand_annotated_tagged_4)\n",
    "hand_annotations_filtered_4 = filter_map_tags(merged_hand_annotations_4)\n",
    "\n",
    "print(f'Hand Annotations List Number = {len(hand_annotations_filtered_4)}')\n",
    "hand_annotations_filtered_4"
   ]
  },
  {
   "cell_type": "code",
   "execution_count": 35,
   "metadata": {},
   "outputs": [
    {
     "data": {
      "text/plain": [
       "Sentence[2192]: \"## p. 1 (#11) ###############################################  CHAMBERS'S JOURNAL LITERATURE, SCIENCE, AND ART Fourth Sexiez CONDUCTED BY WILLIAM AND ROBERT No. 419. OF POPULAR SATURDAY, JANUARY 6, 1872. A GOLDEN CHAMBERS. CHAPTER I.-CANDIDATES. MIRIAM CLINT was about to leave school. She was not glad of it. She was eighteen years old, and had her notions and her visions about 'coming out,' like other girls of her age, and especially of her appearance. The time to which these notions would naturally have tended, and these visions soared, was at hand, and yet Miriam Clint was not glad of it. This is a paradox which requires explanation. Miriam had every reason to believe that her visions would remain entirely unfulfilled; she had good cause to like the school at which she had passed eight years, in tolerable comfort to herself, and harmony with her surroundings; and she had no cause whatever to like home, or to anticipate that it would be more endurable when she should have returned thither 'for good,' than it had been during her dismal holidays. BY THE AUTHOR OF A HOUSE OF CARDS.' I swear, 'tis better to be lowly born, And range with humble livers in content, Than to be perked up in a glistering grief, And wear a golden sorrow. Miriam was not of a sentimental disposition, but she had strong feelings, and a good deal of decision of character, a combination which had made her a favourite at Miss Monitor's school. She was in earnest in her likes and dislikes; and being as good-natured as a clever, healthy girl usually is, especially when she is freely acknow- ledged to be much prettier than her companions, her likes were more numerous than her dislikes. Thus, there was commotion and dismay at Cres- cent House, Hampstead, when it became known that Mr Clint had refused to accede to Miriam's petition for 'one more half,' and that she was to go home immediately. Miriam became more emphatically than ever a 'poor darling; and Mr Clint, her father, who had always been considered a 'horrid man,' now received public mention as an old brute.' There was less injustice than VOL. IX. SORROW. PRICE 11d. Shakspeare. usually attends a sweeping censure in this designa- tion. Mr Clint was an old brute. Until within three days of breaking-up time, Miriam had hoped to gain her father's consent to her remaining at Crescent House, not because she wished to remain, and counted on his indulgence for that reason, but because she honestly believed he must dislike the prospect of her return as much as she did. \" 'It is impossible I can ever be anything but a tremendous bore to papa, you know,' she said, frankly, to Miss Monitor, with whom she was on confidential terms. Every one bores him, you know, but Walter and I bore him above and beyond every one else. I suppose it is just for appearances' sake he wants me home, and I can't help hoping he won't be able to resist the tempta- tion of getting rid of me for six more months.' Miss Monitor shook her tight little head, and replied: 'My dear, I should not count on that, if I were you. If your papa is having you home against his inclination, or even without it, for appearances' sake, I can only say it is the first time I have ever heard of his making such a sacrifice. No, no, Miriam ; depend upon it, you will have to go.' Miss Monitor was right. Suspense in the school- room, and hope in the breast of Miriam and her young friends, were put an end to by the arrival of the post on the following morning. Miriam opened her father's letter, and the first glance dissipated her hopes. THE FIRS, 3d June 18-. Dr Miriam [ There!' was the girl's mental com- mentary; he is always more ill-tempered than usual when he uses abbreviations! What ill- tempered and ill-bred things they are!']-You have    ## p. 2 (#12) ###############################################  2 CHAMBERS'S JOURNAL. given me the trouble of writing two letters instead of one. Don't do that again. You will come home as arranged, on the 6th; I have put an advt for a maid in some mg papers, and directed applicants to call at Crest House to-morrow between the hours of 12 and 4. From among them you will select, with Miss M.'s advice, a suitable person, to attend upon you, make your clothes, &c. Wages L.20. The person you select must be ready to come here with you on the 6th. You will come by express, leaving Lond. Bge at 11 A.M.-Yrs truly, REG. CLINT. Tears of anger rose in Miriam's eyes. It isn't only that he refuses my request, but he puts it aside in such a cold, contemptuous way,' she muttered; I shall never be able to care for him in the least, or get on better with him; and I did mean to try. It's well for Walter he's a man ; he can do as he likes; he is not obliged to stay at home, and put up with papa. I don't wonder at him; I couldn't blame him for anything !' 'Miriam,' said Miss Monitor, entering the room with her accustomed precision of step and manner, but with a decided increase of the winter-apple colouring of her plump cheeks, 'I need not ask you what news you have. Your father treats me with scanty courtesy, and I suppose blames me for your unwillingness to go home. He might recog- nise that at least you have been happy here.' 'He doesn't care, dear,' said Miriam, flinging her arms round Miss Monitor's prim little figure with an energy that caused that lady to rock upon her tightly shod little feet, and obliged her to rearrange her collar, her apron, her cuffs, and her neck-ribbon. He doesn't know anything about my being happy or unhappy, and as for gratitude! well, never mind that. I'm grateful, and I always shall be.' 'I am sure of that,' said Miss Monitor; and then perhaps remembering that the tone in which they were discussing Miriam's father was not quite most appropriate to their mutual relation, she changed it for one of admonition mingled with consolation. Miriam listened with ill-disguised impatience, and then shewed how very little she understood the principle of that filial obedience and reverence which Miss Monitor was, with some inconsistency, endeavouring to instil into her, by assuring her impetuously that she would do her very best to put up with' her father for Miss Monitor's sake. } Miss Monitor had some reason to be offended with Mr Clint. His letter to her contained the following words: Dr Madam-Be so good as to acknowledge by return the enclosed cheque for amt of yr acct, and to send Miss Clint home, according to my directions.-Yrs truly, REG. CLINT.' Miss Monitor was not a high-minded woman, but neither was she a humbug. She did not 'train the minds of her pupils,' as the modern style of prospectus has it, to any transcendental heights of principle or feeling; she made no professions of horror at the notion of a lady's boarding-school being a speculation intended to pay, for she had intended hers to pay, and it was paying, and no woman in the world knew better than she did that no school could be really like home, if home were all it should be. But she knew equally well, and practically, that honesty is the best policy; and she was honest according to her light. She liked Miriam Clint, but she had no accurate compre- hension of either her strength or her weaknesses; and she could hardly have been expected perfectly to understand how much the girl stood in need of pity, who would have genuinely preferred to remain at Crescent House rather than return to her father's roof. To Miriam, duty translated itself by 'devoirs,' and pleasure meant going to select evening parties, and occasionally to the opera, with one or two other favoured pupils, under the auspices of Miss Monitor; and taking riding lessons in the early summer mornings, with her particular school-friends, on which occasions the riding- master was accompanied by his pretty young wife. Nothing could be more proper or more pleasant, Miriam then thought. She hated leaving all this, and she hated the thought of the home she was going to. The position of affairs seemed to absolve Miss Monitor and Miriam from any bonds of conven- tional restraint. I never was a hypocrite about it, was I, dear?' said Miriam. 'Don't you remember, long ago, when we did our compositions for Mr Walker, I never would write letters about the pleasures of home and the delights of the country? There is no pleasure in home to me, and I always did and always shall hate the country.' 'Don't say that, Miriam,' said Miss Monitor, with a wise shake of her head. You would like it very much if you were married to a country gentleman with a nice property.' Miss Monitor's own vision of ultimate bliss was retirement to a cottage, with a cow and a poultry-yard. 'Depend on it, that would make all the difference. And, remember, you must have gone home in order for that to happen. You couldn't have married here.' 6 'I'm not so sure of that,' said Miriam impetu- ously; but then, recollecting herself, she added with some confusion: At least-I mean, something might have turned up, you know. However, it is all over now, and there's no good in talking about it; but of one thing you may be certain, if ever I marry a country gentleman, he must be well enough off to take me away from the country-no rurality for me.' The dialogue was interrupted by Jane, a trim parlour-maid, who informed her mistress that a young person' had called about the maid's place for Miss Clint. There was an additional shade of respect in Jane's manner of mentioning Miriam, a recognition of her added dignity in the prospective possession of her own maid. 'Take her into the waiting-room, and say I will see her presently,' said Miss Monitor; and then added, when Jane withdrew: 'Go and smooth your hair, Miriam, and make yourself tidy before you see this person. It would never do for her to see you looking like that.' 'Oh, what can it matter?' said Miriam rebel- liously, in the thoroughness of her ill-humour and discontent. The question is, whether she will suit me, not whether I shall suit her.' \"There is a little of both in the question, my dear,' replied Miss Monitor decisively; and it is always worth every one's while to make a favour- able impression.' This was one of those lessons which Miss Monitor might be fully trusted to administer conscientiously to her pupils. Miriam ran up-stairs to her own room, as the\" → [\"Cres- cent House\"/BUILDING, \"Hampstead\"/LOC, \"Crescent House\"/BUILDING, \"Crest House\"/BUILDING, \"Lond. Bge\"/LOC, \"Crescent House\"/BUILDING]"
      ]
     },
     "execution_count": 35,
     "metadata": {},
     "output_type": "execute_result"
    }
   ],
   "source": [
    "with open(\"Useful_Knowledge_Texts/Clipped_Texts/Chambers_Journal_sorrow_Jan6_1872.txt\", \"r\", encoding=\"utf-8\") as text_file_4:\n",
    "    text_4 = text_file_4.read()\n",
    "\n",
    "sentenced_4 = Sentence(text_4)\n",
    "tagger.predict(sentenced_4)\n",
    "\n",
    "sentenced_4"
   ]
  },
  {
   "cell_type": "code",
   "execution_count": 36,
   "metadata": {},
   "outputs": [
    {
     "name": "stdout",
     "output_type": "stream",
     "text": [
      "Topres Annotations List Number = 6\n"
     ]
    },
    {
     "data": {
      "text/plain": [
       "[('Cres- cent House', 'LOC'),\n",
       " ('Hampstead', 'LOC'),\n",
       " ('Crescent House', 'LOC'),\n",
       " ('Crest House', 'LOC'),\n",
       " ('Lond. Bge', 'LOC'),\n",
       " ('Crescent House', 'LOC')]"
      ]
     },
     "execution_count": 36,
     "metadata": {},
     "output_type": "execute_result"
    }
   ],
   "source": [
    "topres_annotations_4 = get_token_tag_tuples(sentenced_4)\n",
    "print(f'Topres Annotations List Number = {len(topres_annotations_4)}')\n",
    "topres_annotations_4"
   ]
  },
  {
   "cell_type": "code",
   "execution_count": 37,
   "metadata": {},
   "outputs": [
    {
     "name": "stdout",
     "output_type": "stream",
     "text": [
      "True Positives are when hand truth matches topres model predictions\n",
      "Number of True Positives: 3 in Document 4 - Chambers's Journal 1872\n",
      "\n",
      "True Positives By Label:\n",
      "LOC, 3 Total :  [('Crest House', 'LOC'), ('Hampstead', 'LOC'), ('Crescent House', 'LOC')]\n",
      "\n",
      "Total True Positives:\n",
      "True Positive : ('Crest House', 'LOC')\n",
      "True Positive : ('Hampstead', 'LOC')\n",
      "True Positive : ('Crescent House', 'LOC')\n"
     ]
    }
   ],
   "source": [
    "ground_truth_set_4 = set(hand_annotations_filtered_4)\n",
    "topres_predictions_set_4 = set(topres_annotations_4)\n",
    "\n",
    "true_positives_4 = ground_truth_set_4.intersection(topres_predictions_set_4)\n",
    "\n",
    "num_true_positives_4 = len(true_positives_4)\n",
    "print('True Positives are when hand truth matches topres model predictions')\n",
    "print(f\"Number of True Positives: {num_true_positives_4} in Document 4 - Chambers's Journal 1872\")\n",
    "print()\n",
    "\n",
    "print('True Positives By Label:')\n",
    "get_reports_by_label(true_positives_4)\n",
    "print()\n",
    "print('Total True Positives:')\n",
    "\n",
    "for entity in true_positives_4:\n",
    "    print(f\"True Positive : {entity}\")"
   ]
  },
  {
   "cell_type": "code",
   "execution_count": 38,
   "metadata": {},
   "outputs": [
    {
     "name": "stdout",
     "output_type": "stream",
     "text": [
      "False Negatives are present in hand truth but not topres model predictions\n",
      "Number of False Negatives: 5 in Document 4 - Chambers's Journal 1872\n",
      "\n",
      "False Negatives By Label:\n",
      "LOC, 5 Total :  [('Walter', 'LOC'), ('Miriam', 'LOC'), ('Miss Monitor', 'LOC'), ('Cres - cent House', 'LOC'), ('country', 'LOC')]\n",
      "\n",
      "Total False Negatives:\n",
      "False Negative : ('Walter', 'LOC')\n",
      "False Negative : ('Miriam', 'LOC')\n",
      "False Negative : ('Miss Monitor', 'LOC')\n",
      "False Negative : ('Cres - cent House', 'LOC')\n",
      "False Negative : ('country', 'LOC')\n"
     ]
    }
   ],
   "source": [
    "false_negatives_4 = ground_truth_set_4.difference(topres_predictions_set_4)\n",
    "\n",
    "num_false_negatives_4 = len(false_negatives_4)\n",
    "print('False Negatives are present in hand truth but not topres model predictions')\n",
    "print(f\"Number of False Negatives: {num_false_negatives_4} in Document 4 - Chambers's Journal 1872\")\n",
    "print()\n",
    "\n",
    "print('False Negatives By Label:')\n",
    "get_reports_by_label(false_negatives_4)\n",
    "print()\n",
    "print('Total False Negatives:')\n",
    "\n",
    "for entity in false_negatives_4:\n",
    "    print(f\"False Negative : {entity}\")"
   ]
  },
  {
   "cell_type": "code",
   "execution_count": 39,
   "metadata": {},
   "outputs": [
    {
     "name": "stdout",
     "output_type": "stream",
     "text": [
      "False Positives are predicted by topres model but are not in hand truth\n",
      "Number of False Positives: 2 in Document 4 - Chambers's Journal 1872\n",
      "\n",
      "False Positives By Label:\n",
      "LOC, 2 Total :  [('Lond. Bge', 'LOC'), ('Cres- cent House', 'LOC')]\n",
      "\n",
      "Total False Positives:\n",
      "False Positive : ('Lond. Bge', 'LOC')\n",
      "False Positive : ('Cres- cent House', 'LOC')\n"
     ]
    }
   ],
   "source": [
    "false_positives_4 = topres_predictions_set_4.difference(ground_truth_set_4)\n",
    "\n",
    "num_false_positives_4 = len(false_positives_4)\n",
    "print('False Positives are predicted by topres model but are not in hand truth')\n",
    "print(f\"Number of False Positives: {num_false_positives_4} in Document 4 - Chambers's Journal 1872\")\n",
    "print()\n",
    "\n",
    "print('False Positives By Label:')\n",
    "get_reports_by_label(false_positives_4)\n",
    "print()\n",
    "print('Total False Positives:')\n",
    "\n",
    "for entity in false_positives_4:\n",
    "    print(f\"False Positive : {entity}\")"
   ]
  },
  {
   "cell_type": "code",
   "execution_count": 40,
   "metadata": {},
   "outputs": [
    {
     "name": "stdout",
     "output_type": "stream",
     "text": [
      "Evaluation Calculation Reports for Document 4 Chambers's Journal 1872\n",
      "\n",
      "Recall Score = 0.375\n",
      "Precision Score = 0.6\n",
      "F1 Score = 0.4615384615384615\n"
     ]
    }
   ],
   "source": [
    "rec_calc_4 = num_true_positives_4 / (num_true_positives_4 + num_false_negatives_4)\n",
    "prec_calc_4 = num_true_positives_4 / (num_true_positives_4 + num_false_positives_4)\n",
    "f1_calc_4 = (2 * prec_calc_4 * rec_calc_4) / (prec_calc_4 + rec_calc_4)\n",
    "\n",
    "print(\"Evaluation Calculation Reports for Document 4 Chambers's Journal 1872\")\n",
    "print()\n",
    "print(f'Recall Score = {rec_calc_4}')\n",
    "print(f'Precision Score = {prec_calc_4}')\n",
    "print(f'F1 Score = {f1_calc_4}')"
   ]
  },
  {
   "cell_type": "markdown",
   "metadata": {},
   "source": [
    "## Document 5 Comparison: Clipping from SDCGK Annual Report 1888 (on their Constitution)"
   ]
  },
  {
   "cell_type": "code",
   "execution_count": 41,
   "metadata": {},
   "outputs": [
    {
     "name": "stdout",
     "output_type": "stream",
     "text": [
      "Hand Annotations List Number = 26\n"
     ]
    },
    {
     "data": {
      "text/plain": [
       "[('China', 'LOC'),\n",
       " ('Colonies', 'LOC'),\n",
       " ('Dependencies', 'LOC'),\n",
       " ('Glasgow', 'LOC'),\n",
       " ('Christian Literature Society', 'LOC'),\n",
       " ('Shanghai', 'LOC'),\n",
       " ('Capital', 'LOC'),\n",
       " ('cities', 'LOC'),\n",
       " ('18 Provinces', 'LOC'),\n",
       " ('emporiums of commerce', 'LOC'),\n",
       " ('East', 'LOC'),\n",
       " ('Hongkong', 'LOC'),\n",
       " ('Yokohama', 'LOC'),\n",
       " ('Singapore', 'LOC'),\n",
       " ('Penang', 'LOC'),\n",
       " ('Batavia', 'LOC'),\n",
       " ('China', 'LOC'),\n",
       " ('China', 'LOC'),\n",
       " ('empire', 'LOC'),\n",
       " ('China', 'LOC'),\n",
       " ('Peking', 'LOC'),\n",
       " ('Peking', 'LOC'),\n",
       " ('Mandarins', 'LOC'),\n",
       " ('empire', 'LOC'),\n",
       " ('China', 'LOC'),\n",
       " ('China', 'LOC')]"
      ]
     },
     "execution_count": 41,
     "metadata": {},
     "output_type": "execute_result"
    }
   ],
   "source": [
    "# Loading and Cleaning Hand Data for Document 5\n",
    "hand_annotated_data_5 = []\n",
    "with open(\"Useful_Knowledge_Annotations_iob_3/DOCUMENT-omonroe2_illinois_edu/SDCGK_AnnualReport_constitution_1888.txt.tsv\", \"r\", encoding=\"utf-8\") as iob_file_5:\n",
    "    for line in iob_file_5:\n",
    "        line = line.strip()\n",
    "        if line:\n",
    "            token, label = line.split(\"\\t\")\n",
    "           \n",
    "            hand_annotated_data_5.append((token, label))\n",
    "\n",
    "hand_annotated_tagged_5 = [(token, label) for token, label in hand_annotated_data_5 if label != 'O']\n",
    "\n",
    "merged_hand_annotations_5 = merge_iob_tokens(hand_annotated_tagged_5)\n",
    "hand_annotations_filtered_5 = filter_map_tags(merged_hand_annotations_5)\n",
    "\n",
    "print(f'Hand Annotations List Number = {len(hand_annotations_filtered_5)}')\n",
    "hand_annotations_filtered_5"
   ]
  },
  {
   "cell_type": "code",
   "execution_count": 42,
   "metadata": {},
   "outputs": [
    {
     "data": {
      "text/plain": [
       "Sentence[1794]: \" ## p. (#17) #################################################  CONSTITUTION     OF THE     Society for tbe Diffusion of Christian anO   General IRnowlehae among the Chinese.     LATE     ©HOMlEilE [MMM & YGMST §®©0ITY a *     — :o^o>-8o:-     Article I. —The Society shall be named in English the   “Society for the Diffusion of Christian and General   Knowledge among the Chinese ; ” and in the Chinese language :     (rJ % w w     Article II. Object —The object of the Society shall be,—(1)   to take over the Printing Press and other Property as a free gift   generously offered by the original promoters—the Book and Tract   Society of China; and (2) to continue the publication and circula¬   tion of literature based on Christian principles throughout China,   her Colonies, Dependencies, and wherever Chinamen are found—   especially Periodical literature adapted for all classes as the resources   of the Society may permit.     Article III. Mode of Operation .—These objects shall be carried   out first, and especially, by the composition and issue of original   books, articles, and tracts, written with a Christian aim, but from a   Chinese standpoint, with a knowledge of native modes of thought,   and adapted to instruct and elevate the people; Second, by a   periodical of a comparatively high character adapted to the more   intelligent classes in China; Third, a periodical for the womeD and     * Note .—The Society was first established as Chinese Book and Tract   Society in Glasgow in December 1884.     Formed into the Society for the Diffusion of Christian and General   Knowledge among the Chinese in 1887; changed into Christian Literature   Society in 1905.     In 1894 the Chinese name was changed into ]|| ^ Ed. 1910.       ## p. (#18) #################################################  4     children ; Fourth, one for the School boys; Fifth, by reprinting such   works, large or small, as may commend themselves to the Board;   and Sixth, by the establishment of a Central Dep6t at Shanghai,   with agencies, as far as possible, in the Capital and chief cities of the   18 Provinces, and also at the other emporiums of commerce in the   East, as Hongkong, Yokohama, Singapore, Penang, and Batavia.     Article IY. Membership. —All subscriptions shall be purely   voluntary, and all persons may become members on being proposed,   seconded, and carried by a majority at one or other of the stated   Meetings of the Society.     Article V. The Society shall be managed by a Board of   Directors of different religious denominations, resident in different   parts of China, who shall have power to add to their number, fill up   vacancies, appoint an Executive Committee, and in general to   manage all the affairs of the Society.     Article YI. Powers of the Board. —The Board shall have power   to elect its own office-bearers, determine its own Meetings, appoint   Trustees (who may or may not be members of the Society) in whom   any property of the Society may be vested; also to devolve upon   Sub-Committees, Local Associations, or individuals, whether mem¬   bers or not, such charge of specific portions of the Society’s operations   as may seem expedient or necessary.     The Board also shall have power to call special Meetings of the   Society, take such steps as may appear best to diffuse information   regarding the proceedings of the Society, secure pecuniary contribu¬   tions, defray out of the funds of the Society all expenses connected   with the work, and in general take whatever measures, consistent   with the constitution, as shall seem likely to promote the objects for   which the Society is organized.     Article VII. Retiring Members of Board. —One-third of the   Directors shall retire each year, according to alphabetical rotation,   at the Annual General Meeting, but shall be eligible for re-election.     Article VIII. Quorum. —One-third of the members of the Board   shall constitute a quorum: and the Chairman shall have a deliberative   as well as casting vote.     Article IX. Annual General Meeting.—A. General Meeting of   the members of the Society shall be held during the second week       ## p. (#19) #################################################  5     of December, every year, at such place as the Directors may appoint,   when a statement ot the income and expenditure shall be submitted,   together with a report of the Society’s operations during the   preceding year.     Article X. The Executive Committee shall meet monthly, and   it shall have power to frame its own By-Laws; but one special duty   shall be that it take care the liabilities of the Society shall never   exceed half the value of the Press and Plant.     Article XI. Alteration of Constitution —The preceding articles   of Constitution can be altered only by a vote of two-thirds of the   members present or duly represented at the Annual General   Meetings, and that only in the event of three months’ previous notice   having been duly circulated among the members of the Society.       ## p. (#20) #################################################  objects which this Society has in view and methods of operation   are detailed in the Constitution which accompanies this. It may,   however, be well to note that our aim summarised, is two-fold: namely,     (1) to provide books of a comparatively high order for the more     intelligent classes in China; and (2), books illustrated by chromos for   the families. We wish in no way to interfere with the action of any   Bible Societies or \\ ract Societies, or the School and Text Book Series   Committee, or any private enterprise already existing; we seek to follow   out a line of work which is distinct, and which has hitherto not been   attempted on any scale proportionate to its importance.     ^ criptures and Tracts have their place and their unalienable     importance; and ever will. School and Text Books are also   indispensable for Seminaries and Colleges; but they are of their   nature technical, and adapted to be explained by a teacher. Purely   scientific books, again, are necessarily full of new terms and formulae,   and so beyond the ability of ordinary readers. Our object, therefore,   is to reach the general public, both literary and commercial, and while   we give them true science, endeavour at the same time to set it forth in   an attractive manner fitted to their present capacity for understanding   it. And our reasons for this new effort are:—     ^ uch objects are in keeping with the genius of the people. The     great distinguishing feature of the Chinese from the very earliest   times has been their attachment to literature, and the honour they   have set upon it. Their hero has been not the warrior, nor even the   statesman, but the scholar. This national sentiment has been fruitful   of many beneficent results. Amongst others it has led them, during   all their eras, to pay very great attention to education; and this, in   its turn, has produced a large proportion of readers, a high regard for   books, one uniform written language, and a system of competitive   examinations which until recent years was unparalleled in any part   of the world.       ## p. (#21) #################################################  7     CVhese features have struck every observer who has landed on their   shores, and led all who sought to influence the empire, to seek to   avail themselves of the press. But the question has always been in   regard to suitable books. The difficulties of the language, the peculiarities   of Chinese modes of thought and expression, and their tremendous   literature, which required to be mastered less or more before efficient   books could be produced, called a halt.     CV/N the opening days of modern intercourse missionaries felt it to be   their first duty to give them the Scriptures in their own tongue,   and epitomes of Divine Truth in different forms. But it has been   increasingly felt by all, of late years, that something more was needed.   Accordingly, not a few have been led to compose works on Geography,   History, Astronomy, and the various branches of science, and also to   attempt periodical literature in its different branches.     t*> mall editions of these works have been issued and they have been   prized in proportion as they became known. This has encouraged   us to proceed in that direction; but larger funds are needed to spread   such books even to a moderate extent in this wide empire. And this   is well worth the effort of all interested in China: for it is absolutely   clear that we can never open up the country satisfactorily until we   open the minds of the people.     S he opposition which is offered to Western views, plans, and efforts   of all kinds mercantile, political, and religious, is almost entirely   due to ignorance. And this is true both as regards local officials, the   gentry or literati, the censorate, and even of some of the high officials   in Peking. It is therefore of the very highest importance that this   ignorance be dispelled, and knowledge diffused through all classes of   the people.     .vvj oeeovee we have found that in cases where high officials at   ( 3 ^ Peking and enlightened Mandarins were prepared to accede to   foreign proposals, the local literati interfered, and effectually blocked   all proceedings. But these literati abound in every part of the empire,   and are held in the highest esteem; in fact are the very soul of the   empire and virtually rule it. It is therefore manifest that if we would   influence China at all as a nation, we must begin with them; and also   that it is only in proportion as we command their respect that affairs will   move smoothly in China, especially in the higher and larger departments.\" → [\"China\"/LOC, \"China\"/LOC, \"Chinamen\"/LOC, \"China\"/LOC, \"Glasgow\"/LOC, \"Shanghai\"/LOC, \"Hongkong\"/LOC, \"Yokohama\"/LOC, \"Singapore\"/LOC, \"Penang\"/LOC, \"Batavia\"/LOC, \"China\"/LOC, \"China\"/LOC, \"China\"/LOC, \"Peking\"/LOC, \"Peking\"/LOC, \"China\"/LOC, \"China\"/LOC]"
      ]
     },
     "execution_count": 42,
     "metadata": {},
     "output_type": "execute_result"
    }
   ],
   "source": [
    "with open(\"Useful_Knowledge_Texts/Clipped_Texts/SDCGK_AnnualReport_constitution_1888.txt\", \"r\", encoding=\"utf-8\") as text_file_5:\n",
    "    text_5 = text_file_5.read()\n",
    "\n",
    "sentenced_5 = Sentence(text_5)\n",
    "tagger.predict(sentenced_5)\n",
    "\n",
    "sentenced_5"
   ]
  },
  {
   "cell_type": "code",
   "execution_count": 43,
   "metadata": {},
   "outputs": [
    {
     "name": "stdout",
     "output_type": "stream",
     "text": [
      "Topres Annotations List Number = 18\n"
     ]
    },
    {
     "data": {
      "text/plain": [
       "[('China', 'LOC'),\n",
       " ('China', 'LOC'),\n",
       " ('Chinamen', 'LOC'),\n",
       " ('China', 'LOC'),\n",
       " ('Glasgow', 'LOC'),\n",
       " ('Shanghai', 'LOC'),\n",
       " ('Hongkong', 'LOC'),\n",
       " ('Yokohama', 'LOC'),\n",
       " ('Singapore', 'LOC'),\n",
       " ('Penang', 'LOC'),\n",
       " ('Batavia', 'LOC'),\n",
       " ('China', 'LOC'),\n",
       " ('China', 'LOC'),\n",
       " ('China', 'LOC'),\n",
       " ('Peking', 'LOC'),\n",
       " ('Peking', 'LOC'),\n",
       " ('China', 'LOC'),\n",
       " ('China', 'LOC')]"
      ]
     },
     "execution_count": 43,
     "metadata": {},
     "output_type": "execute_result"
    }
   ],
   "source": [
    "topres_annotations_5 = get_token_tag_tuples(sentenced_5)\n",
    "print(f'Topres Annotations List Number = {len(topres_annotations_5)}')\n",
    "topres_annotations_5"
   ]
  },
  {
   "cell_type": "code",
   "execution_count": 44,
   "metadata": {},
   "outputs": [
    {
     "name": "stdout",
     "output_type": "stream",
     "text": [
      "True Positives are when hand truth matches topres model predictions\n",
      "Number of True Positives: 9 in Document 5 - SDCGK Annual Report 1888\n",
      "\n",
      "True Positives By Label:\n",
      "LOC, 9 Total :  [('Yokohama', 'LOC'), ('Hongkong', 'LOC'), ('Singapore', 'LOC'), ('Penang', 'LOC'), ('China', 'LOC'), ('Batavia', 'LOC'), ('Glasgow', 'LOC'), ('Peking', 'LOC'), ('Shanghai', 'LOC')]\n",
      "\n",
      "Total True Positives:\n",
      "True Positive : ('Yokohama', 'LOC')\n",
      "True Positive : ('Hongkong', 'LOC')\n",
      "True Positive : ('Singapore', 'LOC')\n",
      "True Positive : ('Penang', 'LOC')\n",
      "True Positive : ('China', 'LOC')\n",
      "True Positive : ('Batavia', 'LOC')\n",
      "True Positive : ('Glasgow', 'LOC')\n",
      "True Positive : ('Peking', 'LOC')\n",
      "True Positive : ('Shanghai', 'LOC')\n"
     ]
    }
   ],
   "source": [
    "ground_truth_set_5 = set(hand_annotations_filtered_5)\n",
    "topres_predictions_set_5 = set(topres_annotations_5)\n",
    "\n",
    "true_positives_5 = ground_truth_set_5.intersection(topres_predictions_set_5)\n",
    "\n",
    "num_true_positives_5 = len(true_positives_5)\n",
    "print('True Positives are when hand truth matches topres model predictions')\n",
    "print(f\"Number of True Positives: {num_true_positives_5} in Document 5 - SDCGK Annual Report 1888\")\n",
    "print()\n",
    "\n",
    "print('True Positives By Label:')\n",
    "get_reports_by_label(true_positives_5)\n",
    "print()\n",
    "print('Total True Positives:')\n",
    "\n",
    "for entity in true_positives_5:\n",
    "    print(f\"True Positive : {entity}\")"
   ]
  },
  {
   "cell_type": "code",
   "execution_count": 45,
   "metadata": {},
   "outputs": [
    {
     "name": "stdout",
     "output_type": "stream",
     "text": [
      "False Negatives are present in hand truth but not topres model predictions\n",
      "Number of False Negatives: 10 in Document 5 - SDCGK Annual Report 1888\n",
      "\n",
      "False Negatives By Label:\n",
      "LOC, 10 Total :  [('Capital', 'LOC'), ('Dependencies', 'LOC'), ('Christian Literature Society', 'LOC'), ('East', 'LOC'), ('empire', 'LOC'), ('Mandarins', 'LOC'), ('18 Provinces', 'LOC'), ('cities', 'LOC'), ('Colonies', 'LOC'), ('emporiums of commerce', 'LOC')]\n",
      "\n",
      "Total False Negatives:\n",
      "False Negative : ('Capital', 'LOC')\n",
      "False Negative : ('Dependencies', 'LOC')\n",
      "False Negative : ('Christian Literature Society', 'LOC')\n",
      "False Negative : ('East', 'LOC')\n",
      "False Negative : ('empire', 'LOC')\n",
      "False Negative : ('Mandarins', 'LOC')\n",
      "False Negative : ('18 Provinces', 'LOC')\n",
      "False Negative : ('cities', 'LOC')\n",
      "False Negative : ('Colonies', 'LOC')\n",
      "False Negative : ('emporiums of commerce', 'LOC')\n"
     ]
    }
   ],
   "source": [
    "false_negatives_5 = ground_truth_set_5.difference(topres_predictions_set_5)\n",
    "\n",
    "num_false_negatives_5 = len(false_negatives_5)\n",
    "print('False Negatives are present in hand truth but not topres model predictions')\n",
    "print(f\"Number of False Negatives: {num_false_negatives_5} in Document 5 - SDCGK Annual Report 1888\")\n",
    "print()\n",
    "\n",
    "print('False Negatives By Label:')\n",
    "get_reports_by_label(false_negatives_5)\n",
    "print()\n",
    "print('Total False Negatives:')\n",
    "\n",
    "for entity in false_negatives_5:\n",
    "    print(f\"False Negative : {entity}\")"
   ]
  },
  {
   "cell_type": "code",
   "execution_count": 46,
   "metadata": {},
   "outputs": [
    {
     "name": "stdout",
     "output_type": "stream",
     "text": [
      "False Positives are predicted by topres model but are not in hand truth\n",
      "Number of False Positives: 1 in Document 5 - SDCGK Annual Report 1888\n",
      "\n",
      "False Positives By Label:\n",
      "LOC, 1 Total :  [('Chinamen', 'LOC')]\n",
      "\n",
      "Total False Positives:\n",
      "False Positive : ('Chinamen', 'LOC')\n"
     ]
    }
   ],
   "source": [
    "false_positives_5 = topres_predictions_set_5.difference(ground_truth_set_5)\n",
    "\n",
    "num_false_positives_5 = len(false_positives_5)\n",
    "print('False Positives are predicted by topres model but are not in hand truth')\n",
    "print(f\"Number of False Positives: {num_false_positives_5} in Document 5 - SDCGK Annual Report 1888\")\n",
    "print()\n",
    "\n",
    "print('False Positives By Label:')\n",
    "get_reports_by_label(false_positives_5)\n",
    "print()\n",
    "print('Total False Positives:')\n",
    "\n",
    "for entity in false_positives_5:\n",
    "    print(f\"False Positive : {entity}\")"
   ]
  },
  {
   "cell_type": "code",
   "execution_count": 47,
   "metadata": {},
   "outputs": [
    {
     "name": "stdout",
     "output_type": "stream",
     "text": [
      "Evaluation Calculation Reports for Document 5 - SDGCK Annual Report 1888\n",
      "\n",
      "Recall Score = 0.47368421052631576\n",
      "Precision Score = 0.9\n",
      "F1 Score = 0.6206896551724138\n"
     ]
    }
   ],
   "source": [
    "rec_calc_5 = num_true_positives_5 / (num_true_positives_5 + num_false_negatives_5)\n",
    "prec_calc_5 = num_true_positives_5 / (num_true_positives_5 + num_false_positives_5)\n",
    "f1_calc_5 = (2 * prec_calc_5 * rec_calc_5) / (prec_calc_5 + rec_calc_5)\n",
    "\n",
    "print('Evaluation Calculation Reports for Document 5 - SDGCK Annual Report 1888')\n",
    "print()\n",
    "print(f'Recall Score = {rec_calc_5}')\n",
    "print(f'Precision Score = {prec_calc_5}')\n",
    "print(f'F1 Score = {f1_calc_5}')"
   ]
  },
  {
   "cell_type": "markdown",
   "metadata": {},
   "source": [
    "## Document 6 Comparison: Clipping from SDCGK Annual Report 1893 (on their Committee Publications)"
   ]
  },
  {
   "cell_type": "code",
   "execution_count": 48,
   "metadata": {},
   "outputs": [
    {
     "name": "stdout",
     "output_type": "stream",
     "text": [
      "Hand Annotations List Number = 46\n"
     ]
    },
    {
     "data": {
      "text/plain": [
       "[('provinces', 'LOC'),\n",
       " ('provinces', 'LOC'),\n",
       " ('Peking', 'LOC'),\n",
       " ('Moukden', 'LOC'),\n",
       " ('Tientsin', 'LOC'),\n",
       " ('Shensi', 'LOC'),\n",
       " ('Nanking', 'LOC'),\n",
       " ('Chefoo', 'LOC'),\n",
       " ('Western Civilization', 'LOC'),\n",
       " ('Empire', 'LOC'),\n",
       " ('China', 'LOC'),\n",
       " ('Glasgow', 'LOC'),\n",
       " ('Glasgow', 'LOC'),\n",
       " ('Madagascar', 'LOC'),\n",
       " ('South Sea', 'LOC'),\n",
       " ('West', 'LOC'),\n",
       " ('Formosa', 'LOC'),\n",
       " ('Shantung', 'LOC'),\n",
       " ('Glasgow', 'LOC'),\n",
       " ('United States', 'LOC'),\n",
       " ('China', 'LOC'),\n",
       " ('China', 'LOC'),\n",
       " ('N . E . Manchuria', 'LOC'),\n",
       " ('France', 'LOC'),\n",
       " ('South', 'LOC'),\n",
       " ('France', 'LOC'),\n",
       " ('Burma', 'LOC'),\n",
       " ('India', 'LOC'),\n",
       " ('Japan', 'LOC'),\n",
       " ('China', 'LOC'),\n",
       " ('West', 'LOC'),\n",
       " ('Europe', 'LOC'),\n",
       " ('Chinese Empire', 'LOC'),\n",
       " ('Europe', 'LOC'),\n",
       " ('West', 'LOC'),\n",
       " ('nation', 'LOC'),\n",
       " ('China', 'LOC'),\n",
       " ('Tientsin', 'LOC'),\n",
       " ('Shanghai', 'LOC'),\n",
       " ('Hankow', 'LOC'),\n",
       " ('earth', 'LOC'),\n",
       " ('Celestial Empire', 'LOC'),\n",
       " ('Empire', 'LOC'),\n",
       " ('China', 'LOC'),\n",
       " ('earth', 'LOC'),\n",
       " ('province', 'LOC')]"
      ]
     },
     "execution_count": 48,
     "metadata": {},
     "output_type": "execute_result"
    }
   ],
   "source": [
    "# Loading and Cleaning Hand Data for Document 6\n",
    "hand_annotated_data_6 = []\n",
    "with open(\"Useful_Knowledge_Annotations_iob_3/DOCUMENT-omonroe2_illinois_edu/SDCGKC_AnnualReport_committee_publications_1893.txt.tsv\", \"r\", encoding=\"utf-8\") as iob_file_6:\n",
    "    for line in iob_file_6:\n",
    "        line = line.strip()\n",
    "        if line:\n",
    "            token, label = line.split(\"\\t\")\n",
    "           \n",
    "            hand_annotated_data_6.append((token, label))\n",
    "\n",
    "hand_annotated_tagged_6 = [(token, label) for token, label in hand_annotated_data_6 if label != 'O']\n",
    "\n",
    "merged_hand_annotations_6 = merge_iob_tokens(hand_annotated_tagged_6)\n",
    "hand_annotations_filtered_6 = filter_map_tags(merged_hand_annotations_6)\n",
    "\n",
    "print(f'Hand Annotations List Number = {len(hand_annotations_filtered_6)}')\n",
    "hand_annotations_filtered_6"
   ]
  },
  {
   "cell_type": "code",
   "execution_count": 49,
   "metadata": {},
   "outputs": [
    {
     "data": {
      "text/plain": [
       "Sentence[1918]: \"## p. (#5) ##################################################  IReport     W E have much to rejoice us this year in the various departments of   our Society’s work.     Our Publications.     The Grace Examinations to commemorate the Empress Dowager   reaching the age of 60 were held simultaneously in September. It is a   high gratification to us to announce that through special funds, appealed   for to meet this special occasion, we succeeded in sending 6,000 of our   publications to each of the ten maritime provinces, making 60,000 in   all. 720,000 pages were thus distributed gratis, a number far in advance   of anything our Society has ever done before.     Another ambition of ours was the establishment of Branch Depdts   in the provinces for the sale of our Publications. We have now Depots   in Peking, in Moukden, in Tientsin, Shensi, in Nanking and in Chefoo,   with the small supply of $100 worth of literature in each to start with.     The work which will make this year most memorable however, is   the republication of Dr. Faber’s great work on Civilization , a book in   5 Chinese Volumes, and treating of all the leading forces of Western   Civilization. Thanks to the generosity of the Rev. P. Kranz we have   published an edition of two thousand copies, so that we shall be able   to present all the great Mandarins of the Empire with a copy each.     We have also republished the work which the late Dr. Williamson   was publishing when he died, viz: What a Nation Needs . This is at the   request of the members of the English Baptist Mission, who wish to   have it for circulation and who meet the expense of publication. But   the stereotyping of several of these works for future use has involved   considerable expense.     The book on the Benefits of Christianity has been sold out at its full   cost price, and a new edition has therefore been ordered.       ## p. (#6) ##################################################  8     We have published Mr. George Jamieson’s Article on English Law   in China. The outline of the Rise and Progress of the Christian En¬   deavour movement, now numbering millions of followers, published   in the Missionary Review , was republished by the United Society of   Christian Endeavour for China, and stereotyped by us. Dr. Faber’s   Chinese Theories of Human Nature is in press. Miss Harvie, Secretary of   the Ladies’ Society in Glasgow, has sent us a box of the beautiful   chrome of The Better Land , which will form the finest illustration ever   put out for Chinese homes. The Secretaries of the Christian Literature   Society in Glasgow have also sent us a fine collection of electros for   illustrating our magazines and books. The Progress of Surrounding   Nations ; Agricultural Chemistry ; the Value of the Doctrine of Immortality ;   Mrs. Foster on Persecutions in Madagascar and Christian Missions in the   South Sea, and Daily Readings also by her, have all appeared serially   in our periodicals and will be published separately. A Universal   History is being translated for our Society. Mackenzie’s Nineteenth   Century is also being translated; it will give much needed and most   valuable information regarding the latest progress of the nations of the   West.     Our Magazines.     Of the value of the Review of the limes we have had assurances from   Formosa and from Shantung in increased orders for it, and also in reprints   of some of our Articles in the Chinese Daily Papers. Of the value of   the Missionary Review we also have assurance in the fact that we had to   increase the number printed, and also in the frequent republication of   some of our Articles in other Chinese religious papers. In it we have   kept in mind the wishes of the Ladies’ Branch in Glasgow, who help   us so nobly, and have had much of its contents suited to give informa¬   tion in the department they have chosen. But as it does not cover all   the objects they have in view, we must suspend its publication for a time   in order to publish the Women and Children’s Series ) unless we obtain   more funds immediately.     Dr. Allen’s Return.     Happily Dr. Allen, who has rendered such valuable service in   editing our Magazines, has now returned from his visit to the United   States, and will resume the editorial work in connection with which he   is so well and widely known.       ## p. (#7) ##################################################  9     China’s Enormous Need of Enlightenment.     China’s losses and suffering for want of enlightenment are simply   appalling.     For want of political insight she had lost within the last 35 years   in N. E. Manchuria a country as large as France; and in the South   the tributary states of Ann am, which is now larger than France, and   Burma have passed from her control.     For lack of commercial knowledge she has 80 millions sterling less   foreign trade annually than India, she only doubles her trade during   the same time as Japan trebles hers, her tea trade rapidly declines for   want of adaptation to the changing needs of the market. Her banking   commission for transfer of money from one part of the country to   another is enormously high, and a million people are daily engaged in   the primitive way of weighing their silver and counting their cash.     For lack of economical means of transport, China fails to obtain the   enormous benefits which the West reaps from this source. Mulihall   estimates the annual gain to Europe from railways alone at no less than   1,200 millions sterling ! As the Chinese Empire is in area and popula¬   tion about the same as Europe, what she misses for want of these is   evidently immense.     For lack of scientific and engineering training the many millions   of pounds sterling which each nation in the West gains annually from   these, are not within the reach of any educated Chinamen as yet.     For lack of sound knowledge in practical philanthropy among her   very numerous religious teachers—priests and nuns—the great benefit   that might be derived from such a large number is not reaped.     The result of general ignorance on such lines as indicated is the   great poverty of the nation as a whole. While many are rich, the great   mass is in terrible poverty. The poor, again, have to pay 36 per cent,   to pawnshops, and 1U0 per cent, often in order to tide over temporary   difficulties. Thousands upon thousands collect in mat sheds at every   great city in the winter in order to attend the free soup kitchens there.   This practically amounts to slow starvation. Thus China presents such   an amount of suffering as far surpasses that of any other country. Yet   most of it might be easily removed.    ## p. (#3) ##################################################  5     -c:o<H<oH*o:o-     1892-93     PRESIDENT:     Sir ROBERT HART, G.C.M.G.     VICE-PRESIDENT:     JOHN G. PURDON, Esq.     ORDINARY DIRECTORS:     Rev. Y. J. Allen, D.D., LL.D.     F. C. Bishop, Esq.     J. C. Bois, Esq.     R. E. Bredon, Esq.     Andrew Burman, Esq.     R. M. Campbell, Esq.     W. R. Carles, Esq.     C. Cromie, Esq.     G. Detring, Esq.     G. B. Dodwell, Esq.     E. B. Drew, Esq.     W. V. Drummond, Esq.     Rev. Dr. Edkins.     Wade Gard’ner, Esq.     N. J. Hannen, Esq.     H. R. Hearn, Esq.     Dr. E. Henderson.     H. M. Hillier, Esq.     H. E. Hobson, Esq.     Rev. H. C. Hodges, M.A.   George Jamieson, Esq.     Carl Jantzen, Esq.     H. H. Joseph, Esq.     James J. Keswick, Esq.     J. A. Leonard, Esq.     R. W. Little, Esq.     Rev. H. H. Lowry.     Rev. W. A. P. Martin, D.D., LL.D.   John Macgregor, Esq.     E. McKean, Esq.     O. Messing, Esq.     The Yen. Archdeacon Moule, B.D.   Rev. William Muirhead, B.A.     W. N. Pethick, Esq.     G. M. H. Playfair, Esq.     J. G. Purdon, Esq.     John Seaman, Esq.     Herbert Smith, Esq.     J. L. Scott, Esq.     N. A. Siebs, Esq.     Rev. John Stevens.     Rev. J. W. Stevenson.     W. H. Talbot, Esq.     Cornelius Thorne, Esq.     Rev. Dr. Wheeler.     E. H. Wheeley, Esq.     TRUSTEES:     John Macgregor, Esq. J. K. Morrison, Esq. R. M. Campbell, Esq.     HONORARY TREASURER:     W. H. POATE, Esq.     HONORARY SECRETARY.— Rev. TIMOTHY RICHARD.   EXECUTIVE COMMITTEE:     Rev. Dr. Y. J. Allen   Rev. Dr. Edkins.     W. H. Poate, Esq.     Rev. W. Muirhead.   John G. Purdon, Esq.   C. Thorne, Esq.     Rev. Timothy Richard.      ## p. (#8) ##################################################  10     Some of the most enlightened Chinamen who read our Periodicals   regularly, see this and know some of the remedies to he applied.   Railways are now sanctioned to be worked in Tientsin : cotton factories   and steel works are introduced in Shanghai and Hankow, so that the   people of China may partake of their benefits. But the remedies are   very slow in their application, and the great bulk of even the mandarins   are not only utterly ignorant of their being the greatest sufferers on   earth, but complacently congratulate each other that they belong to the   only Celestial Empire on earth ! Few among them suspect that our   little Society possesses the knowledge by which these gigantic evils —   material, moral and spiritual—can be remedied. But we do know the   remedies, and by organized efforts we are determined to make them   known throughout every corner of this vast Empire. Some day those   who read our periodic and systematic treatment of their ills, will, in   China as elsewhere, understand our motives and bless us for our work.   Meanwhile we have the conviction that by helping the Chinese who are   in need of enlightenment, we are helping to lessen the sum total of   suffering from the face of the earth, we are opening the way for   development on all sides in every province, and greatly strengthening   the hands of all the best in the land. The grand record of history   which the Chinese possess in the past is assurance of a glorious future   for them. It is our privilege to be of service to them in this their hour   of great need, and to give them the advice of true friends.\" → [\"Peking\"/LOC, \"Moukden\"/LOC, \"Tientsin\"/LOC, \"Shensi\"/LOC, \"Nanking\"/LOC, \"Chefoo\"/LOC, \"China\"/LOC, \"China\"/LOC, \"Glasgow\"/LOC, \"Glasgow\"/LOC, \"Madagascar\"/LOC, \"South Sea\"/LOC, \"Formosa\"/LOC, \"Shantung\"/LOC, \"Glasgow\"/LOC, \"United   States\"/LOC, \"China\"/LOC, \"China\"/LOC, \"N\"/LOC, \"E.\"/LOC, \"Manchuria\"/LOC, \"France\"/LOC, \"Ann am\"/LOC, \"France\"/LOC, \"Burma\"/LOC, \"India\"/LOC, \"Japan\"/LOC, \"China\"/LOC, \"Europe\"/LOC, \"Europe\"/LOC, \"Chinamen\"/LOC, \"China\"/LOC, \"Tientsin\"/LOC, \"Shanghai\"/LOC, \"Hankow\"/LOC, \"China\"/LOC, \"China\"/LOC]"
      ]
     },
     "execution_count": 49,
     "metadata": {},
     "output_type": "execute_result"
    }
   ],
   "source": [
    "with open(\"Useful_Knowledge_Texts/Clipped_Texts/SDCGKC_AnnualReport_committee_publications_1893.txt\", \"r\", encoding=\"utf-8\") as text_file_6:\n",
    "    text_6 = text_file_6.read()\n",
    "\n",
    "sentenced_6 = Sentence(text_6)\n",
    "tagger.predict(sentenced_6)\n",
    "\n",
    "sentenced_6"
   ]
  },
  {
   "cell_type": "code",
   "execution_count": 50,
   "metadata": {},
   "outputs": [
    {
     "name": "stdout",
     "output_type": "stream",
     "text": [
      "Topres Annotations List Number = 37\n"
     ]
    },
    {
     "data": {
      "text/plain": [
       "[('Peking', 'LOC'),\n",
       " ('Moukden', 'LOC'),\n",
       " ('Tientsin', 'LOC'),\n",
       " ('Shensi', 'LOC'),\n",
       " ('Nanking', 'LOC'),\n",
       " ('Chefoo', 'LOC'),\n",
       " ('China', 'LOC'),\n",
       " ('China', 'LOC'),\n",
       " ('Glasgow', 'LOC'),\n",
       " ('Glasgow', 'LOC'),\n",
       " ('Madagascar', 'LOC'),\n",
       " ('South Sea', 'LOC'),\n",
       " ('Formosa', 'LOC'),\n",
       " ('Shantung', 'LOC'),\n",
       " ('Glasgow', 'LOC'),\n",
       " ('United   States', 'LOC'),\n",
       " ('China', 'LOC'),\n",
       " ('China', 'LOC'),\n",
       " ('N', 'LOC'),\n",
       " ('E.', 'LOC'),\n",
       " ('Manchuria', 'LOC'),\n",
       " ('France', 'LOC'),\n",
       " ('Ann am', 'LOC'),\n",
       " ('France', 'LOC'),\n",
       " ('Burma', 'LOC'),\n",
       " ('India', 'LOC'),\n",
       " ('Japan', 'LOC'),\n",
       " ('China', 'LOC'),\n",
       " ('Europe', 'LOC'),\n",
       " ('Europe', 'LOC'),\n",
       " ('Chinamen', 'LOC'),\n",
       " ('China', 'LOC'),\n",
       " ('Tientsin', 'LOC'),\n",
       " ('Shanghai', 'LOC'),\n",
       " ('Hankow', 'LOC'),\n",
       " ('China', 'LOC'),\n",
       " ('China', 'LOC')]"
      ]
     },
     "execution_count": 50,
     "metadata": {},
     "output_type": "execute_result"
    }
   ],
   "source": [
    "topres_annotations_6 = get_token_tag_tuples(sentenced_6)\n",
    "print(f'Topres Annotations List Number = {len(topres_annotations_6)}')\n",
    "topres_annotations_6"
   ]
  },
  {
   "cell_type": "code",
   "execution_count": 51,
   "metadata": {},
   "outputs": [
    {
     "name": "stdout",
     "output_type": "stream",
     "text": [
      "True Positives are when hand truth matches topres model predictions\n",
      "Number of True Positives: 19 in Document 6 - SDCGK Annual Report 1893\n",
      "\n",
      "True Positives By Label:\n",
      "LOC, 19 Total :  [('Shantung', 'LOC'), ('Chefoo', 'LOC'), ('Glasgow', 'LOC'), ('Formosa', 'LOC'), ('India', 'LOC'), ('Japan', 'LOC'), ('Tientsin', 'LOC'), ('Moukden', 'LOC'), ('Peking', 'LOC'), ('Shanghai', 'LOC'), ('Shensi', 'LOC'), ('Madagascar', 'LOC'), ('France', 'LOC'), ('China', 'LOC'), ('South Sea', 'LOC'), ('Hankow', 'LOC'), ('Burma', 'LOC'), ('Europe', 'LOC'), ('Nanking', 'LOC')]\n",
      "\n",
      "Total True Positives:\n",
      "True Positive : ('Shantung', 'LOC')\n",
      "True Positive : ('Chefoo', 'LOC')\n",
      "True Positive : ('Glasgow', 'LOC')\n",
      "True Positive : ('Formosa', 'LOC')\n",
      "True Positive : ('India', 'LOC')\n",
      "True Positive : ('Japan', 'LOC')\n",
      "True Positive : ('Tientsin', 'LOC')\n",
      "True Positive : ('Moukden', 'LOC')\n",
      "True Positive : ('Peking', 'LOC')\n",
      "True Positive : ('Shanghai', 'LOC')\n",
      "True Positive : ('Shensi', 'LOC')\n",
      "True Positive : ('Madagascar', 'LOC')\n",
      "True Positive : ('France', 'LOC')\n",
      "True Positive : ('China', 'LOC')\n",
      "True Positive : ('South Sea', 'LOC')\n",
      "True Positive : ('Hankow', 'LOC')\n",
      "True Positive : ('Burma', 'LOC')\n",
      "True Positive : ('Europe', 'LOC')\n",
      "True Positive : ('Nanking', 'LOC')\n"
     ]
    }
   ],
   "source": [
    "ground_truth_set_6 = set(hand_annotations_filtered_6)\n",
    "topres_predictions_set_6 = set(topres_annotations_6)\n",
    "\n",
    "true_positives_6 = ground_truth_set_6.intersection(topres_predictions_set_6)\n",
    "\n",
    "num_true_positives_6 = len(true_positives_6)\n",
    "print('True Positives are when hand truth matches topres model predictions')\n",
    "print(f\"Number of True Positives: {num_true_positives_6} in Document 6 - SDCGK Annual Report 1893\")\n",
    "print()\n",
    "\n",
    "print('True Positives By Label:')\n",
    "get_reports_by_label(true_positives_6)\n",
    "print()\n",
    "print('Total True Positives:')\n",
    "\n",
    "for entity in true_positives_6:\n",
    "    print(f\"True Positive : {entity}\")"
   ]
  },
  {
   "cell_type": "code",
   "execution_count": 52,
   "metadata": {},
   "outputs": [
    {
     "name": "stdout",
     "output_type": "stream",
     "text": [
      "False Negatives are present in hand truth but not topres model predictions\n",
      "Number of False Negatives: 12 in Document 6 - SDCGK Annual Report 1893\n",
      "\n",
      "False Negatives By Label:\n",
      "LOC, 12 Total :  [('Western Civilization', 'LOC'), ('earth', 'LOC'), ('provinces', 'LOC'), ('N . E . Manchuria', 'LOC'), ('Chinese Empire', 'LOC'), ('South', 'LOC'), ('West', 'LOC'), ('United States', 'LOC'), ('nation', 'LOC'), ('province', 'LOC'), ('Empire', 'LOC'), ('Celestial Empire', 'LOC')]\n",
      "\n",
      "Total False Negatives:\n",
      "False Negative : ('Western Civilization', 'LOC')\n",
      "False Negative : ('earth', 'LOC')\n",
      "False Negative : ('provinces', 'LOC')\n",
      "False Negative : ('N . E . Manchuria', 'LOC')\n",
      "False Negative : ('Chinese Empire', 'LOC')\n",
      "False Negative : ('South', 'LOC')\n",
      "False Negative : ('West', 'LOC')\n",
      "False Negative : ('United States', 'LOC')\n",
      "False Negative : ('nation', 'LOC')\n",
      "False Negative : ('province', 'LOC')\n",
      "False Negative : ('Empire', 'LOC')\n",
      "False Negative : ('Celestial Empire', 'LOC')\n"
     ]
    }
   ],
   "source": [
    "false_negatives_6 = ground_truth_set_6.difference(topres_predictions_set_6)\n",
    "\n",
    "num_false_negatives_6 = len(false_negatives_6)\n",
    "print('False Negatives are present in hand truth but not topres model predictions')\n",
    "print(f\"Number of False Negatives: {num_false_negatives_6} in Document 6 - SDCGK Annual Report 1893\")\n",
    "print()\n",
    "\n",
    "print('False Negatives By Label:')\n",
    "get_reports_by_label(false_negatives_6)\n",
    "print()\n",
    "print('Total False Negatives:')\n",
    "\n",
    "for entity in false_negatives_6:\n",
    "    print(f\"False Negative : {entity}\")"
   ]
  },
  {
   "cell_type": "code",
   "execution_count": 53,
   "metadata": {},
   "outputs": [
    {
     "name": "stdout",
     "output_type": "stream",
     "text": [
      "False Positives are predicted by topres model but are not in hand truth\n",
      "Number of False Positives: 6 in Document 6 - SDCGK Annual Report 1893\n",
      "\n",
      "False Positives By Label:\n",
      "LOC, 6 Total :  [('Ann am', 'LOC'), ('N', 'LOC'), ('United   States', 'LOC'), ('Manchuria', 'LOC'), ('E.', 'LOC'), ('Chinamen', 'LOC')]\n",
      "\n",
      "Total False Positives:\n",
      "False Positive : ('Ann am', 'LOC')\n",
      "False Positive : ('N', 'LOC')\n",
      "False Positive : ('United   States', 'LOC')\n",
      "False Positive : ('Manchuria', 'LOC')\n",
      "False Positive : ('E.', 'LOC')\n",
      "False Positive : ('Chinamen', 'LOC')\n"
     ]
    }
   ],
   "source": [
    "false_positives_6 = topres_predictions_set_6.difference(ground_truth_set_6)\n",
    "\n",
    "num_false_positives_6 = len(false_positives_6)\n",
    "print('False Positives are predicted by topres model but are not in hand truth')\n",
    "print(f\"Number of False Positives: {num_false_positives_6} in Document 6 - SDCGK Annual Report 1893\")\n",
    "print()\n",
    "\n",
    "print('False Positives By Label:')\n",
    "get_reports_by_label(false_positives_6)\n",
    "print()\n",
    "print('Total False Positives:')\n",
    "\n",
    "for entity in false_positives_6:\n",
    "    print(f\"False Positive : {entity}\")"
   ]
  },
  {
   "cell_type": "code",
   "execution_count": 54,
   "metadata": {},
   "outputs": [
    {
     "name": "stdout",
     "output_type": "stream",
     "text": [
      "Evaluation Calculation Reports for Document 6 SDGCK Annual Report 1893\n",
      "\n",
      "Recall Score = 0.6129032258064516\n",
      "Precision Score = 0.76\n",
      "F1 Score = 0.6785714285714285\n"
     ]
    }
   ],
   "source": [
    "rec_calc_6 = num_true_positives_6 / (num_true_positives_6 + num_false_negatives_6)\n",
    "prec_calc_6 = num_true_positives_6 / (num_true_positives_6 + num_false_positives_6)\n",
    "f1_calc_6 = (2 * prec_calc_6* rec_calc_6) / (prec_calc_6 + rec_calc_6)\n",
    "\n",
    "print('Evaluation Calculation Reports for Document 6 SDGCK Annual Report 1893')\n",
    "print()\n",
    "print(f'Recall Score = {rec_calc_6}')\n",
    "print(f'Precision Score = {prec_calc_6}')\n",
    "print(f'F1 Score = {f1_calc_6}')"
   ]
  },
  {
   "cell_type": "markdown",
   "metadata": {},
   "source": [
    "## Document 7 Comparison: Clipping from British Almanac 1855 (on Thermo-Copernicans)\n"
   ]
  },
  {
   "cell_type": "code",
   "execution_count": 55,
   "metadata": {},
   "outputs": [
    {
     "name": "stdout",
     "output_type": "stream",
     "text": [
      "Hand Annotations List Number = 12\n"
     ]
    },
    {
     "data": {
      "text/plain": [
       "[('Greenwich', 'LOC'),\n",
       " ('Tyre', 'LOC'),\n",
       " ('earth', 'LOC'),\n",
       " ('earth', 'LOC'),\n",
       " ('earth', 'LOC'),\n",
       " ('Poland', 'LOC'),\n",
       " ('Monaco', 'LOC'),\n",
       " ('earth', 'LOC'),\n",
       " ('earth', 'LOC'),\n",
       " ('earth', 'LOC'),\n",
       " ('1594', 'LOC'),\n",
       " ('Paris', 'LOC')]"
      ]
     },
     "execution_count": 55,
     "metadata": {},
     "output_type": "execute_result"
    }
   ],
   "source": [
    "# Loading and Cleaning Hand Data for Document 6\n",
    "hand_annotated_data_7 = []\n",
    "with open(\"Useful_Knowledge_Annotations_iob_3/DOCUMENT-omonroe2_illinois_edu/SDUK_Almanac_thermo_copernicans_1855.txt.tsv\", \"r\", encoding=\"utf-8\") as iob_file_7:\n",
    "    for line in iob_file_7:\n",
    "        line = line.strip()\n",
    "        if line:\n",
    "            token, label = line.split(\"\\t\")\n",
    "           \n",
    "            hand_annotated_data_7.append((token, label))\n",
    "\n",
    "hand_annotated_tagged_7 = [(token, label) for token, label in hand_annotated_data_7 if label != 'O']\n",
    "\n",
    "merged_hand_annotations_7 = merge_iob_tokens(hand_annotated_tagged_7)\n",
    "hand_annotations_filtered_7 = filter_map_tags(merged_hand_annotations_7)\n",
    "\n",
    "print(f'Hand Annotations List Number = {len(hand_annotations_filtered_7)}')\n",
    "hand_annotations_filtered_7"
   ]
  },
  {
   "cell_type": "code",
   "execution_count": 56,
   "metadata": {},
   "outputs": [
    {
     "data": {
      "text/plain": [
       "Sentence[3302]: \" 2 EXPLANATORY NOTICES. 6 EXPLANATORY NOTICES. Explanation of the column headed “ Thermometrical Register.\" The Thermometrical Register commences with Nov. 1853, and closes with Oct. 1854, inclusive. These registers have been carefully copied from those made at the Royal Observatory, Greenwich, and which are also deposited with the Royal Society. They show the highest and lowest ranges within each twenty-four hours, from twelve different readings. Each month is placed with its corresponding month, as affording the most ready and advantageous means of comparison, although by this arrangement the register of the last two months of 1833 follows the ten months of 1854, which are all we can give up to the day of publication. Explanation of the columns headed “ Length of day.” “Day's increase or decrease,\" “Day breaks,” and “ Twilight ends.\" The column headed “Length of day” contains the number of hours and minutes between sunrise and sunset. The column headed “Day's increase expresses the number of hours and minutes which the day has increased since the shortest day; and, where the column is headed “Day's decrease,” it expresses the number of hours and minutes which the day has decreased since the longest day; for example, the length of the longest day in 1853 is put down in the column “Length of day\" at 16h. 34m.; and on the 6th of July following we find that the length of the day, or the number of hours and minutes between sunrise and sunset, is set down at 16h. 24m.; hence the day has decreased 10m. since the longest day, and, accordingly, in the column “Day's decrease,” we find opposite July the 6th Oh. 10m. Equation of Time. In this Almanac the calculations are all made for mean time (given by the clock), instead of apparent time (given by the sun-dial), which latter had been used up to the It must be obvious that, for all practical purposes, mean time is the most useful; and to obtain it from apparent time, the columns in the Almanac headed Equation of Time\" should be used. The column“ Equation of Time\" ought, for example, to be consulted when persons are desirous of setting their clock by a sun-dial. When clock after sun is written above the number of minutes and seconds opposite to the day, then the clock ought to be set so much slower than the sun-dial, and the contrary. Moonlight. Tue Moon's age is set down in days and the nearest tenths of days from the time of change. Thus it is New Moon on the 16th of February at 6h. 47m. afternoon, and there. fore at noon on the 17th she is 17h. 23m. old, which is set down as seven-tenths. The fraction of the day of course continues the same throughout the lunation. year 1833. 1 LIST OF THE CORRESPONDENCE OF ERAS WITH THE YEAR 1855. [In those Eras which begin with the Christian year, the year alone is stated; in those which begin at a different season, the month in which the 1st of January, 1855, occurs is also given.] Correspondence Abbre- with 1855. viations, Roman Year 2608 A.U.C. Year of the World (Constantinopolitan account) 7363 A.M. Const. Ditto (Alexandrian account) 7347 A.M. Alex. Ditto (Jewish account). . Ilth Thebet 5615 A.M. Era of Nabonassar 8th Pharmuti 2603 Ær. Nab. Egyptian ... 24th Cohiac 2601 A. Æg. Julian Period 6568 Jul. Per. Dioclesian, or of Martyrs 24th Cohiac 1571 Ær. Diocl. Seleucides, or Grecian Audynæus 2166 Ær. Seleuc. Death of Alexander 3d month of 2178 A. Mor. Alex. Era of Tyre ..... Audynæus 1979 Ær. Tyr. Cæsarian of Antioch (Greek) ........... Audynæus 1903 Cæs. Ant. Ditto (Syrian) Canun II. 1902 Era of Abraham 4th month of 3870 Ær. Abr. Spanish, or of the Cæsars 1893 A. Cæs. Persian Era of Yezdegird III. (Parsee account) 1224 A. Pers. Armenian common year.... ..5th Kaghots 1304 An. Arm. Ditto ecclesiastical year 12th Kagnots 1303 Hegira.... Ist Rabiu II. 1271 Α.Η. Kaliyug.. Poos or Margaly 4956 Cal. Salivahana Ditto 1777 Saca. Vikramaditya Ditto 1911 Samvat.   ## p. 5 (#105) ##############################################  COMPANION TO THE ALMANAC FOR 1855. PART I. GENERAL INFORMATION ON SUBJECTS OF MATHEMATICS, NATURAL PHILOSOPHY AND HISTORY, CHRONOLOGY, GEOGRAPHY, STATISTICS, &c. I. THE PROGRESS OF THE DOCTRINE OF THE EARTH'S MOTION, BETWEEN THE TIMES OF CO- PERNICUS AND GALILEO; BEING NOTES ON THE ANTEGALILEAN COPERNICANS. Any reader of the common accounts of astronomical history might suppose that the moment Copernicus sowed the dragon's teeth, a host of armed controversialists arose from out of the ground, and proceeded to mutual slaughter. This arises from the manner in which popular writers are naturally led to pass over an intervening time, and to bring their readers at once to the story of Galileo and the Inquisition. But when it is remembered that this period of ex. citement begins with the construction of the telescope in 1609, and that the work of Copernicus was published in 1543, it will appear that there is a term of no less than 66 years during which the pro- gress of opinion is to be accounted for. That is, the contemporaries of Galileo looked back upon the announcement of the motion of the earth just as we look back upon the commencement of the first French revolution. During this term of 66 years, the question was not, properly speak- ing, discussed. Various writers gave opinions, but no book was written against another book. Some leaned towards the actual motion of the earth : some got no further than the armission of that motion as a very simple anii efficacious way of deducing the plane- tary motions. Some thought that the diurnal motion only could be maintained : others were equally in favour of the motion round the The difference between a physical and a mathematical use of the Copernican or any other theory, is one which is rather puzzling to a reader unaccustomed to such considerations. A mathematical Copernican was one who saw that, come how it might, the heavenly appearances are such as would take place if the earth did move about the sun, and also about its own axis : and that, consequently, the sun.    ## p. 6 (#106) ##############################################  6 Notes on the Antegalilean Copernicans. supposition of such motions, true or false, would be a convenient and efficacious mode of explaining and predicting celestial phenomena. A physical Copernican added to the above the belief that the reason why things appear as they would if the earth had these motions, is that it really has them. The first said that the hypothesis explains or demonstrates phenomena; the second said that the hypothesis is a true statement of the causes which produce phenomena. Every person who knows the heavenly motions, as they appear before our eyes, and has a little knowledge of geometry, must be a mathematical Copernican : he cannot fail to see that a Copernican universe would show the same appearances as that in which we live. Accordingly, from the moment when the work of Copernicus ap- peared, the beauty of the explanation was fully acknowledged, and the author took his place at once among mathematicians of the first order, both for his own novelties, and for his additions to the old system. The highest terms of praise are found in the writings of those who were most opposed to the physical truth of the hypothesis. Those who were inclined to blame the novelty of the system-for in every age the production of new opinions meets with reproach-had their mouths stopped by reference to those among the ancients who were known to have believed the actual motion of the earth. It is said that Leonardo da Vinci held the motion of the earth, as appears by his manuscripts, about 1500: but it does not appear that he constructed any system of explanations. There was a work of Calcagnini actually written and made known (divolgo, says Tiraboschi, which we suppose does not imply printing) before that of Copernicus, in which the earth's motion was defended: but as the author was known to have travelled in Poland, where Copernicus had long been teaching his system in every way except through the press, as well as for other reasons, the Italians suppose he must have had know- ledge of Copernicus and his opinions. In 1533, J. Albert Widman- stadt, afterwards known as an oriental scholar, explained the views of Copernicus before Clement VII., for which explanation that Pope presented him with a Greek manuscript, which was preserved at Monaco in the last century with an inscription by Widmanstadt recording the gift and the reason. We shall now give some detached accounts of the mode in which the system presented itself to those whom we may term its Antega- lilean supporters or opponents. The dates attached are those of death, but all the writers belong to the sixteenth century. Nicholas Copernicus (1543).—The question whether Copernicus himself was a Copernican in the modern sense of the word is not easily settled. His phraseology is almost always that of a mathema- tical Copernican (Comp. Alm. 1853, p. 9, note 8). In a very few places, and cautiously, he leans to the physical truth as probable, and to the diurnal motion as more probable than the orbital. When the Congregation of the Index, in 1620, propounded the alterations under which they could allow his book to be read as a mathematical hypothesis, they found those alterations very few in number : and, though confessedly disposed to cancel the whole of Chapter VIII., as treating of the truth of the motion of the earth, they were never- a    ## p. 7 (#107) ##############################################  Notes on the Antegalilean Copernicans. 7 theless able to allow it to stand, because the author seemed to be speaking problematically; whence they only imposed a few verbal al- terations. Riccioli (Alm. N. ii. 294) affirms Copernicus to have been a physical* Copernican, and cites the passages which, in his opinion, prove it; but he does not feel able to get farther than the qualified statement that Copernicus maintained the motion of the earth as more probable, or even as demonstrated. The reader who can com- pare the passages in the page cited with the alterations demanded by the Congregation in p. 496, will be able to judge for himself: see also the life of Copernicus in the Penny Cyclopædia. George Joachim Rheticus (1576).--This celebrated friend of Copernicus, and one of the principal instigators of his publication, was himself the first announcer of the forthcoming system, in his Narratio, &c., published in 1540_(Comp. 1853, p. 9). It may be collected from this letter that Rheticus was, more than Coper- nicus, inclined to express his belief in the motion of the earth as an absolute truth. But the passages which prove this are im- bedded in accounts of the manner in which the system explains phenomena, and it would take more space than we can give to put in evidencet the distinction between the phrases of Copernicus and those of his herald. The following paragraph, however, will show the manner in which the account struck another person. Achilles Gassarus.—His letter (Comp. Alm. 1853, p. 9, note *), written in 1540, upon receipt of a copy of the Narratio from his friend Rheticus accompanied by a very full private letter, epistola harum rerum refertissima, was printed at the head of the edition of the Narratio referred to in the note just cited. No doubt this private letter gave very explicit statement of the view actually taken by Rheticus. Delambre (Astr. Mod. vol. i. p. 138) imagines that it was the work of Copernicus himself which was sent to Gassarus ; and concludes, from copies being thus issued three years before the date of the book, that Copernicus delayed its publication even after it was printed. But this is a mistake : we know perfectly well that Copernicus never opened his own book, and received the only copy he ever saw on the very day of his death. Gassarus describes the publication of Rheticus as of novelty enough to stupefy any one, as most contrary to the doctrines of the schools, and as what the monks would certainly call heretical. He instances the motion of the earth as among the wonders, but enters into no detail, apparently because he sends on the work itself to his correspondent. We infer, then, that Rheticus was a physical Copernican. This Gassarus was the constructor of a series of almanacs, under the title of Prognosticon a a * All the writers who make a similar affirmation in the sixteenth century are op- ponents, except only Thomas Digges, who stoutly and expressly denies (in 1594) that Copernicus meant his assertions “onely as mathematical principles fayned, and not as philosophicall truely averred.” + Some give a very different account. In the Penny Cyclopædia (Rheticus), ap- parently after Zedler, it is stated that this Narratio is ahsolutely written in opposition to Copernicus,\" to show that the rotation of the earth about the sun is not a mere probable hypothesis, as Copernicus had thought fit to announce it, but an incontestable truth.\" And many writers, though not going so far as this, are yet decided in their statements that Rheticus was a physical Copernican, We arrive at the same opinion with more difficulty.    ## p. 8 (#108) ##############################################  8 Notes on the Antegalilean Copernicans. Astrologicum. That for 1546 is dedicated to Rheticus, who, says Gassarus, after the example of his master Copernicus, gave easier introduction and clearer demonstration to the celestial motions. It is probable enough that, next afier Rheticus, Gassarus was the first who ventilated the name of Copernicus in print. Erasmus Rheinhold (1553).—He was the friend of Copernicus, and an abettor of the publication ; but his view was very different from that of Rheticus. In his Prutenic (Prussian) tables, he makes use of the observations of Copernicus, and he constructs tables of the planets both on the old and on the Copernican data. He enters into no discussion, and (according to Delambre) finds no occasion to speak either of the motion of the earth or of the sun. It must be remarked that several of the early Copernicans, whatever they might think of the system physically or mathematically, found their chief source of admiration in the changes which Copernicus made in the numerical data of the planetary, and especially of the lunar, theory. These numerical data might with ease have been transplanted into the Pto- lemaic system. Rheinhold, then, so far as he declares himself, heads the school of numericai Copernicans. Peter Ramus (1572).—This celebrated leader of opinion is reckoned rather among the philosophers than the mathematicians. In the common language of our day, those who investigate matter have usurped the name of philosopher, or rather, perhaps, have had it usurped for them; while those who were once called philo- sophers * are now usually called metaphysicians. This is of no con- sequence, t except in the confusion it creates: we shall in this article use the term philosopher in its old sense. Ramus, a thorough opponent of the old philosophy, began life, when he disputed at Paris for his degree of master of arts, by offering to maintain the contrary of any assertion whatsoever of Aristotle. His writings † were censured by the University of Paris in 1543, the year in which Copernicus published his great work. He was a correspondent of Rheticus, and states (Sch, Math. book ii.) that he endeavoured by letter to per- suade him to free astronomy altogether from hypothesis; and that if Rheticus had not been obliged by circumstances to betake himself to the practice of medicine, the mathematics might have had another Copernicus to celebrate. Ramus, then, was for astronomy without hypotheses, but with a very high opinion of Copernicus and of his system as against previous ones ; so far his meaning is not very clear. Mæstlinus took him literally, as advocating merely 7 * It must, however, he observed, that mind and matter were both subjects of the ancient philosophy, physics being natural philosophy. The new school advocated experimental pliilosophy, professing to draw all their conclusions from experiment. The two terms were antagonists for some time; but at last they coalesced and for more than a century writers and teachers have talked of natural and experimental philosophy, a combination which still lingers in the prospectuses of schools and lectures. + It is impossible to keep words to their meanings. The words physician and naturalist are of the same original meaning, namely, investigators of the external world; but the first now means a person who looks after the health of men, while the second means one who looks after the classification, &c. of brutes and vegetabies. # It is a coincidence of date worth noting, with reference to the attack on the old system, that the astronomy of Copernicus and the logic of Ramus were published in the same year.\" → [\"Royal Observatory\"/BUILDING, \"Greenwich\"/LOC, \"Nabonassar\"/LOC, \"Tyre\"/LOC, \"Antioch\"/LOC, \"Yezdegird\"/LOC, \"Poland\"/LOC, \"Monaco\"/LOC, \"Paris\"/LOC, \"Paris\"/LOC]"
      ]
     },
     "execution_count": 56,
     "metadata": {},
     "output_type": "execute_result"
    }
   ],
   "source": [
    "with open(\"Useful_Knowledge_Texts/Clipped_Texts/SDUK_Almanac_thermo_copernicans_1855.txt\", \"r\", encoding=\"utf-8\") as text_file_7:\n",
    "    text_7 = text_file_7.read()\n",
    "\n",
    "sentenced_7 = Sentence(text_7)\n",
    "tagger.predict(sentenced_7)\n",
    "\n",
    "sentenced_7"
   ]
  },
  {
   "cell_type": "code",
   "execution_count": 57,
   "metadata": {},
   "outputs": [
    {
     "name": "stdout",
     "output_type": "stream",
     "text": [
      "Topres Annotations List Number = 10\n"
     ]
    },
    {
     "data": {
      "text/plain": [
       "[('Royal Observatory', 'LOC'),\n",
       " ('Greenwich', 'LOC'),\n",
       " ('Nabonassar', 'LOC'),\n",
       " ('Tyre', 'LOC'),\n",
       " ('Antioch', 'LOC'),\n",
       " ('Yezdegird', 'LOC'),\n",
       " ('Poland', 'LOC'),\n",
       " ('Monaco', 'LOC'),\n",
       " ('Paris', 'LOC'),\n",
       " ('Paris', 'LOC')]"
      ]
     },
     "execution_count": 57,
     "metadata": {},
     "output_type": "execute_result"
    }
   ],
   "source": [
    "topres_annotations_7 = get_token_tag_tuples(sentenced_7)\n",
    "print(f'Topres Annotations List Number = {len(topres_annotations_7)}')\n",
    "topres_annotations_7"
   ]
  },
  {
   "cell_type": "code",
   "execution_count": 58,
   "metadata": {},
   "outputs": [
    {
     "name": "stdout",
     "output_type": "stream",
     "text": [
      "True Positives are when hand truth matches topres model predictions\n",
      "Number of True Positives: 5\n",
      "\n",
      "True Positives By Label:\n",
      "LOC, 5 Total :  [('Tyre', 'LOC'), ('Paris', 'LOC'), ('Monaco', 'LOC'), ('Poland', 'LOC'), ('Greenwich', 'LOC')]\n",
      "\n",
      "Total True Positives:\n",
      "True Positive : ('Tyre', 'LOC')\n",
      "True Positive : ('Paris', 'LOC')\n",
      "True Positive : ('Monaco', 'LOC')\n",
      "True Positive : ('Poland', 'LOC')\n",
      "True Positive : ('Greenwich', 'LOC')\n"
     ]
    }
   ],
   "source": [
    "ground_truth_set_7 = set(hand_annotations_filtered_7)\n",
    "topres_predictions_set_7 = set(topres_annotations_7)\n",
    "\n",
    "true_positives_7 = ground_truth_set_7.intersection(topres_predictions_set_7)\n",
    "\n",
    "num_true_positives_7 = len(true_positives_7)\n",
    "print('True Positives are when hand truth matches topres model predictions')\n",
    "print(f\"Number of True Positives: {num_true_positives_7}\")\n",
    "print()\n",
    "\n",
    "print('True Positives By Label:')\n",
    "get_reports_by_label(true_positives_7)\n",
    "print()\n",
    "print('Total True Positives:')\n",
    "\n",
    "for entity in true_positives_7:\n",
    "    print(f\"True Positive : {entity}\")"
   ]
  },
  {
   "cell_type": "code",
   "execution_count": 59,
   "metadata": {},
   "outputs": [
    {
     "name": "stdout",
     "output_type": "stream",
     "text": [
      "False Negatives are present in hand truth but not topres model predictions\n",
      "Number of False Negatives: 2 in Document 7 - British Almanac 1855\n",
      "\n",
      "False Negatives By Label:\n",
      "LOC, 2 Total :  [('1594', 'LOC'), ('earth', 'LOC')]\n",
      "\n",
      "Total False Negatives:\n",
      "False Negative : ('1594', 'LOC')\n",
      "False Negative : ('earth', 'LOC')\n"
     ]
    }
   ],
   "source": [
    "false_negatives_7 = ground_truth_set_7.difference(topres_predictions_set_7)\n",
    "\n",
    "num_false_negatives_7 = len(false_negatives_7)\n",
    "print('False Negatives are present in hand truth but not topres model predictions')\n",
    "print(f\"Number of False Negatives: {num_false_negatives_7} in Document 7 - British Almanac 1855\")\n",
    "print()\n",
    "\n",
    "print('False Negatives By Label:')\n",
    "get_reports_by_label(false_negatives_7)\n",
    "print()\n",
    "print('Total False Negatives:')\n",
    "\n",
    "for entity in false_negatives_7:\n",
    "    print(f\"False Negative : {entity}\")"
   ]
  },
  {
   "cell_type": "code",
   "execution_count": 60,
   "metadata": {},
   "outputs": [
    {
     "name": "stdout",
     "output_type": "stream",
     "text": [
      "False Positives are predicted by topres model but are not in hand truth\n",
      "Number of False Positives: 4 in Document 7 - British Almanac 1855\n",
      "\n",
      "False Positives By Label:\n",
      "LOC, 4 Total :  [('Royal Observatory', 'LOC'), ('Antioch', 'LOC'), ('Nabonassar', 'LOC'), ('Yezdegird', 'LOC')]\n",
      "\n",
      "Total False Positives:\n",
      "False Positive : ('Royal Observatory', 'LOC')\n",
      "False Positive : ('Antioch', 'LOC')\n",
      "False Positive : ('Nabonassar', 'LOC')\n",
      "False Positive : ('Yezdegird', 'LOC')\n"
     ]
    }
   ],
   "source": [
    "false_positives_7 = topres_predictions_set_7.difference(ground_truth_set_7)\n",
    "\n",
    "num_false_positives_7 = len(false_positives_7)\n",
    "print('False Positives are predicted by topres model but are not in hand truth')\n",
    "print(f\"Number of False Positives: {num_false_positives_7} in Document 7 - British Almanac 1855\")\n",
    "print()\n",
    "\n",
    "print('False Positives By Label:')\n",
    "get_reports_by_label(false_positives_7)\n",
    "print()\n",
    "print('Total False Positives:')\n",
    "\n",
    "for entity in false_positives_7:\n",
    "    print(f\"False Positive : {entity}\")"
   ]
  },
  {
   "cell_type": "code",
   "execution_count": 61,
   "metadata": {},
   "outputs": [
    {
     "name": "stdout",
     "output_type": "stream",
     "text": [
      "Evaluation Calculation Reports for Document 7 British Almanac 1855\n",
      "\n",
      "Recall Score = 0.7142857142857143\n",
      "Precision Score = 0.5555555555555556\n",
      "F1 Score = 0.6250000000000001\n"
     ]
    }
   ],
   "source": [
    "rec_calc_7 = num_true_positives_7 / (num_true_positives_7 + num_false_negatives_7)\n",
    "prec_calc_7 = num_true_positives_7 / (num_true_positives_7 + num_false_positives_7)\n",
    "f1_calc_7 = (2 * prec_calc_7 * rec_calc_7) / (prec_calc_7 + rec_calc_7)\n",
    "\n",
    "print('Evaluation Calculation Reports for Document 7 British Almanac 1855')\n",
    "print()\n",
    "print(f'Recall Score = {rec_calc_7}')\n",
    "print(f'Precision Score = {prec_calc_7}')\n",
    "print(f'F1 Score = {f1_calc_7}')"
   ]
  },
  {
   "cell_type": "markdown",
   "metadata": {},
   "source": [
    "## Document 8 Comparison: Clipping from SDUK British Almanac 1872 (on Music and Photography)\n"
   ]
  },
  {
   "cell_type": "code",
   "execution_count": 62,
   "metadata": {},
   "outputs": [
    {
     "name": "stdout",
     "output_type": "stream",
     "text": [
      "Hand Annotations List Number = 70\n"
     ]
    },
    {
     "data": {
      "text/plain": [
       "[('Greenwich', 'LOC'),\n",
       " ('United Kingdom', 'LOC'),\n",
       " ('United Kingdom', 'LOC'),\n",
       " ('Scilly Islands', 'LOC'),\n",
       " ('Falmouth', 'LOC'),\n",
       " ('Plymouth', 'LOC'),\n",
       " ('Portland', 'LOC'),\n",
       " ('Portsmouth', 'LOC'),\n",
       " ('Brighton', 'LOC'),\n",
       " ('Dover', 'LOC'),\n",
       " ('London', 'LOC'),\n",
       " ('Yarmouth', 'LOC'),\n",
       " ('Sunderland', 'LOC'),\n",
       " ('Edinburgh', 'LOC'),\n",
       " ('Glasgow', 'LOC'),\n",
       " ('Liverpool', 'LOC'),\n",
       " ('Pembroke', 'LOC'),\n",
       " ('Holyhead', 'LOC'),\n",
       " ('Dublin', 'LOC'),\n",
       " ('Belfast', 'LOC'),\n",
       " ('Galway', 'LOC'),\n",
       " ('Cork', 'LOC'),\n",
       " ('United Kingdom', 'LOC'),\n",
       " ('Edinburgh', 'LOC'),\n",
       " ('Edinburgh', 'LOC'),\n",
       " ('Great Britain', 'LOC'),\n",
       " ('Greenwich', 'LOC'),\n",
       " ('Ireland', 'LOC'),\n",
       " ('Dublin', 'LOC'),\n",
       " ('Great Britain', 'LOC'),\n",
       " ('Greenwich', 'LOC'),\n",
       " ('Greenwich', 'LOC'),\n",
       " ('Greenwich', 'LOC'),\n",
       " ('Penzance', 'LOC'),\n",
       " ('England', 'LOC'),\n",
       " ('towns', 'LOC'),\n",
       " ('United States', 'LOC'),\n",
       " ('Canada', 'LOC'),\n",
       " ('Australia', 'LOC'),\n",
       " ('United States', 'LOC'),\n",
       " ('cities', 'LOC'),\n",
       " ('provinces', 'LOC'),\n",
       " ('king - dom', 'LOC'),\n",
       " ('America', 'LOC'),\n",
       " ('Australia', 'LOC'),\n",
       " ('France', 'LOC'),\n",
       " ('England', 'LOC'),\n",
       " ('Asia', 'LOC'),\n",
       " ('Africa', 'LOC'),\n",
       " ('America', 'LOC'),\n",
       " ('Australia', 'LOC'),\n",
       " ('Egypt', 'LOC'),\n",
       " ('Constantinople', 'LOC'),\n",
       " ('India', 'LOC'),\n",
       " ('Falls', 'LOC'),\n",
       " ('Niagara', 'LOC'),\n",
       " ('forests', 'LOC'),\n",
       " ('Canada', 'LOC'),\n",
       " ('Australia', 'LOC'),\n",
       " ('glaciers', 'LOC'),\n",
       " ('Switzerland', 'LOC'),\n",
       " ('cities', 'LOC'),\n",
       " ('Italy', 'LOC'),\n",
       " ('lochs', 'LOC'),\n",
       " ('Scotland', 'LOC'),\n",
       " ('glens', 'LOC'),\n",
       " ('Ireland', 'LOC'),\n",
       " ('Palestine', 'LOC'),\n",
       " ('Holy Land', 'LOC'),\n",
       " ('France', 'LOC')]"
      ]
     },
     "execution_count": 62,
     "metadata": {},
     "output_type": "execute_result"
    }
   ],
   "source": [
    "# Loading and Cleaning Hand Data for Document 8\n",
    "hand_annotated_data_8 = []\n",
    "with open(\"Useful_Knowledge_Annotations_iob_3/DOCUMENT-omonroe2_illinois_edu/SDUK_Almanac_thermo_music_photo_1872.txt.tsv\", \"r\", encoding=\"utf-8\") as iob_file_8:\n",
    "    for line in iob_file_8:\n",
    "        line = line.strip()\n",
    "        if line:\n",
    "            token, label = line.split(\"\\t\")\n",
    "           \n",
    "            hand_annotated_data_8.append((token, label))\n",
    "\n",
    "hand_annotated_tagged_8 = [(token, label) for token, label in hand_annotated_data_8 if label != 'O']\n",
    "\n",
    "merged_hand_annotations_8 = merge_iob_tokens(hand_annotated_tagged_8)\n",
    "hand_annotations_filtered_8 = filter_map_tags(merged_hand_annotations_8)\n",
    "\n",
    "print(f'Hand Annotations List Number = {len(hand_annotations_filtered_8)}')\n",
    "hand_annotations_filtered_8"
   ]
  },
  {
   "cell_type": "code",
   "execution_count": 63,
   "metadata": {},
   "outputs": [
    {
     "data": {
      "text/plain": [
       "Sentence[4036]: \" 2 EXPLANATORY NOTICES. EXPLANATORY NOTICES. Thermometrical Register. THE Thermometrical Register, showing the highest and lowest temperature of the corresponding month of the preceding year, has been resumed in the British Almanac this year at the request of numerous correspondents. These registers are copied from those made at the Royal Observatory, Greenwich. They show the highest and lowest ranges within each twenty-four hours, from self-registering thermometers. Each month is placed with its corresponding month, as affording the most ready and advantageous means of comparison, although by this arrangement the register of the last three months of 1870 follows the nine months of 1871, which are all that can be given up to the day of publication. Equation of Time. In this Almanac the calculations are all made for mean time (given by the clock), instead of apparent time (given by the sun-dial), which latter had been used up to the year 1833. It must be obvious that, for all practical purposes, mean time is the most useful; and to obtain it from apparent time, the columns in the Almanac headed “ Equation of Time\" should be used. The column “Equation of Time\" ought, for example, to be consulted when persons are desirous of setting their clock by a sun-dial. When clock after sun is written above the number of minutes and seconds opposite to the day, then the clock ought to be set so much slower than the sun-dial, and the contrary. Moonlight. The Moon's age is set down in days and the nearest tenths of days from the time of change. Thus it is New Moon on the 8th of April at Oh. 32m. morning, and there- fore at noon of that day she is 11h. 28m. old, which is set down as five-tenths. The fraction of the day of course continues the same throughout the lunation. See also the table showing the duration of moonlight on page 10. VARIATION OF THE COMPAss, or the declination of the magnetic or mariner's needle from the meridian or true north and south line at the undermentioned places in the United Kingdom, estimated for the year 1872. N.B.—The variation is westerly, that is, the magnetic pole is west of the true north pole, and is found to be decreasing in the United Kingdom about 9' annually. Scilly Islands, 22° 11'; Falmouth, 21° 53'; Plymouth, 21° 27'; Portland, 20° 41'; Portsmouth, 20° 11'; Brighton, 19° 39'; Dover, 19° 4'; London, 19° 43'; Yarmouth, 19° 16'; Sunderland, 21° 37'; Edinburgh, 23° 4'; Glasgow, 23° 51'; Liverpool, 22° 1'; Pembroke, 22° 31'; Holyhead, 22° 56'; Dublin, 23° 58'; Belfast, 24° 16'; Galway, 25° 26'; Cork, 24° 33'. AUXILIARY TABLE FOR FINDING THE TIME OF SUN- RISING AND SETTING. The time of Sunrise and Sunset in the British Almanac' is adapted to the parallel of Latitude in which London is situate-viz., 51° 30'. THE table, pages 3-4, has been constructed to show the variations of time through the United Kingdom-namely, between the latitude of 58° and 50° 10' N. The times of sun-rising and sun-setting are computed for the instant that the sun's centre is even with the horizon of the sea. The number of minutes found in this table under the month-day, and in the required latitude, are to be applied to the time of sun-rising and setting found on that day in the Almanac; the result will be the time of his rising and setting at the place required.--Ex. At what time will the sun fise and set on May 21 at Edinburgh? The times of sunrise and sunset on that day in the Almanac are 4h. lm. A.m., and 7h. 52m. P.M. In the table, in parallel of 56°, in which (p. 3) Edinburgh is found, and under May 21, are 23 minutes; which, subtracted from 4h. Im., leaves 3h. 38m. for time of sunrise; and, added to 7h. 52m., gives 8h. 15m. for time of sun-setting. But at those places where instead of mean time at place* rail- way time is now used, which in Great Britain is Greenwich mean time, and in Ireland Dublin mean time, to the times of sun-rising and sun-setting, as deduced by the aux- iliary table, the longitude in time must be applied thus:-For places in Great Britain whose longitude is west of Greenwich, to the time of sunrise or sunset add the longi- tude in time, and to places whose longitude is east of Greenwich, subtract the longitude in time, the result will be the railway or Greenwich time that the sun rises or sets. N.B.-Longitude in arc, indicated by the signs /\" (degrees, minutes, and seconds) is converted into longitude in time by reckoning 360° — 24 h., 15º =lh., and 1°= 4m. Example:-On June 21st at Penzance, in latitude 50° 7' N. and longitude 5° 31' W., what will be the railway time that the sun rises and sets ? * See above, Explanatory Notices, Equation of Time.    ## p. 65 (#173) #############################################  The Present State of Music in England. 65 Such a national school as we desire to see established might fitly be formed out of the present Royal Academy, which with an en- larged income and an extended scheme of operations would be well able to undertake the work. Free education ought to be provided for a considerable number of pupils, inasmuch as experience proves that some of the most gifted musicians - are to be found among the lower ranks of society, and the fees payable by the other students ought to be very much lower than those now charged, while it would also be desirable to add a general educational establishment to the institution. In connection with it evening classes might be formed, and an orchestra might be permanently kept up for the trial of new works, thus offering to English composers an advantage the want of which has too long acted as a discouragement. Another important question is the best means of providing elementary training for the people, and especially the young in our large towns. The teaching of music in the parochial schools will do much to promote this result if, as we hope will be the case, sight-singing and not singing by ear is insisted on : but the adults and the young men and women still remain to be provided for. One point is very plain, that if musical education becomes general, there will in future be a better supply of competent teachers for the training of the children, and if the numerous school-rooms controlled by the local boards are made available for evening instruction, much may be done. Classes on the old notation and on the Tonic Sol-Fa system might be conducted on different evenings, and in nearly every case they would be found to be self-sup- porting, especially if concerts were given at intervals by the pupils. But while the poor are cared for, the higher classes must not be neglected. Music must be efficiently taught in all our large public and middle-class schools for boys; and in girls' schools, where the pianoforte has always formed a subject of in- struction, the system must be altered materially from that hitherto adopted. In the place of the dull mechanical drudgery which the pupil now passes through and which can only render her tolerably proficient as far as the mere digital exercise on the keyboard is concerned, music must be taught as other subjects are taught, and “the reason why” must form an element in the teaching In a word, the art and not the instrument must form the basis of the lesson, and the pupil in learning to play must also learn the language as well as the mere notes. The every-day conversation in our drawing rooms, and the style of music there supplied, prove that there is an immediate need of reform in this respect, and one of the most practical methods of imparting a knowledge of first principles is to bring up every child in the practice of sight-singing, as when this is satis- factorily and soundly taught, everything else will follow. Much also may be done by our composers, our concert-givers, and our artistes. Let them remember that they owe a duty to art as well as to their pockets, and as a good painter would decline to place his name on a carelessly executed picture which would    ## p. 66 (#174) #############################################  66 Industrial Results of Photography. tarnish his reputation, so let the song-writers, the conductors, and the vocalists remember that they have a very important duty to fulfil, and that they can to a great extent guide the public taste. It may be true, as we believe it is, that Englishmen lack in many cases that innate power of distinguishing the true from the false in music, which is such a striking characteristic of the Germans; but there is always a tendency to ascribe to natural inferiority that which ought more truly to be laid at the door of a defective system of training. Thoroughly convinced are we that a deep love for the art exists among the English people, and we look forward with hope to the day when it will be generally culti- vated by rich and poor. Its influence can only be for good, its practice can only tend to make men better Christians and better subjects, and he who wishes well to his country can adopt no surer method of promoting her true welfare than by aiding to the utmost of his power in this truly national work. CHARLES MACKESON. INDUSTRIAL RESULTS OF PHOTOGRAPHY. ALThough the now familiar art of Photography may, to some extent, be regarded as still in its infancy, its practical influence in the realms of manufacturing industry has proved the reverse of insignificant. Forty years ago, the process of taking pictures by means of the sun's rays was regarded as little better than a beautiful scientific experiment, too costly and difficult to possess any chance of being frequently repeated. At the present time it forms the regular occupation of some thousands of individuals, not only in this country, but also on the continent, in the United States, in Canada, and in Australia ; besides affording the means of employment to yet larger numbers engaged in the many branches of manufacturing industry, which the increasing practical appli- cations of photography are continually calling into active exist- It has been estimated that at the present moment the photographic art, either directly or indirectly, provides employ- ment for at least half a million persons in various parts of the world. There are no means of verifying the correctness of this estimate, but when we reflect on the enormous extent to which photography is practised in the United States alone, where every town has its photographic studio, not to mention those of the large cities, the calculation does not seem at all excessive. The real industrial value of photography dates from the dis- covery of the collodion process in 1850. This formed the actual starting point of the art. It rendered the taking of permanent pictures comparatively easy and cheap, and caused the Daguerreo- type and Talbotype to become things of the past. In the daguerreotype process, the portraits were taken upon plates of silver, or copper coated with silver. Despite their costly character a very considerable trade arose out of the demand for these ence.    ## p. 67 (#175) #############################################  Industrial Results of Photography. 67 plates, and large numbers of persons were employed in silvering the surface of the copper, a process requiring great delicacy and care. But the leaden, death-like hue, peculiar to Daguerreo- type portraits, a defect which not even the employment of colours could wholly remove, caused a greater preference to be shown to the Talbotype, in which paper was used instead of silver. Moreover, while in the case of the Daguerreotype process the portraits were reversed, as in a looking-glass, those taken by Mr. Fox Talbot's method showed the object represented as it really appeared to the eye. This was effected by means of the picture being taken upon waxed paper, which showed the lights and shadows reversed. The picture thus obtained was called a negative. The waxed paper, or negative, was then laid upon another piece of prepared paper, and exposed to the action of light, which, passing through the transparent portions of the picture, caused them to become darkened on the second paper, the opaque portions remaining untouched. The new picture thus produced represented the lights and shadows as in nature, and was called a positive. The use of waxed paper for taking negatives has now become almost entirely superseded by the employment of glass, the surface of which is prepared especially for the purpose by one of the numerous existing modifications of the albumen, or collodion processes, according to the tastes or requirements of the photographer. În the earlier sun-pictures the want of permanency was fre- quently apparent. Not only were they costly, but they were no sooner taken than they began to fade. This was particularly noticeable in pictures produced by the Daguerreotype process, which frequently disappeared from the surface of the silvered plate, despite every precaution to protect it from injury. Nor were the Talbotype pictures much more successful. No reliance could be placed upon their stability. They might be almost perfect as pictures, but their permanency was always doubtful. They might endure for months, perhaps only for days ; but ultimately they were certain to fade. To overcome this serious obstacle long formed the great object of Mr. Fox Talbot and his fellow- labourers in the new art. The defect arose from the instability of the metallic salts employed, as explained by an experienced writer in the “Popular Science Review,\" who informs us that :- “The blacks of photographic prints on ordinary unsized paper consist of silver. To aid in the proper fixing of a photograph, or destroying its future sensitiveness to light, hyposulphate of soda in solution is employed. The action of this salt on the silver in the pores of the paper is of an extremely complex nature, and long washing is requisite to secure its removal. If not thoroughly removed, an action continues to be exerted which ultimately results in the destruction of the picture, the blacks of which are converted into a sulphide of silver. But the sulphurous gases with which the atmosphere is impregnated, joined with the complex effects produced by the albumen (with which photo- graphic paper is usully prepared), acting on the silver in a    ## p. 68 (#176) #############################################  68 Industrial Results of Photography. manner not yet clearly understood, exert a distructive influence on photography. The introduction of gold toning has mitigated this evil to a considerable extent; but an inspection of some recent pictorial productions of photographers of reputation suffices to show that it still exists, notwithstanding the known care taken by them to obviate it.” Still, the numerous improvements recently introduced into the various photographic processes have done much towards giving a permanent character to the productions of the camera. We have seen photographs, taken a few years ago, which seem as clear and fresh as when they originally left the manipulator's hands. Whether they will always remain so is a secret which time alone can reveal, but the degree of durability which can now be imparted to photographic pictures appears sufficient for all ordinary purposes. The photographic art proper is most largely employed in the production of cartes de visite and stereo- scopic views. Of the former, several millions are annually taken in this country alone. So great, indeed, is the number, that more than one Chancellor of the Exchequer is said to have considered the feasibility of materially adding to the National income, by means of a small impost on these productions of the photographer's studio. Who, in 1839, could have dreamed that the almost simultaneous discoveries of Fox Talbot and Daguerre would, within little more than a quarter of a century, not only have furnished the means of employment to many thousands of individuals, but also have suggested a new means of increas- ing the public revenue ? The popularity of the carte de visite arises from the singular clearness and sharply defined portrait characteristic of this description of photograph ; the small size of the picture employ- ing only the centre of the lens. Dr. Wynter furnishes* several interesting particulars respecting the demand for cartes de visite. He states that their sale is now scarcely a fourth of what it was when they first came into vogue. This, however, may be the case with the large metropolitan establishments, but in the provinces the rate of production appears to have suffered no decrease ; on the contrary, the number of portraits taken becomes larger each year. With regard to the sale of cartes de visite of public characters, Dr. Wynter informs us that it is still immense. Mr. Mayall, the well-known London Photo- graphic Artist, who has taken the portraits of nearly all the Royal Family, has received from Messrs. Marion, the photo- graphic picture dealers, upwards of £35,000 for cartes de visite of its various members. Indeed, the popularity of these portraits has been something wonderful. When it was known that the Princess Louise was to be wedded to the Marquis of Lorne, carte de visite portraits of the illustrious couple appeared, as if by magic, in all the photographic print shops throughout the king- dom, and speedily found their way to America and Australia. The London Stereoscopic Company sold many thousands of these * Supplement to 'Good Words,' March, 1869.    ## p. 69 (#177) #############################################  Industrial Results of Photography. 69 \" » cartes, the demand for which still exists. The portraits of favourite actresses command a very large sale, as do those of popular statesmen, but it is difficult-save in exceptional cases- to ascertain beforehand how far the carte of a new celebrity will find favour with the public. Stereoscopic views are prepared both on paper and glass, the latter, although the most expensive, being far superior, by reason of the delicacy and softness of the pictures which they afford in the stereoscope. Transparent paper views, richly coloured, also have a good sale, especially in France, where the manufacture of this description of picture seems to be better understood than in England. Stereoscopic views are divided into two classes. The first consists of representations of land- scapes, works of art, portraits, and so forth. The second class comprises what may be termed reproductions of living pictures, and illustrates the readiness with which the photographic art has been turned to account in furnishing new means of remunerative employment. Suppose, for instance, a stereoscopic view of “A Music Lesson is required. A scene is prepared, as if for a theatre; all the requisite accessories, such as pianoforte, chairs, carpets, &c., are introduced ; and the living characters, appro- priately attired, are carefully “posed.” The cost of getting up one such scene is sometimes very great, but the expense is generally covered by the sale of the pictures, as in the case of that known as “ Little Red Riding Hood,\" which became very popular. The preparation of the scenery for these stereoscopic pictures sometimes forms a distinct occupation of itself, but it is not so remunerative as it was a few years ago, when the stereo- scope was a novelty: Stereoscopic views of actual landscapes are always in demand. The list of these views is very extensive.. All the leading accessible places on the continent, in Asia, Africa, America, and Australia, have found their way into the stereoscope. We see the pyramids of Egypt, the mosques of Constantinople, the rock temples of India, the Falls of Niagara, the forests of Canada, the goldfields of Australia, the glaciers of Switzerland, the ancient cities of Italy, the lochs of Scotland, and the glens of Ireland brought before our eyes, as they actually exist. It is nature itself, and thus the educational value of Professor Wheatstone's discovery cannot be over-estimated. A few stereoscopic views of scenes in Palestine afford us a more vivid idea of the Holy Land than could be obtained from listen- ing to half a dozen lectures. The stereoscopic views, or slides, as they are more familiarly termed, are usually sold uncoloured, save in the case of representations of living pictures; these latter—as a rule—requiring a little colour, for the purpose of heightening the effect. The slides are always uniform in size, measuring 7 by 31 inches, but in France an attempt was recently made to introduce a smaller description of slide measuring 4 by 2 inches. The experiment, however, proved a failure. Photographic re-productions of celebrated pictures and en- gravings are extremely numerous, and are of every imaginable\" → [\"Royal Observatory\"/BUILDING, \"Greenwich\"/LOC, \"United Kingdom\"/LOC, \"United Kingdom\"/LOC, \"Scilly Islands\"/LOC, \"Falmouth\"/LOC, \"Plymouth\"/LOC, \"Portland\"/LOC, \"Portsmouth\"/LOC, \"Brighton\"/LOC, \"Dover\"/LOC, \"London\"/LOC, \"Yarmouth\"/LOC, \"Sunderland\"/LOC, \"Edinburgh\"/LOC, \"Glasgow\"/LOC, \"Liverpool\"/LOC, \"Pembroke\"/LOC, \"Holyhead\"/LOC, \"Dublin\"/LOC, \"Belfast\"/LOC, \"Galway\"/LOC, \"Cork\"/LOC, \"London\"/LOC, \"United Kingdom-namely\"/LOC, \"Edinburgh\"/LOC, \"Edinburgh\"/LOC, \"Great Britain\"/LOC, \"Greenwich\"/LOC, \"Ireland\"/LOC, \"Dublin\"/LOC, \"Great Britain\"/LOC, \"Greenwich\"/LOC, \"Greenwich\"/LOC, \"Greenwich\"/LOC, \"Penzance\"/LOC, \"England\"/LOC, \"Royal Academy\"/BUILDING, \"United States\"/LOC, \"Canada\"/LOC, \"Australia\"/LOC, \"United States\"/LOC, \"London\"/LOC, \"America\"/LOC, \"Australia\"/LOC, \"London\"/LOC, \"France\"/LOC, \"England\"/LOC, \"Asia\"/LOC, \"Africa\"/LOC, \"America\"/LOC, \"Australia\"/LOC, \"Egypt\"/LOC, \"Constantinople\"/LOC, \"India\"/LOC, \"Falls of Niagara\"/LOC, \"Canada\"/LOC, \"Australia\"/LOC, \"Switzerland\"/LOC, \"Italy\"/LOC, \"Scotland\"/LOC, \"Ireland\"/LOC, \"Palestine\"/LOC, \"Holy Land\"/LOC, \"France\"/LOC]"
      ]
     },
     "execution_count": 63,
     "metadata": {},
     "output_type": "execute_result"
    }
   ],
   "source": [
    "with open(\"Useful_Knowledge_Texts/Clipped_Texts/SDUK_Almanac_thermo_music_photo_1872.txt\", \"r\", encoding=\"utf-8\") as text_file_8:\n",
    "    text_8 = text_file_8.read()\n",
    "\n",
    "sentenced_8 = Sentence(text_8)\n",
    "tagger.predict(sentenced_8)\n",
    "\n",
    "sentenced_8"
   ]
  },
  {
   "cell_type": "code",
   "execution_count": 64,
   "metadata": {},
   "outputs": [
    {
     "name": "stdout",
     "output_type": "stream",
     "text": [
      "Topres Annotations List Number = 65\n"
     ]
    },
    {
     "data": {
      "text/plain": [
       "[('Royal Observatory', 'LOC'),\n",
       " ('Greenwich', 'LOC'),\n",
       " ('United Kingdom', 'LOC'),\n",
       " ('United Kingdom', 'LOC'),\n",
       " ('Scilly Islands', 'LOC'),\n",
       " ('Falmouth', 'LOC'),\n",
       " ('Plymouth', 'LOC'),\n",
       " ('Portland', 'LOC'),\n",
       " ('Portsmouth', 'LOC'),\n",
       " ('Brighton', 'LOC'),\n",
       " ('Dover', 'LOC'),\n",
       " ('London', 'LOC'),\n",
       " ('Yarmouth', 'LOC'),\n",
       " ('Sunderland', 'LOC'),\n",
       " ('Edinburgh', 'LOC'),\n",
       " ('Glasgow', 'LOC'),\n",
       " ('Liverpool', 'LOC'),\n",
       " ('Pembroke', 'LOC'),\n",
       " ('Holyhead', 'LOC'),\n",
       " ('Dublin', 'LOC'),\n",
       " ('Belfast', 'LOC'),\n",
       " ('Galway', 'LOC'),\n",
       " ('Cork', 'LOC'),\n",
       " ('London', 'LOC'),\n",
       " ('United Kingdom-namely', 'LOC'),\n",
       " ('Edinburgh', 'LOC'),\n",
       " ('Edinburgh', 'LOC'),\n",
       " ('Great Britain', 'LOC'),\n",
       " ('Greenwich', 'LOC'),\n",
       " ('Ireland', 'LOC'),\n",
       " ('Dublin', 'LOC'),\n",
       " ('Great Britain', 'LOC'),\n",
       " ('Greenwich', 'LOC'),\n",
       " ('Greenwich', 'LOC'),\n",
       " ('Greenwich', 'LOC'),\n",
       " ('Penzance', 'LOC'),\n",
       " ('England', 'LOC'),\n",
       " ('Royal Academy', 'LOC'),\n",
       " ('United States', 'LOC'),\n",
       " ('Canada', 'LOC'),\n",
       " ('Australia', 'LOC'),\n",
       " ('United States', 'LOC'),\n",
       " ('London', 'LOC'),\n",
       " ('America', 'LOC'),\n",
       " ('Australia', 'LOC'),\n",
       " ('London', 'LOC'),\n",
       " ('France', 'LOC'),\n",
       " ('England', 'LOC'),\n",
       " ('Asia', 'LOC'),\n",
       " ('Africa', 'LOC'),\n",
       " ('America', 'LOC'),\n",
       " ('Australia', 'LOC'),\n",
       " ('Egypt', 'LOC'),\n",
       " ('Constantinople', 'LOC'),\n",
       " ('India', 'LOC'),\n",
       " ('Falls of Niagara', 'LOC'),\n",
       " ('Canada', 'LOC'),\n",
       " ('Australia', 'LOC'),\n",
       " ('Switzerland', 'LOC'),\n",
       " ('Italy', 'LOC'),\n",
       " ('Scotland', 'LOC'),\n",
       " ('Ireland', 'LOC'),\n",
       " ('Palestine', 'LOC'),\n",
       " ('Holy Land', 'LOC'),\n",
       " ('France', 'LOC')]"
      ]
     },
     "execution_count": 64,
     "metadata": {},
     "output_type": "execute_result"
    }
   ],
   "source": [
    "topres_annotations_8 = get_token_tag_tuples(sentenced_8)\n",
    "print(f'Topres Annotations List Number = {len(topres_annotations_8)}')\n",
    "topres_annotations_8"
   ]
  },
  {
   "cell_type": "code",
   "execution_count": 65,
   "metadata": {},
   "outputs": [
    {
     "name": "stdout",
     "output_type": "stream",
     "text": [
      "True Positives are when hand truth matches topres model predictions\n",
      "Number of True Positives: 40 in Document 8 - British Almanac 1872\n",
      "\n",
      "True Positives By Label:\n",
      "LOC, 40 Total :  [('Pembroke', 'LOC'), ('Italy', 'LOC'), ('Holyhead', 'LOC'), ('Asia', 'LOC'), ('Glasgow', 'LOC'), ('India', 'LOC'), ('Portsmouth', 'LOC'), ('Galway', 'LOC'), ('Penzance', 'LOC'), ('Belfast', 'LOC'), ('Holy Land', 'LOC'), ('Scilly Islands', 'LOC'), ('Constantinople', 'LOC'), ('United Kingdom', 'LOC'), ('Plymouth', 'LOC'), ('England', 'LOC'), ('France', 'LOC'), ('Dublin', 'LOC'), ('Edinburgh', 'LOC'), ('Africa', 'LOC'), ('Falmouth', 'LOC'), ('Dover', 'LOC'), ('Ireland', 'LOC'), ('Australia', 'LOC'), ('Cork', 'LOC'), ('Greenwich', 'LOC'), ('Brighton', 'LOC'), ('Switzerland', 'LOC'), ('Yarmouth', 'LOC'), ('United States', 'LOC'), ('Great Britain', 'LOC'), ('Sunderland', 'LOC'), ('America', 'LOC'), ('Egypt', 'LOC'), ('Liverpool', 'LOC'), ('Portland', 'LOC'), ('Scotland', 'LOC'), ('Canada', 'LOC'), ('Palestine', 'LOC'), ('London', 'LOC')]\n",
      "\n",
      "Total True Positives:\n",
      "True Positive : ('Pembroke', 'LOC')\n",
      "True Positive : ('Italy', 'LOC')\n",
      "True Positive : ('Holyhead', 'LOC')\n",
      "True Positive : ('Asia', 'LOC')\n",
      "True Positive : ('Glasgow', 'LOC')\n",
      "True Positive : ('India', 'LOC')\n",
      "True Positive : ('Portsmouth', 'LOC')\n",
      "True Positive : ('Galway', 'LOC')\n",
      "True Positive : ('Penzance', 'LOC')\n",
      "True Positive : ('Belfast', 'LOC')\n",
      "True Positive : ('Holy Land', 'LOC')\n",
      "True Positive : ('Scilly Islands', 'LOC')\n",
      "True Positive : ('Constantinople', 'LOC')\n",
      "True Positive : ('United Kingdom', 'LOC')\n",
      "True Positive : ('Plymouth', 'LOC')\n",
      "True Positive : ('England', 'LOC')\n",
      "True Positive : ('France', 'LOC')\n",
      "True Positive : ('Dublin', 'LOC')\n",
      "True Positive : ('Edinburgh', 'LOC')\n",
      "True Positive : ('Africa', 'LOC')\n",
      "True Positive : ('Falmouth', 'LOC')\n",
      "True Positive : ('Dover', 'LOC')\n",
      "True Positive : ('Ireland', 'LOC')\n",
      "True Positive : ('Australia', 'LOC')\n",
      "True Positive : ('Cork', 'LOC')\n",
      "True Positive : ('Greenwich', 'LOC')\n",
      "True Positive : ('Brighton', 'LOC')\n",
      "True Positive : ('Switzerland', 'LOC')\n",
      "True Positive : ('Yarmouth', 'LOC')\n",
      "True Positive : ('United States', 'LOC')\n",
      "True Positive : ('Great Britain', 'LOC')\n",
      "True Positive : ('Sunderland', 'LOC')\n",
      "True Positive : ('America', 'LOC')\n",
      "True Positive : ('Egypt', 'LOC')\n",
      "True Positive : ('Liverpool', 'LOC')\n",
      "True Positive : ('Portland', 'LOC')\n",
      "True Positive : ('Scotland', 'LOC')\n",
      "True Positive : ('Canada', 'LOC')\n",
      "True Positive : ('Palestine', 'LOC')\n",
      "True Positive : ('London', 'LOC')\n"
     ]
    }
   ],
   "source": [
    "ground_truth_set_8 = set(hand_annotations_filtered_8)\n",
    "topres_predictions_set_8 = set(topres_annotations_8)\n",
    "\n",
    "true_positives_8 = ground_truth_set_8.intersection(topres_predictions_set_8)\n",
    "\n",
    "num_true_positives_8 = len(true_positives_8)\n",
    "print('True Positives are when hand truth matches topres model predictions')\n",
    "print(f\"Number of True Positives: {num_true_positives_8} in Document 8 - British Almanac 1872\")\n",
    "print()\n",
    "\n",
    "print('True Positives By Label:')\n",
    "get_reports_by_label(true_positives_8)\n",
    "print()\n",
    "print('Total True Positives:')\n",
    "\n",
    "for entity in true_positives_8:\n",
    "    print(f\"True Positive : {entity}\")"
   ]
  },
  {
   "cell_type": "code",
   "execution_count": 66,
   "metadata": {},
   "outputs": [
    {
     "name": "stdout",
     "output_type": "stream",
     "text": [
      "False Negatives are present in hand truth but not topres model predictions\n",
      "Number of False Negatives: 10 in Document 8 - British Almanac 1872\n",
      "\n",
      "False Negatives By Label:\n",
      "LOC, 10 Total :  [('glens', 'LOC'), ('forests', 'LOC'), ('provinces', 'LOC'), ('lochs', 'LOC'), ('Falls', 'LOC'), ('Niagara', 'LOC'), ('cities', 'LOC'), ('towns', 'LOC'), ('glaciers', 'LOC'), ('king - dom', 'LOC')]\n",
      "\n",
      "Total False Negatives:\n",
      "False Negative : ('glens', 'LOC')\n",
      "False Negative : ('forests', 'LOC')\n",
      "False Negative : ('provinces', 'LOC')\n",
      "False Negative : ('lochs', 'LOC')\n",
      "False Negative : ('Falls', 'LOC')\n",
      "False Negative : ('Niagara', 'LOC')\n",
      "False Negative : ('cities', 'LOC')\n",
      "False Negative : ('towns', 'LOC')\n",
      "False Negative : ('glaciers', 'LOC')\n",
      "False Negative : ('king - dom', 'LOC')\n"
     ]
    }
   ],
   "source": [
    "false_negatives_8 = ground_truth_set_8.difference(topres_predictions_set_8)\n",
    "\n",
    "num_false_negatives_8 = len(false_negatives_8)\n",
    "print('False Negatives are present in hand truth but not topres model predictions')\n",
    "print(f\"Number of False Negatives: {num_false_negatives_8} in Document 8 - British Almanac 1872\")\n",
    "print()\n",
    "\n",
    "print('False Negatives By Label:')\n",
    "get_reports_by_label(false_negatives_8)\n",
    "print()\n",
    "print('Total False Negatives:')\n",
    "\n",
    "for entity in false_negatives_8:\n",
    "    print(f\"False Negative : {entity}\")"
   ]
  },
  {
   "cell_type": "code",
   "execution_count": 67,
   "metadata": {},
   "outputs": [
    {
     "name": "stdout",
     "output_type": "stream",
     "text": [
      "False Positives are predicted by topres model but are not in hand truth\n",
      "Number of False Positives: 4 in Document 8 - British Almanac 1872\n",
      "\n",
      "False Positives By Label:\n",
      "LOC, 4 Total :  [('Royal Academy', 'LOC'), ('Royal Observatory', 'LOC'), ('United Kingdom-namely', 'LOC'), ('Falls of Niagara', 'LOC')]\n",
      "\n",
      "Total False Positives:\n",
      "False Positive : ('Royal Academy', 'LOC')\n",
      "False Positive : ('Royal Observatory', 'LOC')\n",
      "False Positive : ('United Kingdom-namely', 'LOC')\n",
      "False Positive : ('Falls of Niagara', 'LOC')\n"
     ]
    }
   ],
   "source": [
    "false_positives_8 = topres_predictions_set_8.difference(ground_truth_set_8)\n",
    "\n",
    "num_false_positives_8 = len(false_positives_8)\n",
    "print('False Positives are predicted by topres model but are not in hand truth')\n",
    "print(f\"Number of False Positives: {num_false_positives_8} in Document 8 - British Almanac 1872\")\n",
    "print()\n",
    "\n",
    "print('False Positives By Label:')\n",
    "get_reports_by_label(false_positives_8)\n",
    "print()\n",
    "print('Total False Positives:')\n",
    "\n",
    "for entity in false_positives_8:\n",
    "    print(f\"False Positive : {entity}\")"
   ]
  },
  {
   "cell_type": "code",
   "execution_count": 68,
   "metadata": {},
   "outputs": [
    {
     "name": "stdout",
     "output_type": "stream",
     "text": [
      "Evaluation Calculation Reports for Document 8 - British Almanac 1872\n",
      "\n",
      "Recall Score = 0.8\n",
      "Precision Score = 0.9090909090909091\n",
      "F1 Score = 0.8510638297872342\n"
     ]
    }
   ],
   "source": [
    "rec_calc_8 = num_true_positives_8 / (num_true_positives_8 + num_false_negatives_8)\n",
    "prec_calc_8 = num_true_positives_8 / (num_true_positives_8 + num_false_positives_8)\n",
    "f1_calc_8 = (2 * prec_calc_8 * rec_calc_8) / (prec_calc_8 + rec_calc_8)\n",
    "\n",
    "print('Evaluation Calculation Reports for Document 8 - British Almanac 1872')\n",
    "print()\n",
    "print(f'Recall Score = {rec_calc_8}')\n",
    "print(f'Precision Score = {prec_calc_8}')\n",
    "print(f'F1 Score = {f1_calc_8}')"
   ]
  },
  {
   "cell_type": "markdown",
   "metadata": {},
   "source": [
    "## Document 9 Comparison: Clipping from SDUK Penny Magazine 1833"
   ]
  },
  {
   "cell_type": "code",
   "execution_count": 69,
   "metadata": {},
   "outputs": [
    {
     "name": "stdout",
     "output_type": "stream",
     "text": [
      "Hand Annotations List Number = 79\n"
     ]
    },
    {
     "data": {
      "text/plain": [
       "[('Southern Africa', 'LOC'),\n",
       " ('Cape Colony', 'LOC'),\n",
       " ('Northern Africa', 'LOC'),\n",
       " ('South Africa', 'LOC'),\n",
       " ('Europe', 'LOC'),\n",
       " ('South Africa', 'LOC'),\n",
       " ('villages', 'LOC'),\n",
       " ('west coast', 'LOC'),\n",
       " ('lake', 'LOC'),\n",
       " ('colony', 'LOC'),\n",
       " ('lakes', 'LOC'),\n",
       " ('South Africa', 'LOC'),\n",
       " ('Scythia', 'LOC'),\n",
       " ('west', 'LOC'),\n",
       " ('heaven', 'LOC'),\n",
       " ('earth', 'LOC'),\n",
       " ('caverns', 'LOC'),\n",
       " ('SALT LAKE', 'LOC'),\n",
       " ('SOUTH AFRICA', 'LOC'),\n",
       " ('green turf', 'LOC'),\n",
       " ('straits', 'LOC'),\n",
       " ('sea', 'LOC'),\n",
       " ('Ætna', 'LOC'),\n",
       " ('Vulcan', 'LOC'),\n",
       " ('Sicily', 'LOC'),\n",
       " ('Ocean', 'LOC'),\n",
       " ('lake', 'LOC'),\n",
       " ('Etna', 'LOC'),\n",
       " ('Sicily', 'LOC'),\n",
       " ('lake', 'LOC'),\n",
       " ('Portugal', 'LOC'),\n",
       " ('Portugal', 'LOC'),\n",
       " ('France', 'LOC'),\n",
       " ('Genoa', 'LOC'),\n",
       " ('caves', 'LOC'),\n",
       " ('villages', 'LOC'),\n",
       " ('EUROPE', 'LOC'),\n",
       " ('Spain', 'LOC'),\n",
       " ('Portuguese village', 'LOC'),\n",
       " ('villages', 'LOC'),\n",
       " ('Europe', 'LOC'),\n",
       " ('Poland', 'LOC'),\n",
       " ('Portugal', 'LOC'),\n",
       " ('Spain', 'LOC'),\n",
       " ('Portugal', 'LOC'),\n",
       " ('Beira', 'LOC'),\n",
       " ('province', 'LOC'),\n",
       " ('“ Kingdom ” of Leon', 'LOC'),\n",
       " ('Spain', 'LOC'),\n",
       " ('Spain', 'LOC'),\n",
       " ('Portugal', 'LOC'),\n",
       " ('Spain', 'LOC'),\n",
       " ('Entre Douro e Minho', 'LOC'),\n",
       " ('villages', 'LOC'),\n",
       " ('parishes', 'LOC'),\n",
       " ('Oporto', 'LOC'),\n",
       " ('Lisbon', 'LOC'),\n",
       " ('Bacalhao', 'LOC'),\n",
       " ('valley of the Mondego', 'LOC'),\n",
       " ('Coimbra', 'LOC'),\n",
       " ('villages', 'LOC'),\n",
       " ('Portugal', 'LOC'),\n",
       " ('meat', 'LOC'),\n",
       " ('Portugal', 'LOC'),\n",
       " ('province', 'LOC'),\n",
       " ('Portugal', 'LOC'),\n",
       " ('London', 'LOC'),\n",
       " ('temple', 'LOC'),\n",
       " ('Athens', 'LOC'),\n",
       " ('city', 'LOC'),\n",
       " ('north', 'LOC'),\n",
       " ('west', 'LOC'),\n",
       " ('south', 'LOC'),\n",
       " ('Spain', 'LOC'),\n",
       " ('Portugal', 'LOC'),\n",
       " ('Lisbon', 'LOC'),\n",
       " ('territory', 'LOC'),\n",
       " ('Athens', 'LOC'),\n",
       " ('Athens', 'LOC')]"
      ]
     },
     "execution_count": 69,
     "metadata": {},
     "output_type": "execute_result"
    }
   ],
   "source": [
    "# Loading and Cleaning Hand Data for Document 9\n",
    "hand_annotated_data_9 = []\n",
    "with open(\"Useful_Knowledge_Annotations_iob_3/DOCUMENT-omonroe2_illinois_edu/SDUK_PennyMag_Jan5_1833.txt.tsv\", \"r\", encoding=\"utf-8\") as iob_file_9:\n",
    "    for line in iob_file_9:\n",
    "        line = line.strip()\n",
    "        if line:\n",
    "            token, label = line.split(\"\\t\")\n",
    "           \n",
    "            hand_annotated_data_9.append((token, label))\n",
    "\n",
    "hand_annotated_tagged_9 = [(token, label) for token, label in hand_annotated_data_9 if label != 'O']\n",
    "\n",
    "merged_hand_annotations_9 = merge_iob_tokens(hand_annotated_tagged_9)\n",
    "hand_annotations_filtered_9 = filter_map_tags(merged_hand_annotations_9)\n",
    "\n",
    "print(f'Hand Annotations List Number = {len(hand_annotations_filtered_9)}')\n",
    "hand_annotations_filtered_9"
   ]
  },
  {
   "cell_type": "code",
   "execution_count": 70,
   "metadata": {},
   "outputs": [
    {
     "data": {
      "text/plain": [
       "Sentence[5356]: \"THE PENNY MAGAZINE OF THE Speck Society for the Diffusion of Useful Knowledge. 49.] PUBLISHED EVERY SATURDAY. [JANUARY 5, 1833. LEOPARD HUNTING.  m Selle [Tree Leopard at Bay.] Tae leopard of Southern Africa is known among the women are not unfrequently destroyed by him. In the Cape colonists by the name of tiger; but is, in fact, the Cape Colony, where no such respect is paid him, he is real leopard, the felis jubata of naturalists. It differs shyer and much more in awe of man. But though in from the panther of Northern Africa in the form of its South Africa he seldom or never ventures to attack man- spots, in the more slender structure of its body, and in kind, except when driven to extremity (unless it be the legs not being so long in proportion to its size. some poor Hottentot child 'now and then that he finds vatching for his prey the leopard crouches on the unguarded), yet in remote places, his low, half-smo- ground, with his fore-paws. stretched out and his head thered growl is frequently heard at night, as he prowls between them, his eyes rather directed upwards. His around the cottage or the kraal, as the writer of this appearance in his wild state is exceedingly beautiful, his notice has a hundred times heard it. His purpose on inotions in the highest degree easy and graceful, and such occasions is to break into the sheep-fold, and in his agility in bounding among the rocks and woods quite this purpose he not unfrequently succeeds, in spite of amazing. Of this activity no person can have any idea the troops of fierce watch-dogs which every farmer keeps by seeing these animals in the cages in which they are to protect his flocks. usually exhibited in Europe, humbled and tamed as they The leopard, like the hyæna, is often caught in traps are by confinement and the damp cold of our climate. constructed of large stones and timber, but upon the The leopard is chiefly found in the mountainous dis- same principle as a common mouse-trap. When thus tricts of South Africa, where he preys on such of the caught, he is usually baited with dogs, in order to train antelopes as he can surprise, on young baboons, and on them to contend with him, and seldom dies without the rock badgers or rabbits. He is very much dreaded killing one or two of his canine antagonists. When by the Cape farmers also, for his ravages among the hunted in the fields, he instinctively betakes himself flocks, and among the young foals and calves in the to a tree, if one should be within reach. In this situa- breeding season. tion it is exceedingly perilous to approach within reach The leopard is often seen at night in the villages of of his spring; but at the same time, from his exposed the negroes on the west coast; and being considered a position, he becomes an easy prey to the shot of the sacred animal, is never hunted, though children and huntsman, VOL. II B    ## p. 2 (#12) ###############################################  2 (JANUARY 5, THE PENNY MAGAZINE. the savage The South African leopard, though far inferior to gigantic groves of euphorbia, extending their leafless the lion or Bengal tiger in strength and intrepidity, and arms above the far-spread forest of shrubbery. The though he usually shuns a conflict with man, is never- effect of the whole, flushed with a rosy tinge by the setting theless an exceedingly active and furious animal, and sun, was singularly striking and beautiful. when driven to desperation becomes a truly formidable I did not attempt to examine the saline incrustation antagonist. The 'Cape colonists relate many instances which, according to Mr. Barrow's account, is said to ex- of frightful and sometimes fatal encounters between tend over the whole bottom of the lake; but I tasted the the hunted leopard and his pursuers. The following is water, and found it as salt as brine. Of the various a specimen of these adventures. It occurred in 1822, theories suggested by naturalists to account for the for- when the present writer was in the interior of the colony, | mation of this and similar lakes in South Africa, that and is here given as it was related to him by an indivi- which ascribes their origin to salt springs appears the dual who knew the parties engaged in it. most probable. Two African farmers, returning from hunting the hartebeest (antilope bubalis), roused a leopard in a ASCHYLUS. mountain ravine, and immediately gave chase to him. The subject of the Prometheus Bound of Aschylus is The leopard at first endeavoured to escape by clambering one of the noblest conceptions of the Athenian drama, up a precipice; but being hotly pressed, and wounded expressed in a language that will always give delight, and by a musket-ball , he turned upon his pursuers with that excite a sympathy in every congenial breast. Prome- frantic ferocity peculiar to this animal on such emergen- | theus, himself a God, the giver of the gift of fire to mor- cies, and springing on the man who had fired at him, tals, -- the friend of man, who taught the shivering, starv- tore him from his horse to the ground, biting him at the ing wretch the useful arts of life, --is bound down by the same time on the shoulder, and tearing one of his cheeks conimand of Jupiter to the snow-clad rocks of Scythia, as severely with his claws. The other hunter seeing the a punishinent for his beneficent intentions. But though danger of his comrade, sprang from his horse and conquered, the spirit of the friend of humanity is not attempted to shoot the leopard through the head; but, subdued. Stern, unyielding, unfearing, his noble nature whether owing to trepidation, or the fear of wounding braves the cruelty of his tyrant; and, far from bending to his friend, or the quick motions of the animal, he unfor- sue for mercy, he is ready to endure till, in the full- tunately missed. The leopard, abandoning his prostrate ness of time, the decrees of fate shall be accomplished, enemy, darted with redoubled fury upon his second an- 1 and Jupiter shall yield his throne to one mightier than tagonist, and so fierce and sudden was his onset, that himself. before the boor could stab him with his hunting-knife, Old Ocean, who comes to console him in his misfor- beast struck him on the head with his claws, tunes, and offers to be the bearer of a petition to Jupiter and actually tore the scalp over his eyes. In this fright-in his favour, is answered thus : ful condition the hunter grappled with the leopard ; and, Prometheus.- \\ commend thy good intentions, and I struggling for life, they rolled together down a steep de will never cease to do so ; for in zeal thou art not lack- clivity. All this passed far more rapidly than it can be ing. But trouble not thyself, for all in vain, and all described in words. Before the man who had been first bootless to me, will thy labour be, - labour thou ever so attacked could start to his feet and seize liis gun, they much. Be quiet, and keep thyself out of harm's way; were rolling one over the other down the bank. In a for if I am wretched, I do not therefore wish to have minute or two he had reloaded his gun, and rushed for others to share my miseries. No: already I grieve ward to save the life of his friend. But it was too late. enough for the sorrows of my brother Atlas, who stands The leopard had seized the unfortunate man by the in the regions of the west, the pillar of heaven and earth, throat, and mangled him so dreadfully, that death was bearing on his shoulders no easy weight. I have seen, inevitable; and his comrade (himself severely wounded) and pitied too, the earth-born dweller in the caverns of had only the melancholy satisfaction of completing the Cilicia, the prodigious giant, hundred-head impetuous destruction of the savage beast, already exhausted with Typhon, by force subdued, who opposed all the Gods, the loss of blood from several deep wounds by the spouting forth blood with horrid mouth; and from his desperate knife of the expiring huntsman. eyes he flashed a terrific light, as if he would overturn the sovereignty of Jupiter. But Jove's sleepless bolt A SALT LAKE IN SOUTH AFRICA. descended on him—the down-rushing lightning breathing Tuus lake, which lies in the midst of an extensive plain, Struck to the innermost seat of life, his strength was re- forth flame—and beat him from his high-lown boastings. elevated considerably above the level of the sea, is of an oval form, about three miles in circumference, and has duced to ashes, and his power was destroyed by the on one side a sloping margin of green turf; on other thunder. And now he lies a withered and outstretched carcase, near the narrow straits of the sea, baked beneath parts, banks of greater elevation and abruptness are co- vered with continuous thickets of arboreous and succulent the roots of Ætna. On the suminit Vulcan sits, and plants. At the time of our visit the whole of the lake forms the glowing mass : and hence shall streams of round the margin, and a considerable portion of its fire hereafter burst, eating up with devouring mouth the entire surface, was covered with a thick rind of salt level plains of fertile Sicily * Such fury shall Typhon sprinkled over with small snow-white crystals, giving the breathe forth in warm showers of unceasing fiery hail, whole basin the aspect of a pond partially frozen and though reduced to a cinder by the bolt of Jupiter. But powdered over with hoar frost or flakes of snow. thou, Ocean, art not without experience, and wantest This not me as a teacher. Save thyself as thou best can. But wintry appearance of the lake formed a singular contrast as for me I will bear my present sufferings till the mind with the exuberant vegetation which embowered its mar- gins, where woods of beautiful evergreens and elegant of Jupiter shall relent from its wrath. Prometheus addresses the Chorus who are sympa- acacias were richly intermingled with flowering shrubs and succulent plants of lofty size and strange exotic thizing with his misfortunes. Prometheus.—Think not that I am silent through aspect,-such as the portulacaria afra (favourite food of the elephant), the tree crassula, the scarlet cotelydon, • Æschylus is here evidently alluding to an eruption of Etna, many species of the aloe, some throwing out their clus- which took place n.c. 476, some time before he went to Sicily, and is ters of flowers over the brink of the lake, others clevat- mentioned by Thucydides in the last chapter of his third book. ing their superb tiaras of blood-red blossoms to the this passage may also have been inserted afterwards. Æschylus Though the Prometheus may have been written before the eruption, height of twelve or fifteen feet; and, high over all, was horn 8.c. 525,    ## p. 3 (#13) ###############################################  1633.] 3 THE PENNY MAGAZINE. 5. The ng et JUS IS 12 nd 16- he 15 r 11 TC ik d. 201 ET 1 . 0 pride or stubbornness, but I am wasting my heart with is greatly assisted by moderate showers; but a too rainy thought, at seeing myself thus shamefully treated. Who season is injurious to the harvest. When the cane or but myself securely fixed for these new Gods their seve- stalk has attained several inches in height, the ground ral privileges ? but I say no more about this, for I should about requires to be thrown up again; and a thiril tell the tale to you who know it well. But as to the trenching is required when the plant has risen one foss , once wretched state of man, hear while I relate how I above the ground. The leaves of the Indian cors gave understanding to him who was ignorant as an serve to feed the cattle, as very little hay is made in infant, and made him the possessor of knowledge. And Portugal. I shall say this, not that I have aught for which to blame The olive crop, which is another important produce of mankind, but to show the goodwill with which I helped Portugal, is ripe in December or January. The olives them. Seeing they saw not, and hearing they heard not, are beaten off the trees with poles, and not plucked with but like the phantoms of a dream they had long jumbled the hand as in the south of France, or at Genoa and all things in utter confusion. They knew not how to Lucca; this is one reason why Portuguese oil is in- raise brick-built houses turned to receive the sun,—they ferior. Some farmers press the olives immediately, knew not the art of fashioning wood; but like ants in the others shoot them down in heaps, throwing salt on them, sunless recesses of caves, they dwelled deep-burrowing in and suffering them to ferment, by which they obtain the earth. And they knew not the signs of winter, nor more oil but of inferior quality. An absurd old privilege of flower-bringing spring, nor of fruit-bearing autumn; is mentioned by Mr. Kinsey * as still existing, by which the but they did everything without forethought, till i fidalgos or nobles, and the religious corporations, have pointed out to them the risings of the stars, and their alone the right of keeping oil-presses, so that the farmers settings, difficult to discern. And I invented for them or small proprietors must wait until they can borrow the Number, the first of arts, and the putting together use of them after the others have done. In consequence of letters, and Memory the mother of the Muses, the of this, they are obliged to keep their crops sometimes parent of all things. And I first bound animals to till May or June, when the fruit has become spoilt. The the yoke obedient to the collar; and that he might re- presses are worked by oxen, and the corn in most places lieve man from his greatest toils, I brought under the is also trodden by oxen on a temporary floor made in chariot the horse obedient to the in, an ornament of the field. luxurious wealth. And none before me invented the The houses in the Portuguese villages have a very sea-beaten, flaxen-winged chariot of the sailor. Such primitive appearance. They consist in general of the inventions, wretch as I am, I have devised for mor- ground floor only. The walls are of extreme thickness, tals; and now I have none left by which I may escape built of large rough stones, and the beams and frame- from the sorrows that I suffer. work of the roof are proportionally massive; the roof is covered with tiles. The outer walls are whitewashed, the windows are not glazed, and the shutters, which close THE LABOURERS OF EUROPE.-No. 5. badly, are not painted any more than the doors. The low- The Portuguese labourers and peasants differ consider- ness of the houses, and their dingy colour, prevent them ably in their appearance and manners from their neigh- from being discernible at a distance from among the sur- bours of Spain, and especially from the Castilians. They rounding trees and garden walls; and the traveller often have neither the pride nor the sternness of the latter. stumbles, as it were, upon a Portuguese village before he Their bearing is less solemn, their language less senten- is aware of being near one. The interior of most villages, tious, as it is also less sonorous in its sounds. Most as well as the inside of the houses, presents a scene of squa- travellers who have visited both countries, prefer the lidness and filth unequalled perhaps in any other coun- Portuguese peasant: be is more sociable, manageable, try of Europe, Poland excepted. The contrast on the and good-humoured than the Spanish.\" In Portugal,\" frontiers, between Spain and Portugal, is decidedly to says Costigan, \" the lower you descend in rank, the the advantage of the foriner. As you pass from the higher the personal character of the people rises upon Portuguese province of Beira into the Spanish province you. The higher classes are as inferior to the Spanish or “ Kingdom” of Leon, which is by no means one of ones, as the common people excel the corresponding class the most favoured divisions of Spain, the villages of the in Spain.” Mr. Link says, “The civility, the easy, gay, latter, only a few miles beyond the border, are clean, and friendly manners of the common people prepos- decent, and comfortable, compared to those of their sess a stranger in favour of the Portuguese rather than neighbours. There is also a glow of healthiness and a the Spaniards, but it is quite the reverse with the higher manly look and bearing in the Spanish villagers, very orders.\" Notwithstanding these favourable testimonies, superior to the dejected appearance and mean attire of which are grounded upon casual intercourse, we think, the others. There are, however, districts in Portugal upon the whole, the national character stands higher in which form an exception to these remarks. The fine pro- Spain, and that even the peasantry of the latter country vince of Entre Douro e Minho, with its numerous towns have in them more elements of a great and independent and villages, five hundred parishes, and a population of people than the Portuguese. The latter, however, are nearly a million of inhabitants, although the smallest in certainly very patient under privations, generally honest, extent, is the most fertile and best cultivated in the king- attached to their country, and courageous. dom, and that in which the inhabitants appear most in- The Portuguese peasant in general lives very poorly. dustrious and comfortable. This is the great country His bread is made of milho or Indian corn flour; it is for wine which is shipped at Oporto. The neighbour- sweetish to the taste, heavy, and crumbles to pieces on hood of Lisbon also presents some fine districts, as well breaking it. Bacalhao, which is a sort of salted ling or as the valley of the Mondego above Coimbra. There stockfish, sardines, which are fished in great quantities you meet with better built villages, and some pretty off the coast of Portugal, garlic, onions, lupines, a few quintas or country-houses. But a great part of the olives,—these form his common food. Wheaten bread is country is barren, rocky, or uncultivated; the fidalgos an article of luxury; meat is seldom tasted by the vil- or great landed proprietors reside in the towns, and leave lagers , Portugal, with the exception of the province of the management of their estates to ag or speculators Alemtejo, produces but little wheat and barley, less rye, who have advanced them money on the rent, and who and hardly any oats. The Indian corn is usually sown oppress the tenants. The crown lands are in a state of in March and April. When the sprout is about an inch neglect; the convent lands are better cultivated. The high, the earth round it is inoved with a hoe in order fariners are poor and cannot afford to make improve that the root may spread and acquire vigour, Its growth * Portugal illustrated in a Series of Letters.-London, 1828. 2 2 Is 1, S 9 1 B 2    ## p. 4 (#14) ###############################################  TIE PENNY MAGAZINE [JANUARY 5, THE ELGIN MARBLES. ments. They consult the aimanac for directions in and the compositions are occasionally varied by the intro- their rural labours, and sow the same sort of seed year duction of female figures whom the Centaurs are endea- after year on the same field as their fathers did before vouring to bear away. These alto-relievos are executed them. The plough and harrow are very heavy, and with great boldness and vigour. We have selected two drawn by bullocks. The Portuguese carts are remark- from the series, which are numbered from 1 to 16. able for their clumsiness. The wheels are of a solid There is no portion of the Elgin Marbles by which piece about three feet in diameter, and are fixed to the our attention is more strongly arrested, or which more axletree which moves round with them, producing a strikingly evinces the high excellence which art had at- grating noise peculiarly offensive to the ear. The car- tained at the epoch in which they were executed, than man walks by the side of the bullocks, pricking them with the sculptures which compose the exterior frieze of the his goad to urge them on. In this manner the pon-Cella of the Parthenon. This series was continued in an derous machine rolls heavily forward, jolting dreadfully on uninterrupted succession entirely round the temple. It the wretched roads which are impassable for any other sort is in very low relief, and represents the sacred proces- of vehicle. The wounded soldiers during the late war, sion which took place at the great Panathenæa, a fes- who were conveyed away in these carts after an action, tival which was celebrated every fifth year, at Athens, in sorely felt the misery of this mode of conveyance. In the honour of Minerva, the patroness of the city. Those wine districts of the Douro it requires a whole day for two sculptures which occupied the principal front of the bullocks to drag a pipe of wine six or seven miles, and temple, namely, the east, commence on the left hand of two men to preven: the cart from being overturned. the visitor as he enters the room of the Museum, then Donkeys and mules, but chiefly the former, constitute the follow those of the north, and lastly, those of the west other means of conveyance. The donkeys are fine and and south. The arrangement has been made, as nearly strong, and extremely useful to the country people. The as could be ascertained, according to the original order gentry travel in liteiras, a sort of sedan chairs carried in which they stood in the Parthenon. by two horses or mules. In that portion of the frieze which ornamented the The Portuguese peasant always goes armed with his east end of the temple are representations of divinities, cajado, a staff about seven feet long, having a heavy knob and deified heroes: Castor and Pollux, Ceres and Trip- or leaden charge at one end, which he uses with great tolemus, Jupiter and Juno, and Æsculapius and Hygeia. dexterity. It is, in truth, a formidable weapon in his hands. On the right and left of these sacred characters are trains The capote or cloak is of universal use as in Spain. of females bearing offerings to the gods. At intervals, The population of Portugal is stated by Balbi at three officers appear whose duty it was to superintend and millions and a half, of which Lisbon and its comarca or regulate the solemnity, (No. 23). These females led surrounding territory contain above half a million. the procession, both on the north and south side of the temple, and were followed by the charioteers, horsemen, victims, &c., which formed a procession up to the same BRITISH MUSEUM.-No. 9. point in two separate columns. The subjects comprised in the frieze taken from the The statues of Theseus and the Ilissus given in our north side of the temple are chiefly composed of cha- last article on the Elgin Marbles, although much dilapi- rioteers and horsemen. Some among these are consi- dated, have suffered less than most of the other figures dered pre-eminently excellent. The two groups (Nos. which ornamented the pediments of the Parthenon. The 39 and 42), given in the wood-cut, will afford a general subjects of these sculptures were, the Birth of Minerva, idea of the style and arrangement of these figures. on the eastern pediment; and on the western, the Contest | Those from the western frieze appear to be rather pre- between Minerva and Neptune for the honour of giving paring for the procession than engaged in it; and the birth to the city of Athens. The whole arrangement of subjects on the southern side are diversified by the intro- those groups may be seen in Stuart's celebrated work duction of victims, chiefly oxen, which are led on for on Athens. The figures which are in the best preserva- the purpose of sacrifice. tion, after the two above-mentioned, are those of the two These fine performances have suffered so much from goddesses (No. 94), probably Ceres and her daughter time and violence, that the visitor may not perhaps at Proserpine, and a group (No. 97) of the three Fates. a first view be struck with their extraordinary excel- This last is placed immediately opposite the door of the lence; but we are certain that no one possessing a new apartment in the Museum which is appropriated to tolerable natural taste will repeat his inspection of them those works; and the length of the passage which leads frequently, without becoming sensible of their beauties. to it affords an opportunity of viewing this group at a For the due appreciation of those works, no technical distance, sufficient to perceive and appreciate its entire acquaintance with art is necessary: they are executed in effect. When seen near at hand, there appears, in these that style of consummate mastery which discards the figures particularly, to be something small and wiry in parade of recondite knowledge, and addresses itself to the the execution of the draperies, differing essentially from spectator in the broad and general language of nature. the general breadth and largeness of style which cha- It is not only in the human figure that the profound skill racterizes the Elgin Marbles. But the sculptor's inten- of these works is evinced. When we look at the horses tion becomes apparent when the group is seen in its in the frieze, we are almost tempted to think that beau- present situation ; the figures form into the finest masses, tiful animal has never elsewhere been adequately repre- and the sharp and multiplied lines give an air of light- sented, either in sculpture or in the more tractable ma- ness and delicacy proper to female drapery. terial of painting. Even the horses of Rubens, admi- Our attention is next engaged by the Metopes, a series rable as they are, are individual; but those of the Elgin of figures in very high relief, which, alternately with the Marbles exhibit throughout the generic character of the triglyphs, ornamented the frieze of the entablature sur- animal: and it is impossible to look on the succession mounting the colonnade of the Parthenon; the subjects are of groups here represented, in every variety of action, the same throughout: the contests of the Centaurs and without feeling animated and exhilarated as if the pro- Lapithæ, or rather between the Centaurs and Athenians, cession were really passing before us. The most casual who, under Theseus, became the allies of the Lapithæ. observer must be struck with the grace and elegance of These groups exhibit great spirit and variety of action; the riders, who seem formed indeed \" to witch the world their fine contours, however, are never disfigured by vio- with noble horsemanship.” The fire and vivacity of those Jeut aud estravagant contortions. Victory seems doubtful: figures are finely contrasted with the devout and reveren- here an Athenian, and there a Centaar seems to triumph; tiul air of the females who lead the procession.\" → [\"Bay\"/LOC, \"Southern Africa\"/LOC, \"Cape Colony\"/LOC, \"Northern Africa\"/LOC, \"South Africa\"/LOC, \"Europe\"/LOC, \"South Africa\"/LOC, \"South African\"/LOC, \"South Africa\"/LOC, \"ASCHYLUS\"/LOC, \"Scythia\"/LOC, \"SOUTH AFRICA\"/LOC, \"Sicily\"/LOC, \"Etna\"/LOC, \"Sicily\"/LOC, \"Portugal\"/LOC, \"Portugal\"/LOC, \"France\"/LOC, \"Genoa\"/LOC, \"Lucca\"/LOC, \"EUROPE.\"/LOC, \"Spain\"/LOC, \"Europe\"/LOC, \"Poland\"/LOC, \"Portugal\"/LOC, \"Spain\"/LOC, \"Portugal\"/LOC, \"Beira\"/LOC, \"Leon\"/LOC, \"Spain\"/LOC, \"Spain\"/LOC, \"Portugal\"/LOC, \"Spain\"/LOC, \"Entre Douro e Minho\"/LOC, \"Oporto\"/LOC, \"Lisbon\"/LOC, \"Mondego\"/LOC, \"Coimbra\"/LOC, \"Portugal\"/LOC, \"Portugal\"/LOC, \"Portugal\"/LOC, \"London\"/LOC, \"Panathenæa\"/BUILDING, \"Athens\"/LOC, \"Douro\"/LOC, \"Spain\"/LOC, \"Portugal\"/LOC, \"Lisbon\"/LOC, \"Athens\"/LOC, \"Athens\"/LOC, \"Proserpine\"/LOC]"
      ]
     },
     "execution_count": 70,
     "metadata": {},
     "output_type": "execute_result"
    }
   ],
   "source": [
    "with open(\"Useful_Knowledge_Texts/Clipped_Texts/SDUK_PennyMag_Jan5_1833.txt\", \"r\", encoding=\"utf-8\") as text_file_9:\n",
    "    text_9 = text_file_9.read()\n",
    "\n",
    "sentenced_9 = Sentence(text_9)\n",
    "tagger.predict(sentenced_9)\n",
    "\n",
    "sentenced_9"
   ]
  },
  {
   "cell_type": "code",
   "execution_count": 71,
   "metadata": {},
   "outputs": [
    {
     "name": "stdout",
     "output_type": "stream",
     "text": [
      "Topres Annotations List Number = 51\n"
     ]
    },
    {
     "data": {
      "text/plain": [
       "[('Bay', 'LOC'),\n",
       " ('Southern Africa', 'LOC'),\n",
       " ('Cape Colony', 'LOC'),\n",
       " ('Northern Africa', 'LOC'),\n",
       " ('South Africa', 'LOC'),\n",
       " ('Europe', 'LOC'),\n",
       " ('South Africa', 'LOC'),\n",
       " ('South African', 'LOC'),\n",
       " ('South Africa', 'LOC'),\n",
       " ('ASCHYLUS', 'LOC'),\n",
       " ('Scythia', 'LOC'),\n",
       " ('SOUTH AFRICA', 'LOC'),\n",
       " ('Sicily', 'LOC'),\n",
       " ('Etna', 'LOC'),\n",
       " ('Sicily', 'LOC'),\n",
       " ('Portugal', 'LOC'),\n",
       " ('Portugal', 'LOC'),\n",
       " ('France', 'LOC'),\n",
       " ('Genoa', 'LOC'),\n",
       " ('Lucca', 'LOC'),\n",
       " ('EUROPE.', 'LOC'),\n",
       " ('Spain', 'LOC'),\n",
       " ('Europe', 'LOC'),\n",
       " ('Poland', 'LOC'),\n",
       " ('Portugal', 'LOC'),\n",
       " ('Spain', 'LOC'),\n",
       " ('Portugal', 'LOC'),\n",
       " ('Beira', 'LOC'),\n",
       " ('Leon', 'LOC'),\n",
       " ('Spain', 'LOC'),\n",
       " ('Spain', 'LOC'),\n",
       " ('Portugal', 'LOC'),\n",
       " ('Spain', 'LOC'),\n",
       " ('Entre Douro e Minho', 'LOC'),\n",
       " ('Oporto', 'LOC'),\n",
       " ('Lisbon', 'LOC'),\n",
       " ('Mondego', 'LOC'),\n",
       " ('Coimbra', 'LOC'),\n",
       " ('Portugal', 'LOC'),\n",
       " ('Portugal', 'LOC'),\n",
       " ('Portugal', 'LOC'),\n",
       " ('London', 'LOC'),\n",
       " ('Panathenæa', 'LOC'),\n",
       " ('Athens', 'LOC'),\n",
       " ('Douro', 'LOC'),\n",
       " ('Spain', 'LOC'),\n",
       " ('Portugal', 'LOC'),\n",
       " ('Lisbon', 'LOC'),\n",
       " ('Athens', 'LOC'),\n",
       " ('Athens', 'LOC'),\n",
       " ('Proserpine', 'LOC')]"
      ]
     },
     "execution_count": 71,
     "metadata": {},
     "output_type": "execute_result"
    }
   ],
   "source": [
    "topres_annotations_9 = get_token_tag_tuples(sentenced_9)\n",
    "print(f'Topres Annotations List Number = {len(topres_annotations_9)}')\n",
    "topres_annotations_9"
   ]
  },
  {
   "cell_type": "code",
   "execution_count": 72,
   "metadata": {},
   "outputs": [
    {
     "name": "stdout",
     "output_type": "stream",
     "text": [
      "True Positives are when hand truth matches topres model predictions\n",
      "Number of True Positives: 21 in Document 9 - Penny Magazine 1833\n",
      "\n",
      "True Positives By Label:\n",
      "LOC, 21 Total :  [('Sicily', 'LOC'), ('Beira', 'LOC'), ('Genoa', 'LOC'), ('Entre Douro e Minho', 'LOC'), ('Athens', 'LOC'), ('Scythia', 'LOC'), ('France', 'LOC'), ('Portugal', 'LOC'), ('Oporto', 'LOC'), ('Poland', 'LOC'), ('Etna', 'LOC'), ('Northern Africa', 'LOC'), ('Coimbra', 'LOC'), ('SOUTH AFRICA', 'LOC'), ('Spain', 'LOC'), ('South Africa', 'LOC'), ('Southern Africa', 'LOC'), ('Lisbon', 'LOC'), ('Europe', 'LOC'), ('Cape Colony', 'LOC'), ('London', 'LOC')]\n",
      "\n",
      "Total True Positives:\n",
      "True Positive : ('Sicily', 'LOC')\n",
      "True Positive : ('Beira', 'LOC')\n",
      "True Positive : ('Genoa', 'LOC')\n",
      "True Positive : ('Entre Douro e Minho', 'LOC')\n",
      "True Positive : ('Athens', 'LOC')\n",
      "True Positive : ('Scythia', 'LOC')\n",
      "True Positive : ('France', 'LOC')\n",
      "True Positive : ('Portugal', 'LOC')\n",
      "True Positive : ('Oporto', 'LOC')\n",
      "True Positive : ('Poland', 'LOC')\n",
      "True Positive : ('Etna', 'LOC')\n",
      "True Positive : ('Northern Africa', 'LOC')\n",
      "True Positive : ('Coimbra', 'LOC')\n",
      "True Positive : ('SOUTH AFRICA', 'LOC')\n",
      "True Positive : ('Spain', 'LOC')\n",
      "True Positive : ('South Africa', 'LOC')\n",
      "True Positive : ('Southern Africa', 'LOC')\n",
      "True Positive : ('Lisbon', 'LOC')\n",
      "True Positive : ('Europe', 'LOC')\n",
      "True Positive : ('Cape Colony', 'LOC')\n",
      "True Positive : ('London', 'LOC')\n"
     ]
    }
   ],
   "source": [
    "ground_truth_set_9 = set(hand_annotations_filtered_9)\n",
    "topres_predictions_set_9 = set(topres_annotations_9)\n",
    "\n",
    "true_positives_9 = ground_truth_set_9.intersection(topres_predictions_set_9)\n",
    "\n",
    "num_true_positives_9 = len(true_positives_9)\n",
    "print('True Positives are when hand truth matches topres model predictions')\n",
    "print(f\"Number of True Positives: {num_true_positives_9} in Document 9 - Penny Magazine 1833\")\n",
    "print()\n",
    "\n",
    "print('True Positives By Label:')\n",
    "get_reports_by_label(true_positives_9)\n",
    "print()\n",
    "print('Total True Positives:')\n",
    "\n",
    "for entity in true_positives_9:\n",
    "    print(f\"True Positive : {entity}\")"
   ]
  },
  {
   "cell_type": "code",
   "execution_count": 73,
   "metadata": {},
   "outputs": [
    {
     "name": "stdout",
     "output_type": "stream",
     "text": [
      "False Negatives are present in hand truth but not topres model predictions\n",
      "Number of False Negatives: 30 in Document 9 - Penny Magazine 1833\n",
      "\n",
      "False Negatives By Label:\n",
      "LOC, 30 Total :  [('Bacalhao', 'LOC'), ('heaven', 'LOC'), ('west', 'LOC'), ('valley of the Mondego', 'LOC'), ('colony', 'LOC'), ('parishes', 'LOC'), ('meat', 'LOC'), ('province', 'LOC'), ('Ocean', 'LOC'), ('straits', 'LOC'), ('earth', 'LOC'), ('north', 'LOC'), ('territory', 'LOC'), ('Vulcan', 'LOC'), ('“ Kingdom ” of Leon', 'LOC'), ('Portuguese village', 'LOC'), ('villages', 'LOC'), ('caves', 'LOC'), ('lakes', 'LOC'), ('caverns', 'LOC'), ('EUROPE', 'LOC'), ('sea', 'LOC'), ('city', 'LOC'), ('green turf', 'LOC'), ('SALT LAKE', 'LOC'), ('Ætna', 'LOC'), ('lake', 'LOC'), ('temple', 'LOC'), ('west coast', 'LOC'), ('south', 'LOC')]\n",
      "\n",
      "Total False Negatives:\n",
      "False Negative : ('Bacalhao', 'LOC')\n",
      "False Negative : ('heaven', 'LOC')\n",
      "False Negative : ('west', 'LOC')\n",
      "False Negative : ('valley of the Mondego', 'LOC')\n",
      "False Negative : ('colony', 'LOC')\n",
      "False Negative : ('parishes', 'LOC')\n",
      "False Negative : ('meat', 'LOC')\n",
      "False Negative : ('province', 'LOC')\n",
      "False Negative : ('Ocean', 'LOC')\n",
      "False Negative : ('straits', 'LOC')\n",
      "False Negative : ('earth', 'LOC')\n",
      "False Negative : ('north', 'LOC')\n",
      "False Negative : ('territory', 'LOC')\n",
      "False Negative : ('Vulcan', 'LOC')\n",
      "False Negative : ('“ Kingdom ” of Leon', 'LOC')\n",
      "False Negative : ('Portuguese village', 'LOC')\n",
      "False Negative : ('villages', 'LOC')\n",
      "False Negative : ('caves', 'LOC')\n",
      "False Negative : ('lakes', 'LOC')\n",
      "False Negative : ('caverns', 'LOC')\n",
      "False Negative : ('EUROPE', 'LOC')\n",
      "False Negative : ('sea', 'LOC')\n",
      "False Negative : ('city', 'LOC')\n",
      "False Negative : ('green turf', 'LOC')\n",
      "False Negative : ('SALT LAKE', 'LOC')\n",
      "False Negative : ('Ætna', 'LOC')\n",
      "False Negative : ('lake', 'LOC')\n",
      "False Negative : ('temple', 'LOC')\n",
      "False Negative : ('west coast', 'LOC')\n",
      "False Negative : ('south', 'LOC')\n"
     ]
    }
   ],
   "source": [
    "false_negatives_9 = ground_truth_set_9.difference(topres_predictions_set_9)\n",
    "\n",
    "num_false_negatives_9 = len(false_negatives_9)\n",
    "print('False Negatives are present in hand truth but not topres model predictions')\n",
    "print(f\"Number of False Negatives: {num_false_negatives_9} in Document 9 - Penny Magazine 1833\")\n",
    "print()\n",
    "\n",
    "print('False Negatives By Label:')\n",
    "get_reports_by_label(false_negatives_9)\n",
    "print()\n",
    "print('Total False Negatives:')\n",
    "\n",
    "for entity in false_negatives_9:\n",
    "    print(f\"False Negative : {entity}\")"
   ]
  },
  {
   "cell_type": "code",
   "execution_count": 74,
   "metadata": {},
   "outputs": [
    {
     "name": "stdout",
     "output_type": "stream",
     "text": [
      "False Positives are predicted by topres model but are not in hand truth\n",
      "Number of False Positives: 10 in Document 9 - Penny Magazine 1833\n",
      "\n",
      "False Positives By Label:\n",
      "LOC, 10 Total :  [('Lucca', 'LOC'), ('Proserpine', 'LOC'), ('EUROPE.', 'LOC'), ('Leon', 'LOC'), ('Bay', 'LOC'), ('ASCHYLUS', 'LOC'), ('Mondego', 'LOC'), ('Panathenæa', 'LOC'), ('Douro', 'LOC'), ('South African', 'LOC')]\n",
      "\n",
      "Total False Positives:\n",
      "False Positive : ('Lucca', 'LOC')\n",
      "False Positive : ('Proserpine', 'LOC')\n",
      "False Positive : ('EUROPE.', 'LOC')\n",
      "False Positive : ('Leon', 'LOC')\n",
      "False Positive : ('Bay', 'LOC')\n",
      "False Positive : ('ASCHYLUS', 'LOC')\n",
      "False Positive : ('Mondego', 'LOC')\n",
      "False Positive : ('Panathenæa', 'LOC')\n",
      "False Positive : ('Douro', 'LOC')\n",
      "False Positive : ('South African', 'LOC')\n"
     ]
    }
   ],
   "source": [
    "false_positives_9 = topres_predictions_set_9.difference(ground_truth_set_9)\n",
    "\n",
    "num_false_positives_9 = len(false_positives_9)\n",
    "print('False Positives are predicted by topres model but are not in hand truth')\n",
    "print(f\"Number of False Positives: {num_false_positives_9} in Document 9 - Penny Magazine 1833\")\n",
    "print()\n",
    "\n",
    "print('False Positives By Label:')\n",
    "get_reports_by_label(false_positives_9)\n",
    "print()\n",
    "print('Total False Positives:')\n",
    "\n",
    "for entity in false_positives_9:\n",
    "    print(f\"False Positive : {entity}\")"
   ]
  },
  {
   "cell_type": "code",
   "execution_count": 75,
   "metadata": {},
   "outputs": [
    {
     "name": "stdout",
     "output_type": "stream",
     "text": [
      "Evaluation Calculation Reports for Document 9 - Penny Magazine 1833\n",
      "\n",
      "Recall Score = 0.4117647058823529\n",
      "Precision Score = 0.6774193548387096\n",
      "F1 Score = 0.5121951219512195\n"
     ]
    }
   ],
   "source": [
    "rec_calc_9 = num_true_positives_9 / (num_true_positives_9 + num_false_negatives_9)\n",
    "prec_calc_9 = num_true_positives_9 / (num_true_positives_9 + num_false_positives_9)\n",
    "f1_calc_9 = (2 * prec_calc_9 * rec_calc_9) / (prec_calc_9 + rec_calc_9)\n",
    "\n",
    "print('Evaluation Calculation Reports for Document 9 - Penny Magazine 1833')\n",
    "print()\n",
    "print(f'Recall Score = {rec_calc_9}')\n",
    "print(f'Precision Score = {prec_calc_9}')\n",
    "print(f'F1 Score = {f1_calc_9}')"
   ]
  },
  {
   "cell_type": "markdown",
   "metadata": {},
   "source": [
    "## Document 10 Comparison: Clipping from SDUK Penny Magazine 1832\n"
   ]
  },
  {
   "cell_type": "code",
   "execution_count": 76,
   "metadata": {},
   "outputs": [
    {
     "name": "stdout",
     "output_type": "stream",
     "text": [
      "Hand Annotations List Number = 81\n"
     ]
    },
    {
     "data": {
      "text/plain": [
       "[('London', 'LOC'),\n",
       " ('London', 'LOC'),\n",
       " ('CHARING CROSS', 'LOC'),\n",
       " ('England', 'LOC'),\n",
       " ('Paddington', 'LOC'),\n",
       " ('Bank', 'LOC'),\n",
       " ('General Post - Office', 'LOC'),\n",
       " ('Edinburgh', 'LOC'),\n",
       " ('village', 'LOC'),\n",
       " ('London', 'LOC'),\n",
       " ('Westminster Abbey', 'LOC'),\n",
       " ('Charing Cross', 'LOC'),\n",
       " ('Hampstead', 'LOC'),\n",
       " ('Highgate', 'LOC'),\n",
       " ('Mews', 'LOC'),\n",
       " ('Hay - market', 'LOC'),\n",
       " (\"St . Martin 's lane\", 'LOC'),\n",
       " ('Mews', 'LOC'),\n",
       " (\"St . Martin 's church\", 'LOC'),\n",
       " (\"St . Giles 's\", 'LOC'),\n",
       " ('Holborn', 'LOC'),\n",
       " ('the Strand', 'LOC'),\n",
       " (\"St . Martin 's lane\", 'LOC'),\n",
       " ('the Abbey', 'LOC'),\n",
       " ('Charing Cross', 'LOC'),\n",
       " ('St . Catherine', 'LOC'),\n",
       " ('Charing Cross', 'LOC'),\n",
       " ('Northampton House', 'LOC'),\n",
       " ('Northumber', 'LOC'),\n",
       " ('Charing Cross', 'LOC'),\n",
       " ('River', 'LOC'),\n",
       " ('island', 'LOC'),\n",
       " ('Wales', 'LOC'),\n",
       " ('Hobart Town', 'LOC'),\n",
       " (\"Van Diemen 's Land\", 'LOC'),\n",
       " ('New South Wales', 'LOC'),\n",
       " (\"Van Diemen 's Land\", 'LOC'),\n",
       " ('distant shores', 'LOC'),\n",
       " ('Wales', 'LOC'),\n",
       " ('England', 'LOC'),\n",
       " ('countries', 'LOC'),\n",
       " ('countries', 'LOC'),\n",
       " ('Port Jackson', 'LOC'),\n",
       " ('country', 'LOC'),\n",
       " ('colony', 'LOC'),\n",
       " ('woods', 'LOC'),\n",
       " (\"Van Diemen 's Land\", 'LOC'),\n",
       " ('India', 'LOC'),\n",
       " ('colony', 'LOC'),\n",
       " ('island', 'LOC'),\n",
       " ('England', 'LOC'),\n",
       " (\"Van Diemen 's Land\", 'LOC'),\n",
       " ('capital', 'LOC'),\n",
       " ('Hobart Town', 'LOC'),\n",
       " ('Hobart Town', 'LOC'),\n",
       " ('The Colony', 'LOC'),\n",
       " (\"Van Diemen 's Land\", 'LOC'),\n",
       " ('New South Wales', 'LOC'),\n",
       " ('England', 'LOC'),\n",
       " ('island', 'LOC'),\n",
       " ('Great Britain', 'LOC'),\n",
       " ('colony', 'LOC'),\n",
       " ('Great Britain', 'LOC'),\n",
       " ('England', 'LOC'),\n",
       " ('colony', 'LOC'),\n",
       " ('country', 'LOC'),\n",
       " ('Italy', 'LOC'),\n",
       " ('colony', 'LOC'),\n",
       " ('England', 'LOC'),\n",
       " (\"Van Diemen 's Land\", 'LOC'),\n",
       " ('colony', 'LOC'),\n",
       " ('colony', 'LOC'),\n",
       " ('London', 'LOC'),\n",
       " ('Marebone', 'LOC'),\n",
       " ('England', 'LOC'),\n",
       " ('Tothill - fields', 'LOC'),\n",
       " ('America', 'LOC'),\n",
       " ('England', 'LOC'),\n",
       " ('Netherlands', 'LOC'),\n",
       " ('England', 'LOC'),\n",
       " ('forest', 'LOC')]"
      ]
     },
     "execution_count": 76,
     "metadata": {},
     "output_type": "execute_result"
    }
   ],
   "source": [
    "# Loading and Cleaning Hand Data for Document 10\n",
    "hand_annotated_data_10 = []\n",
    "with open(\"Useful_Knowledge_Annotations_iob_3/DOCUMENT-omonroe2_illinois_edu/SDUK_PennyMag_Mar31_1832.txt.tsv\", \"r\", encoding=\"utf-8\") as iob_file_10:\n",
    "    for line in iob_file_10:\n",
    "        line = line.strip()\n",
    "        if line:\n",
    "            token, label = line.split(\"\\t\")\n",
    "           \n",
    "            hand_annotated_data_10.append((token, label))\n",
    "\n",
    "hand_annotated_tagged_10 = [(token, label) for token, label in hand_annotated_data_10 if label != 'O']\n",
    "\n",
    "merged_hand_annotations_10 = merge_iob_tokens(hand_annotated_tagged_10)\n",
    "hand_annotations_filtered_10 = filter_map_tags(merged_hand_annotations_10)\n",
    "\n",
    "print(f'Hand Annotations List Number = {len(hand_annotations_filtered_10)}')\n",
    "hand_annotations_filtered_10"
   ]
  },
  {
   "cell_type": "code",
   "execution_count": 77,
   "metadata": {},
   "outputs": [
    {
     "data": {
      "text/plain": [
       "Sentence[4538]: \"## p. 1 (#15) ###############################################  THE PENNY MAGAZINE OF THE Society for the Diffusion of Useful Knowledge. 6 1.] PUBLISHED EVERY SATURDAY. [MARCH 31, 1832. READING FOR ALL. events, can only be corrected by the diffusion of sound In a book upon the Poor, published in 1673, called knowledge. Whatever tends to enlarge the range of • The Grand Concern of England explained,' we find observation, to add to the store of facts, to awaken the the following singular proposal :-\" that the multitude reason, and to lead the imagination into agreeable and of stage-coaches and caravans, now travelling upon the innocent trains of thought, may assist in the establish- roads, may all , or most of them, be suppressed, especially ment of a sincere and ardent desire for information; and those within forty, fifty, or sixty miles of London.” The in this point of view our little Miscellany may prepare evil of the stage-coaches is somewhat difficult to be per- the way for the reception of more elaborate and precise ceived at the present day; but this ingenious author had knowledge, and be as the small optic-glass called “the no doubt whatever on the matter,\" for,” says he, “ will finder,” which is placed by the side of a large telescope, any man keep a horse for himself and another for his to enable the observer to discover the star which is after- man, all the year, for to ride one or two journies, that at wards to be carefully examined by the more perfect in- pleasure, when he hath occasion, can step to any place strument where his business lies, for two, three, or four shillings, if within twenty miles of London, and so proportionably CHARING CROSS. into any part of England ?\" This place has been recently We laugh at the lamentation over the evil of stage- greatly improved by clearing coaches, because we daily see or experience the benefits away decaying houses, and en- of the thousands of public conveyances carrying forward larging the space for the public the personal intercourse of a busy population, and equally convenience, and for the display useful wbether they run from Paddington to the Bank, of newly-erected handsome build- or from the General Post-Office to Edinburgh. Some, ings. It derives its name from however, who acknowledge the fallacy of putting down having been anciently a village long and short stages, that horses may be kept all the detached from London, called year,\" for to ride one or two journies,\" may fall into the Charing, and from a stately very same mistake with regard to knowledge that was Cross erected there by order of thus applied to communication. They may desire to Edward I., to commemorate his retain a monopoly of literature for those who can buy affection for Eleanor, his deceased expensive books; they may think a five-guinea quarto queen. The cross occupied the (like the horse for one or two journies) a public benefit, last spot on which her body rested and look upon a shilling duodecimo to be used by every in its progress to sepulture in one “ at pleasure, when he hath occasion,” (like the stage- Westminster Abbey. The other coach,) as'a public evil. resting-places of her sumptuous What the stage-coach has become to the middle classes, funeral were dignified by similar we hope our Penny Magazine will be to all classes, edifices. a universal convenience and enjoyment. The Society Two centuries and a half ago, for the Diffusion of Useful Knowledge have considered it Charing Cross was within bow- proper to commence this publication, from the belief that shot of the open country, all the many persons, whose time and whose means are equally way to Hampstead and Highgate. North of the Cross limited, may be induced to purchase and to read it. there were only a few houses in front of the Mews, where The various works already published by the Society are the King's falcons were kept. The Hay-market was a principally adapted to diligent readers,—to those who are country road, with hedges on each side, running between anxiously desirous to obtain knowledge in a condensed, pastures. St. Martin's lane was bounded on the west and, in inost cases, systematic form. But there are a side by the high walls of the Mews, and on the other side very great number of persons who can spare half an hour by a few houses and by old St. Martin's church, where for the reading of a newspaper, who are sometimes disin- the present church stands. From these buildings it was clined to open a book. For these we shall endeavour to a quiet country lane, leading to St. Giles's, then a pleasant prepare a useful and entertaining Weekly Magazine, village, situated among fine trees. Holborn was a mere that may be taken up and laid down without requiring road between open meadow-land, with a green hedge on any considerable effort; and that may tend to fix the the north side. In the Strand, opposite to St. Martin's lane, mind upon calıner, and, it may be purer subjects of stood the hospital and gardens of St. Mary Rouncival, a thought than the violence of party discussion, or the sti- religious establishment founded and endowed by William mulating details of crime and suffering. We have, how. Earl of Pembroke, in the reign of Henry III. In the ever, no expectation of superseding the newspaper, and middle of the road leading to the Abbey, and opposite to no desire to supersede it. We hope only to share some Charing Cross, stood a hermitage and chapel dedicated portion of the attention which is now almost exclusively to St. Catherine. bestowed upon \"the folio of four pages,\" by those who Charing Cross is represented in the above engraving. read little and seldom. We consider it the duty of every It was of an octagonal form and built of stone, and in man to make himself acquainted with the events that are an upper stage contained eight figures. In 1643 it was passing in the world, - with the progress of legislation, and pulled down and destroyed by the populace, in their zeal the administration of the laws; for every man is deeply against superstitious edifices. Upon the ground of similar interested in all the great questions of government. zeal, Henry VIII. suppressed the religious houses of the Every man, however, may not be qualified to understand kingdom,and seized their estates and revenues to his own them; but the more he knows, the less hasty and the use : the hospital of St. Mary Rouncival was included less violent will be his opinions. The false judgments in this fate. On its ancient site stands the palace of the which are sometimes formed by the people upon public Duke of Northumberland. It was built in the reign of PL. I. B - a  :    ## p. 2 (#16) ###############################################  THE PENNY MAGAZINE, [MARCH 81, a a James I. by Henry Howard, Earl of Northampton, and what the place has since hecome, will be of opinion that during his life was called Northampton House. In no difficulties at the outset of colonization are enough to 1642 it came to Algernon, Earl of Northumberland, by deter adventurers from steadily pursuing their object. narriage, and since then has been called Northumber- For the first three years, the inhabitants being wholly and House. dependent upon foreign supplies for the commonest arti- The exact spot upon which Charing Cross stood is cles of food, were occasionally reduced to great straits ; occupied by an equestrian statue of Charles I. in bronze, and, accordingly, we hear of eighteen pence per pound executed in 1633 by Le Seur, for the Earl of Arundel. having been readily given for kangaroo flesh, and that During the civil wars it fell into the hands of the Parlia- even sea-weed, or any other vegetable substance that ment, by whom it was ordered to be sold and broken up. could be eaten, was eagerly sought after. But man is The purchaser, John River, a brazier, produced some always the better for being thrown upon his own re- pieces of broken brass, in token of his having complied sources. After a time, it was discovered that the colony with the conditions of sale ; and he so d to the cavaliers itself, if the land were cultivated, possessed that which the handles of knives and forks as made from the statue : would supersede the necessity of seeking elsewhere for River deceived both the Parliament and the loyalists; food; and, although the first attempts at husbandry were for he had buried the statue unmutilated. At the restora- merely made with the hoe and spade, enough was ascer- tion of Charles II. he dug it up, and sold it to the tained by them to bid the colonists go on and prosper.\" Government ; and Grinlin Gibbon executed a stone No sheep or cattle were imported till three years after the pedestal, seventeen feet high, upon which it was placed settlement of the island. For some time after this, in- and still remains. It has been customary on the 29th deed, the colony was looked upon merely as a place of of May, the anniversary of the Restoration, to dress the punishment for persons convicted of crimes in New South statue with oaken boughs. Wales, numbers of whom accordingly continued to be . sent to it every year. Governor Collins died in 1810; and in 1813 Lieutenant-Colonel Davey arrived as his VAN DIEMEN'S LAND. successor. From about this time the colony began to be consi- We have before us an Almanac for 1831, published in dered in a new light. The population consisted no Hobart Town, the capital of Van Diemen's Land. It is longer merely of the convicts and the garrison ; but, a matter of agreeable wonder to find an Almanac pub- besides many persons who, having been originally crown lished in, and for the use of, a country, which even at so prisoners, had obtained their freedom by servitude or late a date as the beginning of the present century (within indulgence, embraced a considerable number of settlers thirty years), and indeed for some years afterwards, was who had arrived in successive small parties from the inhabited merely by a few thousands of the most ignorant neighbouring colony of New South Wales. Hitherto and destitute savages on the face of the earth. And now the only places with which Van Diemen's Land was we find established on those distant shores a community allowed to hold any communication, had been New South so far advanced in social refinement as to have already Wales and England : that restriction was now done an almanac of its own; one, too, in many respects as away with, and the two colonies were placed, in respect well executed as any production of the same kind to be to foreign commerce, on precisely the same footing. In found in older countries, and much better than some 1816 the numbers of the community and the importance that still disgrace the most civilized countries. This is of its affairs had so much increased, that the government an Almanac without Astrology. thought proper to establish a newspaper, entitled The Although called an Almanac, this little volume con- Hobart Town Gazette, principally for the purpose of tains a considerable variety of information not usually promulgating proclamations and other si iices. This given in works of that description. The heavy stamp- year also was distinguished by the first exportation of duty in our own country renders it necessary that an corn from the island, a considerable quantity having been Almanac should contain little besides the Calendar, sent to Port Jackson, and likewise by the commencement Lists, and useful Tables ; and thus the Society for the of whale-fishing by the colonists, “ two of the sinews,\" Diffusion of Useful Knowledge prints a Companion to says the present writer, “ of our prosperity as a colony.\" the Almanac, which may be bought with it or not. In In 1817 Colonel Davey was succeeded in the govern- addition to a Calendar and the ordinary lists, we have ment by Colonel Sorell . The first object which engaged here a body of information respecting the past, and espe- the attention of the new Governor was the suppression cially the present state of the country, embracing almost of an evil under which the colony had for some years every particular with which either a person intending to been suffering, the ravages of the bush-rangers, as they emigrate, or the general reader, can desire to be ac- were called, or prisoners who had made their escape and quainted. roamed at large in the woods. The capture and execu- Van Diemen's Land was discovered so long ago as the tion of the principal leaders of these marauders in a year 1642, by the Dutch navigator Tasman, who gave it short time put an end, for the present, to their destruc- the name which it still bears, in honour of his employer tive inroads. Colonel Sorell then applied himself to the Anthony Van Diemen, the then governor of the Dutch improvement, in various ways, of the internal condition possessions in India. It was not, however, till the year of the colony. Amongst other important public works 1804 that the country was taken possession of by Eng- he formed a road between Hobart Town and Launces- 'and. In the early part of that year Colonel David ton, another settlement which had been made about a Collins, having been appointed Governor of the pro- hundred and twenty miles farther north. jected settlement, arrived on the island with about four About 1821 may be said to have begun the emigration hundred prisoners in charge, and a force of fifty marines from England, which has since proceeded almost with under his command. He was accompanied also by uninterrupted steadiness. The immediate consequence several gentlemen, commissioned to fill the various situa- was, “ that trade began to assume regularity, distilleries tions in the new government. They fixed their head and breweries were erected, the Van Diemen's Land quarters on the site of the present capital, to which they Bank established, St. David's church at Hobart Town gave the name of Hobart Town, after Lord Hobart, the finished and opened, and many other steps taken, then Secretary for the Colonies. “ The Colony,” pro- equally indicative of the progress the colony was ceeds the narrative before us, “ being thus founded, con- making” In 1824 a supreme court of judicature was tined to take root, although at times suffering very great established in the colony. The same year Colonel Sorell hardships. Indeed those who recollect them, and see was replaced by Colonel Arthur, the present Governor    ## p. 3 (#17) ###############################################  1832.) 3 a a Very soon after Colonel Arthur's arrival, bush-ranging changed; for privileges were then granted to hop-grounds. again broke out in a more formidable manner than ever ; Tusser, in his ' Five Hundred Points of good Husbandry,' but, by the judicious plans which he adopted for its sup-printed in 1557, thus sings the praises of this plant- pression, \" in the course of a few months,” says the pre- “The hop for his profit I thus do exalt, sent writer, “not only was tranquillity entirely restored, It strengtheneth drink and it flavoureth malt; but was placed on so firm a basis, that it is next to im- And being well-brewed long kept it will last, possible ever to be again disturbed by a similar cause.\" And drawing abide, if ye draw not too fast.” In December, 1825, Van Diemen's Land was declared in the reign of James I. the plant was not sufficiently entirely independent of New South Wales; and an exe- cultivated in England for the consumption; as there is cutive and legislative Council were appointed as advisers a statue of 1608 against the importation of spoiled hops. to the Governor, the members of both being named by In 1830 there were 46,727 acres occupied in the culti- the Crown. In 1827 the island was divided into eight vation of hops in Great Britain. police districts, each of which was placed under the charge Of barley, there are now above thirty million bushels of a stipendiary magistrate. The colony about this time annually converted into malt in Great Britain ; and more \" began to export considerably, loading several ships than eight million barrels of beer, of which four-fifths each season to England, with wool, bark, and oil.” are strong beer, are brewed yearly. This is a consump- A new evil, however, now began to assail the colony, tion, by the great body of the people, of a favourite we mean the hostility of the natives. After various beverage, which indicates a distribution of the national attempts had been made in vain to tame them, or to wealth, satisfactory by comparison with the general deter them from continuing outrages against the settlers, poverty of less advanced periods of civilization in our the Governor, at last, in September 1830, deemed it own country, and with that of less industrious nations in necessary to resort to the extreme measure of endeavour- our own day.-Vegetable Substances used for Food. ing to drive them into one corner of the island, with the intention of there enclosing them for the future. For FAIR PLAY. this purpose the whole of the inhabitants were called A NOBLEMAN resident at a castle in Italy was about to cele upon to arm themselves, and to lend their aid to the brate his marriage feast. All the elements were propitio. military. The result had not been completely successful except the ocean, which had been so boisterous as to deny at the time when the latest accounts left the country. the very necessary appendage of fish. On he rery morning In the course of the year 1828 the colony, and Hobart with a turbot so large, that it seemed to have ben created of the feast, however, a poor fisherman made in appearance, Town in particular, made a decided step in advance. for the occasion. Joy pervaded the castle, and the fisher- In 1829 a new Act of Parliament was passed for the man was ushered with his prize into the saloon, where the government of the colony, the most important provisions nobleman, in the presence of his visitors, requested him to of which were, the transference of the power of levying put what price he thought proper on the fish, and it should taxes from the Governor to the Legislative Council , and be instantly paid him. One hundred lashes, said the fisher- the extension of the authority of all the laws of England man, on my bare back, is the price of my fish, and I will not to Van Diemen's Land, as far as the circumstances of bate one strand of whip-cord on the bargain. The noble- the colony permitted. man and his guests were not a little astonished, but our Such is a brief sketch of the origin and progress hi- chapman was resolute, and remonstrance was in vain. At length the nobleman exclaimed, Well, well, the fellow is a therto of this young, but advanced and flourishing colony. humourist, and the fish we must have, but lay on lightly, Our next week's publication will contain an account of and let the price be paid in our presence. After fifty lashes its present state. had been administered, Hold, hold, exclaimed the fisherman, I have a partner in this business, and it is fitting that he should receive his share. What, are there two such mad- ANTIQUITY OF BEER. caps in the world ? exclaimed the nobleman; name him, and he shall be sent for instantly. You need not go far for him, The general drinks of the Anglo-Saxons were ale and said the fisherman, you will find him at your gate, in the mead: wine was a luxury for the great. In the Saxon shape of your own porter, who would not let me in until I Dialogues preserved in the Cotton Library in the British promised that he should have the half of whatever I received Museum, a boy, who is questioned upon his habits and for my turbot. Oh, oh, said the nobleman, bring him up the uses of things, says, in answer to the inquiry what instantly, he shall receive his stipulated moiety with the he drank—“Ale if I have it, or water if I have it not.” strictest justice. This ceremony being finished, he dis- He adds, that wine is the drink “of the elders and the charged the porter, and amply rewarded the fisherman. wise.\" Ale was sold to the people, as at this day, in Changes of Manners.--John Locke, the celebrated writer houses of entertainment; “ for a priest was forbidden by on the Human Mind and on Government, mentions in his a law to eat or drink at rea pealethetum, literally, places Journal, in the year 1679, the following as the amusements where ale was sold.” After the Norman Conquest, wine of London to be seen by a stranger :-“ At Marebone and became more commonly used ; and the vine was exten- Putney he may see several persons of quality bowling two or sively cultivated in England. The people, however, held three times a week all the summer; wrestling, in Lincoln's to the beverage of their forefathers with great pertina- Inn Field every evening all the summer ; bear and bull city; and neither the juice of the grape nor of the apple baiting, and sometimes prizes at the Bear Garden ; shooting were ever general favourites. Of a favourite wassail or in the long-bow and stob-ball, in Tothill-fields.\" drinking-song of the fifteenth century, the burden was- Animal Sagacity.-In the immense forests of North “ Bring us home good ale.” America, the moose-deer is hunted by the Indians with such \" The old ale knights of England,\" as Camden calls relentless perseverance, that all the instincts of the qual ruped are called forth for the preservation of its existence. Tanner, the sturdy yeomen of this period, knew not, however, a white man who lived thirty years in the woods, thus the ale to which hops in the next century gave both describes the extraordinary extent of the moose's vigilance: flavour and preservation. llops appear to have been -“ In the most violent storm, when the wind, and the used in the breweries of the Netherlands in the be- thunder, and the falling timber, are making the loudest and ginning of the fourteenth century. In England they most incessant roar, if a man, either with his foot or his were not used in the composition of beer till nearly two hand, breaks the smallest dry limb in the forest, the moose centuries afterwards. It has been affirmed that the will hear it; and though he does not always run, he ceases eating, and rouses his attention to all sounds. If in the planting of hops was forbidden in the reign of Henry VI. ; course of an hour, or thereabouts, the man neither moves and it is certain that Henry VIII. forbade brewers to put nor makes the least noise, the animal may beyin to feel hops and sulphur into ale. In the fifih year of Ed- again, but does not forget what he has heard, and is fo. ward VI., the royal and national taste appears to have many hours more vigilant than before.\" B 9 ! &\" → [\"England\"/LOC, \"London\"/LOC, \"London\"/LOC, \"CHARING CROSS\"/STREET, \"England\"/LOC, \"Paddington\"/LOC, \"General Post-Office\"/BUILDING, \"Edinburgh\"/LOC, \"London\"/LOC, \"Westminster Abbey\"/BUILDING, \"Charing Cross\"/BUILDING, \"Hampstead\"/STREET, \"Highgate\"/STREET, \"Cross limited\"/BUILDING, \"Mews\"/BUILDING, \"King's\"/BUILDING, \"Hay-market\"/BUILDING, \"St. Martin's lane\"/STREET, \"Mews\"/BUILDING, \"St. Martin's church\"/BUILDING, \"St. Giles's\"/BUILDING, \"Holborn\"/STREET, \"Strand\"/STREET, \"St. Martin's lane\"/STREET, \"St. Mary Rouncival\"/BUILDING, \"Abbey\"/BUILDING, \"Charing Cross\"/BUILDING, \"St. Catherine\"/BUILDING, \"Charing Cross\"/BUILDING, \"St. Mary Rouncival\"/BUILDING, \"Northampton House\"/BUILDING, \"Charing Cross\"/BUILDING, \"New South statue\"/LOC, \"Wales\"/LOC, \"VAN DIEMEN'S LAND\"/LOC, \"Hobart Town\"/LOC, \"Van Diemen's Land\"/LOC, \"New South Wales\"/LOC, \"Van Diemen's Land\"/LOC, \"New South\"/LOC, \"Wales\"/LOC, \"England\"/LOC, \"Hobart Town\"/LOC, \"Port Jackson\"/LOC, \"Van Diemen's Land\"/LOC, \"India\"/LOC, \"Eng\"/LOC, \"Hobart Town\"/LOC, \"Launces- 'and\"/LOC, \"ton\"/LOC, \"England\"/LOC, \"Van\"/LOC, \"Diemen's Land\"/BUILDING, \"St.\"/LOC, \"David's church\"/BUILDING, \"Hobart Town\"/LOC, \"Hobart Town\"/LOC, \"Van Diemen's Land\"/LOC, \"New South Wales\"/LOC, \"England\"/LOC, \"Great Britain\"/LOC, \"Great Britain\"/LOC, \"England\"/LOC, \"Italy\"/LOC, \"England\"/LOC, \"Van Diemen's Land\"/LOC, \"Cotton Library\"/BUILDING, \"London\"/LOC, \"Marebone\"/LOC, \"Putney\"/LOC, \"England\"/LOC, \"Lincoln's\"/LOC, \"Field\"/BUILDING, \"Bear Garden\"/BUILDING, \"Tothill-fields\"/STREET, \"North “\"/LOC, \"America\"/LOC, \"England\"/LOC, \"Netherlands\"/LOC, \"England\"/LOC]"
      ]
     },
     "execution_count": 77,
     "metadata": {},
     "output_type": "execute_result"
    }
   ],
   "source": [
    "with open(\"Useful_Knowledge_Texts/Clipped_Texts/SDUK_PennyMag_Mar31_1832.txt\", \"r\", encoding=\"utf-8\") as text_file_10:\n",
    "    text_10 = text_file_10.read()\n",
    "\n",
    "sentenced_10 = Sentence(text_10)\n",
    "tagger.predict(sentenced_10)\n",
    "\n",
    "sentenced_10"
   ]
  },
  {
   "cell_type": "code",
   "execution_count": 78,
   "metadata": {},
   "outputs": [
    {
     "name": "stdout",
     "output_type": "stream",
     "text": [
      "Topres Annotations List Number = 80\n"
     ]
    },
    {
     "data": {
      "text/plain": [
       "[('England', 'LOC'),\n",
       " ('London', 'LOC'),\n",
       " ('London', 'LOC'),\n",
       " ('CHARING CROSS', 'LOC'),\n",
       " ('England', 'LOC'),\n",
       " ('Paddington', 'LOC'),\n",
       " ('General Post-Office', 'LOC'),\n",
       " ('Edinburgh', 'LOC'),\n",
       " ('London', 'LOC'),\n",
       " ('Westminster Abbey', 'LOC'),\n",
       " ('Charing Cross', 'LOC'),\n",
       " ('Hampstead', 'LOC'),\n",
       " ('Highgate', 'LOC'),\n",
       " ('Cross limited', 'LOC'),\n",
       " ('Mews', 'LOC'),\n",
       " (\"King's\", 'LOC'),\n",
       " ('Hay-market', 'LOC'),\n",
       " (\"St. Martin's lane\", 'LOC'),\n",
       " ('Mews', 'LOC'),\n",
       " (\"St. Martin's church\", 'LOC'),\n",
       " (\"St. Giles's\", 'LOC'),\n",
       " ('Holborn', 'LOC'),\n",
       " ('Strand', 'LOC'),\n",
       " (\"St. Martin's lane\", 'LOC'),\n",
       " ('St. Mary Rouncival', 'LOC'),\n",
       " ('Abbey', 'LOC'),\n",
       " ('Charing Cross', 'LOC'),\n",
       " ('St. Catherine', 'LOC'),\n",
       " ('Charing Cross', 'LOC'),\n",
       " ('St. Mary Rouncival', 'LOC'),\n",
       " ('Northampton House', 'LOC'),\n",
       " ('Charing Cross', 'LOC'),\n",
       " ('New South statue', 'LOC'),\n",
       " ('Wales', 'LOC'),\n",
       " (\"VAN DIEMEN'S LAND\", 'LOC'),\n",
       " ('Hobart Town', 'LOC'),\n",
       " (\"Van Diemen's Land\", 'LOC'),\n",
       " ('New South Wales', 'LOC'),\n",
       " (\"Van Diemen's Land\", 'LOC'),\n",
       " ('New South', 'LOC'),\n",
       " ('Wales', 'LOC'),\n",
       " ('England', 'LOC'),\n",
       " ('Hobart Town', 'LOC'),\n",
       " ('Port Jackson', 'LOC'),\n",
       " (\"Van Diemen's Land\", 'LOC'),\n",
       " ('India', 'LOC'),\n",
       " ('Eng', 'LOC'),\n",
       " ('Hobart Town', 'LOC'),\n",
       " (\"Launces- 'and\", 'LOC'),\n",
       " ('ton', 'LOC'),\n",
       " ('England', 'LOC'),\n",
       " ('Van', 'LOC'),\n",
       " (\"Diemen's Land\", 'LOC'),\n",
       " ('St.', 'LOC'),\n",
       " (\"David's church\", 'LOC'),\n",
       " ('Hobart Town', 'LOC'),\n",
       " ('Hobart Town', 'LOC'),\n",
       " (\"Van Diemen's Land\", 'LOC'),\n",
       " ('New South Wales', 'LOC'),\n",
       " ('England', 'LOC'),\n",
       " ('Great Britain', 'LOC'),\n",
       " ('Great Britain', 'LOC'),\n",
       " ('England', 'LOC'),\n",
       " ('Italy', 'LOC'),\n",
       " ('England', 'LOC'),\n",
       " (\"Van Diemen's Land\", 'LOC'),\n",
       " ('Cotton Library', 'LOC'),\n",
       " ('London', 'LOC'),\n",
       " ('Marebone', 'LOC'),\n",
       " ('Putney', 'LOC'),\n",
       " ('England', 'LOC'),\n",
       " (\"Lincoln's\", 'LOC'),\n",
       " ('Field', 'LOC'),\n",
       " ('Bear Garden', 'LOC'),\n",
       " ('Tothill-fields', 'LOC'),\n",
       " ('North “', 'LOC'),\n",
       " ('America', 'LOC'),\n",
       " ('England', 'LOC'),\n",
       " ('Netherlands', 'LOC'),\n",
       " ('England', 'LOC')]"
      ]
     },
     "execution_count": 78,
     "metadata": {},
     "output_type": "execute_result"
    }
   ],
   "source": [
    "topres_annotations_10 = get_token_tag_tuples(sentenced_10)\n",
    "print(f'Topres Annotations List Number = {len(topres_annotations_10)}')\n",
    "topres_annotations_10"
   ]
  },
  {
   "cell_type": "code",
   "execution_count": 79,
   "metadata": {},
   "outputs": [
    {
     "name": "stdout",
     "output_type": "stream",
     "text": [
      "True Positives are when hand truth matches topres model predictions\n",
      "Number of True Positives: 22 in Document 10 - Penny Magazine 1832\n",
      "\n",
      "True Positives By Label:\n",
      "LOC, 22 Total :  [('Northampton House', 'LOC'), ('Italy', 'LOC'), ('Charing Cross', 'LOC'), ('Netherlands', 'LOC'), ('CHARING CROSS', 'LOC'), ('India', 'LOC'), ('Westminster Abbey', 'LOC'), ('Wales', 'LOC'), ('Holborn', 'LOC'), ('London', 'LOC'), ('England', 'LOC'), ('Hampstead', 'LOC'), ('Edinburgh', 'LOC'), ('Hobart Town', 'LOC'), ('Paddington', 'LOC'), ('Mews', 'LOC'), ('Highgate', 'LOC'), ('Port Jackson', 'LOC'), ('Marebone', 'LOC'), ('Great Britain', 'LOC'), ('America', 'LOC'), ('New South Wales', 'LOC')]\n",
      "\n",
      "Total True Positives:\n",
      "True Positive : ('Northampton House', 'LOC')\n",
      "True Positive : ('Italy', 'LOC')\n",
      "True Positive : ('Charing Cross', 'LOC')\n",
      "True Positive : ('Netherlands', 'LOC')\n",
      "True Positive : ('CHARING CROSS', 'LOC')\n",
      "True Positive : ('India', 'LOC')\n",
      "True Positive : ('Westminster Abbey', 'LOC')\n",
      "True Positive : ('Wales', 'LOC')\n",
      "True Positive : ('Holborn', 'LOC')\n",
      "True Positive : ('London', 'LOC')\n",
      "True Positive : ('England', 'LOC')\n",
      "True Positive : ('Hampstead', 'LOC')\n",
      "True Positive : ('Edinburgh', 'LOC')\n",
      "True Positive : ('Hobart Town', 'LOC')\n",
      "True Positive : ('Paddington', 'LOC')\n",
      "True Positive : ('Mews', 'LOC')\n",
      "True Positive : ('Highgate', 'LOC')\n",
      "True Positive : ('Port Jackson', 'LOC')\n",
      "True Positive : ('Marebone', 'LOC')\n",
      "True Positive : ('Great Britain', 'LOC')\n",
      "True Positive : ('America', 'LOC')\n",
      "True Positive : ('New South Wales', 'LOC')\n"
     ]
    }
   ],
   "source": [
    "ground_truth_set_10 = set(hand_annotations_filtered_10)\n",
    "topres_predictions_set_10 = set(topres_annotations_10)\n",
    "\n",
    "true_positives_10 = ground_truth_set_10.intersection(topres_predictions_set_10)\n",
    "\n",
    "num_true_positives_10 = len(true_positives_10)\n",
    "print('True Positives are when hand truth matches topres model predictions')\n",
    "print(f\"Number of True Positives: {num_true_positives_10} in Document 10 - Penny Magazine 1832\")\n",
    "print()\n",
    "\n",
    "print('True Positives By Label:')\n",
    "get_reports_by_label(true_positives_10)\n",
    "print()\n",
    "print('Total True Positives:')\n",
    "\n",
    "for entity in true_positives_10:\n",
    "    print(f\"True Positive : {entity}\")"
   ]
  },
  {
   "cell_type": "code",
   "execution_count": 80,
   "metadata": {},
   "outputs": [
    {
     "name": "stdout",
     "output_type": "stream",
     "text": [
      "False Negatives are present in hand truth but not topres model predictions\n",
      "Number of False Negatives: 23 in Document 10 - Penny Magazine 1832\n",
      "\n",
      "False Negatives By Label:\n",
      "LOC, 23 Total :  [(\"St . Giles 's\", 'LOC'), ('the Strand', 'LOC'), ('colony', 'LOC'), ('woods', 'LOC'), (\"Van Diemen 's Land\", 'LOC'), ('village', 'LOC'), ('St . Catherine', 'LOC'), ('country', 'LOC'), ('Hay - market', 'LOC'), (\"St . Martin 's lane\", 'LOC'), ('Tothill - fields', 'LOC'), ('countries', 'LOC'), ('forest', 'LOC'), ('The Colony', 'LOC'), ('Northumber', 'LOC'), (\"St . Martin 's church\", 'LOC'), ('Bank', 'LOC'), ('distant shores', 'LOC'), ('capital', 'LOC'), ('General Post - Office', 'LOC'), ('island', 'LOC'), ('the Abbey', 'LOC'), ('River', 'LOC')]\n",
      "\n",
      "Total False Negatives:\n",
      "False Negative : (\"St . Giles 's\", 'LOC')\n",
      "False Negative : ('the Strand', 'LOC')\n",
      "False Negative : ('colony', 'LOC')\n",
      "False Negative : ('woods', 'LOC')\n",
      "False Negative : (\"Van Diemen 's Land\", 'LOC')\n",
      "False Negative : ('village', 'LOC')\n",
      "False Negative : ('St . Catherine', 'LOC')\n",
      "False Negative : ('country', 'LOC')\n",
      "False Negative : ('Hay - market', 'LOC')\n",
      "False Negative : (\"St . Martin 's lane\", 'LOC')\n",
      "False Negative : ('Tothill - fields', 'LOC')\n",
      "False Negative : ('countries', 'LOC')\n",
      "False Negative : ('forest', 'LOC')\n",
      "False Negative : ('The Colony', 'LOC')\n",
      "False Negative : ('Northumber', 'LOC')\n",
      "False Negative : (\"St . Martin 's church\", 'LOC')\n",
      "False Negative : ('Bank', 'LOC')\n",
      "False Negative : ('distant shores', 'LOC')\n",
      "False Negative : ('capital', 'LOC')\n",
      "False Negative : ('General Post - Office', 'LOC')\n",
      "False Negative : ('island', 'LOC')\n",
      "False Negative : ('the Abbey', 'LOC')\n",
      "False Negative : ('River', 'LOC')\n"
     ]
    }
   ],
   "source": [
    "false_negatives_10 = ground_truth_set_10.difference(topres_predictions_set_10)\n",
    "\n",
    "num_false_negatives_10 = len(false_negatives_10)\n",
    "print('False Negatives are present in hand truth but not topres model predictions')\n",
    "print(f\"Number of False Negatives: {num_false_negatives_10} in Document 10 - Penny Magazine 1832\")\n",
    "print()\n",
    "\n",
    "print('False Negatives By Label:')\n",
    "get_reports_by_label(false_negatives_10)\n",
    "print()\n",
    "print('Total False Negatives:')\n",
    "\n",
    "for entity in false_negatives_10:\n",
    "    print(f\"False Negative : {entity}\")"
   ]
  },
  {
   "cell_type": "code",
   "execution_count": 81,
   "metadata": {},
   "outputs": [
    {
     "name": "stdout",
     "output_type": "stream",
     "text": [
      "False Positives are predicted by topres model but are not in hand truth\n",
      "Number of False Positives: 29 in Document 10 - Penny Magazine 1832\n",
      "\n",
      "False Positives By Label:\n",
      "LOC, 29 Total :  [('St.', 'LOC'), ('Cotton Library', 'LOC'), ('Field', 'LOC'), (\"Lincoln's\", 'LOC'), ('Hay-market', 'LOC'), ('New South', 'LOC'), (\"Diemen's Land\", 'LOC'), (\"David's church\", 'LOC'), (\"VAN DIEMEN'S LAND\", 'LOC'), (\"King's\", 'LOC'), ('Putney', 'LOC'), (\"St. Martin's lane\", 'LOC'), ('Abbey', 'LOC'), ('New South statue', 'LOC'), (\"St. Giles's\", 'LOC'), (\"Launces- 'and\", 'LOC'), ('Strand', 'LOC'), ('General Post-Office', 'LOC'), ('ton', 'LOC'), ('Van', 'LOC'), ('Bear Garden', 'LOC'), ('North “', 'LOC'), ('St. Mary Rouncival', 'LOC'), ('Cross limited', 'LOC'), ('Eng', 'LOC'), ('Tothill-fields', 'LOC'), ('St. Catherine', 'LOC'), (\"St. Martin's church\", 'LOC'), (\"Van Diemen's Land\", 'LOC')]\n",
      "\n",
      "Total False Positives:\n",
      "False Positive : ('St.', 'LOC')\n",
      "False Positive : ('Cotton Library', 'LOC')\n",
      "False Positive : ('Field', 'LOC')\n",
      "False Positive : (\"Lincoln's\", 'LOC')\n",
      "False Positive : ('Hay-market', 'LOC')\n",
      "False Positive : ('New South', 'LOC')\n",
      "False Positive : (\"Diemen's Land\", 'LOC')\n",
      "False Positive : (\"David's church\", 'LOC')\n",
      "False Positive : (\"VAN DIEMEN'S LAND\", 'LOC')\n",
      "False Positive : (\"King's\", 'LOC')\n",
      "False Positive : ('Putney', 'LOC')\n",
      "False Positive : (\"St. Martin's lane\", 'LOC')\n",
      "False Positive : ('Abbey', 'LOC')\n",
      "False Positive : ('New South statue', 'LOC')\n",
      "False Positive : (\"St. Giles's\", 'LOC')\n",
      "False Positive : (\"Launces- 'and\", 'LOC')\n",
      "False Positive : ('Strand', 'LOC')\n",
      "False Positive : ('General Post-Office', 'LOC')\n",
      "False Positive : ('ton', 'LOC')\n",
      "False Positive : ('Van', 'LOC')\n",
      "False Positive : ('Bear Garden', 'LOC')\n",
      "False Positive : ('North “', 'LOC')\n",
      "False Positive : ('St. Mary Rouncival', 'LOC')\n",
      "False Positive : ('Cross limited', 'LOC')\n",
      "False Positive : ('Eng', 'LOC')\n",
      "False Positive : ('Tothill-fields', 'LOC')\n",
      "False Positive : ('St. Catherine', 'LOC')\n",
      "False Positive : (\"St. Martin's church\", 'LOC')\n",
      "False Positive : (\"Van Diemen's Land\", 'LOC')\n"
     ]
    }
   ],
   "source": [
    "false_positives_10 = topres_predictions_set_10.difference(ground_truth_set_10)\n",
    "\n",
    "num_false_positives_10 = len(false_positives_10)\n",
    "print('False Positives are predicted by topres model but are not in hand truth')\n",
    "print(f\"Number of False Positives: {num_false_positives_10} in Document 10 - Penny Magazine 1832\")\n",
    "print()\n",
    "\n",
    "print('False Positives By Label:')\n",
    "get_reports_by_label(false_positives_10)\n",
    "print()\n",
    "print('Total False Positives:')\n",
    "\n",
    "for entity in false_positives_10:\n",
    "    print(f\"False Positive : {entity}\")"
   ]
  },
  {
   "cell_type": "code",
   "execution_count": 82,
   "metadata": {},
   "outputs": [
    {
     "name": "stdout",
     "output_type": "stream",
     "text": [
      "Evaluation Calculation Reports for Document 10 - Penny Magazine 1832\n",
      "\n",
      "Recall Score = 0.4888888888888889\n",
      "Precision Score = 0.43137254901960786\n",
      "F1 Score = 0.45833333333333326\n"
     ]
    }
   ],
   "source": [
    "rec_calc_10 = num_true_positives_10 / (num_true_positives_10 + num_false_negatives_10)\n",
    "prec_calc_10 = num_true_positives_10 / (num_true_positives_10 + num_false_positives_10)\n",
    "f1_calc_10 = (2 * prec_calc_10 * rec_calc_10) / (prec_calc_10 + rec_calc_10)\n",
    "\n",
    "print('Evaluation Calculation Reports for Document 10 - Penny Magazine 1832')\n",
    "print()\n",
    "print(f'Recall Score = {rec_calc_10}')\n",
    "print(f'Precision Score = {prec_calc_10}')\n",
    "print(f'F1 Score = {f1_calc_10}')"
   ]
  },
  {
   "cell_type": "markdown",
   "metadata": {},
   "source": [
    "## Final Evaluations and Calculations Across Documents\n",
    "Precision, Recall, F1, and Tags"
   ]
  },
  {
   "cell_type": "code",
   "execution_count": 83,
   "metadata": {},
   "outputs": [
    {
     "name": "stdout",
     "output_type": "stream",
     "text": [
      "Average Evaluation Reports Across All 10 Documents using the Newspaper Model\n",
      "\n",
      "Average Recall Score Across the 10 Documents = 0.5401942190160007\n",
      "Average Precision Score Across 10 Documents = 0.6263176930596286\n",
      "Average F1 Score Across 10 Documents = 0.5676701531846627\n",
      "\n",
      "I made a total of 469 Annotations and the Topres Model made a total of 412 Annotations across all 10 Document.\n"
     ]
    }
   ],
   "source": [
    "total_avg_rec_score = (rec_calc + rec_calc_2 + rec_calc_3 + rec_calc_4 + rec_calc_5 + rec_calc_6 + rec_calc_7 + rec_calc_8 + rec_calc_9 + rec_calc_10) / 10\n",
    "total_avg_prec_score = (prec_calc + prec_calc_2 + prec_calc_3 + prec_calc_4 + prec_calc_5 + prec_calc_6 + prec_calc_7 + prec_calc_8 + prec_calc_9 + prec_calc_10) / 10\n",
    "total_avg_f1_score = (f1_calc + f1_calc_2 + f1_calc_3 + f1_calc_4 + f1_calc_5 + f1_calc_6 + f1_calc_7 + f1_calc_8 + f1_calc_9 + f1_calc_10) / 10\n",
    "\n",
    "\n",
    "Total_Hand_Tags = len(hand_annotations_filtered_1) + len(hand_annotations_filtered_2) + len(hand_annotations_filtered_3) + len(hand_annotations_filtered_4) + len(hand_annotations_filtered_5) + len(hand_annotations_filtered_6) + len(hand_annotations_filtered_7) + len(hand_annotations_filtered_8) + len(hand_annotations_filtered_9) +  len(hand_annotations_filtered_10)\n",
    "\n",
    "Total_Topres_Tags = len(topres_annotations_1) + len(topres_annotations_2) + len(topres_annotations_3) + len(topres_annotations_4) + len(topres_annotations_5) + len(topres_annotations_6) + len(topres_annotations_7) + len(topres_annotations_8) + len(topres_annotations_9) + len(topres_annotations_10)\n",
    "\n",
    "print\n",
    "\n",
    "print('Average Evaluation Reports Across All 10 Documents using the Newspaper Model')\n",
    "print()\n",
    "print(f'Average Recall Score Across the 10 Documents = {total_avg_rec_score}')\n",
    "print(f'Average Precision Score Across 10 Documents = {total_avg_prec_score}')\n",
    "print(f'Average F1 Score Across 10 Documents = {total_avg_f1_score}')\n",
    "print()\n",
    "print(f'I made a total of {Total_Hand_Tags} Annotations and the Topres Model made a total of {Total_Topres_Tags} Annotations across all 10 Document.')\n",
    "#print(f'Only the annotation {true_positives} for Document 1 Matched.')"
   ]
  },
  {
   "cell_type": "code",
   "execution_count": 84,
   "metadata": {},
   "outputs": [
    {
     "name": "stdout",
     "output_type": "stream",
     "text": [
      "Total True Positives by Tag Across all 10 Documents\n",
      "True Positive are in both hand and topres annotations \n",
      "\n",
      "LOC, 152 Total :  [('Pembroke', 'LOC'), ('Beira', 'LOC'), ('Charing Cross', 'LOC'), ('Chefoo', 'LOC'), ('Genoa', 'LOC'), ('Asia', 'LOC'), ('Hongkong', 'LOC'), ('Moukden', 'LOC'), ('Crescent House', 'LOC'), ('Sorgue', 'LOC'), ('Puy de Dome', 'LOC'), ('Cevennes', 'LOC'), ('Borneo', 'LOC'), ('Plymouth', 'LOC'), ('Yokohama', 'LOC'), ('United Kingdom', 'LOC'), ('Africa', 'LOC'), ('Paddington', 'LOC'), ('Durance', 'LOC'), ('Australia', 'LOC'), ('Carwell', 'LOC'), ('Northern Africa', 'LOC'), ('Tyre', 'LOC'), ('Brighton', 'LOC'), ('Yarmouth', 'LOC'), ('United States', 'LOC'), ('EDINBURGH', 'LOC'), ('Saoue', 'LOC'), ('Nanking', 'LOC'), ('Sunderland', 'LOC'), ('Scotland', 'LOC'), ('Maine', 'LOC'), ('Bagdad', 'LOC'), ('Marne', 'LOC'), ('Northampton House', 'LOC'), ('Shantung', 'LOC'), ('Limarne', 'LOC'), ('Bordeaux', 'LOC'), ('Cambray', 'LOC'), ('Glasgow', 'LOC'), ('Formosa', 'LOC'), ('India', 'LOC'), ('Japan', 'LOC'), ('Portsmouth', 'LOC'), ('Provence', 'LOC'), ('Westminster Abbey', 'LOC'), ('Tarn', 'LOC'), ('Monaco', 'LOC'), ('New Zealand', 'LOC'), ('Bayonne', 'LOC'), ('Shensi', 'LOC'), ('Constantinople', 'LOC'), ('Madagascar', 'LOC'), ('France', 'LOC'), ('Hampstead', 'LOC'), ('Bretagne', 'LOC'), ('Mont Lozcre', 'LOC'), ('Picardy', 'LOC'), ('Hobart Town', 'LOC'), ('Maycnne', 'LOC'), ('Dover', 'LOC'), ('Mews', 'LOC'), ('Cork', 'LOC'), ('Sarthe', 'LOC'), ('Port Jackson', 'LOC'), ('Ganges', 'LOC'), ('Paris', 'LOC'), ('Penang', 'LOC'), ('Lisbon', 'LOC'), ('Cape Colony', 'LOC'), ('Isire', 'LOC'), ('Canada', 'LOC'), ('Tours', 'LOC'), ('Palestine', 'LOC'), ('Auvergne', 'LOC'), ('New South Wales', 'LOC'), ('Crest House', 'LOC'), ('Rhine', 'LOC'), ('Singapore', 'LOC'), ('Netherlands', 'LOC'), ('CHARING CROSS', 'LOC'), ('WHITEFRIARS', 'LOC'), ('Loire', 'LOC'), ('Wales', 'LOC'), ('Holy Land', 'LOC'), ('Scilly Islands', 'LOC'), ('Scythia', 'LOC'), ('Peking', 'LOC'), ('Shanghai', 'LOC'), ('Mediterranean', 'LOC'), ('Sedan', 'LOC'), ('England', 'LOC'), ('St Quentin', 'LOC'), ('Anjou', 'LOC'), ('Garonne', 'LOC'), ('Adour', 'LOC'), ('Dublin', 'LOC'), ('South Sea', 'LOC'), ('Ireland', 'LOC'), ('Highgate', 'LOC'), ('Coimbra', 'LOC'), ('Greenwich', 'LOC'), ('Daaphlny', 'LOC'), ('SOUTH AFRICA', 'LOC'), ('South Africa', 'LOC'), ('Southern Africa', 'LOC'), ('Burma', 'LOC'), ('Europe', 'LOC'), ('Normandy', 'LOC'), ('Batavia', 'LOC'), ('America', 'LOC'), ('Egypt', 'LOC'), ('Liverpool', 'LOC'), ('Sicily', 'LOC'), ('Italy', 'LOC'), ('Holyhead', 'LOC'), ('Pyrenees', 'LOC'), ('Galway', 'LOC'), ('Alsace', 'LOC'), ('Ardennes', 'LOC'), ('Oise', 'LOC'), ('Lyons', 'LOC'), ('Flanders', 'LOC'), ('Leicestershire', 'LOC'), ('Tientsin', 'LOC'), ('Seine', 'LOC'), ('Penzance', 'LOC'), ('Belfast', 'LOC'), ('Languedoc', 'LOC'), ('Entre Douro e Minho', 'LOC'), ('Athens', 'LOC'), ('Holborn', 'LOC'), ('Artuis', 'LOC'), (\"Moots d'Or\", 'LOC'), ('Portugal', 'LOC'), ('China', 'LOC'), ('Oporto', 'LOC'), ('Poland', 'LOC'), ('Edinburgh', 'LOC'), ('Etna', 'LOC'), ('Falmouth', 'LOC'), ('Ain', 'LOC'), ('Spain', 'LOC'), ('Switzerland', 'LOC'), ('Marebone', 'LOC'), ('Hankow', 'LOC'), ('Shrewsbury', 'LOC'), ('Great Britain', 'LOC'), ('Rhone', 'LOC'), ('Portland', 'LOC'), ('Orleans', 'LOC'), ('London', 'LOC')]\n"
     ]
    }
   ],
   "source": [
    "combined_tp= true_positives.union(true_positives_2).union(true_positives_3).union(true_positives_4).union(true_positives_5).union(true_positives_6).union(true_positives_7).union(true_positives_8).union(true_positives_9).union(true_positives_10)\n",
    "\n",
    "tag_lists = {}\n",
    "\n",
    "# Organize tuples into separate lists based on tags\n",
    "for token, tag in combined_tp:\n",
    "    if tag not in tag_lists:\n",
    "        tag_lists[tag] = [(token, tag)]\n",
    "    else:\n",
    "        tag_lists[tag].append((token, tag))\n",
    "\n",
    "# Convert the dictionaries to lists\n",
    "lists_by_tag = list(tag_lists.values())\n",
    "\n",
    "print('Total True Positives by Tag Across all 10 Documents')\n",
    "print('True Positive are in both hand and topres annotations ')\n",
    "print()\n",
    "# Print the lists organized by tag\n",
    "for tag_list in lists_by_tag:\n",
    "    print(f\"{tag_list[0][1]}, {len(tag_list)} Total : \", tag_list)"
   ]
  },
  {
   "cell_type": "code",
   "execution_count": 85,
   "metadata": {},
   "outputs": [
    {
     "name": "stdout",
     "output_type": "stream",
     "text": [
      "Total False Negatives by Tag Across all 10 Documents\n",
      "False Negatives are present in hand truth but not topres predictions\n",
      "\n",
      "LOC, 118 Total :  [('Capital', 'LOC'), ('Western Civilization', 'LOC'), ('Bacalhao', 'LOC'), ('west', 'LOC'), ('valley of the Mondego', 'LOC'), ('Ham', 'LOC'), ('Mandarins', 'LOC'), ('South', 'LOC'), ('woods', 'LOC'), ('meat', 'LOC'), ('Isle of France', 'LOC'), ('Orange Bower', 'LOC'), ('village', 'LOC'), ('Ocean', 'LOC'), ('St . Catherine', 'LOC'), ('straits', 'LOC'), ('Miriam', 'LOC'), ('de Coverley', 'LOC'), ('Guest - Hall', 'LOC'), ('earth', 'LOC'), ('N . E . Manchuria', 'LOC'), ('Walter', 'LOC'), ('West', 'LOC'), (\"St . Martin 's lane\", 'LOC'), ('Miss Monitor', 'LOC'), ('the inn', 'LOC'), ('emporiums of commerce', 'LOC'), ('forest', 'LOC'), ('Pacific', 'LOC'), ('villages', 'LOC'), ('lakes', 'LOC'), (\"For . taincl'leau\", 'LOC'), ('EUROPE', 'LOC'), ('Eloisa', 'LOC'), ('Northumber', 'LOC'), ('city', 'LOC'), (\"St . Martin 's church\", 'LOC'), ('Bank', 'LOC'), ('distant shores', 'LOC'), ('Liddel', 'LOC'), ('Ga - ronne', 'LOC'), ('southern provinces', 'LOC'), ('forests', 'LOC'), ('Dependencies', 'LOC'), ('Jura mountains', 'LOC'), ('United States', 'LOC'), ('temple', 'LOC'), ('Valen - ciennes', 'LOC'), ('Lilliput', 'LOC'), ('the Abbey', 'LOC'), ('mountains of Auvergne', 'LOC'), ('colonies', 'LOC'), ('Gate - house', 'LOC'), ('Rarenswood', 'LOC'), ('place of abode', 'LOC'), ('heaven', 'LOC'), ('apartment', 'LOC'), (\"St . Giles 's\", 'LOC'), ('the Strand', 'LOC'), ('colony', 'LOC'), ('lochs', 'LOC'), ('parishes', 'LOC'), (\"Van Diemen 's Land\", 'LOC'), ('province', 'LOC'), ('towns', 'LOC'), ('Dordi', 'LOC'), ('Cres - cent House', 'LOC'), ('Empire', 'LOC'), ('Benedictine convent', 'LOC'), ('country', 'LOC'), ('Celestial Empire', 'LOC'), ('cottages', 'LOC'), ('glens', 'LOC'), ('north', 'LOC'), ('Car - else', 'LOC'), ('Christian Literature Society', 'LOC'), ('territory', 'LOC'), ('Hay - market', 'LOC'), ('Falls', 'LOC'), ('Loch Katrine', 'LOC'), ('Partridge', 'LOC'), ('nation', 'LOC'), ('Vulcan', 'LOC'), ('Tothill - fields', 'LOC'), ('native land', 'LOC'), ('glaciers', 'LOC'), ('countries', 'LOC'), ('“ Kingdom ” of Leon', 'LOC'), ('Portuguese village', 'LOC'), ('caves', 'LOC'), ('provinces', 'LOC'), ('caverns', 'LOC'), ('The Colony', 'LOC'), ('Chinese Empire', 'LOC'), ('sea', 'LOC'), ('green turf', 'LOC'), ('18 Provinces', 'LOC'), ('Niagara', 'LOC'), ('SALT LAKE', 'LOC'), ('River', 'LOC'), ('Ætna', 'LOC'), ('capital', 'LOC'), ('Colonies', 'LOC'), ('king - dom', 'LOC'), ('lake', 'LOC'), ('county', 'LOC'), ('General Post - Office', 'LOC'), ('magnetic island', 'LOC'), ('East', 'LOC'), ('empire', 'LOC'), ('EDINBURGIT', 'LOC'), ('island', 'LOC'), ('land of dreams', 'LOC'), ('inn', 'LOC'), ('cities', 'LOC'), ('west coast', 'LOC'), ('1594', 'LOC'), ('south', 'LOC')]\n"
     ]
    }
   ],
   "source": [
    "combined_fn= false_negatives.union(false_negatives_2).union(false_negatives_3).union(false_negatives_4).union(false_negatives_5).union(false_negatives_6).union(false_negatives_7).union(false_negatives_8).union(false_negatives_9).union(false_negatives_10)\n",
    "\n",
    "tag_lists = {}\n",
    "\n",
    "# Organize tuples into separate lists based on tags\n",
    "for token, tag in combined_fn:\n",
    "    if tag not in tag_lists:\n",
    "        tag_lists[tag] = [(token, tag)]\n",
    "    else:\n",
    "        tag_lists[tag].append((token, tag))\n",
    "\n",
    "# Convert the dictionaries to lists\n",
    "lists_by_tag = list(tag_lists.values())\n",
    "\n",
    "print('Total False Negatives by Tag Across all 10 Documents')\n",
    "print('False Negatives are present in hand truth but not topres predictions')\n",
    "print()\n",
    "# Print the lists organized by tag\n",
    "for tag_list in lists_by_tag:\n",
    "    print(f\"{tag_list[0][1]}, {len(tag_list)} Total : \", tag_list)"
   ]
  },
  {
   "cell_type": "code",
   "execution_count": 86,
   "metadata": {},
   "outputs": [
    {
     "name": "stdout",
     "output_type": "stream",
     "text": [
      "Total False Positives by Tag Across all 10 Documents\n",
      "False Positives are predicted by toprese but are not in hand truth\n",
      "\n",
      "LOC, 101 Total :  [('Louvain', 'LOC'), ('Cotton Library', 'LOC'), ('Ann am', 'LOC'), ('N', 'LOC'), ('Lochryan', 'LOC'), ('Field', 'LOC'), ('Bay', 'LOC'), ('Border', 'LOC'), ('Valen', 'LOC'), ('Gate-house', 'LOC'), ('Chinamen', 'LOC'), ('WHITEFRIARS', 'LOC'), ('Hay-market', 'LOC'), ('Hudibras', 'LOC'), ('Isle   of France', 'LOC'), (\"David's church\", 'LOC'), ('Dordi^e', 'LOC'), ('Borneo', 'LOC'), ('Wakefield', 'LOC'), ('Putney', 'LOC'), ('Allier', 'LOC'), (\"St. Martin's lane\", 'LOC'), ('New South statue', 'LOC'), ('Jura', 'LOC'), ('ronne', 'LOC'), ('Plymouth', 'LOC'), (\"Launces- 'and\", 'LOC'), (\"For.taincl'leau\", 'LOC'), ('United Kingdom-namely', 'LOC'), ('Cental', 'LOC'), ('Royal Academy', 'LOC'), ('Manchuria', 'LOC'), ('Mount St Bernard', 'LOC'), ('General Post-Office', 'LOC'), ('ton', 'LOC'), ('Van', 'LOC'), ('Wyatt', 'LOC'), ('Carwell', 'LOC'), ('Hermitage', 'LOC'), ('North “', 'LOC'), ('Car- else', 'LOC'), ('Champagne', 'LOC'), ('Proserpine', 'LOC'), ('Toeget', 'LOC'), ('EUROPE.', 'LOC'), ('EDINBURGH', 'LOC'), ('Mondego', 'LOC'), ('Cres- cent House', 'LOC'), ('Scotland', 'LOC'), ('Guest-Hall', 'LOC'), (\"Van Diemen's Land\", 'LOC'), ('Yezdegird', 'LOC'), ('St.', 'LOC'), ('Burgundy', 'LOC'), ('Milton', 'LOC'), ('Bagdad', 'LOC'), ('Lucca', 'LOC'), ('Stirling', 'LOC'), ('Leon', 'LOC'), ('LONDON', 'LOC'), (\"Lincoln's\", 'LOC'), ('E.', 'LOC'), ('Douro', 'LOC'), ('Benedictine', 'LOC'), ('South African', 'LOC'), ('New South', 'LOC'), (\"Diemen's Land\", 'LOC'), ('Royal Observatory', 'LOC'), ('Ga', 'LOC'), ('United   States', 'LOC'), ('ASCHYLUS', 'LOC'), ('New Zealand', 'LOC'), ('Falls of Niagara', 'LOC'), ('<', 'LOC'), ('Katrine', 'LOC'), ('Antioch', 'LOC'), (\"VAN DIEMEN'S LAND\", 'LOC'), (\"King's\", 'LOC'), ('St Bernard', 'LOC'), ('Abbey', 'LOC'), (\"St. Giles's\", 'LOC'), ('Hannah More', 'LOC'), ('ciennes', 'LOC'), ('Artois', 'LOC'), ('Strand', 'LOC'), ('Edinburgh', 'LOC'), ('Bear Garden', 'LOC'), ('Lond. Bge', 'LOC'), ('St. Mary Rouncival', 'LOC'), ('Cross limited', 'LOC'), ('Eng', 'LOC'), ('Ham-gazing', 'LOC'), ('Shrewsbury', 'LOC'), ('Surry', 'LOC'), ('Tothill-fields', 'LOC'), ('St. Catherine', 'LOC'), (\"St. Martin's church\", 'LOC'), ('Panathenæa', 'LOC'), ('Nabonassar', 'LOC'), ('Claret', 'LOC'), ('London', 'LOC')]\n"
     ]
    }
   ],
   "source": [
    "combined_fp= false_positives.union(false_positives_2).union(false_positives_3).union(false_positives_4).union(false_positives_5).union(false_positives_6).union(false_positives_7).union(false_positives_8).union(false_positives_9).union(false_positives_10)\n",
    "\n",
    "tag_lists = {}\n",
    "\n",
    "# Organize tuples into separate lists based on tags\n",
    "for token, tag in combined_fp:\n",
    "    if tag not in tag_lists:\n",
    "        tag_lists[tag] = [(token, tag)]\n",
    "    else:\n",
    "        tag_lists[tag].append((token, tag))\n",
    "\n",
    "# Convert the dictionaries to lists\n",
    "lists_by_tag = list(tag_lists.values())\n",
    "\n",
    "print('Total False Positives by Tag Across all 10 Documents')\n",
    "print('False Positives are predicted by toprese but are not in hand truth')\n",
    "print()\n",
    "# Print the lists organized by tag\n",
    "for tag_list in lists_by_tag:\n",
    "    print(f\"{tag_list[0][1]}, {len(tag_list)} Total : \", tag_list)"
   ]
  },
  {
   "cell_type": "code",
   "execution_count": 87,
   "metadata": {},
   "outputs": [
    {
     "name": "stdout",
     "output_type": "stream",
     "text": [
      "Evaluation Calculation Reports for all 10 Documents\n",
      "\n",
      "Total Recall Score = 0.562962962962963\n",
      "Total Precision Score = 0.6007905138339921\n",
      "Total F1 Score = 0.5812619502868068\n"
     ]
    }
   ],
   "source": [
    "num_true_positives_total = len(combined_tp)\n",
    "num_false_negatives_total = len(combined_fn)\n",
    "num_false_positives_total = len(combined_fp)\n",
    "\n",
    "rec_calc_total = num_true_positives_total / (num_true_positives_total + num_false_negatives_total)\n",
    "prec_calc_total = num_true_positives_total / (num_true_positives_total + num_false_positives_total)\n",
    "f1_calc_total = (2 * prec_calc_total * rec_calc_total) / (prec_calc_total + rec_calc_total)\n",
    "\n",
    "print(f'Evaluation Calculation Reports for all 10 Documents')\n",
    "print()\n",
    "print(f'Total Recall Score = {rec_calc_total}')\n",
    "print(f'Total Precision Score = {prec_calc_total}')\n",
    "print(f'Total F1 Score = {f1_calc_total}')"
   ]
  },
  {
   "cell_type": "code",
   "execution_count": null,
   "metadata": {},
   "outputs": [],
   "source": []
  }
 ],
 "metadata": {
  "kernelspec": {
   "display_name": "textmining",
   "language": "python",
   "name": "python3"
  },
  "language_info": {
   "codemirror_mode": {
    "name": "ipython",
    "version": 3
   },
   "file_extension": ".py",
   "mimetype": "text/x-python",
   "name": "python",
   "nbconvert_exporter": "python",
   "pygments_lexer": "ipython3",
   "version": "3.8.17"
  }
 },
 "nbformat": 4,
 "nbformat_minor": 2
}
